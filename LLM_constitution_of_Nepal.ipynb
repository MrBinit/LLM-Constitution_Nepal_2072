{
  "cells": [
    {
      "cell_type": "code",
      "execution_count": 14,
      "metadata": {
        "id": "YsxlP-B0x40_"
      },
      "outputs": [],
      "source": [
        "!pip -qqq install pip --progress-bar off\n",
        "!pip -qqq install langchain-groq==0.1.3 --progress-bar off\n",
        "!pip -qqq install langchain==0.1.17 --progress-bar off\n",
        "!pip -qqq install llama-parse==0.1.3 --progress-bar off\n",
        "!pip -qqq install qdrant-client==1.9.1  --progress-bar off\n",
        "!pip -qqq install \"unstructured[md]\"==0.13.6 --progress-bar off\n",
        "!pip -qqq install fastembed==0.2.7 --progress-bar off\n",
        "!pip -qqq install flashrank==0.2.4 --progress-bar off\n"
      ]
    },
    {
      "cell_type": "code",
      "execution_count": 15,
      "metadata": {
        "id": "mJI8VwKSx7_P"
      },
      "outputs": [],
      "source": [
        "import os\n",
        "import textwrap\n",
        "from google.colab import userdata\n",
        "from IPython.display import Markdown\n",
        "from langchain.chains import RetrievalQA\n",
        "from langchain.prompts import PromptTemplate\n",
        "from langchain.retrievers import ContextualCompressionRetriever\n",
        "from langchain.retrievers.document_compressors import FlashrankRerank\n",
        "from langchain.text_splitter import RecursiveCharacterTextSplitter\n",
        "from langchain.vectorstores import Qdrant\n",
        "from langchain_community.document_loaders import UnstructuredMarkdownLoader\n",
        "from langchain_community.embeddings.fastembed import FastEmbedEmbeddings\n",
        "from langchain_core.prompts import ChatPromptTemplate\n",
        "from langchain_groq import ChatGroq\n",
        "from llama_parse import LlamaParse\n"
      ]
    },
    {
      "cell_type": "code",
      "execution_count": 16,
      "metadata": {
        "colab": {
          "base_uri": "https://localhost:8080/"
        },
        "id": "ZttwFtG-zC2_",
        "outputId": "11a29e26-d342-495e-d1ce-9ec50d601bf1"
      },
      "outputs": [
        {
          "name": "stdout",
          "output_type": "stream",
          "text": [
            "Drive already mounted at /content/drive; to attempt to forcibly remount, call drive.mount(\"/content/drive\", force_remount=True).\n"
          ]
        }
      ],
      "source": [
        "from google.colab import drive\n",
        "drive.mount('/content/drive')"
      ]
    },
    {
      "cell_type": "code",
      "execution_count": 17,
      "metadata": {
        "colab": {
          "base_uri": "https://localhost:8080/"
        },
        "id": "dg7OzW_N2G-k",
        "outputId": "a428f2a2-eec8-4ceb-cf24-36afb4beb127"
      },
      "outputs": [
        {
          "name": "stdout",
          "output_type": "stream",
          "text": [
            "Requirement already satisfied: groq in /usr/local/lib/python3.10/dist-packages (0.9.0)\n",
            "Requirement already satisfied: anyio<5,>=3.5.0 in /usr/local/lib/python3.10/dist-packages (from groq) (3.7.1)\n",
            "Requirement already satisfied: distro<2,>=1.7.0 in /usr/lib/python3/dist-packages (from groq) (1.7.0)\n",
            "Requirement already satisfied: httpx<1,>=0.23.0 in /usr/local/lib/python3.10/dist-packages (from groq) (0.27.0)\n",
            "Requirement already satisfied: pydantic<3,>=1.9.0 in /usr/local/lib/python3.10/dist-packages (from groq) (2.7.4)\n",
            "Requirement already satisfied: sniffio in /usr/local/lib/python3.10/dist-packages (from groq) (1.3.1)\n",
            "Requirement already satisfied: typing-extensions<5,>=4.7 in /usr/local/lib/python3.10/dist-packages (from groq) (4.12.2)\n",
            "Requirement already satisfied: idna>=2.8 in /usr/local/lib/python3.10/dist-packages (from anyio<5,>=3.5.0->groq) (3.7)\n",
            "Requirement already satisfied: exceptiongroup in /usr/local/lib/python3.10/dist-packages (from anyio<5,>=3.5.0->groq) (1.2.1)\n",
            "Requirement already satisfied: certifi in /usr/local/lib/python3.10/dist-packages (from httpx<1,>=0.23.0->groq) (2024.6.2)\n",
            "Requirement already satisfied: httpcore==1.* in /usr/local/lib/python3.10/dist-packages (from httpx<1,>=0.23.0->groq) (1.0.5)\n",
            "Requirement already satisfied: h11<0.15,>=0.13 in /usr/local/lib/python3.10/dist-packages (from httpcore==1.*->httpx<1,>=0.23.0->groq) (0.14.0)\n",
            "Requirement already satisfied: annotated-types>=0.4.0 in /usr/local/lib/python3.10/dist-packages (from pydantic<3,>=1.9.0->groq) (0.7.0)\n",
            "Requirement already satisfied: pydantic-core==2.18.4 in /usr/local/lib/python3.10/dist-packages (from pydantic<3,>=1.9.0->groq) (2.18.4)\n"
          ]
        }
      ],
      "source": [
        "!pip install groq\n"
      ]
    },
    {
      "cell_type": "code",
      "execution_count": 18,
      "metadata": {
        "id": "wBQtkXUZ2Olx"
      },
      "outputs": [],
      "source": [
        "os.environ[\"GROQ_API_KEY\"] = \"\"\n",
        "\n",
        "# def print_response(response):\n",
        "\n",
        "def print_response(response):\n",
        "    response_txt = response[\"result\"]\n",
        "    for chunk in response_txt.split(\"\\n\"):\n",
        "        if not chunk:\n",
        "            print()\n",
        "            continue\n",
        "        print(\"\\n\".join(textwrap.wrap(chunk, 100, break_long_words=False)))\n",
        "\n"
      ]
    },
    {
      "cell_type": "markdown",
      "metadata": {
        "id": "kAX7aoAKAaH7"
      },
      "source": [
        "# Document parsing"
      ]
    },
    {
      "cell_type": "code",
      "execution_count": 25,
      "metadata": {
        "colab": {
          "base_uri": "https://localhost:8080/"
        },
        "id": "8j_7LHOQ2bBm",
        "outputId": "1e2e8aeb-7eaf-40c1-b91d-82cf9d0e9ee8"
      },
      "outputs": [
        {
          "name": "stdout",
          "output_type": "stream",
          "text": [
            "Started parsing the file under job_id cac11eca-e9a7-4737-a062-cc2fd6bbae64\n"
          ]
        }
      ],
      "source": [
        "#Document parsing (cleaning the document)\n",
        "instruction = \"\"\"The provided document is the Constitution of Nepal 2072. This document encompasses all the legal frameworks, guidelines, and principles governing the country. It defines the structure of the state, the distribution of powers between different levels of government, and the fundamental rights and duties of citizens.\n",
        "\n",
        "When answering questions based on this document, please follow these guidelines:\n",
        "- Be precise and concise in your responses.\n",
        "- Ensure that the information is accurate and directly relevant to the question.\n",
        "- Highlight key articles, sections, or provisions where applicable.\n",
        "- Provide context to your answers when necessary, explaining the implications or importance of specific provisions.\n",
        "- Maintain a neutral and informative tone, avoiding any personal opinions or interpretations.\n",
        "\n",
        "The goal is to provide clear and informative answers that help the user understand the specific aspects of the Constitution of Nepal 2072.\"\"\"\n",
        "\n",
        "parser = LlamaParse(\n",
        "    api_key = '',\n",
        "    result_type = 'markdown',\n",
        "    parsing_instruction = instruction,\n",
        "    max_timeout = 5000,\n",
        "\n",
        ")\n",
        "\n",
        "llama_parse_document = await parser.aload_data('/content/drive/My Drive/Constitution_Nepal.pdf')"
      ]
    },
    {
      "cell_type": "code",
      "execution_count": 30,
      "metadata": {
        "colab": {
          "base_uri": "https://localhost:8080/",
          "height": 312
        },
        "id": "pccFZwPKAFaV",
        "outputId": "2f5d280d-4d53-4b3d-ea78-3e7c5ef9bb23"
      },
      "outputs": [
        {
          "data": {
            "text/markdown": [
              "# The Constitution of Nepal\n",
              "\n",
              "|Date of Publication in Nepal Gazette|20 September 2015 (2072.6.3)|\n",
              "|---|---|\n",
              "|The Constitution of Nepal (First Amendment), 2016 (2072)|28 February 2016 (2072.11.16)|\n",
              "\n",
              "Preamble:\n",
              "\n",
              "We, the Sovereign People of Nepal, Internalizing the people's sovereign right and right to autonomy and self-rule, while maintaining freedom, sovereignty, territorial integrity, national unity, independence and dignity of Nepal, Recalling the glorious history of historic people's movements, armed conflict, dedication and sacrifice undertaken by the Nepalese people at times for the interest of the nation, democracy and progressive changes, and respecting for the martyrs and disappeared and victim citizens, Ending all forms of discrimination and oppression created by the feudalistic, autocratic, centralized, unitary system of governance, Protecting and promoting social and cultural solidarity, tolerance and harmony, and unity in diversity by recognizing the multi-ethnic, multi-lingua"
            ],
            "text/plain": [
              "<IPython.core.display.Markdown object>"
            ]
          },
          "execution_count": 30,
          "metadata": {},
          "output_type": "execute_result"
        }
      ],
      "source": [
        "parsed_doc = llama_parse_document[0]\n",
        "Markdown(parsed_doc.text[:1000])"
      ]
    },
    {
      "cell_type": "code",
      "execution_count": 31,
      "metadata": {
        "id": "PoPWJb2SCqTo"
      },
      "outputs": [],
      "source": [
        "from pathlib import Path"
      ]
    },
    {
      "cell_type": "code",
      "execution_count": 32,
      "metadata": {
        "id": "gz4sj25sBtpt"
      },
      "outputs": [],
      "source": [
        "# save the file to\n",
        "document_path = Path('/content/drive/MyDrive/parsed_document.md')\n",
        "with document_path.open(\"a\") as f:\n",
        "  f.write(parsed_doc.text)"
      ]
    },
    {
      "cell_type": "markdown",
      "metadata": {
        "id": "xbBQGzBvDmiS"
      },
      "source": [
        "# Vector embedding"
      ]
    },
    {
      "cell_type": "code",
      "execution_count": 35,
      "metadata": {
        "id": "PPwAFiiYC5y9"
      },
      "outputs": [],
      "source": [
        "# Handle markdown file\n",
        "loader = UnstructuredMarkdownLoader(document_path)\n",
        "loaded_documents = loader.load()"
      ]
    },
    {
      "cell_type": "code",
      "execution_count": 36,
      "metadata": {
        "colab": {
          "base_uri": "https://localhost:8080/"
        },
        "id": "I1StfBJaECKh",
        "outputId": "e33c3303-fa2d-4b83-ef4c-1a2e7cc3ff99"
      },
      "outputs": [
        {
          "name": "stdout",
          "output_type": "stream",
          "text": [
            "The Constitution of Nepal\n",
            "\n",
            "Date of Publication in Nepal Gazette 20 September 2015 (2072.6.3) The Constitution of Nepal (First Amendment), 2016 (2072) 28 February 2016 (2072.11.16)\n",
            "\n",
            "Preamble:\n",
            "\n",
            "We, the Sovereign People of Nepal, Internalizing the people's sovereign right and right to autonomy and self-rule, while maintaining freedom, sovereignty, territorial integrity, national unity, independence and dignity of Nepal, Recalling the glorious history of historic people's movements, armed conflict, dedication and sacrifice undertaken by the Nepalese people at times for the interest of the nation, democracy and progressive changes, and respecting for the martyrs and disappeared and victim citizens, Ending all forms of discrimination and oppression created by the feudalistic, autocratic, centralized, unitary system of governance, Protecting and promoting social and cultural solidarity, tolerance and harmony, and unity in diversity by recognizing the multi-ethnic, multi-lingual, multi-religious, multi-cultural and diverse regional characteristics, resolving to build an egalitarian society founded on the proportional inclusive and participatory principles in order to ensure economic equality, prosperity and social justice, by eliminating discrimination based on class, caste, region, language, religion and gender and all forms of caste-based untouchability.\n",
            "\n",
            "Being committed to socialism based on democratic norms and values including the people's competitive multiparty democratic system of governance, civil liberties, fundamental rights, human rights, adult franchise, periodic elections, full freedom of the press, and independent, impartial and competent judiciary and concept of the rule of law, and build a prosperous nation, Do hereby pass and promulgate this Constitution, through the Constituent Assembly, in order to fulfil the aspirations for sustainable peace, good governance, development and prosperity through the federal, democratic, republican system of governance.\n",
            "\n",
            "Part-1 Preliminary\n"
          ]
        }
      ],
      "source": [
        "text_splitter = RecursiveCharacterTextSplitter(chunk_size=2048, chunk_overlap=128)\n",
        "docs = text_splitter.split_documents(loaded_documents)\n",
        "print(docs[0].page_content)"
      ]
    },
    {
      "cell_type": "code",
      "execution_count": 38,
      "metadata": {
        "colab": {
          "base_uri": "https://localhost:8080/",
          "height": 49,
          "referenced_widgets": [
            "ccb9bdf732014ede85d97e964ce04df8",
            "c564d9e28fa346e2a8c3e0c18caa4e59",
            "378243cb15f04adb925bc498dca91c70",
            "c8c99a23c22840479f97f4011fb768a3",
            "f272521753ca448896f3ec73de1900b6",
            "674d45a8a7f745c2800c474123f66a14",
            "f0d168f29ae1432c9ce25540354b8574",
            "8d45c2d12caf4cc18cff2dcbfff196da",
            "74ed5f80779847e5946b6f29b2dfd461",
            "f993bb54dc6c46e2835f4408c79c7d3a",
            "e206c2836c314299b4c46a115821206d"
          ]
        },
        "id": "SFKp-wdDFE8H",
        "outputId": "fbe6d730-1f00-499f-c4e5-a63105a4edaa"
      },
      "outputs": [
        {
          "data": {
            "application/vnd.jupyter.widget-view+json": {
              "model_id": "ccb9bdf732014ede85d97e964ce04df8",
              "version_major": 2,
              "version_minor": 0
            },
            "text/plain": [
              "Fetching 5 files:   0%|          | 0/5 [00:00<?, ?it/s]"
            ]
          },
          "metadata": {},
          "output_type": "display_data"
        }
      ],
      "source": [
        "# model embedding\n",
        "embeddings = FastEmbedEmbeddings(\n",
        "    model_name = \"BAAI/bge-base-en-v1.5\")\n",
        "qdrant = Qdrant.from_documents(docs,\n",
        "                               embeddings,\n",
        "                               path = '/content/drive/MyDrive/qdrant_db',\n",
        "                               collection_name = \"document_embeddings\")\n"
      ]
    },
    {
      "cell_type": "code",
      "execution_count": 39,
      "metadata": {
        "colab": {
          "base_uri": "https://localhost:8080/"
        },
        "id": "s_gTaRBDF3Jm",
        "outputId": "ac028f6f-5a22-4487-d3b5-ebf29d7854e6"
      },
      "outputs": [
        {
          "name": "stdout",
          "output_type": "stream",
          "text": [
            "CPU times: user 335 ms, sys: 6.95 ms, total: 342 ms\n",
            "Wall time: 388 ms\n"
          ]
        }
      ],
      "source": [
        "%%time\n",
        "query = \"What is the constitution?\"\n",
        "similar_docs = qdrant.similarity_search_with_score(query)"
      ]
    },
    {
      "cell_type": "code",
      "execution_count": 40,
      "metadata": {
        "colab": {
          "base_uri": "https://localhost:8080/"
        },
        "id": "t4rlhXF1KUEf",
        "outputId": "29e88792-3317-4ed4-cf57-899ad650377f"
      },
      "outputs": [
        {
          "name": "stdout",
          "output_type": "stream",
          "text": [
            "text: The Constitution of Nepal\n",
            "\n",
            "Date of Publication in Nepal Gazette 20 September 2015 (2072.6.3) The Constitution of Nepal (First Amendment), 2016 (2072) 28 February 2016 (2072.11.16)\n",
            "\n",
            "Preamble:\n",
            "\n",
            "We, the Sovereign People of Nepal, Internalizing the people's so\n",
            "\n",
            "score: 0.6272225604825328\n",
            "--------------------------------------------------------------------------------\n",
            "\n",
            "text: (2) Each House of the Federal Parliament shall, subject to this Constitution, have full power to regulate and decide its internal business, and the concerned House shall have the exclusive right to decide whether or not any of its proceedings is regular or\n",
            "\n",
            "score: 0.6208846091448812\n",
            "--------------------------------------------------------------------------------\n",
            "\n",
            "text: Provided that he or she may exercise his or her casting vote in the case of a tie.\n",
            "\n",
            "Privileges of State Assembly:\n",
            "\n",
            "(1) There shall be full freedom of speech in the State Assembly, subject to this Constitution, and no member shall be arrested, detained or p\n",
            "\n",
            "score: 0.6006288208117236\n",
            "--------------------------------------------------------------------------------\n",
            "\n",
            "text: 144. Jurisdiction of High Court:\n",
            "\n",
            "(1) The High Court shall have the power to issue necessary and appropriate orders, for the enforcement of the fundamental rights conferred by this Constitution or for the enforcement of any other legal right for which no o\n",
            "\n",
            "score: 0.596396618602159\n",
            "--------------------------------------------------------------------------------\n",
            "\n"
          ]
        }
      ],
      "source": [
        "for doc, score in similar_docs:\n",
        "    print(f\"text: {doc.page_content[:256]}\\n\")\n",
        "    print(f\"score: {score}\")\n",
        "    print(\"-\" * 80)\n",
        "    print()"
      ]
    },
    {
      "cell_type": "code",
      "execution_count": null,
      "metadata": {
        "id": "TfUKxJv5Ka7N"
      },
      "outputs": [],
      "source": []
    }
  ],
  "metadata": {
    "colab": {
      "provenance": []
    },
    "kernelspec": {
      "display_name": "Python 3",
      "name": "python3"
    },
    "language_info": {
      "name": "python"
    },
    "widgets": {
      "application/vnd.jupyter.widget-state+json": {
        "378243cb15f04adb925bc498dca91c70": {
          "model_module": "@jupyter-widgets/controls",
          "model_module_version": "1.5.0",
          "model_name": "FloatProgressModel",
          "state": {
            "_dom_classes": [],
            "_model_module": "@jupyter-widgets/controls",
            "_model_module_version": "1.5.0",
            "_model_name": "FloatProgressModel",
            "_view_count": null,
            "_view_module": "@jupyter-widgets/controls",
            "_view_module_version": "1.5.0",
            "_view_name": "ProgressView",
            "bar_style": "success",
            "description": "",
            "description_tooltip": null,
            "layout": "IPY_MODEL_8d45c2d12caf4cc18cff2dcbfff196da",
            "max": 5,
            "min": 0,
            "orientation": "horizontal",
            "style": "IPY_MODEL_74ed5f80779847e5946b6f29b2dfd461",
            "value": 5
          }
        },
        "674d45a8a7f745c2800c474123f66a14": {
          "model_module": "@jupyter-widgets/base",
          "model_module_version": "1.2.0",
          "model_name": "LayoutModel",
          "state": {
            "_model_module": "@jupyter-widgets/base",
            "_model_module_version": "1.2.0",
            "_model_name": "LayoutModel",
            "_view_count": null,
            "_view_module": "@jupyter-widgets/base",
            "_view_module_version": "1.2.0",
            "_view_name": "LayoutView",
            "align_content": null,
            "align_items": null,
            "align_self": null,
            "border": null,
            "bottom": null,
            "display": null,
            "flex": null,
            "flex_flow": null,
            "grid_area": null,
            "grid_auto_columns": null,
            "grid_auto_flow": null,
            "grid_auto_rows": null,
            "grid_column": null,
            "grid_gap": null,
            "grid_row": null,
            "grid_template_areas": null,
            "grid_template_columns": null,
            "grid_template_rows": null,
            "height": null,
            "justify_content": null,
            "justify_items": null,
            "left": null,
            "margin": null,
            "max_height": null,
            "max_width": null,
            "min_height": null,
            "min_width": null,
            "object_fit": null,
            "object_position": null,
            "order": null,
            "overflow": null,
            "overflow_x": null,
            "overflow_y": null,
            "padding": null,
            "right": null,
            "top": null,
            "visibility": null,
            "width": null
          }
        },
        "74ed5f80779847e5946b6f29b2dfd461": {
          "model_module": "@jupyter-widgets/controls",
          "model_module_version": "1.5.0",
          "model_name": "ProgressStyleModel",
          "state": {
            "_model_module": "@jupyter-widgets/controls",
            "_model_module_version": "1.5.0",
            "_model_name": "ProgressStyleModel",
            "_view_count": null,
            "_view_module": "@jupyter-widgets/base",
            "_view_module_version": "1.2.0",
            "_view_name": "StyleView",
            "bar_color": null,
            "description_width": ""
          }
        },
        "8d45c2d12caf4cc18cff2dcbfff196da": {
          "model_module": "@jupyter-widgets/base",
          "model_module_version": "1.2.0",
          "model_name": "LayoutModel",
          "state": {
            "_model_module": "@jupyter-widgets/base",
            "_model_module_version": "1.2.0",
            "_model_name": "LayoutModel",
            "_view_count": null,
            "_view_module": "@jupyter-widgets/base",
            "_view_module_version": "1.2.0",
            "_view_name": "LayoutView",
            "align_content": null,
            "align_items": null,
            "align_self": null,
            "border": null,
            "bottom": null,
            "display": null,
            "flex": null,
            "flex_flow": null,
            "grid_area": null,
            "grid_auto_columns": null,
            "grid_auto_flow": null,
            "grid_auto_rows": null,
            "grid_column": null,
            "grid_gap": null,
            "grid_row": null,
            "grid_template_areas": null,
            "grid_template_columns": null,
            "grid_template_rows": null,
            "height": null,
            "justify_content": null,
            "justify_items": null,
            "left": null,
            "margin": null,
            "max_height": null,
            "max_width": null,
            "min_height": null,
            "min_width": null,
            "object_fit": null,
            "object_position": null,
            "order": null,
            "overflow": null,
            "overflow_x": null,
            "overflow_y": null,
            "padding": null,
            "right": null,
            "top": null,
            "visibility": null,
            "width": null
          }
        },
        "c564d9e28fa346e2a8c3e0c18caa4e59": {
          "model_module": "@jupyter-widgets/controls",
          "model_module_version": "1.5.0",
          "model_name": "HTMLModel",
          "state": {
            "_dom_classes": [],
            "_model_module": "@jupyter-widgets/controls",
            "_model_module_version": "1.5.0",
            "_model_name": "HTMLModel",
            "_view_count": null,
            "_view_module": "@jupyter-widgets/controls",
            "_view_module_version": "1.5.0",
            "_view_name": "HTMLView",
            "description": "",
            "description_tooltip": null,
            "layout": "IPY_MODEL_674d45a8a7f745c2800c474123f66a14",
            "placeholder": "​",
            "style": "IPY_MODEL_f0d168f29ae1432c9ce25540354b8574",
            "value": "Fetching 5 files: 100%"
          }
        },
        "c8c99a23c22840479f97f4011fb768a3": {
          "model_module": "@jupyter-widgets/controls",
          "model_module_version": "1.5.0",
          "model_name": "HTMLModel",
          "state": {
            "_dom_classes": [],
            "_model_module": "@jupyter-widgets/controls",
            "_model_module_version": "1.5.0",
            "_model_name": "HTMLModel",
            "_view_count": null,
            "_view_module": "@jupyter-widgets/controls",
            "_view_module_version": "1.5.0",
            "_view_name": "HTMLView",
            "description": "",
            "description_tooltip": null,
            "layout": "IPY_MODEL_f993bb54dc6c46e2835f4408c79c7d3a",
            "placeholder": "​",
            "style": "IPY_MODEL_e206c2836c314299b4c46a115821206d",
            "value": " 5/5 [00:00&lt;00:00, 220.79it/s]"
          }
        },
        "ccb9bdf732014ede85d97e964ce04df8": {
          "model_module": "@jupyter-widgets/controls",
          "model_module_version": "1.5.0",
          "model_name": "HBoxModel",
          "state": {
            "_dom_classes": [],
            "_model_module": "@jupyter-widgets/controls",
            "_model_module_version": "1.5.0",
            "_model_name": "HBoxModel",
            "_view_count": null,
            "_view_module": "@jupyter-widgets/controls",
            "_view_module_version": "1.5.0",
            "_view_name": "HBoxView",
            "box_style": "",
            "children": [
              "IPY_MODEL_c564d9e28fa346e2a8c3e0c18caa4e59",
              "IPY_MODEL_378243cb15f04adb925bc498dca91c70",
              "IPY_MODEL_c8c99a23c22840479f97f4011fb768a3"
            ],
            "layout": "IPY_MODEL_f272521753ca448896f3ec73de1900b6"
          }
        },
        "e206c2836c314299b4c46a115821206d": {
          "model_module": "@jupyter-widgets/controls",
          "model_module_version": "1.5.0",
          "model_name": "DescriptionStyleModel",
          "state": {
            "_model_module": "@jupyter-widgets/controls",
            "_model_module_version": "1.5.0",
            "_model_name": "DescriptionStyleModel",
            "_view_count": null,
            "_view_module": "@jupyter-widgets/base",
            "_view_module_version": "1.2.0",
            "_view_name": "StyleView",
            "description_width": ""
          }
        },
        "f0d168f29ae1432c9ce25540354b8574": {
          "model_module": "@jupyter-widgets/controls",
          "model_module_version": "1.5.0",
          "model_name": "DescriptionStyleModel",
          "state": {
            "_model_module": "@jupyter-widgets/controls",
            "_model_module_version": "1.5.0",
            "_model_name": "DescriptionStyleModel",
            "_view_count": null,
            "_view_module": "@jupyter-widgets/base",
            "_view_module_version": "1.2.0",
            "_view_name": "StyleView",
            "description_width": ""
          }
        },
        "f272521753ca448896f3ec73de1900b6": {
          "model_module": "@jupyter-widgets/base",
          "model_module_version": "1.2.0",
          "model_name": "LayoutModel",
          "state": {
            "_model_module": "@jupyter-widgets/base",
            "_model_module_version": "1.2.0",
            "_model_name": "LayoutModel",
            "_view_count": null,
            "_view_module": "@jupyter-widgets/base",
            "_view_module_version": "1.2.0",
            "_view_name": "LayoutView",
            "align_content": null,
            "align_items": null,
            "align_self": null,
            "border": null,
            "bottom": null,
            "display": null,
            "flex": null,
            "flex_flow": null,
            "grid_area": null,
            "grid_auto_columns": null,
            "grid_auto_flow": null,
            "grid_auto_rows": null,
            "grid_column": null,
            "grid_gap": null,
            "grid_row": null,
            "grid_template_areas": null,
            "grid_template_columns": null,
            "grid_template_rows": null,
            "height": null,
            "justify_content": null,
            "justify_items": null,
            "left": null,
            "margin": null,
            "max_height": null,
            "max_width": null,
            "min_height": null,
            "min_width": null,
            "object_fit": null,
            "object_position": null,
            "order": null,
            "overflow": null,
            "overflow_x": null,
            "overflow_y": null,
            "padding": null,
            "right": null,
            "top": null,
            "visibility": null,
            "width": null
          }
        },
        "f993bb54dc6c46e2835f4408c79c7d3a": {
          "model_module": "@jupyter-widgets/base",
          "model_module_version": "1.2.0",
          "model_name": "LayoutModel",
          "state": {
            "_model_module": "@jupyter-widgets/base",
            "_model_module_version": "1.2.0",
            "_model_name": "LayoutModel",
            "_view_count": null,
            "_view_module": "@jupyter-widgets/base",
            "_view_module_version": "1.2.0",
            "_view_name": "LayoutView",
            "align_content": null,
            "align_items": null,
            "align_self": null,
            "border": null,
            "bottom": null,
            "display": null,
            "flex": null,
            "flex_flow": null,
            "grid_area": null,
            "grid_auto_columns": null,
            "grid_auto_flow": null,
            "grid_auto_rows": null,
            "grid_column": null,
            "grid_gap": null,
            "grid_row": null,
            "grid_template_areas": null,
            "grid_template_columns": null,
            "grid_template_rows": null,
            "height": null,
            "justify_content": null,
            "justify_items": null,
            "left": null,
            "margin": null,
            "max_height": null,
            "max_width": null,
            "min_height": null,
            "min_width": null,
            "object_fit": null,
            "object_position": null,
            "order": null,
            "overflow": null,
            "overflow_x": null,
            "overflow_y": null,
            "padding": null,
            "right": null,
            "top": null,
            "visibility": null,
            "width": null
          }
        }
      }
    }
  },
  "nbformat": 4,
  "nbformat_minor": 0
}
