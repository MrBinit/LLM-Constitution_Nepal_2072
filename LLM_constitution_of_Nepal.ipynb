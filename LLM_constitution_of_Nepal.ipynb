{
  "cells": [
    {
      "cell_type": "code",
      "execution_count": 1,
      "metadata": {
        "colab": {
          "base_uri": "https://localhost:8080/"
        },
        "id": "YsxlP-B0x40_",
        "outputId": "59bc799b-70d9-4295-fc77-f8bd8f6f8b11"
      },
      "outputs": [
        {
          "name": "stdout",
          "output_type": "stream",
          "text": [
            "  Preparing metadata (setup.py) ... \u001b[?25l\u001b[?25hdone\n",
            "  Building wheel for langdetect (setup.py) ... \u001b[?25l\u001b[?25hdone\n",
            "\u001b[31mERROR: pip's dependency resolver does not currently take into account all the packages that are installed. This behaviour is the source of the following dependency conflicts.\n",
            "transformers 4.41.2 requires huggingface-hub<1.0,>=0.23.0, but you have huggingface-hub 0.20.3 which is incompatible.\n",
            "transformers 4.41.2 requires tokenizers<0.20,>=0.19, but you have tokenizers 0.15.2 which is incompatible.\u001b[0m\u001b[31m\n",
            "\u001b[0m"
          ]
        }
      ],
      "source": [
        "!pip -qqq install pip --progress-bar off\n",
        "!pip -qqq install langchain-groq==0.1.3 --progress-bar off\n",
        "!pip -qqq install langchain==0.1.17 --progress-bar off\n",
        "!pip -qqq install llama-parse==0.1.3 --progress-bar off\n",
        "!pip -qqq install qdrant-client==1.9.1  --progress-bar off\n",
        "!pip -qqq install \"unstructured[md]\"==0.13.6 --progress-bar off\n",
        "!pip -qqq install fastembed==0.2.7 --progress-bar off\n",
        "!pip -qqq install flashrank==0.2.4 --progress-bar off\n"
      ]
    },
    {
      "cell_type": "code",
      "execution_count": 2,
      "metadata": {
        "id": "mJI8VwKSx7_P"
      },
      "outputs": [],
      "source": [
        "import os\n",
        "import textwrap\n",
        "from google.colab import userdata\n",
        "from IPython.display import Markdown\n",
        "from langchain.chains import RetrievalQA\n",
        "from langchain.prompts import PromptTemplate\n",
        "from langchain.retrievers import ContextualCompressionRetriever\n",
        "from langchain.retrievers.document_compressors import FlashrankRerank\n",
        "from langchain.text_splitter import RecursiveCharacterTextSplitter\n",
        "from langchain.vectorstores import Qdrant\n",
        "from langchain_community.document_loaders import UnstructuredMarkdownLoader\n",
        "from langchain_community.embeddings.fastembed import FastEmbedEmbeddings\n",
        "from langchain_core.prompts import ChatPromptTemplate\n",
        "from langchain_groq import ChatGroq\n",
        "from llama_parse import LlamaParse\n"
      ]
    },
    {
      "cell_type": "code",
      "execution_count": 3,
      "metadata": {
        "colab": {
          "base_uri": "https://localhost:8080/"
        },
        "id": "ZttwFtG-zC2_",
        "outputId": "09edf90d-9088-492a-e3cb-eb2ec530c328"
      },
      "outputs": [
        {
          "name": "stdout",
          "output_type": "stream",
          "text": [
            "Mounted at /content/drive\n"
          ]
        }
      ],
      "source": [
        "from google.colab import drive\n",
        "drive.mount('/content/drive')"
      ]
    },
    {
      "cell_type": "code",
      "execution_count": 4,
      "metadata": {
        "colab": {
          "base_uri": "https://localhost:8080/"
        },
        "id": "dg7OzW_N2G-k",
        "outputId": "3ac807b5-c5f7-4924-ec6e-d059b7743c18"
      },
      "outputs": [
        {
          "name": "stdout",
          "output_type": "stream",
          "text": [
            "Requirement already satisfied: groq in /usr/local/lib/python3.10/dist-packages (0.9.0)\n",
            "Requirement already satisfied: anyio<5,>=3.5.0 in /usr/local/lib/python3.10/dist-packages (from groq) (3.7.1)\n",
            "Requirement already satisfied: distro<2,>=1.7.0 in /usr/lib/python3/dist-packages (from groq) (1.7.0)\n",
            "Requirement already satisfied: httpx<1,>=0.23.0 in /usr/local/lib/python3.10/dist-packages (from groq) (0.27.0)\n",
            "Requirement already satisfied: pydantic<3,>=1.9.0 in /usr/local/lib/python3.10/dist-packages (from groq) (2.7.4)\n",
            "Requirement already satisfied: sniffio in /usr/local/lib/python3.10/dist-packages (from groq) (1.3.1)\n",
            "Requirement already satisfied: typing-extensions<5,>=4.7 in /usr/local/lib/python3.10/dist-packages (from groq) (4.12.2)\n",
            "Requirement already satisfied: idna>=2.8 in /usr/local/lib/python3.10/dist-packages (from anyio<5,>=3.5.0->groq) (3.7)\n",
            "Requirement already satisfied: exceptiongroup in /usr/local/lib/python3.10/dist-packages (from anyio<5,>=3.5.0->groq) (1.2.1)\n",
            "Requirement already satisfied: certifi in /usr/local/lib/python3.10/dist-packages (from httpx<1,>=0.23.0->groq) (2024.6.2)\n",
            "Requirement already satisfied: httpcore==1.* in /usr/local/lib/python3.10/dist-packages (from httpx<1,>=0.23.0->groq) (1.0.5)\n",
            "Requirement already satisfied: h11<0.15,>=0.13 in /usr/local/lib/python3.10/dist-packages (from httpcore==1.*->httpx<1,>=0.23.0->groq) (0.14.0)\n",
            "Requirement already satisfied: annotated-types>=0.4.0 in /usr/local/lib/python3.10/dist-packages (from pydantic<3,>=1.9.0->groq) (0.7.0)\n",
            "Requirement already satisfied: pydantic-core==2.18.4 in /usr/local/lib/python3.10/dist-packages (from pydantic<3,>=1.9.0->groq) (2.18.4)\n"
          ]
        }
      ],
      "source": [
        "!pip install groq\n"
      ]
    },
    {
      "cell_type": "code",
      "execution_count": 5,
      "metadata": {
        "id": "wBQtkXUZ2Olx"
      },
      "outputs": [],
      "source": [
        "os.environ[\"GROQ_API_KEY\"] = \"\"\n",
        "\n",
        "def print_response(response):\n",
        "    response_txt = response[\"result\"]\n",
        "    for chunk in response_txt.split(\"\\n\"):\n",
        "        if not chunk:\n",
        "            print()\n",
        "            continue\n",
        "        print(\"\\n\".join(textwrap.wrap(chunk, 100, break_long_words=False)))\n",
        "\n"
      ]
    },
    {
      "cell_type": "markdown",
      "metadata": {
        "id": "kAX7aoAKAaH7"
      },
      "source": [
        "# Document parsing"
      ]
    },
    {
      "cell_type": "code",
      "execution_count": 7,
      "metadata": {
        "colab": {
          "base_uri": "https://localhost:8080/"
        },
        "id": "8j_7LHOQ2bBm",
        "outputId": "51ade7c3-4249-48b1-ed19-7e6d1d728b07"
      },
      "outputs": [
        {
          "name": "stdout",
          "output_type": "stream",
          "text": [
            "Started parsing the file under job_id 17389fca-066d-423a-9410-c38058eccf1b\n"
          ]
        }
      ],
      "source": [
        "#Document parsing (cleaning the document)\n",
        "instruction = \"\"\"The provided document is the Constitution of Nepal 2072. This document encompasses all the legal frameworks, guidelines, and principles governing the country. It defines the structure of the state, the distribution of powers between different levels of government, and the fundamental rights and duties of citizens.\n",
        "\n",
        "When answering questions based on this document, please follow these guidelines:\n",
        "- Be precise and concise in your responses.\n",
        "- Ensure that the information is accurate and directly relevant to the question.\n",
        "- Highlight key articles, sections, or provisions where applicable.\n",
        "- Provide context to your answers when necessary, explaining the implications or importance of specific provisions.\n",
        "- Maintain a neutral and informative tone, avoiding any personal opinions or interpretations.\n",
        "\n",
        "The goal is to provide clear and informative answers that help the user understand the specific aspects of the Constitution of Nepal 2072.\"\"\"\n",
        "\n",
        "parser = LlamaParse(\n",
        "    api_key = '',\n",
        "    result_type = 'markdown',\n",
        "    parsing_instruction = instruction,\n",
        "    max_timeout = 5000,\n",
        "\n",
        ")\n",
        "\n",
        "llama_parse_document = await parser.aload_data('/content/drive/My Drive/Constitution_Nepal.pdf')"
      ]
    },
    {
      "cell_type": "code",
      "execution_count": 8,
      "metadata": {
        "colab": {
          "base_uri": "https://localhost:8080/",
          "height": 321
        },
        "id": "pccFZwPKAFaV",
        "outputId": "68530b0c-895e-44ad-fd2d-c6f515795443"
      },
      "outputs": [
        {
          "data": {
            "text/markdown": [
              "# The Constitution of Nepal\n",
              "\n",
              "Date of Publication in Nepal Gazette\n",
              "\n",
              "20 September 2015 (2072.6.3)\n",
              "\n",
              "The Constitution of Nepal (First Amendment), 2016 (2072)\n",
              "\n",
              "28 February 2016 (2072.11.16)\n",
              "\n",
              "Preamble:\n",
              "\n",
              "We, the Sovereign People of Nepal, Internalizing the people's sovereign right and right to autonomy and self-rule, while maintaining freedom, sovereignty, territorial integrity, national unity, independence and dignity of Nepal, Recalling the glorious history of historic people's movements, armed conflict, dedication and sacrifice undertaken by the Nepalese people at times for the interest of the nation, democracy and progressive changes, and respecting for the martyrs and disappeared and victim citizens, Ending all forms of discrimination and oppression created by the feudalistic, autocratic, centralized, unitary system of governance, Protecting and promoting social and cultural solidarity, tolerance and harmony, and unity in diversity by recognizing the multi-ethnic, multi-lingual, multi-re"
            ],
            "text/plain": [
              "<IPython.core.display.Markdown object>"
            ]
          },
          "execution_count": 8,
          "metadata": {},
          "output_type": "execute_result"
        }
      ],
      "source": [
        "parsed_doc = llama_parse_document[0]\n",
        "Markdown(parsed_doc.text[:1000])"
      ]
    },
    {
      "cell_type": "code",
      "execution_count": 9,
      "metadata": {
        "id": "PoPWJb2SCqTo"
      },
      "outputs": [],
      "source": [
        "from pathlib import Path"
      ]
    },
    {
      "cell_type": "code",
      "execution_count": 11,
      "metadata": {
        "id": "gz4sj25sBtpt"
      },
      "outputs": [],
      "source": [
        "# save the file to\n",
        "document_path = Path('/content/drive/MyDrive/parsed_document.md')\n",
        "with document_path.open(\"a\") as f:\n",
        "  f.write(parsed_doc.text)"
      ]
    },
    {
      "cell_type": "markdown",
      "metadata": {
        "id": "xbBQGzBvDmiS"
      },
      "source": [
        "# Vector embedding"
      ]
    },
    {
      "cell_type": "code",
      "execution_count": 12,
      "metadata": {
        "colab": {
          "base_uri": "https://localhost:8080/"
        },
        "id": "PPwAFiiYC5y9",
        "outputId": "31d7b7f4-62c3-419c-ee1d-8a080714d6d8"
      },
      "outputs": [
        {
          "name": "stderr",
          "output_type": "stream",
          "text": [
            "[nltk_data] Downloading package averaged_perceptron_tagger to\n",
            "[nltk_data]     /root/nltk_data...\n",
            "[nltk_data]   Unzipping taggers/averaged_perceptron_tagger.zip.\n"
          ]
        }
      ],
      "source": [
        "# Handle markdown file\n",
        "loader = UnstructuredMarkdownLoader(document_path)\n",
        "loaded_documents = loader.load()"
      ]
    },
    {
      "cell_type": "code",
      "execution_count": 13,
      "metadata": {
        "colab": {
          "base_uri": "https://localhost:8080/"
        },
        "id": "I1StfBJaECKh",
        "outputId": "cb2a93dc-676d-41fa-ae2f-49de784ca673"
      },
      "outputs": [
        {
          "name": "stdout",
          "output_type": "stream",
          "text": [
            "The Constitution of Nepal\n",
            "\n",
            "Date of Publication in Nepal Gazette 20 September 2015 (2072.6.3) The Constitution of Nepal (First Amendment), 2016 (2072) 28 February 2016 (2072.11.16)\n",
            "\n",
            "Preamble:\n",
            "\n",
            "We, the Sovereign People of Nepal, Internalizing the people's sovereign right and right to autonomy and self-rule, while maintaining freedom, sovereignty, territorial integrity, national unity, independence and dignity of Nepal, Recalling the glorious history of historic people's movements, armed conflict, dedication and sacrifice undertaken by the Nepalese people at times for the interest of the nation, democracy and progressive changes, and respecting for the martyrs and disappeared and victim citizens, Ending all forms of discrimination and oppression created by the feudalistic, autocratic, centralized, unitary system of governance, Protecting and promoting social and cultural solidarity, tolerance and harmony, and unity in diversity by recognizing the multi-ethnic, multi-lingual, multi-religious, multi-cultural and diverse regional characteristics, resolving to build an egalitarian society founded on the proportional inclusive and participatory principles in order to ensure economic equality, prosperity and social justice, by eliminating discrimination based on class, caste, region, language, religion and gender and all forms of caste-based untouchability.\n",
            "\n",
            "Being committed to socialism based on democratic norms and values including the people's competitive multiparty democratic system of governance, civil liberties, fundamental rights, human rights, adult franchise, periodic elections, full freedom of the press, and independent, impartial and competent judiciary and concept of the rule of law, and build a prosperous nation, Do hereby pass and promulgate this Constitution, through the Constituent Assembly, in order to fulfil the aspirations for sustainable peace, good governance, development and prosperity through the federal, democratic, republican system of governance.\n",
            "\n",
            "Part-1 Preliminary\n"
          ]
        }
      ],
      "source": [
        "text_splitter = RecursiveCharacterTextSplitter(chunk_size=2048, chunk_overlap=128)\n",
        "docs = text_splitter.split_documents(loaded_documents)\n",
        "print(docs[0].page_content)"
      ]
    },
    {
      "cell_type": "code",
      "execution_count": 14,
      "metadata": {
        "colab": {
          "base_uri": "https://localhost:8080/",
          "height": 209,
          "referenced_widgets": [
            "057a50273ed14a859a194c1cd4513a0c",
            "484c7ed70d5e4ca9aed5b1e81ab3ee98",
            "52bda8c5e2904f91a4d8273e5ef9ed0c",
            "94771c7860e8472eb4453ce90cdbe262",
            "39af2cab36034a7ca882078fe8a77bed",
            "e6f54d0132ed41ecb19d41fbe00a74d7",
            "bce5fef6f8984aac8364d0885a0caa00",
            "df0ebaf7cdb94c7a92e912552f367b11",
            "772bfa6076c5494faee837eac03a3d62",
            "5a429d1522de46cea29d14a86a9406ec",
            "31313cd2a9d04f3ba859ea66bf08292b",
            "29c784f2c300460692ac6929da203f25",
            "760a58620ce14cb9a76de9a992fcd2cf",
            "a5003fc5f46141118f5ef0a11445240e",
            "17a34b588eff4ddda9d1cb7291221866",
            "cbeb220eefbe4c87b3e9fc79c8922a1f",
            "f2ae9f6ad23b4e4aa33c6d2108c57e47",
            "6bc3231e6b7947cdab6056c7cd3efd01",
            "184c950cc04c4d7fa2f2cfd58b6fad0a",
            "1d5c60e53a0f4e999233185454794b2a",
            "f83ed5d4ba274fafb2ad2eae38df478d",
            "6ffbe24840384352bc5205b3e8a5e827",
            "8959d170e8bf4f1397310b4a7bdeeb4b",
            "77a452cb8f634b2da45b06cde714d74c",
            "b9472d9436d14397b0232bd47ee7f23c",
            "0611e6db179942149356878579ec9c83",
            "f7b42e0c2901481491cec5ac49a26a22",
            "de623f68b4774bf4994c186a4d1d90ab",
            "0b97981eba254986b61ec1257473a3f1",
            "e42973e2d39643e0939d103bdd527870",
            "288d43b12f7046f28dd9d0b70f045be5",
            "32ca89ffed294588a3c270926c2048d5",
            "8fcd5ad02aa44ba8af39c0fd7af284fd",
            "d514ca1b7f5f47a8b6d3da067c71e134",
            "7b8d07cfe0954457aa023207416e515e",
            "fdddecb6137b43ab87ed59415499fefc",
            "572fc74592ec42529ba4079ec2c86c3c",
            "f12d8f58feb04a50a2bd022104932319",
            "b4a4f2d3e3664e888a671e03a51b711e",
            "3a3ee64b94e94772b19c96aa0da01465",
            "e5987a6608f54a939924a8c2a1af45e5",
            "85a6a91b3e424544b535be228b181e57",
            "dcff3239d75f4a4b9626567a03d5775a",
            "441ad31a3b09426eb4c6dc1011beb1ba",
            "1679109608c04f978cfc297f8582bc4d",
            "16dde7def37848d5a811f4c727055ee3",
            "ecfd8226456f4b1f8a216660d1201758",
            "77c6bdf56d80461a982289be764cfcdc",
            "71bbcadce3cc49bd9d4a1a37e4609f71",
            "7552eebdca8741ecafbeef3b59832025",
            "e38f6992ac954810abf5a71ac838c1ce",
            "e8dd05fa26684daa96f4670bd676868a",
            "ae9db2a1eb564922810600c711c1e067",
            "17df95feb50e406a800ea8f992f27d32",
            "0757a73d9ab84d82a6895741d737b56d",
            "abf59707cea0459f92b312214b3eadbe",
            "98de53784c16493cb5c5836d398160df",
            "3322dd9e11c841de840c9169a24938b2",
            "1f32d12ee39c483297bca978fc9cc4f1",
            "c5cfee9ddc154825a910c296e3599e05",
            "d3c14ee8aeb24005ac96b4823d90b22c",
            "3229a66c527340348c682d589e66dd95",
            "0155ffea610c499d928de94e57011dc5",
            "521fc29c96f44e5bb6b4b528efc6a4bd",
            "fccc58db590a4fc48d763a6b11a6282b",
            "0ee3553fb94b496eb52b07e4943bea13"
          ]
        },
        "id": "SFKp-wdDFE8H",
        "outputId": "4d86ab5e-a05c-40e5-96c6-8257bb5517db"
      },
      "outputs": [
        {
          "data": {
            "application/vnd.jupyter.widget-view+json": {
              "model_id": "057a50273ed14a859a194c1cd4513a0c",
              "version_major": 2,
              "version_minor": 0
            },
            "text/plain": [
              "Fetching 5 files:   0%|          | 0/5 [00:00<?, ?it/s]"
            ]
          },
          "metadata": {},
          "output_type": "display_data"
        },
        {
          "data": {
            "application/vnd.jupyter.widget-view+json": {
              "model_id": "29c784f2c300460692ac6929da203f25",
              "version_major": 2,
              "version_minor": 0
            },
            "text/plain": [
              "special_tokens_map.json:   0%|          | 0.00/695 [00:00<?, ?B/s]"
            ]
          },
          "metadata": {},
          "output_type": "display_data"
        },
        {
          "data": {
            "application/vnd.jupyter.widget-view+json": {
              "model_id": "8959d170e8bf4f1397310b4a7bdeeb4b",
              "version_major": 2,
              "version_minor": 0
            },
            "text/plain": [
              "config.json:   0%|          | 0.00/740 [00:00<?, ?B/s]"
            ]
          },
          "metadata": {},
          "output_type": "display_data"
        },
        {
          "data": {
            "application/vnd.jupyter.widget-view+json": {
              "model_id": "d514ca1b7f5f47a8b6d3da067c71e134",
              "version_major": 2,
              "version_minor": 0
            },
            "text/plain": [
              "tokenizer_config.json:   0%|          | 0.00/1.24k [00:00<?, ?B/s]"
            ]
          },
          "metadata": {},
          "output_type": "display_data"
        },
        {
          "data": {
            "application/vnd.jupyter.widget-view+json": {
              "model_id": "1679109608c04f978cfc297f8582bc4d",
              "version_major": 2,
              "version_minor": 0
            },
            "text/plain": [
              "tokenizer.json:   0%|          | 0.00/711k [00:00<?, ?B/s]"
            ]
          },
          "metadata": {},
          "output_type": "display_data"
        },
        {
          "data": {
            "application/vnd.jupyter.widget-view+json": {
              "model_id": "abf59707cea0459f92b312214b3eadbe",
              "version_major": 2,
              "version_minor": 0
            },
            "text/plain": [
              "model_optimized.onnx:   0%|          | 0.00/218M [00:00<?, ?B/s]"
            ]
          },
          "metadata": {},
          "output_type": "display_data"
        }
      ],
      "source": [
        "# model embedding\n",
        "embeddings = FastEmbedEmbeddings(\n",
        "    model_name = \"BAAI/bge-base-en-v1.5\")\n",
        "qdrant = Qdrant.from_documents(docs,\n",
        "                               embeddings,\n",
        "                               path = '/content/drive/MyDrive/qdrant_db',\n",
        "                               collection_name = \"document_embeddings\")\n"
      ]
    },
    {
      "cell_type": "code",
      "execution_count": 26,
      "metadata": {
        "colab": {
          "base_uri": "https://localhost:8080/"
        },
        "id": "s_gTaRBDF3Jm",
        "outputId": "d2cf9bad-4d7e-47c4-b2aa-2aeaedd558a9"
      },
      "outputs": [
        {
          "name": "stdout",
          "output_type": "stream",
          "text": [
            "CPU times: user 321 ms, sys: 5 µs, total: 321 ms\n",
            "Wall time: 318 ms\n"
          ]
        }
      ],
      "source": [
        "%%time\n",
        "query = \"What fundamental rights are guaranteed to Nepali citizens?\"\n",
        "similar_docs = qdrant.similarity_search_with_score(query)"
      ]
    },
    {
      "cell_type": "code",
      "execution_count": 27,
      "metadata": {
        "colab": {
          "base_uri": "https://localhost:8080/"
        },
        "id": "t4rlhXF1KUEf",
        "outputId": "a4aa7446-bfbf-4cad-ac6b-cef5ef5a637a"
      },
      "outputs": [
        {
          "name": "stdout",
          "output_type": "stream",
          "text": [
            "text: Right to privacy\n",
            "\n",
            "The privacy of any person, his or her residence, property, document, data, correspondence and matters relating to his or her character shall, except in accordance with law, be inviolable.\n",
            "\n",
            "Right against exploitation\n",
            "\n",
            "Every person shall ha\n",
            "\n",
            "score: 0.780478909497755\n",
            "________________________________________________________________________________\n",
            "\n",
            "text: Every person shall have the right to a fair trial by an independent, impartial and competent court or judicial body.\n",
            "\n",
            "Any indigent party shall have the right to free legal aid in accordance with law.\n",
            "\n",
            "Right of victim of crime:\n",
            "\n",
            "(1) A victim of crime shall \n",
            "\n",
            "score: 0.779577503923492\n",
            "________________________________________________________________________________\n",
            "\n",
            "text: Any indigent party shall have the right to free legal aid in accordance with law.\n",
            "\n",
            "Right of victim of crime:\n",
            "\n",
            "(1) A victim of crime shall have pe right to get information about pe investigation and proceedings of a case in which he or she is pe victim.\n",
            "(2)\n",
            "\n",
            "score: 0.7685305492198559\n",
            "________________________________________________________________________________\n",
            "\n",
            "text: Any indigent party shall have the right to free legal aid in accordance with law.\n",
            "\n",
            "Right of victim of crime:\n",
            "\n",
            "(1) A victim of crime shall have pe right to get information about pe investigation and proceedings of a case in which he or she is pe victim.\n",
            "(2)\n",
            "\n",
            "score: 0.7685305492198559\n",
            "________________________________________________________________________________\n",
            "\n"
          ]
        }
      ],
      "source": [
        "for doc, score in similar_docs:\n",
        "    print(f\"text: {doc.page_content[:256]}\\n\")\n",
        "    print(f\"score: {score}\")\n",
        "    print(\"_\" * 80)\n",
        "    print()"
      ]
    },
    {
      "cell_type": "code",
      "execution_count": 28,
      "metadata": {
        "colab": {
          "base_uri": "https://localhost:8080/"
        },
        "id": "TfUKxJv5Ka7N",
        "outputId": "f60eadfb-0f4e-4ae7-b2b5-8298bfbad980"
      },
      "outputs": [
        {
          "name": "stdout",
          "output_type": "stream",
          "text": [
            "CPU times: user 343 ms, sys: 0 ns, total: 343 ms\n",
            "Wall time: 346 ms\n"
          ]
        }
      ],
      "source": [
        "%%time\n",
        "retriever = qdrant.as_retriever(search_kwargs = {\"k\": 5})\n",
        "retrieved_docs = retriever.invoke(query)"
      ]
    },
    {
      "cell_type": "code",
      "execution_count": 29,
      "metadata": {
        "colab": {
          "base_uri": "https://localhost:8080/"
        },
        "id": "oR76Bwu5nAZD",
        "outputId": "339b3685-16d3-48a7-8075-9f436f17ab10"
      },
      "outputs": [
        {
          "name": "stdout",
          "output_type": "stream",
          "text": [
            "id: b25ab55d3c00447a96a11f805c0cf23d\n",
            "\n",
            "text: Right to privacy\n",
            "\n",
            "The privacy of any person, his or her residence, property, document, data, correspondence and matters relating to his or her character shall, except in accordance with law, be inviolable.\n",
            "\n",
            "Right against exploitation\n",
            "\n",
            "Every person shall ha\n",
            "________________________________________________________________________________\n",
            "\n",
            "id: 9db2e8e498fd4ed1a6607fe9b81f434f\n",
            "\n",
            "text: Every person shall have the right to a fair trial by an independent, impartial and competent court or judicial body.\n",
            "\n",
            "Any indigent party shall have the right to free legal aid in accordance with law.\n",
            "\n",
            "Right of victim of crime:\n",
            "\n",
            "(1) A victim of crime shall \n",
            "________________________________________________________________________________\n",
            "\n",
            "id: 0b2887a1eae843709ea42121a7cee6d8\n",
            "\n",
            "text: Any indigent party shall have the right to free legal aid in accordance with law.\n",
            "\n",
            "Right of victim of crime:\n",
            "\n",
            "(1) A victim of crime shall have pe right to get information about pe investigation and proceedings of a case in which he or she is pe victim.\n",
            "(2)\n",
            "________________________________________________________________________________\n",
            "\n",
            "id: f26556f718cf4744bcfd9871bdea3f9d\n",
            "\n",
            "text: Any indigent party shall have the right to free legal aid in accordance with law.\n",
            "\n",
            "Right of victim of crime:\n",
            "\n",
            "(1) A victim of crime shall have pe right to get information about pe investigation and proceedings of a case in which he or she is pe victim.\n",
            "(2)\n",
            "________________________________________________________________________________\n",
            "\n",
            "id: a53d2f0d5ccf4e9fbe8c43873b8398d1\n",
            "\n",
            "text: Right to social security: The indigent citizens, incapacitated and helpless citizens, helpless single women, citizens with disabilities, children, citizens who cannot take care themselves and citizens belonging to the tribes on the verge of extinction shal\n",
            "________________________________________________________________________________\n",
            "\n"
          ]
        }
      ],
      "source": [
        "for doc in retrieved_docs:\n",
        "  print(f\"id: {doc.metadata['_id']}\\n\")\n",
        "  print(f\"text: {doc.page_content[:256]}\")\n",
        "  print(\"_\" * 80)\n",
        "  print()"
      ]
    },
    {
      "cell_type": "code",
      "execution_count": 21,
      "metadata": {
        "id": "8NL2NWLgn6ft"
      },
      "outputs": [],
      "source": [
        "# path = '/content/drive/MyDrive/LLM-Nepal-constitution'"
      ]
    },
    {
      "cell_type": "markdown",
      "metadata": {
        "id": "qvODGEKXpmWc"
      },
      "source": [
        "### Reranking"
      ]
    },
    {
      "cell_type": "code",
      "execution_count": 30,
      "metadata": {
        "id": "F40v_m7Fo8PT"
      },
      "outputs": [],
      "source": [
        "# Rerank and compress\n",
        "compressor = FlashrankRerank(model = 'ms-marco-MiniLM-L-12-v2')\n",
        "compression_retriever = ContextualCompressionRetriever(\n",
        "    base_compressor = compressor,\n",
        "    base_retriever = retriever)"
      ]
    },
    {
      "cell_type": "code",
      "execution_count": 31,
      "metadata": {
        "colab": {
          "base_uri": "https://localhost:8080/"
        },
        "id": "4QPE7YgAqBV1",
        "outputId": "20ef657a-5ffb-4013-f3e5-461cd35eff68"
      },
      "outputs": [
        {
          "name": "stdout",
          "output_type": "stream",
          "text": [
            "Running pairwise ranking..\n",
            "CPU times: user 2.12 s, sys: 288 ms, total: 2.41 s\n",
            "Wall time: 2.28 s\n"
          ]
        },
        {
          "data": {
            "text/plain": [
              "3"
            ]
          },
          "execution_count": 31,
          "metadata": {},
          "output_type": "execute_result"
        }
      ],
      "source": [
        "%%time\n",
        "reranked_docs = compression_retriever.invoke(query)\n",
        "len(reranked_docs)"
      ]
    },
    {
      "cell_type": "code",
      "execution_count": 32,
      "metadata": {
        "colab": {
          "base_uri": "https://localhost:8080/"
        },
        "id": "BDtwjmeaqdnS",
        "outputId": "c36f9005-4cb1-4aea-d77f-3a4fe918c186"
      },
      "outputs": [
        {
          "name": "stdout",
          "output_type": "stream",
          "text": [
            "id: b25ab55d3c00447a96a11f805c0cf23d\n",
            "\n",
            "text: Right to privacy\n",
            "\n",
            "The privacy of any person, his or her residence, property, document, data, correspondence and matters relating to his or her character shall, except in accordance with law, be inviolable.\n",
            "\n",
            "Right against exploitation\n",
            "\n",
            "Every person shall ha\n",
            "\n",
            "score: 0.9319560527801514\n",
            "--------------------------------------------------------------------------------\n",
            "\n",
            "id: a53d2f0d5ccf4e9fbe8c43873b8398d1\n",
            "\n",
            "text: Right to social security: The indigent citizens, incapacitated and helpless citizens, helpless single women, citizens with disabilities, children, citizens who cannot take care themselves and citizens belonging to the tribes on the verge of extinction shal\n",
            "\n",
            "score: 0.7536115050315857\n",
            "--------------------------------------------------------------------------------\n",
            "\n",
            "id: 0b2887a1eae843709ea42121a7cee6d8\n",
            "\n",
            "text: Any indigent party shall have the right to free legal aid in accordance with law.\n",
            "\n",
            "Right of victim of crime:\n",
            "\n",
            "(1) A victim of crime shall have pe right to get information about pe investigation and proceedings of a case in which he or she is pe victim.\n",
            "(2)\n",
            "\n",
            "score: 0.19353899359703064\n",
            "--------------------------------------------------------------------------------\n",
            "\n"
          ]
        }
      ],
      "source": [
        "for doc in reranked_docs:\n",
        "    print(f\"id: {doc.metadata['_id']}\\n\")\n",
        "    print(f\"text: {doc.page_content[:256]}\\n\")\n",
        "    print(f\"score: {doc.metadata['relevance_score']}\")\n",
        "    print(\"-\" * 80)\n",
        "    print()"
      ]
    },
    {
      "cell_type": "code",
      "execution_count": 33,
      "metadata": {
        "id": "Se2WNmq0regC"
      },
      "outputs": [],
      "source": [
        "llm = ChatGroq(temperature = 0, model = 'llama3-70b-8192')"
      ]
    },
    {
      "cell_type": "code",
      "execution_count": 34,
      "metadata": {
        "id": "LDqfm2V9rnF0"
      },
      "outputs": [],
      "source": [
        "prompt_template = \"\"\"\n",
        "Use the following pieces of information to answer the user's question.\n",
        "If you don't know the answer, just say that you don't know, don't try to make up an answer.\n",
        "\n",
        "Context: {context}\n",
        "Question: {question}\n",
        "\n",
        "Answer the question and provide additional helpful information,\n",
        "based on the pieces of information, if applicable. Be succinct.\n",
        "\n",
        "Responses should be properly formatted to be easily read.\n",
        "\"\"\"\n",
        "\n",
        "prompt = PromptTemplate(\n",
        "    template=prompt_template, input_variables=[\"context\", \"question\"]\n",
        ")"
      ]
    },
    {
      "cell_type": "code",
      "execution_count": 35,
      "metadata": {
        "id": "2U5UXsvHrzoJ"
      },
      "outputs": [],
      "source": [
        "qa = RetrievalQA.from_chain_type(\n",
        "    llm=llm,\n",
        "    chain_type=\"stuff\",\n",
        "    retriever=compression_retriever,\n",
        "    return_source_documents=True,\n",
        "    chain_type_kwargs={\"prompt\": prompt, \"verbose\" : True},\n",
        ")"
      ]
    },
    {
      "cell_type": "code",
      "execution_count": 36,
      "metadata": {
        "colab": {
          "base_uri": "https://localhost:8080/"
        },
        "id": "XbNAvI6xr7-H",
        "outputId": "845b4d28-5861-41f6-e927-341b2dcfe15b"
      },
      "outputs": [
        {
          "name": "stdout",
          "output_type": "stream",
          "text": [
            "Running pairwise ranking..\n",
            "\n",
            "\n",
            "\u001b[1m> Entering new StuffDocumentsChain chain...\u001b[0m\n",
            "\n",
            "\n",
            "\u001b[1m> Entering new LLMChain chain...\u001b[0m\n",
            "Prompt after formatting:\n",
            "\u001b[32;1m\u001b[1;3m\n",
            "Use the following pieces of information to answer the user's question.\n",
            "If you don't know the answer, just say that you don't know, don't try to make up an answer.\n",
            "\n",
            "Context: 15. Other provisions relating to citizenship of Nepal: Other matters relating to the maintenance of records setting out the identity of every citizen of Nepal and the citizenship of Nepal shall be as provided for in the Federal law.\n",
            "\n",
            "Part-3 Fundamental Rights and Duties\n",
            "\n",
            "Right to live with dignity:\n",
            "\n",
            "Every person shall have the right to live with dignity.\n",
            "\n",
            "No law shall be made providing for the death penalty to any one.\n",
            "\n",
            "Right to freedom:\n",
            "\n",
            "No person shall be deprived of his or her personal liberty except in accordance with law.\n",
            "\n",
            "Every citizen shall have the following freedoms:\n",
            "\n",
            "(a) freedom of opinion and expression,\n",
            "\n",
            "(b) freedom to assemble peaceably and without arms,\n",
            "\n",
            "(c) freedom to form political parties,\n",
            "\n",
            "(d) freedom to form unions and associations,\n",
            "\n",
            "(e) freedom to move and reside in any part of Nepal,\n",
            "\n",
            "(f) freedom to practice any profession, carry on any occupation, and establish and operate any industry, trade and business in any part of Nepal.\n",
            "\n",
            "Provided that:\n",
            "\n",
            "Nothing in sub-clause (a) shall be deemed to prevent the making of an Act to impose reasonable restrictions on any act which may undermine the sovereignty, territorial integrity, nationality and independence of Nepal or the harmonious relations between the Federal Units or the people of various castes, tribes, religions or communities.\n",
            "\n",
            "(10)\n",
            "\n",
            "incite caste-based discrimination or untouchability or on any act of disrespect of labour, defamation, contempt of court, incitement to an offence or on any act which may be contrary to public decency or\n",
            "\n",
            "(2)  Nothing in sub-clause (b) shall be deemed to prevent the making of an Act to impose reasonable restrictions on any act which may undermine the sovereignty, territorial integrity, nationality and independence of Nepal or the harmonious relations between the Federal Units or public peace and order.\n",
            "\n",
            "Right to privacy\n",
            "\n",
            "The privacy of any person, his or her residence, property, document, data, correspondence and matters relating to his or her character shall, except in accordance with law, be inviolable.\n",
            "\n",
            "Right against exploitation\n",
            "\n",
            "Every person shall have the right against exploitation.\n",
            "\n",
            "No person shall be exploited in any manner on the grounds of religion, custom, tradition, usage, practice or on any other grounds.\n",
            "\n",
            "No one shall be subjected to trafficking nor shall one be held in slavery or servitude.\n",
            "\n",
            "No one shall be forced to work against his or her will.\n",
            "\n",
            "Provided that nothing shall be deemed to prevent the making of law empowering the State to require citizens to perform compulsory service for public purposes.\n",
            "\n",
            "Act contrary to clauses (3) and (4) shall be punishable by law and the victim shall have the right to obtain compensation from the perpetrator in accordance with law.\n",
            "\n",
            "Right to clean environment\n",
            "\n",
            "Every citizen shall have the right to live in a clean and healthy environment.\n",
            "\n",
            "The victim shall have the right to obtain compensation, in accordance with law, for any injury caused from environmental pollution or degradation.\n",
            "\n",
            "Article 31\n",
            "\n",
            "Right relating to education:\n",
            "\n",
            "Every citizen shall have the right of access to basic education.\n",
            "\n",
            "Every citizen shall have the right to get compulsory and free education up to the basic level and free education up to the secondary level from the State.\n",
            "\n",
            "The citizens with disabilities and the economically indigent citizens shall have the right to get free higher education in accordance with law.\n",
            "\n",
            "The visually impaired citizens shall have the right to get free education through brail script and the citizens with hearing or speaking impairment, to get free education through sign language, in accordance with law.\n",
            "\n",
            "Every Nepalese community residing in Nepal shall have the right to get education in its mother tongue and, for that purpose, to open and operate schools and educational institutes, in accordance with law.\n",
            "\n",
            "Article 32\n",
            "\n",
            "Right to language and culture:\n",
            "\n",
            "Any indigent party shall have the right to free legal aid in accordance with law.\n",
            "\n",
            "Right of victim of crime:\n",
            "\n",
            "(1) A victim of crime shall have pe right to get information about pe investigation and proceedings of a case in which he or she is pe victim.\n",
            "(2) A victim of crime shall have pe right to justice including social rehabilitation and compensation in accordance wip law.\n",
            "\n",
            "Right against torture:\n",
            "\n",
            "No person who is arrested or detained shall be subjected to physical or mental torture or to cruel, inhuman or degrading treatment.\n",
            "\n",
            "Right against preventive detention:\n",
            "\n",
            "(1) No person shall be held under preventive detention unless there is a sufficient ground of the existence of an immediate threat to the sovereignty, territorial integrity or public peace and order of Nepal.\n",
            "\n",
            "(2) Information about the situation of a person who is held under preventive detention pursuant to clause (1) must be given immediately to his or her family members or relatives. Provided that this clause shall not apply to a citizen of an enemy state.\n",
            "\n",
            "(3) If the authority making preventive detention holds any person under preventive detention contrary to law or in bad faith, the person held under preventive detention shall have the right to obtain compensation in accordance with law.\n",
            "\n",
            "Right against untouchability and discrimination:\n",
            "\n",
            "(1) No person shall be subjected to any form of untouchability or discrimination in any private and public places on grounds of his or her origin, caste, tribe, community, profession, occupation or physical condition.\n",
            "\n",
            "(2) In producing or distributing any goods, services or facilities, no person belonging to any particular caste or tribe shall be prevented from purchasing or acquiring such goods, services or facilities nor shall such goods, services or facilities be sold, distributed or provided only to the persons belonging to any particular caste or tribe.\n",
            "\n",
            "(3) No act purporting to demonstrate any person or community as superior or inferior on grounds of origin.\n",
            "Question: what are the fundamental rights guaranteed to Nepali citizens?\n",
            "\n",
            "Answer the question and provide additional helpful information,\n",
            "based on the pieces of information, if applicable. Be succinct.\n",
            "\n",
            "Responses should be properly formatted to be easily read.\n",
            "\u001b[0m\n",
            "\n",
            "\u001b[1m> Finished chain.\u001b[0m\n",
            "\n",
            "\u001b[1m> Finished chain.\u001b[0m\n",
            "CPU times: user 2.32 s, sys: 112 ms, total: 2.43 s\n",
            "Wall time: 4.41 s\n"
          ]
        }
      ],
      "source": [
        "%%time\n",
        "\n",
        "response = qa.invoke(\"what are the fundamental rights guaranteed to Nepali citizens?\")"
      ]
    },
    {
      "cell_type": "code",
      "execution_count": 37,
      "metadata": {
        "colab": {
          "base_uri": "https://localhost:8080/"
        },
        "id": "JUyqRrRIsZp-",
        "outputId": "04995f65-09ef-42c1-e542-86a146c13be9"
      },
      "outputs": [
        {
          "name": "stdout",
          "output_type": "stream",
          "text": [
            "**Fundamental Rights Guaranteed to Nepali Citizens:**\n",
            "\n",
            "1. **Right to Live with Dignity**: Every person has the right to live with dignity, and no law shall\n",
            "provide for the death penalty.\n",
            "2. **Right to Freedom**: No person shall be deprived of personal liberty except in accordance with\n",
            "law, and citizens have the following freedoms:\n",
            "        * Freedom of opinion and expression\n",
            "        * Freedom to assemble peaceably and without arms\n",
            "        * Freedom to form political parties\n",
            "        * Freedom to form unions and associations\n",
            "        * Freedom to move and reside in any part of Nepal\n",
            "        * Freedom to practice any profession, carry on any occupation, and establish and operate any\n",
            "industry, trade, and business in any part of Nepal\n",
            "3. **Right to Privacy**: The privacy of any person, their residence, property, document, data,\n",
            "correspondence, and matters relating to their character shall be inviolable, except in accordance\n",
            "with law.\n",
            "4. **Right Against Exploitation**: Every person has the right against exploitation, and no one shall\n",
            "be subjected to trafficking, slavery, or servitude, or forced to work against their will.\n",
            "5. **Right to Clean Environment**: Every citizen has the right to live in a clean and healthy\n",
            "environment and to obtain compensation for any injury caused by environmental pollution or\n",
            "degradation.\n",
            "6. **Right Relating to Education**: Every citizen has the right to access basic education,\n",
            "compulsory and free education up to the basic level, and free education up to the secondary level\n",
            "from the State.\n",
            "7. **Right to Language and Culture**: Every Nepalese community residing in Nepal has the right to\n",
            "get education in its mother tongue and to open and operate schools and educational institutes.\n",
            "8. **Right of Victim of Crime**: A victim of crime has the right to get information about the\n",
            "investigation and proceedings of a case, and to get justice, including social rehabilitation and\n",
            "compensation, in accordance with law.\n",
            "9. **Right Against Torture**: No person who is arrested or detained shall be subjected to physical\n",
            "or mental torture or to cruel, inhuman or degrading treatment.\n",
            "10. **Right Against Preventive Detention**: No person shall be held under preventive detention\n",
            "unless there is a sufficient ground of the existence of an immediate threat to the sovereignty,\n",
            "territorial integrity, or public peace and order of Nepal.\n",
            "11. **Right Against Untouchability and Discrimination**: No person shall be subjected to any form of\n",
            "untouchability or discrimination in any private and public places on grounds of their origin, caste,\n",
            "tribe, community, profession, occupation, or physical condition.\n",
            "\n",
            "These fundamental rights are guaranteed to Nepali citizens, ensuring their dignity, freedom, and\n",
            "well-being.\n"
          ]
        }
      ],
      "source": [
        "print_response(response)"
      ]
    },
    {
      "cell_type": "code",
      "execution_count": 38,
      "metadata": {
        "id": "b0yR0fYcsq2W"
      },
      "outputs": [],
      "source": [
        "qa = RetrievalQA.from_chain_type(\n",
        "    llm=llm,\n",
        "    chain_type=\"stuff\",\n",
        "    retriever=compression_retriever,\n",
        "    return_source_documents=True,\n",
        "    chain_type_kwargs={\"prompt\": prompt, \"verbose\" : False},\n",
        ")"
      ]
    },
    {
      "cell_type": "code",
      "execution_count": 39,
      "metadata": {
        "colab": {
          "base_uri": "https://localhost:8080/"
        },
        "id": "pWK3XB9XtjYU",
        "outputId": "05d3519f-36ad-42fb-f08a-8b119a8ee47e"
      },
      "outputs": [
        {
          "name": "stdout",
          "output_type": "stream",
          "text": [
            "Running pairwise ranking..\n",
            "CPU times: user 2.43 s, sys: 161 ms, total: 2.59 s\n",
            "Wall time: 5.29 s\n"
          ]
        }
      ],
      "source": [
        "%%time\n",
        "\n",
        "response = qa.invoke(\"what are the fundamental rights guaranteed to Nepali citizens?\")"
      ]
    },
    {
      "cell_type": "code",
      "execution_count": 40,
      "metadata": {
        "colab": {
          "base_uri": "https://localhost:8080/"
        },
        "id": "OBzcFXpQtmjj",
        "outputId": "7b1a83de-97e3-40bb-d61c-d4c632a35118"
      },
      "outputs": [
        {
          "name": "stdout",
          "output_type": "stream",
          "text": [
            "**Fundamental Rights Guaranteed to Nepali Citizens:**\n",
            "\n",
            "1. **Right to Live with Dignity**: Every person has the right to live with dignity, and no law shall\n",
            "provide for the death penalty.\n",
            "2. **Right to Freedom**: No person shall be deprived of personal liberty except in accordance with\n",
            "law, and citizens have the following freedoms:\n",
            "        * Freedom of opinion and expression\n",
            "        * Freedom to assemble peaceably and without arms\n",
            "        * Freedom to form political parties\n",
            "        * Freedom to form unions and associations\n",
            "        * Freedom to move and reside in any part of Nepal\n",
            "        * Freedom to practice any profession, carry on any occupation, and establish and operate any\n",
            "industry, trade, and business in any part of Nepal\n",
            "3. **Right to Privacy**: The privacy of any person, their residence, property, document, data,\n",
            "correspondence, and matters relating to their character shall be inviolable, except in accordance\n",
            "with law.\n",
            "4. **Right Against Exploitation**: Every person has the right against exploitation, and no one shall\n",
            "be subjected to trafficking, slavery, or servitude, or forced to work against their will.\n",
            "5. **Right to Clean Environment**: Every citizen has the right to live in a clean and healthy\n",
            "environment and to obtain compensation for any injury caused by environmental pollution or\n",
            "degradation.\n",
            "6. **Right Relating to Education**: Every citizen has the right to access basic education,\n",
            "compulsory and free education up to the basic level, and free education up to the secondary level\n",
            "from the State.\n",
            "7. **Right to Language and Culture**: Every Nepalese community residing in Nepal has the right to\n",
            "get education in its mother tongue and to open and operate schools and educational institutes.\n",
            "8. **Right of Victim of Crime**: A victim of crime has the right to get information about the\n",
            "investigation and proceedings of a case, and to get justice, including social rehabilitation and\n",
            "compensation, in accordance with law.\n",
            "9. **Right Against Torture**: No person who is arrested or detained shall be subjected to physical\n",
            "or mental torture or to cruel, inhuman or degrading treatment.\n",
            "10. **Right Against Preventive Detention**: No person shall be held under preventive detention\n",
            "unless there is a sufficient ground of the existence of an immediate threat to the sovereignty,\n",
            "territorial integrity, or public peace and order of Nepal.\n",
            "11. **Right Against Untouchability and Discrimination**: No person shall be subjected to any form of\n",
            "untouchability or discrimination in any private and public places on grounds of their origin, caste,\n",
            "tribe, community, profession, occupation, or physical condition.\n",
            "\n",
            "These fundamental rights are guaranteed to Nepali citizens, ensuring their dignity, freedom, and\n",
            "well-being.\n"
          ]
        }
      ],
      "source": [
        "print_response(response)"
      ]
    },
    {
      "cell_type": "code",
      "execution_count": 41,
      "metadata": {
        "colab": {
          "base_uri": "https://localhost:8080/",
          "height": 590
        },
        "id": "h_xqpbeNtruX",
        "outputId": "19a59545-e27c-463f-826a-228a26683da3"
      },
      "outputs": [
        {
          "data": {
            "text/markdown": [
              "**Fundamental Rights Guaranteed to Nepali Citizens:**\n",
              "\n",
              "1. **Right to Live with Dignity**: Every person has the right to live with dignity, and no law shall provide for the death penalty.\n",
              "2. **Right to Freedom**: No person shall be deprived of personal liberty except in accordance with law, and citizens have the following freedoms:\n",
              "\t* Freedom of opinion and expression\n",
              "\t* Freedom to assemble peaceably and without arms\n",
              "\t* Freedom to form political parties\n",
              "\t* Freedom to form unions and associations\n",
              "\t* Freedom to move and reside in any part of Nepal\n",
              "\t* Freedom to practice any profession, carry on any occupation, and establish and operate any industry, trade, and business in any part of Nepal\n",
              "3. **Right to Privacy**: The privacy of any person, their residence, property, document, data, correspondence, and matters relating to their character shall be inviolable, except in accordance with law.\n",
              "4. **Right Against Exploitation**: Every person has the right against exploitation, and no one shall be subjected to trafficking, slavery, or servitude, or forced to work against their will.\n",
              "5. **Right to Clean Environment**: Every citizen has the right to live in a clean and healthy environment and to obtain compensation for any injury caused by environmental pollution or degradation.\n",
              "6. **Right Relating to Education**: Every citizen has the right to access basic education, compulsory and free education up to the basic level, and free education up to the secondary level from the State.\n",
              "7. **Right to Language and Culture**: Every Nepalese community residing in Nepal has the right to get education in its mother tongue and to open and operate schools and educational institutes.\n",
              "8. **Right of Victim of Crime**: A victim of crime has the right to get information about the investigation and proceedings of a case, and to get justice, including social rehabilitation and compensation, in accordance with law.\n",
              "9. **Right Against Torture**: No person who is arrested or detained shall be subjected to physical or mental torture or to cruel, inhuman or degrading treatment.\n",
              "10. **Right Against Preventive Detention**: No person shall be held under preventive detention unless there is a sufficient ground of the existence of an immediate threat to the sovereignty, territorial integrity, or public peace and order of Nepal.\n",
              "11. **Right Against Untouchability and Discrimination**: No person shall be subjected to any form of untouchability or discrimination in any private and public places on grounds of their origin, caste, tribe, community, profession, occupation, or physical condition.\n",
              "\n",
              "These fundamental rights are guaranteed to Nepali citizens, ensuring their dignity, freedom, and well-being."
            ],
            "text/plain": [
              "<IPython.core.display.Markdown object>"
            ]
          },
          "execution_count": 41,
          "metadata": {},
          "output_type": "execute_result"
        }
      ],
      "source": [
        "Markdown(response[\"result\"])"
      ]
    },
    {
      "cell_type": "code",
      "execution_count": 45,
      "metadata": {
        "colab": {
          "base_uri": "https://localhost:8080/",
          "height": 982
        },
        "id": "GFDmt37Lt1z4",
        "outputId": "1de0e73c-a397-4ada-e5fd-61b494d26363"
      },
      "outputs": [
        {
          "name": "stdout",
          "output_type": "stream",
          "text": [
            "Running pairwise ranking..\n",
            "CPU times: user 1.81 s, sys: 113 ms, total: 1.92 s\n",
            "Wall time: 4.26 s\n"
          ]
        },
        {
          "data": {
            "text/markdown": [
              "**Powers and Responsibilities of Federal, Provincial, and Local Governments**\n",
              "\n",
              "**Concurrent Powers of Federation, State, and Local Level:**\n",
              "\n",
              "1. Cooperatives\n",
              "2. Education, health, and newspapers\n",
              "3. Health\n",
              "4. Agriculture\n",
              "5. Services such as electricity, water supply, irrigation\n",
              "6. Service fee, charge, penalty, and royalty from natural resources, tourism fee\n",
              "7. Forests, wildlife, birds, water uses, environment, ecology, and bio-diversity\n",
              "8. Mines and minerals\n",
              "9. Disaster management\n",
              "10. Social security and poverty alleviation\n",
              "11. Personal events, births, deaths, marriages, and statistics\n",
              "12. Archaeology, ancient monuments, and museums\n",
              "13. Landless squatters management\n",
              "14. Royalty from natural resources\n",
              "15. Motor vehicle permits\n",
              "\n",
              "**Local Level Powers:**\n",
              "\n",
              "1. Town police\n",
              "2. Cooperative institutions\n",
              "3. Operation of F.M.\n",
              "4. Local taxes, service charge, fee, tourism fee, advertisement tax, business tax, land tax, penalty, entertainment tax, land revenue collection\n",
              "5. Management of Local services\n",
              "6. Collection of local statistics and records\n",
              "7. Local level development plans and projects\n",
              "8. Basic and secondary education\n",
              "9. Basic health and sanitation\n",
              "10. Local market management, environment protection, and bio-diversity\n",
              "11. Local roads, rural roads, agro-roads, irrigation\n",
              "12. Management of Village Assembly, Municipal Assembly, District Assembly, local courts, mediation, and arbitration\n",
              "13. Local Government Services\n",
              "14. Local records management\n",
              "15. Distribution of house and land ownership certificates\n",
              "16. Agriculture and animal husbandry, agro-products management, animal health, cooperatives\n",
              "17. Management of senior citizens, persons with disabilities, and persons incapacitated\n",
              "18. Collection of statistics of persons unemployed\n",
              "19. Management, operation, and control of agricultural extension\n",
              "20. Water supply, small hydropower projects, alternative energy\n",
              "21. Disaster management\n",
              "22. Protection of watersheds, wildlife, mines, and minerals\n",
              "23. Protection and development of languages, cultures, and fine arts\n",
              "\n",
              "**Additional Information:**\n",
              "\n",
              "* The executive power of the Local Level is vested in the Village Executive or the Municipal Executive.\n",
              "* The Village Executive and the Municipal Executive are responsible for issuing general directives, controlling, and regulating the governance of the Village Body and the Municipality.\n",
              "* The Chairperson and Vice-Chairperson of the Village Executive are elected by the voters residing within the concerned Village Body area by secret ballots on the basis of one person one vote, in accordance with the first past the post electoral system."
            ],
            "text/plain": [
              "<IPython.core.display.Markdown object>"
            ]
          },
          "execution_count": 45,
          "metadata": {},
          "output_type": "execute_result"
        }
      ],
      "source": [
        "%%time\n",
        "response = qa.invoke(\"What are the powers and responsibilities of federal, provincial, and local governments?\")\n",
        "Markdown(response[\"result\"])\n",
        "\n"
      ]
    },
    {
      "cell_type": "code",
      "execution_count": 46,
      "metadata": {
        "colab": {
          "base_uri": "https://localhost:8080/",
          "height": 139
        },
        "id": "oSQS41zUuzuD",
        "outputId": "cc446cfe-7823-48b6-b7f6-ad939076c1a8"
      },
      "outputs": [
        {
          "name": "stdout",
          "output_type": "stream",
          "text": [
            "Running pairwise ranking..\n",
            "CPU times: user 2.27 s, sys: 105 ms, total: 2.37 s\n",
            "Wall time: 2.87 s\n"
          ]
        },
        {
          "data": {
            "text/markdown": [
              "**Answer:** I don't know who Binit is.\n",
              "\n",
              "**Additional information:** The provided text does not mention a person named Binit. It appears to be a section of a constitution or legal document related to citizenship, government, and state affairs in Nepal."
            ],
            "text/plain": [
              "<IPython.core.display.Markdown object>"
            ]
          },
          "execution_count": 46,
          "metadata": {},
          "output_type": "execute_result"
        }
      ],
      "source": [
        "%%time\n",
        "response = qa.invoke(\"Who is Binit\")\n",
        "Markdown(response[\"result\"])\n"
      ]
    },
    {
      "cell_type": "code",
      "execution_count": null,
      "metadata": {
        "id": "-mGJ9IMcwBFX"
      },
      "outputs": [],
      "source": []
    }
  ],
  "metadata": {
    "colab": {
      "provenance": []
    },
    "kernelspec": {
      "display_name": "Python 3",
      "name": "python3"
    },
    "language_info": {
      "name": "python"
    },
    "widgets": {
      "application/vnd.jupyter.widget-state+json": {
        "0155ffea610c499d928de94e57011dc5": {
          "model_module": "@jupyter-widgets/base",
          "model_module_version": "1.2.0",
          "model_name": "LayoutModel",
          "state": {
            "_model_module": "@jupyter-widgets/base",
            "_model_module_version": "1.2.0",
            "_model_name": "LayoutModel",
            "_view_count": null,
            "_view_module": "@jupyter-widgets/base",
            "_view_module_version": "1.2.0",
            "_view_name": "LayoutView",
            "align_content": null,
            "align_items": null,
            "align_self": null,
            "border": null,
            "bottom": null,
            "display": null,
            "flex": null,
            "flex_flow": null,
            "grid_area": null,
            "grid_auto_columns": null,
            "grid_auto_flow": null,
            "grid_auto_rows": null,
            "grid_column": null,
            "grid_gap": null,
            "grid_row": null,
            "grid_template_areas": null,
            "grid_template_columns": null,
            "grid_template_rows": null,
            "height": null,
            "justify_content": null,
            "justify_items": null,
            "left": null,
            "margin": null,
            "max_height": null,
            "max_width": null,
            "min_height": null,
            "min_width": null,
            "object_fit": null,
            "object_position": null,
            "order": null,
            "overflow": null,
            "overflow_x": null,
            "overflow_y": null,
            "padding": null,
            "right": null,
            "top": null,
            "visibility": null,
            "width": null
          }
        },
        "057a50273ed14a859a194c1cd4513a0c": {
          "model_module": "@jupyter-widgets/controls",
          "model_module_version": "1.5.0",
          "model_name": "HBoxModel",
          "state": {
            "_dom_classes": [],
            "_model_module": "@jupyter-widgets/controls",
            "_model_module_version": "1.5.0",
            "_model_name": "HBoxModel",
            "_view_count": null,
            "_view_module": "@jupyter-widgets/controls",
            "_view_module_version": "1.5.0",
            "_view_name": "HBoxView",
            "box_style": "",
            "children": [
              "IPY_MODEL_484c7ed70d5e4ca9aed5b1e81ab3ee98",
              "IPY_MODEL_52bda8c5e2904f91a4d8273e5ef9ed0c",
              "IPY_MODEL_94771c7860e8472eb4453ce90cdbe262"
            ],
            "layout": "IPY_MODEL_39af2cab36034a7ca882078fe8a77bed"
          }
        },
        "0611e6db179942149356878579ec9c83": {
          "model_module": "@jupyter-widgets/controls",
          "model_module_version": "1.5.0",
          "model_name": "HTMLModel",
          "state": {
            "_dom_classes": [],
            "_model_module": "@jupyter-widgets/controls",
            "_model_module_version": "1.5.0",
            "_model_name": "HTMLModel",
            "_view_count": null,
            "_view_module": "@jupyter-widgets/controls",
            "_view_module_version": "1.5.0",
            "_view_name": "HTMLView",
            "description": "",
            "description_tooltip": null,
            "layout": "IPY_MODEL_32ca89ffed294588a3c270926c2048d5",
            "placeholder": "​",
            "style": "IPY_MODEL_8fcd5ad02aa44ba8af39c0fd7af284fd",
            "value": " 740/740 [00:00&lt;00:00, 15.6kB/s]"
          }
        },
        "0757a73d9ab84d82a6895741d737b56d": {
          "model_module": "@jupyter-widgets/controls",
          "model_module_version": "1.5.0",
          "model_name": "DescriptionStyleModel",
          "state": {
            "_model_module": "@jupyter-widgets/controls",
            "_model_module_version": "1.5.0",
            "_model_name": "DescriptionStyleModel",
            "_view_count": null,
            "_view_module": "@jupyter-widgets/base",
            "_view_module_version": "1.2.0",
            "_view_name": "StyleView",
            "description_width": ""
          }
        },
        "0b97981eba254986b61ec1257473a3f1": {
          "model_module": "@jupyter-widgets/controls",
          "model_module_version": "1.5.0",
          "model_name": "DescriptionStyleModel",
          "state": {
            "_model_module": "@jupyter-widgets/controls",
            "_model_module_version": "1.5.0",
            "_model_name": "DescriptionStyleModel",
            "_view_count": null,
            "_view_module": "@jupyter-widgets/base",
            "_view_module_version": "1.2.0",
            "_view_name": "StyleView",
            "description_width": ""
          }
        },
        "0ee3553fb94b496eb52b07e4943bea13": {
          "model_module": "@jupyter-widgets/controls",
          "model_module_version": "1.5.0",
          "model_name": "DescriptionStyleModel",
          "state": {
            "_model_module": "@jupyter-widgets/controls",
            "_model_module_version": "1.5.0",
            "_model_name": "DescriptionStyleModel",
            "_view_count": null,
            "_view_module": "@jupyter-widgets/base",
            "_view_module_version": "1.2.0",
            "_view_name": "StyleView",
            "description_width": ""
          }
        },
        "1679109608c04f978cfc297f8582bc4d": {
          "model_module": "@jupyter-widgets/controls",
          "model_module_version": "1.5.0",
          "model_name": "HBoxModel",
          "state": {
            "_dom_classes": [],
            "_model_module": "@jupyter-widgets/controls",
            "_model_module_version": "1.5.0",
            "_model_name": "HBoxModel",
            "_view_count": null,
            "_view_module": "@jupyter-widgets/controls",
            "_view_module_version": "1.5.0",
            "_view_name": "HBoxView",
            "box_style": "",
            "children": [
              "IPY_MODEL_16dde7def37848d5a811f4c727055ee3",
              "IPY_MODEL_ecfd8226456f4b1f8a216660d1201758",
              "IPY_MODEL_77c6bdf56d80461a982289be764cfcdc"
            ],
            "layout": "IPY_MODEL_71bbcadce3cc49bd9d4a1a37e4609f71"
          }
        },
        "16dde7def37848d5a811f4c727055ee3": {
          "model_module": "@jupyter-widgets/controls",
          "model_module_version": "1.5.0",
          "model_name": "HTMLModel",
          "state": {
            "_dom_classes": [],
            "_model_module": "@jupyter-widgets/controls",
            "_model_module_version": "1.5.0",
            "_model_name": "HTMLModel",
            "_view_count": null,
            "_view_module": "@jupyter-widgets/controls",
            "_view_module_version": "1.5.0",
            "_view_name": "HTMLView",
            "description": "",
            "description_tooltip": null,
            "layout": "IPY_MODEL_7552eebdca8741ecafbeef3b59832025",
            "placeholder": "​",
            "style": "IPY_MODEL_e38f6992ac954810abf5a71ac838c1ce",
            "value": "tokenizer.json: 100%"
          }
        },
        "17a34b588eff4ddda9d1cb7291221866": {
          "model_module": "@jupyter-widgets/controls",
          "model_module_version": "1.5.0",
          "model_name": "HTMLModel",
          "state": {
            "_dom_classes": [],
            "_model_module": "@jupyter-widgets/controls",
            "_model_module_version": "1.5.0",
            "_model_name": "HTMLModel",
            "_view_count": null,
            "_view_module": "@jupyter-widgets/controls",
            "_view_module_version": "1.5.0",
            "_view_name": "HTMLView",
            "description": "",
            "description_tooltip": null,
            "layout": "IPY_MODEL_f83ed5d4ba274fafb2ad2eae38df478d",
            "placeholder": "​",
            "style": "IPY_MODEL_6ffbe24840384352bc5205b3e8a5e827",
            "value": " 695/695 [00:00&lt;00:00, 18.2kB/s]"
          }
        },
        "17df95feb50e406a800ea8f992f27d32": {
          "model_module": "@jupyter-widgets/base",
          "model_module_version": "1.2.0",
          "model_name": "LayoutModel",
          "state": {
            "_model_module": "@jupyter-widgets/base",
            "_model_module_version": "1.2.0",
            "_model_name": "LayoutModel",
            "_view_count": null,
            "_view_module": "@jupyter-widgets/base",
            "_view_module_version": "1.2.0",
            "_view_name": "LayoutView",
            "align_content": null,
            "align_items": null,
            "align_self": null,
            "border": null,
            "bottom": null,
            "display": null,
            "flex": null,
            "flex_flow": null,
            "grid_area": null,
            "grid_auto_columns": null,
            "grid_auto_flow": null,
            "grid_auto_rows": null,
            "grid_column": null,
            "grid_gap": null,
            "grid_row": null,
            "grid_template_areas": null,
            "grid_template_columns": null,
            "grid_template_rows": null,
            "height": null,
            "justify_content": null,
            "justify_items": null,
            "left": null,
            "margin": null,
            "max_height": null,
            "max_width": null,
            "min_height": null,
            "min_width": null,
            "object_fit": null,
            "object_position": null,
            "order": null,
            "overflow": null,
            "overflow_x": null,
            "overflow_y": null,
            "padding": null,
            "right": null,
            "top": null,
            "visibility": null,
            "width": null
          }
        },
        "184c950cc04c4d7fa2f2cfd58b6fad0a": {
          "model_module": "@jupyter-widgets/base",
          "model_module_version": "1.2.0",
          "model_name": "LayoutModel",
          "state": {
            "_model_module": "@jupyter-widgets/base",
            "_model_module_version": "1.2.0",
            "_model_name": "LayoutModel",
            "_view_count": null,
            "_view_module": "@jupyter-widgets/base",
            "_view_module_version": "1.2.0",
            "_view_name": "LayoutView",
            "align_content": null,
            "align_items": null,
            "align_self": null,
            "border": null,
            "bottom": null,
            "display": null,
            "flex": null,
            "flex_flow": null,
            "grid_area": null,
            "grid_auto_columns": null,
            "grid_auto_flow": null,
            "grid_auto_rows": null,
            "grid_column": null,
            "grid_gap": null,
            "grid_row": null,
            "grid_template_areas": null,
            "grid_template_columns": null,
            "grid_template_rows": null,
            "height": null,
            "justify_content": null,
            "justify_items": null,
            "left": null,
            "margin": null,
            "max_height": null,
            "max_width": null,
            "min_height": null,
            "min_width": null,
            "object_fit": null,
            "object_position": null,
            "order": null,
            "overflow": null,
            "overflow_x": null,
            "overflow_y": null,
            "padding": null,
            "right": null,
            "top": null,
            "visibility": null,
            "width": null
          }
        },
        "1d5c60e53a0f4e999233185454794b2a": {
          "model_module": "@jupyter-widgets/controls",
          "model_module_version": "1.5.0",
          "model_name": "ProgressStyleModel",
          "state": {
            "_model_module": "@jupyter-widgets/controls",
            "_model_module_version": "1.5.0",
            "_model_name": "ProgressStyleModel",
            "_view_count": null,
            "_view_module": "@jupyter-widgets/base",
            "_view_module_version": "1.2.0",
            "_view_name": "StyleView",
            "bar_color": null,
            "description_width": ""
          }
        },
        "1f32d12ee39c483297bca978fc9cc4f1": {
          "model_module": "@jupyter-widgets/controls",
          "model_module_version": "1.5.0",
          "model_name": "HTMLModel",
          "state": {
            "_dom_classes": [],
            "_model_module": "@jupyter-widgets/controls",
            "_model_module_version": "1.5.0",
            "_model_name": "HTMLModel",
            "_view_count": null,
            "_view_module": "@jupyter-widgets/controls",
            "_view_module_version": "1.5.0",
            "_view_name": "HTMLView",
            "description": "",
            "description_tooltip": null,
            "layout": "IPY_MODEL_fccc58db590a4fc48d763a6b11a6282b",
            "placeholder": "​",
            "style": "IPY_MODEL_0ee3553fb94b496eb52b07e4943bea13",
            "value": " 218M/218M [00:02&lt;00:00, 121MB/s]"
          }
        },
        "288d43b12f7046f28dd9d0b70f045be5": {
          "model_module": "@jupyter-widgets/controls",
          "model_module_version": "1.5.0",
          "model_name": "ProgressStyleModel",
          "state": {
            "_model_module": "@jupyter-widgets/controls",
            "_model_module_version": "1.5.0",
            "_model_name": "ProgressStyleModel",
            "_view_count": null,
            "_view_module": "@jupyter-widgets/base",
            "_view_module_version": "1.2.0",
            "_view_name": "StyleView",
            "bar_color": null,
            "description_width": ""
          }
        },
        "29c784f2c300460692ac6929da203f25": {
          "model_module": "@jupyter-widgets/controls",
          "model_module_version": "1.5.0",
          "model_name": "HBoxModel",
          "state": {
            "_dom_classes": [],
            "_model_module": "@jupyter-widgets/controls",
            "_model_module_version": "1.5.0",
            "_model_name": "HBoxModel",
            "_view_count": null,
            "_view_module": "@jupyter-widgets/controls",
            "_view_module_version": "1.5.0",
            "_view_name": "HBoxView",
            "box_style": "",
            "children": [
              "IPY_MODEL_760a58620ce14cb9a76de9a992fcd2cf",
              "IPY_MODEL_a5003fc5f46141118f5ef0a11445240e",
              "IPY_MODEL_17a34b588eff4ddda9d1cb7291221866"
            ],
            "layout": "IPY_MODEL_cbeb220eefbe4c87b3e9fc79c8922a1f"
          }
        },
        "31313cd2a9d04f3ba859ea66bf08292b": {
          "model_module": "@jupyter-widgets/controls",
          "model_module_version": "1.5.0",
          "model_name": "DescriptionStyleModel",
          "state": {
            "_model_module": "@jupyter-widgets/controls",
            "_model_module_version": "1.5.0",
            "_model_name": "DescriptionStyleModel",
            "_view_count": null,
            "_view_module": "@jupyter-widgets/base",
            "_view_module_version": "1.2.0",
            "_view_name": "StyleView",
            "description_width": ""
          }
        },
        "3229a66c527340348c682d589e66dd95": {
          "model_module": "@jupyter-widgets/controls",
          "model_module_version": "1.5.0",
          "model_name": "DescriptionStyleModel",
          "state": {
            "_model_module": "@jupyter-widgets/controls",
            "_model_module_version": "1.5.0",
            "_model_name": "DescriptionStyleModel",
            "_view_count": null,
            "_view_module": "@jupyter-widgets/base",
            "_view_module_version": "1.2.0",
            "_view_name": "StyleView",
            "description_width": ""
          }
        },
        "32ca89ffed294588a3c270926c2048d5": {
          "model_module": "@jupyter-widgets/base",
          "model_module_version": "1.2.0",
          "model_name": "LayoutModel",
          "state": {
            "_model_module": "@jupyter-widgets/base",
            "_model_module_version": "1.2.0",
            "_model_name": "LayoutModel",
            "_view_count": null,
            "_view_module": "@jupyter-widgets/base",
            "_view_module_version": "1.2.0",
            "_view_name": "LayoutView",
            "align_content": null,
            "align_items": null,
            "align_self": null,
            "border": null,
            "bottom": null,
            "display": null,
            "flex": null,
            "flex_flow": null,
            "grid_area": null,
            "grid_auto_columns": null,
            "grid_auto_flow": null,
            "grid_auto_rows": null,
            "grid_column": null,
            "grid_gap": null,
            "grid_row": null,
            "grid_template_areas": null,
            "grid_template_columns": null,
            "grid_template_rows": null,
            "height": null,
            "justify_content": null,
            "justify_items": null,
            "left": null,
            "margin": null,
            "max_height": null,
            "max_width": null,
            "min_height": null,
            "min_width": null,
            "object_fit": null,
            "object_position": null,
            "order": null,
            "overflow": null,
            "overflow_x": null,
            "overflow_y": null,
            "padding": null,
            "right": null,
            "top": null,
            "visibility": null,
            "width": null
          }
        },
        "3322dd9e11c841de840c9169a24938b2": {
          "model_module": "@jupyter-widgets/controls",
          "model_module_version": "1.5.0",
          "model_name": "FloatProgressModel",
          "state": {
            "_dom_classes": [],
            "_model_module": "@jupyter-widgets/controls",
            "_model_module_version": "1.5.0",
            "_model_name": "FloatProgressModel",
            "_view_count": null,
            "_view_module": "@jupyter-widgets/controls",
            "_view_module_version": "1.5.0",
            "_view_name": "ProgressView",
            "bar_style": "success",
            "description": "",
            "description_tooltip": null,
            "layout": "IPY_MODEL_0155ffea610c499d928de94e57011dc5",
            "max": 217824172,
            "min": 0,
            "orientation": "horizontal",
            "style": "IPY_MODEL_521fc29c96f44e5bb6b4b528efc6a4bd",
            "value": 217824172
          }
        },
        "39af2cab36034a7ca882078fe8a77bed": {
          "model_module": "@jupyter-widgets/base",
          "model_module_version": "1.2.0",
          "model_name": "LayoutModel",
          "state": {
            "_model_module": "@jupyter-widgets/base",
            "_model_module_version": "1.2.0",
            "_model_name": "LayoutModel",
            "_view_count": null,
            "_view_module": "@jupyter-widgets/base",
            "_view_module_version": "1.2.0",
            "_view_name": "LayoutView",
            "align_content": null,
            "align_items": null,
            "align_self": null,
            "border": null,
            "bottom": null,
            "display": null,
            "flex": null,
            "flex_flow": null,
            "grid_area": null,
            "grid_auto_columns": null,
            "grid_auto_flow": null,
            "grid_auto_rows": null,
            "grid_column": null,
            "grid_gap": null,
            "grid_row": null,
            "grid_template_areas": null,
            "grid_template_columns": null,
            "grid_template_rows": null,
            "height": null,
            "justify_content": null,
            "justify_items": null,
            "left": null,
            "margin": null,
            "max_height": null,
            "max_width": null,
            "min_height": null,
            "min_width": null,
            "object_fit": null,
            "object_position": null,
            "order": null,
            "overflow": null,
            "overflow_x": null,
            "overflow_y": null,
            "padding": null,
            "right": null,
            "top": null,
            "visibility": null,
            "width": null
          }
        },
        "3a3ee64b94e94772b19c96aa0da01465": {
          "model_module": "@jupyter-widgets/controls",
          "model_module_version": "1.5.0",
          "model_name": "DescriptionStyleModel",
          "state": {
            "_model_module": "@jupyter-widgets/controls",
            "_model_module_version": "1.5.0",
            "_model_name": "DescriptionStyleModel",
            "_view_count": null,
            "_view_module": "@jupyter-widgets/base",
            "_view_module_version": "1.2.0",
            "_view_name": "StyleView",
            "description_width": ""
          }
        },
        "441ad31a3b09426eb4c6dc1011beb1ba": {
          "model_module": "@jupyter-widgets/controls",
          "model_module_version": "1.5.0",
          "model_name": "DescriptionStyleModel",
          "state": {
            "_model_module": "@jupyter-widgets/controls",
            "_model_module_version": "1.5.0",
            "_model_name": "DescriptionStyleModel",
            "_view_count": null,
            "_view_module": "@jupyter-widgets/base",
            "_view_module_version": "1.2.0",
            "_view_name": "StyleView",
            "description_width": ""
          }
        },
        "484c7ed70d5e4ca9aed5b1e81ab3ee98": {
          "model_module": "@jupyter-widgets/controls",
          "model_module_version": "1.5.0",
          "model_name": "HTMLModel",
          "state": {
            "_dom_classes": [],
            "_model_module": "@jupyter-widgets/controls",
            "_model_module_version": "1.5.0",
            "_model_name": "HTMLModel",
            "_view_count": null,
            "_view_module": "@jupyter-widgets/controls",
            "_view_module_version": "1.5.0",
            "_view_name": "HTMLView",
            "description": "",
            "description_tooltip": null,
            "layout": "IPY_MODEL_e6f54d0132ed41ecb19d41fbe00a74d7",
            "placeholder": "​",
            "style": "IPY_MODEL_bce5fef6f8984aac8364d0885a0caa00",
            "value": "Fetching 5 files: 100%"
          }
        },
        "521fc29c96f44e5bb6b4b528efc6a4bd": {
          "model_module": "@jupyter-widgets/controls",
          "model_module_version": "1.5.0",
          "model_name": "ProgressStyleModel",
          "state": {
            "_model_module": "@jupyter-widgets/controls",
            "_model_module_version": "1.5.0",
            "_model_name": "ProgressStyleModel",
            "_view_count": null,
            "_view_module": "@jupyter-widgets/base",
            "_view_module_version": "1.2.0",
            "_view_name": "StyleView",
            "bar_color": null,
            "description_width": ""
          }
        },
        "52bda8c5e2904f91a4d8273e5ef9ed0c": {
          "model_module": "@jupyter-widgets/controls",
          "model_module_version": "1.5.0",
          "model_name": "FloatProgressModel",
          "state": {
            "_dom_classes": [],
            "_model_module": "@jupyter-widgets/controls",
            "_model_module_version": "1.5.0",
            "_model_name": "FloatProgressModel",
            "_view_count": null,
            "_view_module": "@jupyter-widgets/controls",
            "_view_module_version": "1.5.0",
            "_view_name": "ProgressView",
            "bar_style": "success",
            "description": "",
            "description_tooltip": null,
            "layout": "IPY_MODEL_df0ebaf7cdb94c7a92e912552f367b11",
            "max": 5,
            "min": 0,
            "orientation": "horizontal",
            "style": "IPY_MODEL_772bfa6076c5494faee837eac03a3d62",
            "value": 5
          }
        },
        "572fc74592ec42529ba4079ec2c86c3c": {
          "model_module": "@jupyter-widgets/controls",
          "model_module_version": "1.5.0",
          "model_name": "HTMLModel",
          "state": {
            "_dom_classes": [],
            "_model_module": "@jupyter-widgets/controls",
            "_model_module_version": "1.5.0",
            "_model_name": "HTMLModel",
            "_view_count": null,
            "_view_module": "@jupyter-widgets/controls",
            "_view_module_version": "1.5.0",
            "_view_name": "HTMLView",
            "description": "",
            "description_tooltip": null,
            "layout": "IPY_MODEL_dcff3239d75f4a4b9626567a03d5775a",
            "placeholder": "​",
            "style": "IPY_MODEL_441ad31a3b09426eb4c6dc1011beb1ba",
            "value": " 1.24k/1.24k [00:00&lt;00:00, 22.4kB/s]"
          }
        },
        "5a429d1522de46cea29d14a86a9406ec": {
          "model_module": "@jupyter-widgets/base",
          "model_module_version": "1.2.0",
          "model_name": "LayoutModel",
          "state": {
            "_model_module": "@jupyter-widgets/base",
            "_model_module_version": "1.2.0",
            "_model_name": "LayoutModel",
            "_view_count": null,
            "_view_module": "@jupyter-widgets/base",
            "_view_module_version": "1.2.0",
            "_view_name": "LayoutView",
            "align_content": null,
            "align_items": null,
            "align_self": null,
            "border": null,
            "bottom": null,
            "display": null,
            "flex": null,
            "flex_flow": null,
            "grid_area": null,
            "grid_auto_columns": null,
            "grid_auto_flow": null,
            "grid_auto_rows": null,
            "grid_column": null,
            "grid_gap": null,
            "grid_row": null,
            "grid_template_areas": null,
            "grid_template_columns": null,
            "grid_template_rows": null,
            "height": null,
            "justify_content": null,
            "justify_items": null,
            "left": null,
            "margin": null,
            "max_height": null,
            "max_width": null,
            "min_height": null,
            "min_width": null,
            "object_fit": null,
            "object_position": null,
            "order": null,
            "overflow": null,
            "overflow_x": null,
            "overflow_y": null,
            "padding": null,
            "right": null,
            "top": null,
            "visibility": null,
            "width": null
          }
        },
        "6bc3231e6b7947cdab6056c7cd3efd01": {
          "model_module": "@jupyter-widgets/controls",
          "model_module_version": "1.5.0",
          "model_name": "DescriptionStyleModel",
          "state": {
            "_model_module": "@jupyter-widgets/controls",
            "_model_module_version": "1.5.0",
            "_model_name": "DescriptionStyleModel",
            "_view_count": null,
            "_view_module": "@jupyter-widgets/base",
            "_view_module_version": "1.2.0",
            "_view_name": "StyleView",
            "description_width": ""
          }
        },
        "6ffbe24840384352bc5205b3e8a5e827": {
          "model_module": "@jupyter-widgets/controls",
          "model_module_version": "1.5.0",
          "model_name": "DescriptionStyleModel",
          "state": {
            "_model_module": "@jupyter-widgets/controls",
            "_model_module_version": "1.5.0",
            "_model_name": "DescriptionStyleModel",
            "_view_count": null,
            "_view_module": "@jupyter-widgets/base",
            "_view_module_version": "1.2.0",
            "_view_name": "StyleView",
            "description_width": ""
          }
        },
        "71bbcadce3cc49bd9d4a1a37e4609f71": {
          "model_module": "@jupyter-widgets/base",
          "model_module_version": "1.2.0",
          "model_name": "LayoutModel",
          "state": {
            "_model_module": "@jupyter-widgets/base",
            "_model_module_version": "1.2.0",
            "_model_name": "LayoutModel",
            "_view_count": null,
            "_view_module": "@jupyter-widgets/base",
            "_view_module_version": "1.2.0",
            "_view_name": "LayoutView",
            "align_content": null,
            "align_items": null,
            "align_self": null,
            "border": null,
            "bottom": null,
            "display": null,
            "flex": null,
            "flex_flow": null,
            "grid_area": null,
            "grid_auto_columns": null,
            "grid_auto_flow": null,
            "grid_auto_rows": null,
            "grid_column": null,
            "grid_gap": null,
            "grid_row": null,
            "grid_template_areas": null,
            "grid_template_columns": null,
            "grid_template_rows": null,
            "height": null,
            "justify_content": null,
            "justify_items": null,
            "left": null,
            "margin": null,
            "max_height": null,
            "max_width": null,
            "min_height": null,
            "min_width": null,
            "object_fit": null,
            "object_position": null,
            "order": null,
            "overflow": null,
            "overflow_x": null,
            "overflow_y": null,
            "padding": null,
            "right": null,
            "top": null,
            "visibility": null,
            "width": null
          }
        },
        "7552eebdca8741ecafbeef3b59832025": {
          "model_module": "@jupyter-widgets/base",
          "model_module_version": "1.2.0",
          "model_name": "LayoutModel",
          "state": {
            "_model_module": "@jupyter-widgets/base",
            "_model_module_version": "1.2.0",
            "_model_name": "LayoutModel",
            "_view_count": null,
            "_view_module": "@jupyter-widgets/base",
            "_view_module_version": "1.2.0",
            "_view_name": "LayoutView",
            "align_content": null,
            "align_items": null,
            "align_self": null,
            "border": null,
            "bottom": null,
            "display": null,
            "flex": null,
            "flex_flow": null,
            "grid_area": null,
            "grid_auto_columns": null,
            "grid_auto_flow": null,
            "grid_auto_rows": null,
            "grid_column": null,
            "grid_gap": null,
            "grid_row": null,
            "grid_template_areas": null,
            "grid_template_columns": null,
            "grid_template_rows": null,
            "height": null,
            "justify_content": null,
            "justify_items": null,
            "left": null,
            "margin": null,
            "max_height": null,
            "max_width": null,
            "min_height": null,
            "min_width": null,
            "object_fit": null,
            "object_position": null,
            "order": null,
            "overflow": null,
            "overflow_x": null,
            "overflow_y": null,
            "padding": null,
            "right": null,
            "top": null,
            "visibility": null,
            "width": null
          }
        },
        "760a58620ce14cb9a76de9a992fcd2cf": {
          "model_module": "@jupyter-widgets/controls",
          "model_module_version": "1.5.0",
          "model_name": "HTMLModel",
          "state": {
            "_dom_classes": [],
            "_model_module": "@jupyter-widgets/controls",
            "_model_module_version": "1.5.0",
            "_model_name": "HTMLModel",
            "_view_count": null,
            "_view_module": "@jupyter-widgets/controls",
            "_view_module_version": "1.5.0",
            "_view_name": "HTMLView",
            "description": "",
            "description_tooltip": null,
            "layout": "IPY_MODEL_f2ae9f6ad23b4e4aa33c6d2108c57e47",
            "placeholder": "​",
            "style": "IPY_MODEL_6bc3231e6b7947cdab6056c7cd3efd01",
            "value": "special_tokens_map.json: 100%"
          }
        },
        "772bfa6076c5494faee837eac03a3d62": {
          "model_module": "@jupyter-widgets/controls",
          "model_module_version": "1.5.0",
          "model_name": "ProgressStyleModel",
          "state": {
            "_model_module": "@jupyter-widgets/controls",
            "_model_module_version": "1.5.0",
            "_model_name": "ProgressStyleModel",
            "_view_count": null,
            "_view_module": "@jupyter-widgets/base",
            "_view_module_version": "1.2.0",
            "_view_name": "StyleView",
            "bar_color": null,
            "description_width": ""
          }
        },
        "77a452cb8f634b2da45b06cde714d74c": {
          "model_module": "@jupyter-widgets/controls",
          "model_module_version": "1.5.0",
          "model_name": "HTMLModel",
          "state": {
            "_dom_classes": [],
            "_model_module": "@jupyter-widgets/controls",
            "_model_module_version": "1.5.0",
            "_model_name": "HTMLModel",
            "_view_count": null,
            "_view_module": "@jupyter-widgets/controls",
            "_view_module_version": "1.5.0",
            "_view_name": "HTMLView",
            "description": "",
            "description_tooltip": null,
            "layout": "IPY_MODEL_de623f68b4774bf4994c186a4d1d90ab",
            "placeholder": "​",
            "style": "IPY_MODEL_0b97981eba254986b61ec1257473a3f1",
            "value": "config.json: 100%"
          }
        },
        "77c6bdf56d80461a982289be764cfcdc": {
          "model_module": "@jupyter-widgets/controls",
          "model_module_version": "1.5.0",
          "model_name": "HTMLModel",
          "state": {
            "_dom_classes": [],
            "_model_module": "@jupyter-widgets/controls",
            "_model_module_version": "1.5.0",
            "_model_name": "HTMLModel",
            "_view_count": null,
            "_view_module": "@jupyter-widgets/controls",
            "_view_module_version": "1.5.0",
            "_view_name": "HTMLView",
            "description": "",
            "description_tooltip": null,
            "layout": "IPY_MODEL_17df95feb50e406a800ea8f992f27d32",
            "placeholder": "​",
            "style": "IPY_MODEL_0757a73d9ab84d82a6895741d737b56d",
            "value": " 711k/711k [00:00&lt;00:00, 3.78MB/s]"
          }
        },
        "7b8d07cfe0954457aa023207416e515e": {
          "model_module": "@jupyter-widgets/controls",
          "model_module_version": "1.5.0",
          "model_name": "HTMLModel",
          "state": {
            "_dom_classes": [],
            "_model_module": "@jupyter-widgets/controls",
            "_model_module_version": "1.5.0",
            "_model_name": "HTMLModel",
            "_view_count": null,
            "_view_module": "@jupyter-widgets/controls",
            "_view_module_version": "1.5.0",
            "_view_name": "HTMLView",
            "description": "",
            "description_tooltip": null,
            "layout": "IPY_MODEL_b4a4f2d3e3664e888a671e03a51b711e",
            "placeholder": "​",
            "style": "IPY_MODEL_3a3ee64b94e94772b19c96aa0da01465",
            "value": "tokenizer_config.json: 100%"
          }
        },
        "85a6a91b3e424544b535be228b181e57": {
          "model_module": "@jupyter-widgets/controls",
          "model_module_version": "1.5.0",
          "model_name": "ProgressStyleModel",
          "state": {
            "_model_module": "@jupyter-widgets/controls",
            "_model_module_version": "1.5.0",
            "_model_name": "ProgressStyleModel",
            "_view_count": null,
            "_view_module": "@jupyter-widgets/base",
            "_view_module_version": "1.2.0",
            "_view_name": "StyleView",
            "bar_color": null,
            "description_width": ""
          }
        },
        "8959d170e8bf4f1397310b4a7bdeeb4b": {
          "model_module": "@jupyter-widgets/controls",
          "model_module_version": "1.5.0",
          "model_name": "HBoxModel",
          "state": {
            "_dom_classes": [],
            "_model_module": "@jupyter-widgets/controls",
            "_model_module_version": "1.5.0",
            "_model_name": "HBoxModel",
            "_view_count": null,
            "_view_module": "@jupyter-widgets/controls",
            "_view_module_version": "1.5.0",
            "_view_name": "HBoxView",
            "box_style": "",
            "children": [
              "IPY_MODEL_77a452cb8f634b2da45b06cde714d74c",
              "IPY_MODEL_b9472d9436d14397b0232bd47ee7f23c",
              "IPY_MODEL_0611e6db179942149356878579ec9c83"
            ],
            "layout": "IPY_MODEL_f7b42e0c2901481491cec5ac49a26a22"
          }
        },
        "8fcd5ad02aa44ba8af39c0fd7af284fd": {
          "model_module": "@jupyter-widgets/controls",
          "model_module_version": "1.5.0",
          "model_name": "DescriptionStyleModel",
          "state": {
            "_model_module": "@jupyter-widgets/controls",
            "_model_module_version": "1.5.0",
            "_model_name": "DescriptionStyleModel",
            "_view_count": null,
            "_view_module": "@jupyter-widgets/base",
            "_view_module_version": "1.2.0",
            "_view_name": "StyleView",
            "description_width": ""
          }
        },
        "94771c7860e8472eb4453ce90cdbe262": {
          "model_module": "@jupyter-widgets/controls",
          "model_module_version": "1.5.0",
          "model_name": "HTMLModel",
          "state": {
            "_dom_classes": [],
            "_model_module": "@jupyter-widgets/controls",
            "_model_module_version": "1.5.0",
            "_model_name": "HTMLModel",
            "_view_count": null,
            "_view_module": "@jupyter-widgets/controls",
            "_view_module_version": "1.5.0",
            "_view_name": "HTMLView",
            "description": "",
            "description_tooltip": null,
            "layout": "IPY_MODEL_5a429d1522de46cea29d14a86a9406ec",
            "placeholder": "​",
            "style": "IPY_MODEL_31313cd2a9d04f3ba859ea66bf08292b",
            "value": " 5/5 [00:02&lt;00:00,  1.66s/it]"
          }
        },
        "98de53784c16493cb5c5836d398160df": {
          "model_module": "@jupyter-widgets/controls",
          "model_module_version": "1.5.0",
          "model_name": "HTMLModel",
          "state": {
            "_dom_classes": [],
            "_model_module": "@jupyter-widgets/controls",
            "_model_module_version": "1.5.0",
            "_model_name": "HTMLModel",
            "_view_count": null,
            "_view_module": "@jupyter-widgets/controls",
            "_view_module_version": "1.5.0",
            "_view_name": "HTMLView",
            "description": "",
            "description_tooltip": null,
            "layout": "IPY_MODEL_d3c14ee8aeb24005ac96b4823d90b22c",
            "placeholder": "​",
            "style": "IPY_MODEL_3229a66c527340348c682d589e66dd95",
            "value": "model_optimized.onnx: 100%"
          }
        },
        "a5003fc5f46141118f5ef0a11445240e": {
          "model_module": "@jupyter-widgets/controls",
          "model_module_version": "1.5.0",
          "model_name": "FloatProgressModel",
          "state": {
            "_dom_classes": [],
            "_model_module": "@jupyter-widgets/controls",
            "_model_module_version": "1.5.0",
            "_model_name": "FloatProgressModel",
            "_view_count": null,
            "_view_module": "@jupyter-widgets/controls",
            "_view_module_version": "1.5.0",
            "_view_name": "ProgressView",
            "bar_style": "success",
            "description": "",
            "description_tooltip": null,
            "layout": "IPY_MODEL_184c950cc04c4d7fa2f2cfd58b6fad0a",
            "max": 695,
            "min": 0,
            "orientation": "horizontal",
            "style": "IPY_MODEL_1d5c60e53a0f4e999233185454794b2a",
            "value": 695
          }
        },
        "abf59707cea0459f92b312214b3eadbe": {
          "model_module": "@jupyter-widgets/controls",
          "model_module_version": "1.5.0",
          "model_name": "HBoxModel",
          "state": {
            "_dom_classes": [],
            "_model_module": "@jupyter-widgets/controls",
            "_model_module_version": "1.5.0",
            "_model_name": "HBoxModel",
            "_view_count": null,
            "_view_module": "@jupyter-widgets/controls",
            "_view_module_version": "1.5.0",
            "_view_name": "HBoxView",
            "box_style": "",
            "children": [
              "IPY_MODEL_98de53784c16493cb5c5836d398160df",
              "IPY_MODEL_3322dd9e11c841de840c9169a24938b2",
              "IPY_MODEL_1f32d12ee39c483297bca978fc9cc4f1"
            ],
            "layout": "IPY_MODEL_c5cfee9ddc154825a910c296e3599e05"
          }
        },
        "ae9db2a1eb564922810600c711c1e067": {
          "model_module": "@jupyter-widgets/controls",
          "model_module_version": "1.5.0",
          "model_name": "ProgressStyleModel",
          "state": {
            "_model_module": "@jupyter-widgets/controls",
            "_model_module_version": "1.5.0",
            "_model_name": "ProgressStyleModel",
            "_view_count": null,
            "_view_module": "@jupyter-widgets/base",
            "_view_module_version": "1.2.0",
            "_view_name": "StyleView",
            "bar_color": null,
            "description_width": ""
          }
        },
        "b4a4f2d3e3664e888a671e03a51b711e": {
          "model_module": "@jupyter-widgets/base",
          "model_module_version": "1.2.0",
          "model_name": "LayoutModel",
          "state": {
            "_model_module": "@jupyter-widgets/base",
            "_model_module_version": "1.2.0",
            "_model_name": "LayoutModel",
            "_view_count": null,
            "_view_module": "@jupyter-widgets/base",
            "_view_module_version": "1.2.0",
            "_view_name": "LayoutView",
            "align_content": null,
            "align_items": null,
            "align_self": null,
            "border": null,
            "bottom": null,
            "display": null,
            "flex": null,
            "flex_flow": null,
            "grid_area": null,
            "grid_auto_columns": null,
            "grid_auto_flow": null,
            "grid_auto_rows": null,
            "grid_column": null,
            "grid_gap": null,
            "grid_row": null,
            "grid_template_areas": null,
            "grid_template_columns": null,
            "grid_template_rows": null,
            "height": null,
            "justify_content": null,
            "justify_items": null,
            "left": null,
            "margin": null,
            "max_height": null,
            "max_width": null,
            "min_height": null,
            "min_width": null,
            "object_fit": null,
            "object_position": null,
            "order": null,
            "overflow": null,
            "overflow_x": null,
            "overflow_y": null,
            "padding": null,
            "right": null,
            "top": null,
            "visibility": null,
            "width": null
          }
        },
        "b9472d9436d14397b0232bd47ee7f23c": {
          "model_module": "@jupyter-widgets/controls",
          "model_module_version": "1.5.0",
          "model_name": "FloatProgressModel",
          "state": {
            "_dom_classes": [],
            "_model_module": "@jupyter-widgets/controls",
            "_model_module_version": "1.5.0",
            "_model_name": "FloatProgressModel",
            "_view_count": null,
            "_view_module": "@jupyter-widgets/controls",
            "_view_module_version": "1.5.0",
            "_view_name": "ProgressView",
            "bar_style": "success",
            "description": "",
            "description_tooltip": null,
            "layout": "IPY_MODEL_e42973e2d39643e0939d103bdd527870",
            "max": 740,
            "min": 0,
            "orientation": "horizontal",
            "style": "IPY_MODEL_288d43b12f7046f28dd9d0b70f045be5",
            "value": 740
          }
        },
        "bce5fef6f8984aac8364d0885a0caa00": {
          "model_module": "@jupyter-widgets/controls",
          "model_module_version": "1.5.0",
          "model_name": "DescriptionStyleModel",
          "state": {
            "_model_module": "@jupyter-widgets/controls",
            "_model_module_version": "1.5.0",
            "_model_name": "DescriptionStyleModel",
            "_view_count": null,
            "_view_module": "@jupyter-widgets/base",
            "_view_module_version": "1.2.0",
            "_view_name": "StyleView",
            "description_width": ""
          }
        },
        "c5cfee9ddc154825a910c296e3599e05": {
          "model_module": "@jupyter-widgets/base",
          "model_module_version": "1.2.0",
          "model_name": "LayoutModel",
          "state": {
            "_model_module": "@jupyter-widgets/base",
            "_model_module_version": "1.2.0",
            "_model_name": "LayoutModel",
            "_view_count": null,
            "_view_module": "@jupyter-widgets/base",
            "_view_module_version": "1.2.0",
            "_view_name": "LayoutView",
            "align_content": null,
            "align_items": null,
            "align_self": null,
            "border": null,
            "bottom": null,
            "display": null,
            "flex": null,
            "flex_flow": null,
            "grid_area": null,
            "grid_auto_columns": null,
            "grid_auto_flow": null,
            "grid_auto_rows": null,
            "grid_column": null,
            "grid_gap": null,
            "grid_row": null,
            "grid_template_areas": null,
            "grid_template_columns": null,
            "grid_template_rows": null,
            "height": null,
            "justify_content": null,
            "justify_items": null,
            "left": null,
            "margin": null,
            "max_height": null,
            "max_width": null,
            "min_height": null,
            "min_width": null,
            "object_fit": null,
            "object_position": null,
            "order": null,
            "overflow": null,
            "overflow_x": null,
            "overflow_y": null,
            "padding": null,
            "right": null,
            "top": null,
            "visibility": null,
            "width": null
          }
        },
        "cbeb220eefbe4c87b3e9fc79c8922a1f": {
          "model_module": "@jupyter-widgets/base",
          "model_module_version": "1.2.0",
          "model_name": "LayoutModel",
          "state": {
            "_model_module": "@jupyter-widgets/base",
            "_model_module_version": "1.2.0",
            "_model_name": "LayoutModel",
            "_view_count": null,
            "_view_module": "@jupyter-widgets/base",
            "_view_module_version": "1.2.0",
            "_view_name": "LayoutView",
            "align_content": null,
            "align_items": null,
            "align_self": null,
            "border": null,
            "bottom": null,
            "display": null,
            "flex": null,
            "flex_flow": null,
            "grid_area": null,
            "grid_auto_columns": null,
            "grid_auto_flow": null,
            "grid_auto_rows": null,
            "grid_column": null,
            "grid_gap": null,
            "grid_row": null,
            "grid_template_areas": null,
            "grid_template_columns": null,
            "grid_template_rows": null,
            "height": null,
            "justify_content": null,
            "justify_items": null,
            "left": null,
            "margin": null,
            "max_height": null,
            "max_width": null,
            "min_height": null,
            "min_width": null,
            "object_fit": null,
            "object_position": null,
            "order": null,
            "overflow": null,
            "overflow_x": null,
            "overflow_y": null,
            "padding": null,
            "right": null,
            "top": null,
            "visibility": null,
            "width": null
          }
        },
        "d3c14ee8aeb24005ac96b4823d90b22c": {
          "model_module": "@jupyter-widgets/base",
          "model_module_version": "1.2.0",
          "model_name": "LayoutModel",
          "state": {
            "_model_module": "@jupyter-widgets/base",
            "_model_module_version": "1.2.0",
            "_model_name": "LayoutModel",
            "_view_count": null,
            "_view_module": "@jupyter-widgets/base",
            "_view_module_version": "1.2.0",
            "_view_name": "LayoutView",
            "align_content": null,
            "align_items": null,
            "align_self": null,
            "border": null,
            "bottom": null,
            "display": null,
            "flex": null,
            "flex_flow": null,
            "grid_area": null,
            "grid_auto_columns": null,
            "grid_auto_flow": null,
            "grid_auto_rows": null,
            "grid_column": null,
            "grid_gap": null,
            "grid_row": null,
            "grid_template_areas": null,
            "grid_template_columns": null,
            "grid_template_rows": null,
            "height": null,
            "justify_content": null,
            "justify_items": null,
            "left": null,
            "margin": null,
            "max_height": null,
            "max_width": null,
            "min_height": null,
            "min_width": null,
            "object_fit": null,
            "object_position": null,
            "order": null,
            "overflow": null,
            "overflow_x": null,
            "overflow_y": null,
            "padding": null,
            "right": null,
            "top": null,
            "visibility": null,
            "width": null
          }
        },
        "d514ca1b7f5f47a8b6d3da067c71e134": {
          "model_module": "@jupyter-widgets/controls",
          "model_module_version": "1.5.0",
          "model_name": "HBoxModel",
          "state": {
            "_dom_classes": [],
            "_model_module": "@jupyter-widgets/controls",
            "_model_module_version": "1.5.0",
            "_model_name": "HBoxModel",
            "_view_count": null,
            "_view_module": "@jupyter-widgets/controls",
            "_view_module_version": "1.5.0",
            "_view_name": "HBoxView",
            "box_style": "",
            "children": [
              "IPY_MODEL_7b8d07cfe0954457aa023207416e515e",
              "IPY_MODEL_fdddecb6137b43ab87ed59415499fefc",
              "IPY_MODEL_572fc74592ec42529ba4079ec2c86c3c"
            ],
            "layout": "IPY_MODEL_f12d8f58feb04a50a2bd022104932319"
          }
        },
        "dcff3239d75f4a4b9626567a03d5775a": {
          "model_module": "@jupyter-widgets/base",
          "model_module_version": "1.2.0",
          "model_name": "LayoutModel",
          "state": {
            "_model_module": "@jupyter-widgets/base",
            "_model_module_version": "1.2.0",
            "_model_name": "LayoutModel",
            "_view_count": null,
            "_view_module": "@jupyter-widgets/base",
            "_view_module_version": "1.2.0",
            "_view_name": "LayoutView",
            "align_content": null,
            "align_items": null,
            "align_self": null,
            "border": null,
            "bottom": null,
            "display": null,
            "flex": null,
            "flex_flow": null,
            "grid_area": null,
            "grid_auto_columns": null,
            "grid_auto_flow": null,
            "grid_auto_rows": null,
            "grid_column": null,
            "grid_gap": null,
            "grid_row": null,
            "grid_template_areas": null,
            "grid_template_columns": null,
            "grid_template_rows": null,
            "height": null,
            "justify_content": null,
            "justify_items": null,
            "left": null,
            "margin": null,
            "max_height": null,
            "max_width": null,
            "min_height": null,
            "min_width": null,
            "object_fit": null,
            "object_position": null,
            "order": null,
            "overflow": null,
            "overflow_x": null,
            "overflow_y": null,
            "padding": null,
            "right": null,
            "top": null,
            "visibility": null,
            "width": null
          }
        },
        "de623f68b4774bf4994c186a4d1d90ab": {
          "model_module": "@jupyter-widgets/base",
          "model_module_version": "1.2.0",
          "model_name": "LayoutModel",
          "state": {
            "_model_module": "@jupyter-widgets/base",
            "_model_module_version": "1.2.0",
            "_model_name": "LayoutModel",
            "_view_count": null,
            "_view_module": "@jupyter-widgets/base",
            "_view_module_version": "1.2.0",
            "_view_name": "LayoutView",
            "align_content": null,
            "align_items": null,
            "align_self": null,
            "border": null,
            "bottom": null,
            "display": null,
            "flex": null,
            "flex_flow": null,
            "grid_area": null,
            "grid_auto_columns": null,
            "grid_auto_flow": null,
            "grid_auto_rows": null,
            "grid_column": null,
            "grid_gap": null,
            "grid_row": null,
            "grid_template_areas": null,
            "grid_template_columns": null,
            "grid_template_rows": null,
            "height": null,
            "justify_content": null,
            "justify_items": null,
            "left": null,
            "margin": null,
            "max_height": null,
            "max_width": null,
            "min_height": null,
            "min_width": null,
            "object_fit": null,
            "object_position": null,
            "order": null,
            "overflow": null,
            "overflow_x": null,
            "overflow_y": null,
            "padding": null,
            "right": null,
            "top": null,
            "visibility": null,
            "width": null
          }
        },
        "df0ebaf7cdb94c7a92e912552f367b11": {
          "model_module": "@jupyter-widgets/base",
          "model_module_version": "1.2.0",
          "model_name": "LayoutModel",
          "state": {
            "_model_module": "@jupyter-widgets/base",
            "_model_module_version": "1.2.0",
            "_model_name": "LayoutModel",
            "_view_count": null,
            "_view_module": "@jupyter-widgets/base",
            "_view_module_version": "1.2.0",
            "_view_name": "LayoutView",
            "align_content": null,
            "align_items": null,
            "align_self": null,
            "border": null,
            "bottom": null,
            "display": null,
            "flex": null,
            "flex_flow": null,
            "grid_area": null,
            "grid_auto_columns": null,
            "grid_auto_flow": null,
            "grid_auto_rows": null,
            "grid_column": null,
            "grid_gap": null,
            "grid_row": null,
            "grid_template_areas": null,
            "grid_template_columns": null,
            "grid_template_rows": null,
            "height": null,
            "justify_content": null,
            "justify_items": null,
            "left": null,
            "margin": null,
            "max_height": null,
            "max_width": null,
            "min_height": null,
            "min_width": null,
            "object_fit": null,
            "object_position": null,
            "order": null,
            "overflow": null,
            "overflow_x": null,
            "overflow_y": null,
            "padding": null,
            "right": null,
            "top": null,
            "visibility": null,
            "width": null
          }
        },
        "e38f6992ac954810abf5a71ac838c1ce": {
          "model_module": "@jupyter-widgets/controls",
          "model_module_version": "1.5.0",
          "model_name": "DescriptionStyleModel",
          "state": {
            "_model_module": "@jupyter-widgets/controls",
            "_model_module_version": "1.5.0",
            "_model_name": "DescriptionStyleModel",
            "_view_count": null,
            "_view_module": "@jupyter-widgets/base",
            "_view_module_version": "1.2.0",
            "_view_name": "StyleView",
            "description_width": ""
          }
        },
        "e42973e2d39643e0939d103bdd527870": {
          "model_module": "@jupyter-widgets/base",
          "model_module_version": "1.2.0",
          "model_name": "LayoutModel",
          "state": {
            "_model_module": "@jupyter-widgets/base",
            "_model_module_version": "1.2.0",
            "_model_name": "LayoutModel",
            "_view_count": null,
            "_view_module": "@jupyter-widgets/base",
            "_view_module_version": "1.2.0",
            "_view_name": "LayoutView",
            "align_content": null,
            "align_items": null,
            "align_self": null,
            "border": null,
            "bottom": null,
            "display": null,
            "flex": null,
            "flex_flow": null,
            "grid_area": null,
            "grid_auto_columns": null,
            "grid_auto_flow": null,
            "grid_auto_rows": null,
            "grid_column": null,
            "grid_gap": null,
            "grid_row": null,
            "grid_template_areas": null,
            "grid_template_columns": null,
            "grid_template_rows": null,
            "height": null,
            "justify_content": null,
            "justify_items": null,
            "left": null,
            "margin": null,
            "max_height": null,
            "max_width": null,
            "min_height": null,
            "min_width": null,
            "object_fit": null,
            "object_position": null,
            "order": null,
            "overflow": null,
            "overflow_x": null,
            "overflow_y": null,
            "padding": null,
            "right": null,
            "top": null,
            "visibility": null,
            "width": null
          }
        },
        "e5987a6608f54a939924a8c2a1af45e5": {
          "model_module": "@jupyter-widgets/base",
          "model_module_version": "1.2.0",
          "model_name": "LayoutModel",
          "state": {
            "_model_module": "@jupyter-widgets/base",
            "_model_module_version": "1.2.0",
            "_model_name": "LayoutModel",
            "_view_count": null,
            "_view_module": "@jupyter-widgets/base",
            "_view_module_version": "1.2.0",
            "_view_name": "LayoutView",
            "align_content": null,
            "align_items": null,
            "align_self": null,
            "border": null,
            "bottom": null,
            "display": null,
            "flex": null,
            "flex_flow": null,
            "grid_area": null,
            "grid_auto_columns": null,
            "grid_auto_flow": null,
            "grid_auto_rows": null,
            "grid_column": null,
            "grid_gap": null,
            "grid_row": null,
            "grid_template_areas": null,
            "grid_template_columns": null,
            "grid_template_rows": null,
            "height": null,
            "justify_content": null,
            "justify_items": null,
            "left": null,
            "margin": null,
            "max_height": null,
            "max_width": null,
            "min_height": null,
            "min_width": null,
            "object_fit": null,
            "object_position": null,
            "order": null,
            "overflow": null,
            "overflow_x": null,
            "overflow_y": null,
            "padding": null,
            "right": null,
            "top": null,
            "visibility": null,
            "width": null
          }
        },
        "e6f54d0132ed41ecb19d41fbe00a74d7": {
          "model_module": "@jupyter-widgets/base",
          "model_module_version": "1.2.0",
          "model_name": "LayoutModel",
          "state": {
            "_model_module": "@jupyter-widgets/base",
            "_model_module_version": "1.2.0",
            "_model_name": "LayoutModel",
            "_view_count": null,
            "_view_module": "@jupyter-widgets/base",
            "_view_module_version": "1.2.0",
            "_view_name": "LayoutView",
            "align_content": null,
            "align_items": null,
            "align_self": null,
            "border": null,
            "bottom": null,
            "display": null,
            "flex": null,
            "flex_flow": null,
            "grid_area": null,
            "grid_auto_columns": null,
            "grid_auto_flow": null,
            "grid_auto_rows": null,
            "grid_column": null,
            "grid_gap": null,
            "grid_row": null,
            "grid_template_areas": null,
            "grid_template_columns": null,
            "grid_template_rows": null,
            "height": null,
            "justify_content": null,
            "justify_items": null,
            "left": null,
            "margin": null,
            "max_height": null,
            "max_width": null,
            "min_height": null,
            "min_width": null,
            "object_fit": null,
            "object_position": null,
            "order": null,
            "overflow": null,
            "overflow_x": null,
            "overflow_y": null,
            "padding": null,
            "right": null,
            "top": null,
            "visibility": null,
            "width": null
          }
        },
        "e8dd05fa26684daa96f4670bd676868a": {
          "model_module": "@jupyter-widgets/base",
          "model_module_version": "1.2.0",
          "model_name": "LayoutModel",
          "state": {
            "_model_module": "@jupyter-widgets/base",
            "_model_module_version": "1.2.0",
            "_model_name": "LayoutModel",
            "_view_count": null,
            "_view_module": "@jupyter-widgets/base",
            "_view_module_version": "1.2.0",
            "_view_name": "LayoutView",
            "align_content": null,
            "align_items": null,
            "align_self": null,
            "border": null,
            "bottom": null,
            "display": null,
            "flex": null,
            "flex_flow": null,
            "grid_area": null,
            "grid_auto_columns": null,
            "grid_auto_flow": null,
            "grid_auto_rows": null,
            "grid_column": null,
            "grid_gap": null,
            "grid_row": null,
            "grid_template_areas": null,
            "grid_template_columns": null,
            "grid_template_rows": null,
            "height": null,
            "justify_content": null,
            "justify_items": null,
            "left": null,
            "margin": null,
            "max_height": null,
            "max_width": null,
            "min_height": null,
            "min_width": null,
            "object_fit": null,
            "object_position": null,
            "order": null,
            "overflow": null,
            "overflow_x": null,
            "overflow_y": null,
            "padding": null,
            "right": null,
            "top": null,
            "visibility": null,
            "width": null
          }
        },
        "ecfd8226456f4b1f8a216660d1201758": {
          "model_module": "@jupyter-widgets/controls",
          "model_module_version": "1.5.0",
          "model_name": "FloatProgressModel",
          "state": {
            "_dom_classes": [],
            "_model_module": "@jupyter-widgets/controls",
            "_model_module_version": "1.5.0",
            "_model_name": "FloatProgressModel",
            "_view_count": null,
            "_view_module": "@jupyter-widgets/controls",
            "_view_module_version": "1.5.0",
            "_view_name": "ProgressView",
            "bar_style": "success",
            "description": "",
            "description_tooltip": null,
            "layout": "IPY_MODEL_e8dd05fa26684daa96f4670bd676868a",
            "max": 711396,
            "min": 0,
            "orientation": "horizontal",
            "style": "IPY_MODEL_ae9db2a1eb564922810600c711c1e067",
            "value": 711396
          }
        },
        "f12d8f58feb04a50a2bd022104932319": {
          "model_module": "@jupyter-widgets/base",
          "model_module_version": "1.2.0",
          "model_name": "LayoutModel",
          "state": {
            "_model_module": "@jupyter-widgets/base",
            "_model_module_version": "1.2.0",
            "_model_name": "LayoutModel",
            "_view_count": null,
            "_view_module": "@jupyter-widgets/base",
            "_view_module_version": "1.2.0",
            "_view_name": "LayoutView",
            "align_content": null,
            "align_items": null,
            "align_self": null,
            "border": null,
            "bottom": null,
            "display": null,
            "flex": null,
            "flex_flow": null,
            "grid_area": null,
            "grid_auto_columns": null,
            "grid_auto_flow": null,
            "grid_auto_rows": null,
            "grid_column": null,
            "grid_gap": null,
            "grid_row": null,
            "grid_template_areas": null,
            "grid_template_columns": null,
            "grid_template_rows": null,
            "height": null,
            "justify_content": null,
            "justify_items": null,
            "left": null,
            "margin": null,
            "max_height": null,
            "max_width": null,
            "min_height": null,
            "min_width": null,
            "object_fit": null,
            "object_position": null,
            "order": null,
            "overflow": null,
            "overflow_x": null,
            "overflow_y": null,
            "padding": null,
            "right": null,
            "top": null,
            "visibility": null,
            "width": null
          }
        },
        "f2ae9f6ad23b4e4aa33c6d2108c57e47": {
          "model_module": "@jupyter-widgets/base",
          "model_module_version": "1.2.0",
          "model_name": "LayoutModel",
          "state": {
            "_model_module": "@jupyter-widgets/base",
            "_model_module_version": "1.2.0",
            "_model_name": "LayoutModel",
            "_view_count": null,
            "_view_module": "@jupyter-widgets/base",
            "_view_module_version": "1.2.0",
            "_view_name": "LayoutView",
            "align_content": null,
            "align_items": null,
            "align_self": null,
            "border": null,
            "bottom": null,
            "display": null,
            "flex": null,
            "flex_flow": null,
            "grid_area": null,
            "grid_auto_columns": null,
            "grid_auto_flow": null,
            "grid_auto_rows": null,
            "grid_column": null,
            "grid_gap": null,
            "grid_row": null,
            "grid_template_areas": null,
            "grid_template_columns": null,
            "grid_template_rows": null,
            "height": null,
            "justify_content": null,
            "justify_items": null,
            "left": null,
            "margin": null,
            "max_height": null,
            "max_width": null,
            "min_height": null,
            "min_width": null,
            "object_fit": null,
            "object_position": null,
            "order": null,
            "overflow": null,
            "overflow_x": null,
            "overflow_y": null,
            "padding": null,
            "right": null,
            "top": null,
            "visibility": null,
            "width": null
          }
        },
        "f7b42e0c2901481491cec5ac49a26a22": {
          "model_module": "@jupyter-widgets/base",
          "model_module_version": "1.2.0",
          "model_name": "LayoutModel",
          "state": {
            "_model_module": "@jupyter-widgets/base",
            "_model_module_version": "1.2.0",
            "_model_name": "LayoutModel",
            "_view_count": null,
            "_view_module": "@jupyter-widgets/base",
            "_view_module_version": "1.2.0",
            "_view_name": "LayoutView",
            "align_content": null,
            "align_items": null,
            "align_self": null,
            "border": null,
            "bottom": null,
            "display": null,
            "flex": null,
            "flex_flow": null,
            "grid_area": null,
            "grid_auto_columns": null,
            "grid_auto_flow": null,
            "grid_auto_rows": null,
            "grid_column": null,
            "grid_gap": null,
            "grid_row": null,
            "grid_template_areas": null,
            "grid_template_columns": null,
            "grid_template_rows": null,
            "height": null,
            "justify_content": null,
            "justify_items": null,
            "left": null,
            "margin": null,
            "max_height": null,
            "max_width": null,
            "min_height": null,
            "min_width": null,
            "object_fit": null,
            "object_position": null,
            "order": null,
            "overflow": null,
            "overflow_x": null,
            "overflow_y": null,
            "padding": null,
            "right": null,
            "top": null,
            "visibility": null,
            "width": null
          }
        },
        "f83ed5d4ba274fafb2ad2eae38df478d": {
          "model_module": "@jupyter-widgets/base",
          "model_module_version": "1.2.0",
          "model_name": "LayoutModel",
          "state": {
            "_model_module": "@jupyter-widgets/base",
            "_model_module_version": "1.2.0",
            "_model_name": "LayoutModel",
            "_view_count": null,
            "_view_module": "@jupyter-widgets/base",
            "_view_module_version": "1.2.0",
            "_view_name": "LayoutView",
            "align_content": null,
            "align_items": null,
            "align_self": null,
            "border": null,
            "bottom": null,
            "display": null,
            "flex": null,
            "flex_flow": null,
            "grid_area": null,
            "grid_auto_columns": null,
            "grid_auto_flow": null,
            "grid_auto_rows": null,
            "grid_column": null,
            "grid_gap": null,
            "grid_row": null,
            "grid_template_areas": null,
            "grid_template_columns": null,
            "grid_template_rows": null,
            "height": null,
            "justify_content": null,
            "justify_items": null,
            "left": null,
            "margin": null,
            "max_height": null,
            "max_width": null,
            "min_height": null,
            "min_width": null,
            "object_fit": null,
            "object_position": null,
            "order": null,
            "overflow": null,
            "overflow_x": null,
            "overflow_y": null,
            "padding": null,
            "right": null,
            "top": null,
            "visibility": null,
            "width": null
          }
        },
        "fccc58db590a4fc48d763a6b11a6282b": {
          "model_module": "@jupyter-widgets/base",
          "model_module_version": "1.2.0",
          "model_name": "LayoutModel",
          "state": {
            "_model_module": "@jupyter-widgets/base",
            "_model_module_version": "1.2.0",
            "_model_name": "LayoutModel",
            "_view_count": null,
            "_view_module": "@jupyter-widgets/base",
            "_view_module_version": "1.2.0",
            "_view_name": "LayoutView",
            "align_content": null,
            "align_items": null,
            "align_self": null,
            "border": null,
            "bottom": null,
            "display": null,
            "flex": null,
            "flex_flow": null,
            "grid_area": null,
            "grid_auto_columns": null,
            "grid_auto_flow": null,
            "grid_auto_rows": null,
            "grid_column": null,
            "grid_gap": null,
            "grid_row": null,
            "grid_template_areas": null,
            "grid_template_columns": null,
            "grid_template_rows": null,
            "height": null,
            "justify_content": null,
            "justify_items": null,
            "left": null,
            "margin": null,
            "max_height": null,
            "max_width": null,
            "min_height": null,
            "min_width": null,
            "object_fit": null,
            "object_position": null,
            "order": null,
            "overflow": null,
            "overflow_x": null,
            "overflow_y": null,
            "padding": null,
            "right": null,
            "top": null,
            "visibility": null,
            "width": null
          }
        },
        "fdddecb6137b43ab87ed59415499fefc": {
          "model_module": "@jupyter-widgets/controls",
          "model_module_version": "1.5.0",
          "model_name": "FloatProgressModel",
          "state": {
            "_dom_classes": [],
            "_model_module": "@jupyter-widgets/controls",
            "_model_module_version": "1.5.0",
            "_model_name": "FloatProgressModel",
            "_view_count": null,
            "_view_module": "@jupyter-widgets/controls",
            "_view_module_version": "1.5.0",
            "_view_name": "ProgressView",
            "bar_style": "success",
            "description": "",
            "description_tooltip": null,
            "layout": "IPY_MODEL_e5987a6608f54a939924a8c2a1af45e5",
            "max": 1242,
            "min": 0,
            "orientation": "horizontal",
            "style": "IPY_MODEL_85a6a91b3e424544b535be228b181e57",
            "value": 1242
          }
        }
      }
    }
  },
  "nbformat": 4,
  "nbformat_minor": 0
}
