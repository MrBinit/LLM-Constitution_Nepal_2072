{
  "cells": [
    {
      "cell_type": "code",
      "execution_count": 1,
      "metadata": {
        "colab": {
          "base_uri": "https://localhost:8080/"
        },
        "id": "YsxlP-B0x40_",
        "outputId": "d7812694-524a-4546-8063-a2b40817b88c"
      },
      "outputs": [
        {
          "name": "stdout",
          "output_type": "stream",
          "text": [
            "\u001b[31mERROR: pip's dependency resolver does not currently take into account all the packages that are installed. This behaviour is the source of the following dependency conflicts.\n",
            "cudf-cu12 24.4.1 requires protobuf<5,>=3.20, but you have protobuf 5.27.2 which is incompatible.\n",
            "google-ai-generativelanguage 0.6.4 requires protobuf!=3.20.0,!=3.20.1,!=4.21.0,!=4.21.1,!=4.21.2,!=4.21.3,!=4.21.4,!=4.21.5,<5.0.0dev,>=3.19.5, but you have protobuf 5.27.2 which is incompatible.\n",
            "google-api-core 2.11.1 requires protobuf!=3.20.0,!=3.20.1,!=4.21.0,!=4.21.1,!=4.21.2,!=4.21.3,!=4.21.4,!=4.21.5,<5.0.0.dev0,>=3.19.5, but you have protobuf 5.27.2 which is incompatible.\n",
            "google-cloud-aiplatform 1.56.0 requires protobuf!=3.20.0,!=3.20.1,!=4.21.0,!=4.21.1,!=4.21.2,!=4.21.3,!=4.21.4,!=4.21.5,<5.0.0dev,>=3.19.5, but you have protobuf 5.27.2 which is incompatible.\n",
            "google-cloud-bigquery-connection 1.12.1 requires protobuf!=3.20.0,!=3.20.1,!=4.21.0,!=4.21.1,!=4.21.2,!=4.21.3,!=4.21.4,!=4.21.5,<5.0.0dev,>=3.19.5, but you have protobuf 5.27.2 which is incompatible.\n",
            "google-cloud-bigquery-storage 2.25.0 requires protobuf!=3.20.0,!=3.20.1,!=4.21.0,!=4.21.1,!=4.21.2,!=4.21.3,!=4.21.4,!=4.21.5,<5.0.0dev,>=3.19.5, but you have protobuf 5.27.2 which is incompatible.\n",
            "google-cloud-datastore 2.15.2 requires protobuf!=3.20.0,!=3.20.1,!=4.21.0,!=4.21.1,!=4.21.2,!=4.21.3,!=4.21.4,!=4.21.5,<5.0.0dev,>=3.19.5, but you have protobuf 5.27.2 which is incompatible.\n",
            "google-cloud-firestore 2.11.1 requires protobuf!=3.20.0,!=3.20.1,!=4.21.0,!=4.21.1,!=4.21.2,!=4.21.3,!=4.21.4,!=4.21.5,<5.0.0dev,>=3.19.5, but you have protobuf 5.27.2 which is incompatible.\n",
            "google-cloud-functions 1.13.3 requires protobuf!=3.20.0,!=3.20.1,!=4.21.0,!=4.21.1,!=4.21.2,!=4.21.3,!=4.21.4,!=4.21.5,<5.0.0dev,>=3.19.5, but you have protobuf 5.27.2 which is incompatible.\n",
            "google-cloud-iam 2.15.0 requires protobuf!=3.20.0,!=3.20.1,!=4.21.0,!=4.21.1,!=4.21.2,!=4.21.3,!=4.21.4,!=4.21.5,<5.0.0dev,>=3.19.5, but you have protobuf 5.27.2 which is incompatible.\n",
            "google-cloud-language 2.13.3 requires protobuf!=3.20.0,!=3.20.1,!=4.21.0,!=4.21.1,!=4.21.2,!=4.21.3,!=4.21.4,!=4.21.5,<5.0.0dev,>=3.19.5, but you have protobuf 5.27.2 which is incompatible.\n",
            "google-cloud-resource-manager 1.12.3 requires protobuf!=3.20.0,!=3.20.1,!=4.21.0,!=4.21.1,!=4.21.2,!=4.21.3,!=4.21.4,!=4.21.5,<5.0.0dev,>=3.19.5, but you have protobuf 5.27.2 which is incompatible.\n",
            "google-cloud-translate 3.11.3 requires protobuf!=3.20.0,!=3.20.1,!=4.21.0,!=4.21.1,!=4.21.2,!=4.21.3,!=4.21.4,!=4.21.5,<5.0.0dev,>=3.19.5, but you have protobuf 5.27.2 which is incompatible.\n",
            "grpc-google-iam-v1 0.13.0 requires protobuf!=3.20.0,!=3.20.1,!=4.21.1,!=4.21.2,!=4.21.3,!=4.21.4,!=4.21.5,<5.0.0dev,>=3.19.5, but you have protobuf 5.27.2 which is incompatible.\n",
            "tensorflow 2.15.0 requires protobuf!=4.21.0,!=4.21.1,!=4.21.2,!=4.21.3,!=4.21.4,!=4.21.5,<5.0.0dev,>=3.20.3, but you have protobuf 5.27.2 which is incompatible.\n",
            "tensorflow-metadata 1.15.0 requires protobuf<4.21,>=3.20.3; python_version < \"3.11\", but you have protobuf 5.27.2 which is incompatible.\u001b[0m\u001b[31m\n",
            "\u001b[0m  Preparing metadata (setup.py) ... \u001b[?25l\u001b[?25hdone\n",
            "  Building wheel for langdetect (setup.py) ... \u001b[?25l\u001b[?25hdone\n",
            "\u001b[31mERROR: pip's dependency resolver does not currently take into account all the packages that are installed. This behaviour is the source of the following dependency conflicts.\n",
            "transformers 4.41.2 requires huggingface-hub<1.0,>=0.23.0, but you have huggingface-hub 0.20.3 which is incompatible.\n",
            "transformers 4.41.2 requires tokenizers<0.20,>=0.19, but you have tokenizers 0.15.2 which is incompatible.\u001b[0m\u001b[31m\n",
            "\u001b[0m  Installing build dependencies ... \u001b[?25l\u001b[?25hdone\n",
            "  Getting requirements to build wheel ... \u001b[?25l\u001b[?25hdone\n",
            "  Installing backend dependencies ... \u001b[?25l\u001b[?25hdone\n",
            "  Preparing metadata (pyproject.toml) ... \u001b[?25l\u001b[?25hdone\n",
            "  Building wheel for llama-cpp-python (pyproject.toml) ... \u001b[?25l\u001b[?25hdone\n",
            "Requirement already satisfied: groq in /usr/local/lib/python3.10/dist-packages (0.9.0)\n",
            "Requirement already satisfied: anyio<5,>=3.5.0 in /usr/local/lib/python3.10/dist-packages (from groq) (3.7.1)\n",
            "Requirement already satisfied: distro<2,>=1.7.0 in /usr/lib/python3/dist-packages (from groq) (1.7.0)\n",
            "Requirement already satisfied: httpx<1,>=0.23.0 in /usr/local/lib/python3.10/dist-packages (from groq) (0.27.0)\n",
            "Requirement already satisfied: pydantic<3,>=1.9.0 in /usr/local/lib/python3.10/dist-packages (from groq) (2.7.4)\n",
            "Requirement already satisfied: sniffio in /usr/local/lib/python3.10/dist-packages (from groq) (1.3.1)\n",
            "Requirement already satisfied: typing-extensions<5,>=4.7 in /usr/local/lib/python3.10/dist-packages (from groq) (4.12.2)\n",
            "Requirement already satisfied: idna>=2.8 in /usr/local/lib/python3.10/dist-packages (from anyio<5,>=3.5.0->groq) (3.7)\n",
            "Requirement already satisfied: exceptiongroup in /usr/local/lib/python3.10/dist-packages (from anyio<5,>=3.5.0->groq) (1.2.1)\n",
            "Requirement already satisfied: certifi in /usr/local/lib/python3.10/dist-packages (from httpx<1,>=0.23.0->groq) (2024.6.2)\n",
            "Requirement already satisfied: httpcore==1.* in /usr/local/lib/python3.10/dist-packages (from httpx<1,>=0.23.0->groq) (1.0.5)\n",
            "Requirement already satisfied: h11<0.15,>=0.13 in /usr/local/lib/python3.10/dist-packages (from httpcore==1.*->httpx<1,>=0.23.0->groq) (0.14.0)\n",
            "Requirement already satisfied: annotated-types>=0.4.0 in /usr/local/lib/python3.10/dist-packages (from pydantic<3,>=1.9.0->groq) (0.7.0)\n",
            "Requirement already satisfied: pydantic-core==2.18.4 in /usr/local/lib/python3.10/dist-packages (from pydantic<3,>=1.9.0->groq) (2.18.4)\n"
          ]
        }
      ],
      "source": [
        "!pip -qqq install pip --progress-bar off\n",
        "!pip -qqq install langchain-groq==0.1.3 --progress-bar off\n",
        "!pip -qqq install langchain==0.1.17 --progress-bar off\n",
        "!pip -qqq install llama-parse==0.1.3 --progress-bar off\n",
        "!pip -qqq install qdrant-client==1.9.1  --progress-bar off\n",
        "!pip -qqq install \"unstructured[md]\"==0.13.6 --progress-bar off\n",
        "!pip -qqq install fastembed==0.2.7 --progress-bar off\n",
        "!pip -qqq install flashrank==0.2.4 --progress-bar off\n",
        "!pip install groq --progress-bar off\n"
      ]
    },
    {
      "cell_type": "code",
      "execution_count": 2,
      "metadata": {
        "id": "mJI8VwKSx7_P"
      },
      "outputs": [],
      "source": [
        "import os\n",
        "import textwrap\n",
        "from google.colab import userdata\n",
        "from IPython.display import Markdown\n",
        "from langchain.chains import RetrievalQA\n",
        "from langchain.prompts import PromptTemplate\n",
        "from langchain.retrievers import ContextualCompressionRetriever\n",
        "from langchain.retrievers.document_compressors import FlashrankRerank\n",
        "from langchain.text_splitter import RecursiveCharacterTextSplitter\n",
        "from langchain.vectorstores import Qdrant\n",
        "from langchain_community.document_loaders import UnstructuredMarkdownLoader\n",
        "from langchain_community.embeddings.fastembed import FastEmbedEmbeddings\n",
        "from langchain_core.prompts import ChatPromptTemplate\n",
        "from langchain_groq import ChatGroq\n",
        "from llama_parse import LlamaParse\n"
      ]
    },
    {
      "cell_type": "code",
      "execution_count": 3,
      "metadata": {
        "colab": {
          "base_uri": "https://localhost:8080/"
        },
        "id": "ZttwFtG-zC2_",
        "outputId": "8d72638e-dbc2-4a2e-d113-1bccc9b260f9"
      },
      "outputs": [
        {
          "name": "stdout",
          "output_type": "stream",
          "text": [
            "Mounted at /content/drive\n"
          ]
        }
      ],
      "source": [
        "from google.colab import drive\n",
        "drive.mount('/content/drive')"
      ]
    },
    {
      "cell_type": "code",
      "execution_count": 4,
      "metadata": {
        "id": "wBQtkXUZ2Olx"
      },
      "outputs": [],
      "source": [
        "os.environ[\"GROQ_API_KEY\"] = \"\"\n",
        "\n",
        "# def print_response(response):\n",
        "\n",
        "def print_response(response):\n",
        "    response_txt = response[\"result\"]\n",
        "    for chunk in response_txt.split(\"\\n\"):\n",
        "        if not chunk:\n",
        "            print()\n",
        "            continue\n",
        "        print(\"\\n\".join(textwrap.wrap(chunk, 100, break_long_words=False)))\n",
        "\n"
      ]
    },
    {
      "cell_type": "markdown",
      "metadata": {
        "id": "kAX7aoAKAaH7"
      },
      "source": [
        "# Document parsing"
      ]
    },
    {
      "cell_type": "code",
      "execution_count": 5,
      "metadata": {
        "colab": {
          "base_uri": "https://localhost:8080/"
        },
        "id": "8j_7LHOQ2bBm",
        "outputId": "c40366e4-a639-46af-8187-44b9dc9f5208"
      },
      "outputs": [
        {
          "name": "stdout",
          "output_type": "stream",
          "text": [
            "Started parsing the file under job_id cac11eca-325d-4d71-86b4-75ec1194e38c\n"
          ]
        }
      ],
      "source": [
        "#Document parsing (cleaning the document)\n",
        "instruction = \"\"\"The provided document is the Constitution of Nepal 2072. This document encompasses all the legal frameworks, guidelines, and principles governing the country. It defines the structure of the state, the distribution of powers between different levels of government, and the fundamental rights and duties of citizens.\n",
        "\n",
        "When answering questions based on this document, please follow these guidelines:\n",
        "- Be precise and concise in your responses.\n",
        "- Ensure that the information is accurate and directly relevant to the question.\n",
        "- Highlight key articles, sections, or provisions where applicable.\n",
        "- Provide context to your answers when necessary, explaining the implications or importance of specific provisions.\n",
        "- Maintain a neutral and informative tone, avoiding any personal opinions or interpretations.\n",
        "\n",
        "The goal is to provide clear and informative answers that help the user understand the specific aspects of the Constitution of Nepal 2072.\"\"\"\n",
        "\n",
        "parser = LlamaParse(\n",
        "    api_key = '',\n",
        "    result_type = 'markdown',\n",
        "    parsing_instruction = instruction,\n",
        "    max_timeout = 5000,\n",
        "\n",
        ")\n",
        "\n",
        "llama_parse_document = await parser.aload_data('/content/drive/My Drive/Constitution_Nepal.pdf')"
      ]
    },
    {
      "cell_type": "code",
      "execution_count": 6,
      "metadata": {
        "colab": {
          "base_uri": "https://localhost:8080/",
          "height": 312
        },
        "id": "pccFZwPKAFaV",
        "outputId": "47d1a24e-690d-47c0-ce88-91e9daba40cb"
      },
      "outputs": [
        {
          "data": {
            "text/markdown": [
              "# The Constitution of Nepal\n",
              "\n",
              "|Date of Publication in Nepal Gazette|20 September 2015 (2072.6.3)|\n",
              "|---|---|\n",
              "|The Constitution of Nepal (First Amendment), 2016 (2072)|28 February 2016 (2072.11.16)|\n",
              "\n",
              "Preamble:\n",
              "\n",
              "We, the Sovereign People of Nepal, Internalizing the people's sovereign right and right to autonomy and self-rule, while maintaining freedom, sovereignty, territorial integrity, national unity, independence and dignity of Nepal, Recalling the glorious history of historic people's movements, armed conflict, dedication and sacrifice undertaken by the Nepalese people at times for the interest of the nation, democracy and progressive changes, and respecting for the martyrs and disappeared and victim citizens, Ending all forms of discrimination and oppression created by the feudalistic, autocratic, centralized, unitary system of governance, Protecting and promoting social and cultural solidarity, tolerance and harmony, and unity in diversity by recognizing the multi-ethnic, multi-lingua"
            ],
            "text/plain": [
              "<IPython.core.display.Markdown object>"
            ]
          },
          "execution_count": 6,
          "metadata": {},
          "output_type": "execute_result"
        }
      ],
      "source": [
        "parsed_doc = llama_parse_document[0]\n",
        "Markdown(parsed_doc.text[:1000])"
      ]
    },
    {
      "cell_type": "code",
      "execution_count": 7,
      "metadata": {
        "id": "PoPWJb2SCqTo"
      },
      "outputs": [],
      "source": [
        "from pathlib import Path"
      ]
    },
    {
      "cell_type": "code",
      "execution_count": 8,
      "metadata": {
        "id": "gz4sj25sBtpt"
      },
      "outputs": [],
      "source": [
        "# save the file to\n",
        "document_path = Path('/content/drive/MyDrive/LLM-Nepal-constitution/parsed_document.md')\n",
        "with document_path.open(\"a\") as f:\n",
        "  f.write(parsed_doc.text)"
      ]
    },
    {
      "cell_type": "markdown",
      "metadata": {
        "id": "xbBQGzBvDmiS"
      },
      "source": [
        "# Vector embedding"
      ]
    },
    {
      "cell_type": "code",
      "execution_count": 9,
      "metadata": {
        "colab": {
          "base_uri": "https://localhost:8080/"
        },
        "id": "PPwAFiiYC5y9",
        "outputId": "ddd7471c-fbe4-4330-af3f-8e1d97c8258a"
      },
      "outputs": [
        {
          "name": "stderr",
          "output_type": "stream",
          "text": [
            "[nltk_data] Downloading package averaged_perceptron_tagger to\n",
            "[nltk_data]     /root/nltk_data...\n",
            "[nltk_data]   Unzipping taggers/averaged_perceptron_tagger.zip.\n"
          ]
        }
      ],
      "source": [
        "# Handle markdown file\n",
        "loader = UnstructuredMarkdownLoader(document_path)\n",
        "loaded_documents = loader.load()"
      ]
    },
    {
      "cell_type": "code",
      "execution_count": 10,
      "metadata": {
        "colab": {
          "base_uri": "https://localhost:8080/"
        },
        "id": "I1StfBJaECKh",
        "outputId": "1ee797f3-18e8-4c74-92aa-1814e08c02b4"
      },
      "outputs": [
        {
          "name": "stdout",
          "output_type": "stream",
          "text": [
            "The Constitution of Nepal\n",
            "\n",
            "Date of Publication in Nepal Gazette 20 September 2015 (2072.6.3) The Constitution of Nepal (First Amendment), 2016 (2072) 28 February 2016 (2072.11.16)\n",
            "\n",
            "Preamble:\n",
            "\n",
            "We, the Sovereign People of Nepal, Internalizing the people's sovereign right and right to autonomy and self-rule, while maintaining freedom, sovereignty, territorial integrity, national unity, independence and dignity of Nepal, Recalling the glorious history of historic people's movements, armed conflict, dedication and sacrifice undertaken by the Nepalese people at times for the interest of the nation, democracy and progressive changes, and respecting for the martyrs and disappeared and victim citizens, Ending all forms of discrimination and oppression created by the feudalistic, autocratic, centralized, unitary system of governance, Protecting and promoting social and cultural solidarity, tolerance and harmony, and unity in diversity by recognizing the multi-ethnic, multi-lingual, multi-religious, multi-cultural and diverse regional characteristics, resolving to build an egalitarian society founded on the proportional inclusive and participatory principles in order to ensure economic equality, prosperity and social justice, by eliminating discrimination based on class, caste, region, language, religion and gender and all forms of caste-based untouchability.\n",
            "\n",
            "Being committed to socialism based on democratic norms and values including the people's competitive multiparty democratic system of governance, civil liberties, fundamental rights, human rights, adult franchise, periodic elections, full freedom of the press, and independent, impartial and competent judiciary and concept of the rule of law, and build a prosperous nation, Do hereby pass and promulgate this Constitution, through the Constituent Assembly, in order to fulfil the aspirations for sustainable peace, good governance, development and prosperity through the federal, democratic, republican system of governance.\n",
            "\n",
            "Part-1 Preliminary\n"
          ]
        }
      ],
      "source": [
        "text_splitter = RecursiveCharacterTextSplitter(chunk_size=2048, chunk_overlap=128)\n",
        "docs = text_splitter.split_documents(loaded_documents)\n",
        "print(docs[0].page_content)"
      ]
    },
    {
      "cell_type": "code",
      "execution_count": 11,
      "metadata": {
        "colab": {
          "base_uri": "https://localhost:8080/",
          "height": 209,
          "referenced_widgets": [
            "5f8591a3d8bc4dafbaf816e15fbc874f",
            "d014f1aa04cd441b9c506405a02b0b6f",
            "db3744be6080420da7033cbad5300533",
            "fe270a472060479490b13428f5bc712c",
            "4f9cc5c4638c4c65a86f103fa187c5f2",
            "912a9e6bed9843eb978b35c4266bb8a7",
            "a74687d73b5e4943aac80e0eb6eb6bee",
            "66ff31fdb7df46328771799f6ccac177",
            "bcd4b04bb2244894b90ccf47e636117f",
            "d054424490ce4c5f9a419c9670be4622",
            "63953ed7468c426d9889c05c36bceba6",
            "4bddc3be4cb941c8833aeab7074e95b8",
            "523029a2c67042c793dd441d9443a6e0",
            "dca18db64637425a9076ff5daa581d1c",
            "ea82658f9db146cbbff9d323c3b61170",
            "759d480c6d88481190c09f6a8cc8ac6e",
            "1509b5fd6be6498090dc0f23dfcd6093",
            "0855173009ff4e0fa03911c0a98f03bf",
            "854be41d63cb4d98bd7ecea5dc6fd36d",
            "8b2ede0170f14e2986f0be82d1b35b9e",
            "e80a2a2765684fcb965f99814dd4bdee",
            "2a582e92b615436db246663e0477bad2",
            "c98ced5b403b420b81ea48752fb93999",
            "2805e6fe7924460889bfb320d83cb435",
            "1d4632f9eb8c4d3abb3afb2c39e12a6c",
            "88b42f57a9534a7eb222c9524e7f17bd",
            "29115ff065f247f5904ce3b03b7ae4f1",
            "ad8d6fbb6c83483ea234c72d1720ca03",
            "1afa4d9050544869a33de4e3151e1299",
            "22509d2f59b84563a0f85fb9f9783990",
            "d80b52295b6d476fbd1ba485839cea99",
            "dded4c34e591458da0fc36117023f72e",
            "5c4def2068c843d6bca595557fec6cba",
            "3141fe86e3aa4824b71ce7b36fa5406e",
            "e40bc5d1fb7f4027a1704039b0dce33e",
            "dfb1863a9ac843beb6565d81e451c497",
            "9c4351779de2455c87422d67535c45dd",
            "e53163a41cbc4303afb358f0eca23c41",
            "95f7736acda04035a0173edfae44f0f6",
            "c7b894782932462ba78b1570374980cd",
            "3c39e15ac2424e959425400f2724e9d0",
            "d173ac3afd484029bc88cc88b6fc2cb2",
            "cfc655b1fd4d4c63809d704cd6547f21",
            "23193f99fd79491886a1aabd639a1ed3",
            "f09afe77ff92440a97ff9c8f9d2eae4a",
            "ee02167c18074b9ebf9fbafb596b355e",
            "e028a62aa9ec4812816bf99188f100cc",
            "9c758e6ae32142daa868b41434ada3c8",
            "566e471e68644fe8b991a5bd08f3d89e",
            "14a5484aa00c46e6b58951f02c91b2d9",
            "a893a8e8d504493ea151a19bbdf177c4",
            "4a4768159f6b4041aa70263cb11580a0",
            "c816e73fe3c646248794e8d72406190f",
            "9500e7d4470e4febab3a15ae6c11b4d1",
            "f76314b30cd948ad9b2fb4d689e794fb",
            "3244afe690b246e2876d6a45db4f1d57",
            "6ca09cc6ed9d467192e2cd62265e37d7",
            "efbfbb2ae6764542aa2635d1a55d48be",
            "0428e809f8a1451999710e2f5c8d60a3",
            "bed26392d1be41f08717096ab3102d51",
            "85090db4e3a2489f91b068354b1e6bb0",
            "3533f2f0aaa347b7bc23ea444b290374",
            "76b7bea537c44996bf6408704a6c9dd4",
            "64a1ea67781e4772b1a82c445407403d",
            "d01bf3d653b84399a8034fe8d15eb2df",
            "346c8b84e7e64de39098bbe9efc3bcec"
          ]
        },
        "id": "SFKp-wdDFE8H",
        "outputId": "d9db65e7-c62e-4c1e-b6d0-5055b77641a0"
      },
      "outputs": [
        {
          "data": {
            "application/vnd.jupyter.widget-view+json": {
              "model_id": "5f8591a3d8bc4dafbaf816e15fbc874f",
              "version_major": 2,
              "version_minor": 0
            },
            "text/plain": [
              "Fetching 5 files:   0%|          | 0/5 [00:00<?, ?it/s]"
            ]
          },
          "metadata": {},
          "output_type": "display_data"
        },
        {
          "data": {
            "application/vnd.jupyter.widget-view+json": {
              "model_id": "4bddc3be4cb941c8833aeab7074e95b8",
              "version_major": 2,
              "version_minor": 0
            },
            "text/plain": [
              "special_tokens_map.json:   0%|          | 0.00/695 [00:00<?, ?B/s]"
            ]
          },
          "metadata": {},
          "output_type": "display_data"
        },
        {
          "data": {
            "application/vnd.jupyter.widget-view+json": {
              "model_id": "c98ced5b403b420b81ea48752fb93999",
              "version_major": 2,
              "version_minor": 0
            },
            "text/plain": [
              "config.json:   0%|          | 0.00/740 [00:00<?, ?B/s]"
            ]
          },
          "metadata": {},
          "output_type": "display_data"
        },
        {
          "data": {
            "application/vnd.jupyter.widget-view+json": {
              "model_id": "3141fe86e3aa4824b71ce7b36fa5406e",
              "version_major": 2,
              "version_minor": 0
            },
            "text/plain": [
              "tokenizer_config.json:   0%|          | 0.00/1.24k [00:00<?, ?B/s]"
            ]
          },
          "metadata": {},
          "output_type": "display_data"
        },
        {
          "data": {
            "application/vnd.jupyter.widget-view+json": {
              "model_id": "f09afe77ff92440a97ff9c8f9d2eae4a",
              "version_major": 2,
              "version_minor": 0
            },
            "text/plain": [
              "tokenizer.json:   0%|          | 0.00/711k [00:00<?, ?B/s]"
            ]
          },
          "metadata": {},
          "output_type": "display_data"
        },
        {
          "data": {
            "application/vnd.jupyter.widget-view+json": {
              "model_id": "3244afe690b246e2876d6a45db4f1d57",
              "version_major": 2,
              "version_minor": 0
            },
            "text/plain": [
              "model_optimized.onnx:   0%|          | 0.00/218M [00:00<?, ?B/s]"
            ]
          },
          "metadata": {},
          "output_type": "display_data"
        }
      ],
      "source": [
        "# model embedding\n",
        "embeddings = FastEmbedEmbeddings(\n",
        "    model_name = \"BAAI/bge-base-en-v1.5\")\n",
        "qdrant = Qdrant.from_documents(docs,\n",
        "                               embeddings,\n",
        "                               path = '/content/drive/MyDrive/LLM-Nepal-constitution/qdrant_db',\n",
        "                               collection_name = \"document_embeddings\")\n"
      ]
    },
    {
      "cell_type": "code",
      "execution_count": 12,
      "metadata": {
        "colab": {
          "base_uri": "https://localhost:8080/"
        },
        "id": "s_gTaRBDF3Jm",
        "outputId": "d2a895a2-deb0-4637-f78c-7f8c109abc3d"
      },
      "outputs": [
        {
          "name": "stdout",
          "output_type": "stream",
          "text": [
            "CPU times: user 297 ms, sys: 13.9 ms, total: 310 ms\n",
            "Wall time: 312 ms\n"
          ]
        }
      ],
      "source": [
        "%%time\n",
        "query = \"What fundamental rights are guaranteed to Nepali citizens?\"\n",
        "similar_docs = qdrant.similarity_search_with_score(query)"
      ]
    },
    {
      "cell_type": "code",
      "execution_count": 13,
      "metadata": {
        "colab": {
          "base_uri": "https://localhost:8080/"
        },
        "id": "t4rlhXF1KUEf",
        "outputId": "1d4b1ede-8687-47f2-ff01-2c75b67ed5df"
      },
      "outputs": [
        {
          "name": "stdout",
          "output_type": "stream",
          "text": [
            "text: Every person shall have the right to a fair trial by an independent, impartial and competent court or judicial body.\n",
            "\n",
            "Any indigent party shall have the right to free legal aid in accordance with law.\n",
            "\n",
            "Right of victim of crime:\n",
            "\n",
            "(1) A victim of crime shall \n",
            "\n",
            "score: 0.7861023710448288\n",
            "________________________________________________________________________________\n",
            "\n",
            "text: Every person shall have the right to a fair trial by an independent, impartial and competent court or judicial body.\n",
            "\n",
            "Any indigent party shall have the right to free legal aid in accordance with law.\n",
            "\n",
            "Right of victim of crime:\n",
            "\n",
            "(1) A victim of crime shall \n",
            "\n",
            "score: 0.7861023710448288\n",
            "________________________________________________________________________________\n",
            "\n",
            "text: Every person shall have the right to a fair trial by an independent, impartial and competent court or judicial body.\n",
            "\n",
            "Any indigent party shall have the right to free legal aid in accordance with law.\n",
            "\n",
            "Right of victim of crime:\n",
            "\n",
            "(1) A victim of crime shall \n",
            "\n",
            "score: 0.7861023710448288\n",
            "________________________________________________________________________________\n",
            "\n",
            "text: Every person shall have the right to a fair trial by an independent, impartial and competent court or judicial body.\n",
            "\n",
            "Any indigent party shall have the right to free legal aid in accordance with law.\n",
            "\n",
            "Right of victim of crime:\n",
            "\n",
            "(1) A victim of crime shall \n",
            "\n",
            "score: 0.7861023710448288\n",
            "________________________________________________________________________________\n",
            "\n"
          ]
        }
      ],
      "source": [
        "for doc, score in similar_docs:\n",
        "    print(f\"text: {doc.page_content[:256]}\\n\")\n",
        "    print(f\"score: {score}\")\n",
        "    print(\"_\" * 80)\n",
        "    print()"
      ]
    },
    {
      "cell_type": "code",
      "execution_count": null,
      "metadata": {
        "id": "fluBuf3Fv5_W"
      },
      "outputs": [],
      "source": []
    },
    {
      "cell_type": "code",
      "execution_count": 14,
      "metadata": {
        "colab": {
          "base_uri": "https://localhost:8080/"
        },
        "id": "TfUKxJv5Ka7N",
        "outputId": "4550dc7a-2db9-463b-9896-55cf61763612"
      },
      "outputs": [
        {
          "name": "stdout",
          "output_type": "stream",
          "text": [
            "CPU times: user 340 ms, sys: 48.7 ms, total: 388 ms\n",
            "Wall time: 355 ms\n"
          ]
        }
      ],
      "source": [
        "%%time\n",
        "retriever = qdrant.as_retriever(search_kwargs = {\"k\": 5})\n",
        "retrieved_docs = retriever.invoke(query)"
      ]
    },
    {
      "cell_type": "code",
      "execution_count": 15,
      "metadata": {
        "colab": {
          "base_uri": "https://localhost:8080/"
        },
        "id": "oR76Bwu5nAZD",
        "outputId": "8995ce25-6c9e-40c3-a150-3c4dd9d98da1"
      },
      "outputs": [
        {
          "name": "stdout",
          "output_type": "stream",
          "text": [
            "id: 48e4205b624b4cd699cb273bff8fc7ca\n",
            "\n",
            "text: Every person shall have the right to a fair trial by an independent, impartial and competent court or judicial body.\n",
            "\n",
            "Any indigent party shall have the right to free legal aid in accordance with law.\n",
            "\n",
            "Right of victim of crime:\n",
            "\n",
            "(1) A victim of crime shall \n",
            "________________________________________________________________________________\n",
            "\n",
            "id: 0a10b67fe1844421a5be5d48bcda62e1\n",
            "\n",
            "text: Every person shall have the right to a fair trial by an independent, impartial and competent court or judicial body.\n",
            "\n",
            "Any indigent party shall have the right to free legal aid in accordance with law.\n",
            "\n",
            "Right of victim of crime:\n",
            "\n",
            "(1) A victim of crime shall \n",
            "________________________________________________________________________________\n",
            "\n",
            "id: 5cdd3b59d44f4a83b0b4a54db31490b0\n",
            "\n",
            "text: Every person shall have the right to a fair trial by an independent, impartial and competent court or judicial body.\n",
            "\n",
            "Any indigent party shall have the right to free legal aid in accordance with law.\n",
            "\n",
            "Right of victim of crime:\n",
            "\n",
            "(1) A victim of crime shall \n",
            "________________________________________________________________________________\n",
            "\n",
            "id: dff4ae60088540c2adaa5416e746cc38\n",
            "\n",
            "text: Every person shall have the right to a fair trial by an independent, impartial and competent court or judicial body.\n",
            "\n",
            "Any indigent party shall have the right to free legal aid in accordance with law.\n",
            "\n",
            "Right of victim of crime:\n",
            "\n",
            "(1) A victim of crime shall \n",
            "________________________________________________________________________________\n",
            "\n",
            "id: 79c0a32a4165458daee885f410c948dc\n",
            "\n",
            "text: Every person shall have the right to a fair trial by an independent, impartial and competent court or judicial body.\n",
            "\n",
            "Any indigent party shall have the right to free legal aid in accordance with law.\n",
            "\n",
            "Right of victim of crime:\n",
            "\n",
            "(1) A victim of crime shall \n",
            "________________________________________________________________________________\n",
            "\n"
          ]
        }
      ],
      "source": [
        "for doc in retrieved_docs:\n",
        "  print(f\"id: {doc.metadata['_id']}\\n\")\n",
        "  print(f\"text: {doc.page_content[:256]}\")\n",
        "  print(\"_\" * 80)\n",
        "  print()"
      ]
    },
    {
      "cell_type": "code",
      "execution_count": 16,
      "metadata": {
        "id": "8NL2NWLgn6ft"
      },
      "outputs": [],
      "source": [
        "# path = '/content/drive/MyDrive/LLM-Nepal-constitution'"
      ]
    },
    {
      "cell_type": "markdown",
      "metadata": {
        "id": "qvODGEKXpmWc"
      },
      "source": [
        "### Reranking"
      ]
    },
    {
      "cell_type": "code",
      "execution_count": 17,
      "metadata": {
        "colab": {
          "base_uri": "https://localhost:8080/"
        },
        "id": "F40v_m7Fo8PT",
        "outputId": "c4af178f-c902-4e6e-b492-6fc7cb24a889"
      },
      "outputs": [
        {
          "name": "stdout",
          "output_type": "stream",
          "text": [
            "Downloading ms-marco-MiniLM-L-12-v2...\n"
          ]
        },
        {
          "name": "stderr",
          "output_type": "stream",
          "text": [
            "ms-marco-MiniLM-L-12-v2.zip: 100%|██████████| 21.6M/21.6M [00:00<00:00, 50.5MiB/s]\n"
          ]
        }
      ],
      "source": [
        "# Rerank and compress\n",
        "compressor = FlashrankRerank(model = 'ms-marco-MiniLM-L-12-v2')\n",
        "compression_retriever = ContextualCompressionRetriever(\n",
        "    base_compressor = compressor,\n",
        "    base_retriever = retriever)"
      ]
    },
    {
      "cell_type": "code",
      "execution_count": 18,
      "metadata": {
        "colab": {
          "base_uri": "https://localhost:8080/"
        },
        "id": "4QPE7YgAqBV1",
        "outputId": "abb95e12-3f2a-4133-a42e-342198b5334b"
      },
      "outputs": [
        {
          "name": "stdout",
          "output_type": "stream",
          "text": [
            "Running pairwise ranking..\n",
            "CPU times: user 3.01 s, sys: 174 ms, total: 3.18 s\n",
            "Wall time: 3.3 s\n"
          ]
        },
        {
          "data": {
            "text/plain": [
              "3"
            ]
          },
          "execution_count": 18,
          "metadata": {},
          "output_type": "execute_result"
        }
      ],
      "source": [
        "%%time\n",
        "reranked_docs = compression_retriever.invoke(query)\n",
        "len(reranked_docs)"
      ]
    },
    {
      "cell_type": "code",
      "execution_count": 19,
      "metadata": {
        "colab": {
          "base_uri": "https://localhost:8080/"
        },
        "id": "BDtwjmeaqdnS",
        "outputId": "8a2b3710-3fa5-4077-d758-6838327d5d11"
      },
      "outputs": [
        {
          "name": "stdout",
          "output_type": "stream",
          "text": [
            "id: 48e4205b624b4cd699cb273bff8fc7ca\n",
            "\n",
            "text: Every person shall have the right to a fair trial by an independent, impartial and competent court or judicial body.\n",
            "\n",
            "Any indigent party shall have the right to free legal aid in accordance with law.\n",
            "\n",
            "Right of victim of crime:\n",
            "\n",
            "(1) A victim of crime shall \n",
            "\n",
            "score: 0.3514850437641144\n",
            "--------------------------------------------------------------------------------\n",
            "\n",
            "id: 0a10b67fe1844421a5be5d48bcda62e1\n",
            "\n",
            "text: Every person shall have the right to a fair trial by an independent, impartial and competent court or judicial body.\n",
            "\n",
            "Any indigent party shall have the right to free legal aid in accordance with law.\n",
            "\n",
            "Right of victim of crime:\n",
            "\n",
            "(1) A victim of crime shall \n",
            "\n",
            "score: 0.3514850437641144\n",
            "--------------------------------------------------------------------------------\n",
            "\n",
            "id: 5cdd3b59d44f4a83b0b4a54db31490b0\n",
            "\n",
            "text: Every person shall have the right to a fair trial by an independent, impartial and competent court or judicial body.\n",
            "\n",
            "Any indigent party shall have the right to free legal aid in accordance with law.\n",
            "\n",
            "Right of victim of crime:\n",
            "\n",
            "(1) A victim of crime shall \n",
            "\n",
            "score: 0.3514850437641144\n",
            "--------------------------------------------------------------------------------\n",
            "\n"
          ]
        }
      ],
      "source": [
        "for doc in reranked_docs:\n",
        "    print(f\"id: {doc.metadata['_id']}\\n\")\n",
        "    print(f\"text: {doc.page_content[:256]}\\n\")\n",
        "    print(f\"score: {doc.metadata['relevance_score']}\")\n",
        "    print(\"-\" * 80)\n",
        "    print()"
      ]
    },
    {
      "cell_type": "code",
      "execution_count": 20,
      "metadata": {
        "id": "Se2WNmq0regC"
      },
      "outputs": [],
      "source": [
        "llm = ChatGroq(temperature = 0, model = 'llama3-70b-8192')"
      ]
    },
    {
      "cell_type": "code",
      "execution_count": 21,
      "metadata": {
        "id": "LDqfm2V9rnF0"
      },
      "outputs": [],
      "source": [
        "prompt_template = \"\"\"\n",
        "Use the following pieces of information to answer the user's question.\n",
        "If you don't know the answer, just say that you don't know, don't try to make up an answer.\n",
        "\n",
        "Context: {context}\n",
        "Question: {question}\n",
        "\n",
        "Answer the question and provide additional helpful information,\n",
        "based on the pieces of information, if applicable. Be succinct.\n",
        "\n",
        "Responses should be properly formatted to be easily read.\n",
        "\"\"\"\n",
        "\n",
        "prompt = PromptTemplate(\n",
        "    template=prompt_template, input_variables=[\"context\", \"question\"]\n",
        ")"
      ]
    },
    {
      "cell_type": "code",
      "execution_count": 22,
      "metadata": {
        "id": "2U5UXsvHrzoJ"
      },
      "outputs": [],
      "source": [
        "qa = RetrievalQA.from_chain_type(\n",
        "    llm=llm,\n",
        "    chain_type=\"stuff\",\n",
        "    retriever=compression_retriever,\n",
        "    return_source_documents=True,\n",
        "    chain_type_kwargs={\"prompt\": prompt, \"verbose\" : True},\n",
        ")"
      ]
    },
    {
      "cell_type": "code",
      "execution_count": 23,
      "metadata": {
        "colab": {
          "base_uri": "https://localhost:8080/"
        },
        "id": "XbNAvI6xr7-H",
        "outputId": "f9f25696-6b54-48bd-bd5c-b0b6e0c7a4fa"
      },
      "outputs": [
        {
          "name": "stdout",
          "output_type": "stream",
          "text": [
            "Running pairwise ranking..\n",
            "\n",
            "\n",
            "\u001b[1m> Entering new StuffDocumentsChain chain...\u001b[0m\n",
            "\n",
            "\n",
            "\u001b[1m> Entering new LLMChain chain...\u001b[0m\n",
            "Prompt after formatting:\n",
            "\u001b[32;1m\u001b[1;3m\n",
            "Use the following pieces of information to answer the user's question.\n",
            "If you don't know the answer, just say that you don't know, don't try to make up an answer.\n",
            "\n",
            "Context: Every person shall have the right to a fair trial by an independent, impartial and competent court or judicial body.\n",
            "\n",
            "Any indigent party shall have the right to free legal aid in accordance with law.\n",
            "\n",
            "Right of victim of crime:\n",
            "\n",
            "(1) A victim of crime shall have pe right to get information about pe investigation and proceedings of a case in which he or she is pe victim.\n",
            "(2) A victim of crime shall have pe right to justice including social rehabilitation and compensation in accordance wip law.\n",
            "\n",
            "Right against torture:\n",
            "\n",
            "No person who is arrested or detained shall be subjected to physical or mental torture or to cruel, inhuman or degrading treatment.\n",
            "\n",
            "Right against preventive detention:\n",
            "\n",
            "(1) No person shall be held under preventive detention unless there is a sufficient ground of the existence of an immediate threat to the sovereignty, territorial integrity or public peace and order of Nepal.\n",
            "\n",
            "(2) Information about the situation of a person who is held under preventive detention pursuant to clause (1) must be given immediately to his or her family members or relatives. Provided that this clause shall not apply to a citizen of an enemy state.\n",
            "\n",
            "(3) If the authority making preventive detention holds any person under preventive detention contrary to law or in bad faith, the person held under preventive detention shall have the right to obtain compensation in accordance with law.\n",
            "\n",
            "Right against untouchability and discrimination:\n",
            "\n",
            "(1) No person shall be subjected to any form of untouchability or discrimination in any private and public places on grounds of his or her origin, caste, tribe, community, profession, occupation or physical condition.\n",
            "\n",
            "(2) In producing or distributing any goods, services or facilities, no person belonging to any particular caste or tribe shall be prevented from purchasing or acquiring such goods, services or facilities nor shall such goods, services or facilities be sold, distributed or provided only to the persons belonging to any particular caste or tribe.\n",
            "\n",
            "Every person shall have the right to a fair trial by an independent, impartial and competent court or judicial body.\n",
            "\n",
            "Any indigent party shall have the right to free legal aid in accordance with law.\n",
            "\n",
            "Right of victim of crime:\n",
            "\n",
            "(1) A victim of crime shall have pe right to get information about pe investigation and proceedings of a case in which he or she is pe victim.\n",
            "(2) A victim of crime shall have pe right to justice including social rehabilitation and compensation in accordance wip law.\n",
            "\n",
            "Right against torture:\n",
            "\n",
            "No person who is arrested or detained shall be subjected to physical or mental torture or to cruel, inhuman or degrading treatment.\n",
            "\n",
            "Right against preventive detention:\n",
            "\n",
            "(1) No person shall be held under preventive detention unless there is a sufficient ground of the existence of an immediate threat to the sovereignty, territorial integrity or public peace and order of Nepal.\n",
            "\n",
            "(2) Information about the situation of a person who is held under preventive detention pursuant to clause (1) must be given immediately to his or her family members or relatives. Provided that this clause shall not apply to a citizen of an enemy state.\n",
            "\n",
            "(3) If the authority making preventive detention holds any person under preventive detention contrary to law or in bad faith, the person held under preventive detention shall have the right to obtain compensation in accordance with law.\n",
            "\n",
            "Right against untouchability and discrimination:\n",
            "\n",
            "(1) No person shall be subjected to any form of untouchability or discrimination in any private and public places on grounds of his or her origin, caste, tribe, community, profession, occupation or physical condition.\n",
            "\n",
            "(2) In producing or distributing any goods, services or facilities, no person belonging to any particular caste or tribe shall be prevented from purchasing or acquiring such goods, services or facilities nor shall such goods, services or facilities be sold, distributed or provided only to the persons belonging to any particular caste or tribe.\n",
            "\n",
            "Every person shall have the right to a fair trial by an independent, impartial and competent court or judicial body.\n",
            "\n",
            "Any indigent party shall have the right to free legal aid in accordance with law.\n",
            "\n",
            "Right of victim of crime:\n",
            "\n",
            "(1) A victim of crime shall have pe right to get information about pe investigation and proceedings of a case in which he or she is pe victim.\n",
            "(2) A victim of crime shall have pe right to justice including social rehabilitation and compensation in accordance wip law.\n",
            "\n",
            "Right against torture:\n",
            "\n",
            "No person who is arrested or detained shall be subjected to physical or mental torture or to cruel, inhuman or degrading treatment.\n",
            "\n",
            "Right against preventive detention:\n",
            "\n",
            "(1) No person shall be held under preventive detention unless there is a sufficient ground of the existence of an immediate threat to the sovereignty, territorial integrity or public peace and order of Nepal.\n",
            "\n",
            "(2) Information about the situation of a person who is held under preventive detention pursuant to clause (1) must be given immediately to his or her family members or relatives. Provided that this clause shall not apply to a citizen of an enemy state.\n",
            "\n",
            "(3) If the authority making preventive detention holds any person under preventive detention contrary to law or in bad faith, the person held under preventive detention shall have the right to obtain compensation in accordance with law.\n",
            "\n",
            "Right against untouchability and discrimination:\n",
            "\n",
            "(1) No person shall be subjected to any form of untouchability or discrimination in any private and public places on grounds of his or her origin, caste, tribe, community, profession, occupation or physical condition.\n",
            "\n",
            "(2) In producing or distributing any goods, services or facilities, no person belonging to any particular caste or tribe shall be prevented from purchasing or acquiring such goods, services or facilities nor shall such goods, services or facilities be sold, distributed or provided only to the persons belonging to any particular caste or tribe.\n",
            "Question: what are the fundamental rights guaranteed to Nepali citizens?\n",
            "\n",
            "Answer the question and provide additional helpful information,\n",
            "based on the pieces of information, if applicable. Be succinct.\n",
            "\n",
            "Responses should be properly formatted to be easily read.\n",
            "\u001b[0m\n",
            "\n",
            "\u001b[1m> Finished chain.\u001b[0m\n",
            "\n",
            "\u001b[1m> Finished chain.\u001b[0m\n",
            "CPU times: user 2.22 s, sys: 107 ms, total: 2.33 s\n",
            "Wall time: 3.64 s\n"
          ]
        }
      ],
      "source": [
        "%%time\n",
        "\n",
        "response = qa.invoke(\"what are the fundamental rights guaranteed to Nepali citizens?\")"
      ]
    },
    {
      "cell_type": "code",
      "execution_count": 24,
      "metadata": {
        "colab": {
          "base_uri": "https://localhost:8080/"
        },
        "id": "JUyqRrRIsZp-",
        "outputId": "3f0dacc4-435e-4eab-a9ac-a28b9c62e751"
      },
      "outputs": [
        {
          "name": "stdout",
          "output_type": "stream",
          "text": [
            "**Fundamental Rights Guaranteed to Nepali Citizens:**\n",
            "\n",
            "Based on the provided information, the following fundamental rights are guaranteed to Nepali\n",
            "citizens:\n",
            "\n",
            "1. **Right to a Fair Trial**: Every person has the right to a fair trial by an independent,\n",
            "impartial, and competent court or judicial body.\n",
            "2. **Right to Free Legal Aid**: Any indigent party has the right to free legal aid in accordance\n",
            "with law.\n",
            "3. **Right of Victim of Crime**: A victim of crime has the right to:\n",
            "        * Get information about the investigation and proceedings of a case.\n",
            "        * Receive justice, including social rehabilitation and compensation, in accordance with law.\n",
            "4. **Right against Torture**: No person who is arrested or detained shall be subjected to physical\n",
            "or mental torture or to cruel, inhuman, or degrading treatment.\n",
            "5. **Right against Preventive Detention**: No person shall be held under preventive detention unless\n",
            "there is a sufficient ground of an immediate threat to the sovereignty, territorial integrity, or\n",
            "public peace and order of Nepal.\n",
            "6. **Right against Untouchability and Discrimination**: No person shall be subjected to any form of\n",
            "untouchability or discrimination in any private and public places on grounds of origin, caste,\n",
            "tribe, community, profession, occupation, or physical condition.\n",
            "\n",
            "These fundamental rights aim to protect the dignity, freedom, and well-being of Nepali citizens,\n",
            "ensuring they are treated fairly and without discrimination.\n"
          ]
        }
      ],
      "source": [
        "print_response(response)"
      ]
    },
    {
      "cell_type": "code",
      "execution_count": 25,
      "metadata": {
        "id": "b0yR0fYcsq2W"
      },
      "outputs": [],
      "source": [
        "qa = RetrievalQA.from_chain_type(\n",
        "    llm=llm,\n",
        "    chain_type=\"stuff\",\n",
        "    retriever=compression_retriever,\n",
        "    return_source_documents=True,\n",
        "    chain_type_kwargs={\"prompt\": prompt, \"verbose\" : False},\n",
        ")"
      ]
    },
    {
      "cell_type": "code",
      "execution_count": 26,
      "metadata": {
        "colab": {
          "base_uri": "https://localhost:8080/"
        },
        "id": "pWK3XB9XtjYU",
        "outputId": "a87c9b5f-39e4-4d3d-94e7-e0b37d0460f9"
      },
      "outputs": [
        {
          "name": "stdout",
          "output_type": "stream",
          "text": [
            "Running pairwise ranking..\n",
            "CPU times: user 2.24 s, sys: 171 ms, total: 2.41 s\n",
            "Wall time: 3.48 s\n"
          ]
        }
      ],
      "source": [
        "%%time\n",
        "\n",
        "response = qa.invoke(\"what are the fundamental rights guaranteed to Nepali citizens?\")"
      ]
    },
    {
      "cell_type": "code",
      "execution_count": 27,
      "metadata": {
        "colab": {
          "base_uri": "https://localhost:8080/"
        },
        "id": "OBzcFXpQtmjj",
        "outputId": "52ee9cdb-528c-4bb9-ca17-820512de1adc"
      },
      "outputs": [
        {
          "name": "stdout",
          "output_type": "stream",
          "text": [
            "**Fundamental Rights Guaranteed to Nepali Citizens:**\n",
            "\n",
            "Based on the provided information, the following fundamental rights are guaranteed to Nepali\n",
            "citizens:\n",
            "\n",
            "1. **Right to a Fair Trial**: Every person has the right to a fair trial by an independent,\n",
            "impartial, and competent court or judicial body.\n",
            "2. **Right to Free Legal Aid**: Any indigent party has the right to free legal aid in accordance\n",
            "with law.\n",
            "3. **Right of Victim of Crime**: A victim of crime has the right to:\n",
            "        * Get information about the investigation and proceedings of a case.\n",
            "        * Receive justice, including social rehabilitation and compensation, in accordance with law.\n",
            "4. **Right against Torture**: No person who is arrested or detained shall be subjected to physical\n",
            "or mental torture or to cruel, inhuman, or degrading treatment.\n",
            "5. **Right against Preventive Detention**: No person shall be held under preventive detention unless\n",
            "there is a sufficient ground of an immediate threat to the sovereignty, territorial integrity, or\n",
            "public peace and order of Nepal.\n",
            "6. **Right against Untouchability and Discrimination**: No person shall be subjected to any form of\n",
            "untouchability or discrimination in any private and public places on grounds of origin, caste,\n",
            "tribe, community, profession, occupation, or physical condition.\n",
            "\n",
            "These fundamental rights aim to protect the dignity, freedom, and well-being of Nepali citizens,\n",
            "ensuring they are treated fairly and without discrimination.\n"
          ]
        }
      ],
      "source": [
        "print_response(response)"
      ]
    },
    {
      "cell_type": "code",
      "execution_count": 28,
      "metadata": {
        "colab": {
          "base_uri": "https://localhost:8080/",
          "height": 440
        },
        "id": "h_xqpbeNtruX",
        "outputId": "1f0b1e46-6bef-4d07-bd9e-63fb7cff2eae"
      },
      "outputs": [
        {
          "data": {
            "text/markdown": [
              "**Fundamental Rights Guaranteed to Nepali Citizens:**\n",
              "\n",
              "Based on the provided information, the following fundamental rights are guaranteed to Nepali citizens:\n",
              "\n",
              "1. **Right to a Fair Trial**: Every person has the right to a fair trial by an independent, impartial, and competent court or judicial body.\n",
              "2. **Right to Free Legal Aid**: Any indigent party has the right to free legal aid in accordance with law.\n",
              "3. **Right of Victim of Crime**: A victim of crime has the right to:\n",
              "\t* Get information about the investigation and proceedings of a case.\n",
              "\t* Receive justice, including social rehabilitation and compensation, in accordance with law.\n",
              "4. **Right against Torture**: No person who is arrested or detained shall be subjected to physical or mental torture or to cruel, inhuman, or degrading treatment.\n",
              "5. **Right against Preventive Detention**: No person shall be held under preventive detention unless there is a sufficient ground of an immediate threat to the sovereignty, territorial integrity, or public peace and order of Nepal.\n",
              "6. **Right against Untouchability and Discrimination**: No person shall be subjected to any form of untouchability or discrimination in any private and public places on grounds of origin, caste, tribe, community, profession, occupation, or physical condition.\n",
              "\n",
              "These fundamental rights aim to protect the dignity, freedom, and well-being of Nepali citizens, ensuring they are treated fairly and without discrimination."
            ],
            "text/plain": [
              "<IPython.core.display.Markdown object>"
            ]
          },
          "execution_count": 28,
          "metadata": {},
          "output_type": "execute_result"
        }
      ],
      "source": [
        "Markdown(response[\"result\"])"
      ]
    },
    {
      "cell_type": "code",
      "execution_count": 29,
      "metadata": {
        "colab": {
          "base_uri": "https://localhost:8080/",
          "height": 326
        },
        "id": "GFDmt37Lt1z4",
        "outputId": "b9f8b8cc-2c0e-4bcd-cb5f-7ddaa0a95848"
      },
      "outputs": [
        {
          "name": "stdout",
          "output_type": "stream",
          "text": [
            "Running pairwise ranking..\n",
            "CPU times: user 2 s, sys: 118 ms, total: 2.12 s\n",
            "Wall time: 3.09 s\n"
          ]
        },
        {
          "data": {
            "text/markdown": [
              "Based on the provided information, I don't know the specific powers and responsibilities of federal, provincial, and local governments. The text only discusses the executive power of the Local Level, the Village Executive, and the Municipal Executive, as well as the provisions relating to the Chairperson and Vice-Chairperson of the Village Executive.\n",
              "\n",
              "However, I can provide some general information about the executive power of the Local Level:\n",
              "\n",
              "* The executive power of the Local Level is vested in the Village Executive or the Municipal Executive.\n",
              "* The local executive power is as mentioned in Schedule-8 and Schedule-9.\n",
              "* The Village Executive and the Municipal Executive are responsible for issuing general directives, controlling, and regulating the governance of the Village Body and the Municipality.\n",
              "* The executive functions of the Village Body and the Municipality are performed in the name of the Village Executive and the Municipal Executive.\n",
              "\n",
              "If you have any further questions or need clarification on any of these points, feel free to ask!"
            ],
            "text/plain": [
              "<IPython.core.display.Markdown object>"
            ]
          },
          "execution_count": 29,
          "metadata": {},
          "output_type": "execute_result"
        }
      ],
      "source": [
        "%%time\n",
        "response = qa.invoke(\"What are the powers and responsibilities of federal, provincial, and local governments?\")\n",
        "Markdown(response[\"result\"])\n",
        "\n"
      ]
    },
    {
      "cell_type": "code",
      "execution_count": 30,
      "metadata": {
        "colab": {
          "base_uri": "https://localhost:8080/",
          "height": 135
        },
        "id": "oSQS41zUuzuD",
        "outputId": "00909a11-fb5e-4a37-d865-1bd9e74b2a12"
      },
      "outputs": [
        {
          "name": "stdout",
          "output_type": "stream",
          "text": [
            "Running pairwise ranking..\n",
            "CPU times: user 3.51 s, sys: 89.3 ms, total: 3.6 s\n",
            "Wall time: 5.95 s\n"
          ]
        },
        {
          "data": {
            "text/markdown": [
              "I don't know who Binit is. The provided information does not mention a person named Binit. It appears to be a set of rules and regulations related to the State Government, Chief Minister, and Ministers, but it does not contain any information about a person named Binit."
            ],
            "text/plain": [
              "<IPython.core.display.Markdown object>"
            ]
          },
          "execution_count": 30,
          "metadata": {},
          "output_type": "execute_result"
        }
      ],
      "source": [
        "%%time\n",
        "response = qa.invoke(\"Who is Binit\")\n",
        "Markdown(response[\"result\"])\n"
      ]
    },
    {
      "cell_type": "code",
      "execution_count": 31,
      "metadata": {
        "colab": {
          "base_uri": "https://localhost:8080/",
          "height": 430
        },
        "id": "0cBAZnTM0Waf",
        "outputId": "6da7aac9-e982-41ec-835c-a87f9498616d"
      },
      "outputs": [
        {
          "name": "stdout",
          "output_type": "stream",
          "text": [
            "Running pairwise ranking..\n",
            "CPU times: user 1.74 s, sys: 114 ms, total: 1.85 s\n",
            "Wall time: 3.18 s\n"
          ]
        },
        {
          "data": {
            "text/markdown": [
              "**Answer:** The Constitution of Nepal has divided the revenue under federalism in a way that:\n",
              "\n",
              "* The Federation, State, and Local level may impose taxes on matters falling within their respective jurisdiction and collect revenue from these sources.\n",
              "* The Government of Nepal shall make provisions for the equitable distribution of the collected revenue to the Federation, State, and Local level.\n",
              "* The amount of fiscal transfer receivable by the State and Local level shall be as recommended by the National Natural Resources and Fiscal Commission.\n",
              "* The Government of Nepal shall distribute fiscal equalization grants to the State and Local level based on the need of expenditure and revenue capacity.\n",
              "* Each State shall distribute fiscal equalization grants to its subordinate Local level based on the need of expenditure and revenue capacity.\n",
              "* Provisions relating to distribution of conditional grants, complementary grants, or special grants for other purposes shall be as provided for in the Federal law.\n",
              "\n",
              "**Additional helpful information:**\n",
              "\n",
              "* The distribution of revenues between the Federal, State, and Local level shall be made in a balanced and transparent manner.\n",
              "* The Government of Nepal has the authority to determine provisions relating to the imposition of taxes and collection of revenue on matters that fall within the Concurrent List and on matters that are not included in the List of any level."
            ],
            "text/plain": [
              "<IPython.core.display.Markdown object>"
            ]
          },
          "execution_count": 31,
          "metadata": {},
          "output_type": "execute_result"
        }
      ],
      "source": [
        "%%time\n",
        "response = qa.invoke(\"how has the constitution of nepal divided the revenue under federalism?\")\n",
        "Markdown(response[\"result\"])\n"
      ]
    },
    {
      "cell_type": "code",
      "execution_count": 32,
      "metadata": {
        "colab": {
          "base_uri": "https://localhost:8080/",
          "height": 509
        },
        "id": "8kByHEbLHPbJ",
        "outputId": "82798e37-d334-401e-9e85-cff7784e24ea"
      },
      "outputs": [
        {
          "name": "stdout",
          "output_type": "stream",
          "text": [
            "Running pairwise ranking..\n",
            "CPU times: user 2.06 s, sys: 121 ms, total: 2.18 s\n",
            "Wall time: 11.6 s\n"
          ]
        },
        {
          "data": {
            "text/markdown": [
              "Based on the provided information, the directive principles of the State under the Constitution of Nepal are:\n",
              "\n",
              "**Political Objectives:**\n",
              "\n",
              "1. Establish a public welfare system of governance\n",
              "2. Establish a just system in all aspects of national life through the rule of law, values, and norms of fundamental rights and human rights\n",
              "3. Ensure gender equality, proportional inclusion, participation, and social justice\n",
              "4. Protect the life, property, equality, and liberties of the people\n",
              "5. Consolidate a federal democratic republican system of governance\n",
              "6. Maintain relations between Federal Units on the basis of cooperative federalism\n",
              "7. Incorporate the principle of proportional participation in the system of governance on the basis of local autonomy and decentralization\n",
              "\n",
              "**Social and Cultural Objectives:**\n",
              "\n",
              "1. Build a civilized and egalitarian society\n",
              "2. Eliminate all forms of discrimination, exploitation, and injustice on various grounds\n",
              "3. Develop social, cultural values founded on national pride, democracy, pro-people, respect of labor, entrepreneurship, discipline, dignity, and harmony\n",
              "4. Consolidate national unity by maintaining social cohesion, solidarity, and harmony while recognizing cultural diversity\n",
              "\n",
              "Note: These objectives are guiding principles for the governance of the State, and the State shall mobilize means and resources to implement these principles, policies, and obligations."
            ],
            "text/plain": [
              "<IPython.core.display.Markdown object>"
            ]
          },
          "execution_count": 32,
          "metadata": {},
          "output_type": "execute_result"
        }
      ],
      "source": [
        "%%time\n",
        "response = qa.invoke(\"list out the directive principles of state under constitution of nepal?\")\n",
        "Markdown(response[\"result\"])\n"
      ]
    },
    {
      "cell_type": "code",
      "execution_count": 34,
      "metadata": {
        "colab": {
          "base_uri": "https://localhost:8080/",
          "height": 158
        },
        "id": "0aB_EZ6sILU8",
        "outputId": "d7192a56-20ad-4e1e-a8af-9123840fa1e9"
      },
      "outputs": [
        {
          "name": "stdout",
          "output_type": "stream",
          "text": [
            "Running pairwise ranking..\n",
            "CPU times: user 1.01 s, sys: 47.7 ms, total: 1.06 s\n",
            "Wall time: 1.49 s\n"
          ]
        },
        {
          "data": {
            "text/markdown": [
              "**I don't know**\n",
              "\n",
              "The provided context does not mention rape or its punishment. It lists various acts that are prohibited, such as treason, incitement to hatred, and undermining harmonious relations between different groups, but it does not mention rape or any related punishment."
            ],
            "text/plain": [
              "<IPython.core.display.Markdown object>"
            ]
          },
          "execution_count": 34,
          "metadata": {},
          "output_type": "execute_result"
        }
      ],
      "source": [
        "%%time\n",
        "response = qa.invoke(\"What are punishment if someone performs rape?\")\n",
        "Markdown(response[\"result\"])"
      ]
    },
    {
      "cell_type": "code",
      "execution_count": 35,
      "metadata": {
        "colab": {
          "base_uri": "https://localhost:8080/",
          "height": 251
        },
        "id": "Qb8ifL5UrQaw",
        "outputId": "2c0fff0b-8b52-4b18-8438-5c8680a0bd0f"
      },
      "outputs": [
        {
          "name": "stdout",
          "output_type": "stream",
          "text": [
            "Running pairwise ranking..\n",
            "CPU times: user 2.56 s, sys: 105 ms, total: 2.66 s\n",
            "Wall time: 3.65 s\n"
          ]
        },
        {
          "data": {
            "text/markdown": [
              "**Answer:** No, Article 29, which guarantees the right to religious freedom, does not protect the right to proselytize.\n",
              "\n",
              "**Reasoning:** Clause (3) of Article 29 explicitly states that \"No person shall, in the exercise of the right conferred by this Article, do, or cause to be done, any act which may be contrary to public health, decency and morality or breach public peace, or convert another person from one religion to another...\" This implies that the right to religious freedom does not extend to proselytizing or converting others from one religion to another.\n",
              "\n",
              "**Additional Information:** This provision is likely intended to maintain social harmony and prevent religious conflicts. It is also consistent with the principles of religious tolerance and coexistence."
            ],
            "text/plain": [
              "<IPython.core.display.Markdown object>"
            ]
          },
          "execution_count": 35,
          "metadata": {},
          "output_type": "execute_result"
        }
      ],
      "source": [
        "%%time\n",
        "response = qa.invoke(\"Does Article 29, which guarantees the right to religious freedom, also protect the right to proselytize? Explain your reasoning based on the text and relevant legal precedents.\")\n",
        "Markdown(response[\"result\"])"
      ]
    },
    {
      "cell_type": "code",
      "execution_count": 33,
      "metadata": {
        "id": "PvHQNfcerPIi"
      },
      "outputs": [],
      "source": [
        "from langchain.agents import initialize_agent, Tool\n",
        "\n",
        "def constitution_lookup(query: str) -> str:\n",
        "  results = retriever.get_relevant_documents(query)\n",
        "  return \"\\n\".join([doc.page_content for doc in results])\n",
        "\n",
        "constitution_lookup_tool = Tool(\n",
        "    name = \"Constitution Lookup\",\n",
        "    func = constitution_lookup,\n",
        "    description = \"Retrieves relevant sections from the Constitution.\"\n",
        ")\n",
        "\n",
        "# Initalize the agent\n",
        "agent = initialize_agent(\n",
        "    tools = [constitution_lookup_tool],\n",
        "    llm = llm,\n",
        "    agent = \"zero-shot-react-description\",\n",
        "    verbose = True\n",
        ")"
      ]
    },
    {
      "cell_type": "code",
      "execution_count": null,
      "metadata": {
        "id": "iJ4Usta5wBRG"
      },
      "outputs": [],
      "source": [
        "while True:\n",
        "  user_query = input()"
      ]
    },
    {
      "cell_type": "code",
      "execution_count": 38,
      "metadata": {
        "colab": {
          "base_uri": "https://localhost:8080/",
          "height": 1000
        },
        "id": "x0TliMedx15N",
        "outputId": "73c705cd-88d8-41d2-9b63-85ef682e804e"
      },
      "outputs": [
        {
          "name": "stdout",
          "output_type": "stream",
          "text": [
            "Ask a question about the Constitution: WHAT ARE THE FUNDAMENTAL RIGHT\n",
            "\n",
            "\n",
            "\u001b[1m> Entering new AgentExecutor chain...\u001b[0m\n",
            "\u001b[32;1m\u001b[1;3mThought: I need to understand what the fundamental rights are in the context of the US Constitution.\n",
            "\n",
            "Action: Constitution Lookup\n",
            "Action Input: Search for sections related to fundamental rights\u001b[0m"
          ]
        },
        {
          "name": "stderr",
          "output_type": "stream",
          "text": [
            "/usr/local/lib/python3.10/dist-packages/langchain_core/_api/deprecation.py:119: LangChainDeprecationWarning: The method `BaseRetriever.get_relevant_documents` was deprecated in langchain-core 0.1.46 and will be removed in 0.3.0. Use invoke instead.\n",
            "  warn_deprecated(\n"
          ]
        },
        {
          "name": "stdout",
          "output_type": "stream",
          "text": [
            "\n",
            "Observation: \u001b[36;1m\u001b[1;3mRight to privacy\n",
            "\n",
            "The privacy of any person, his or her residence, property, document, data, correspondence and matters relating to his or her character shall, except in accordance with law, be inviolable.\n",
            "\n",
            "Right against exploitation\n",
            "\n",
            "Every person shall have the right against exploitation.\n",
            "\n",
            "No person shall be exploited in any manner on the grounds of religion, custom, tradition, usage, practice or on any other grounds.\n",
            "\n",
            "No one shall be subjected to trafficking nor shall one be held in slavery or servitude.\n",
            "\n",
            "No one shall be forced to work against his or her will.\n",
            "\n",
            "Provided that nothing shall be deemed to prevent the making of law empowering the State to require citizens to perform compulsory service for public purposes.\n",
            "\n",
            "Act contrary to clauses (3) and (4) shall be punishable by law and the victim shall have the right to obtain compensation from the perpetrator in accordance with law.\n",
            "\n",
            "Right to clean environment\n",
            "\n",
            "Every citizen shall have the right to live in a clean and healthy environment.\n",
            "\n",
            "The victim shall have the right to obtain compensation, in accordance with law, for any injury caused from environmental pollution or degradation.\n",
            "\n",
            "Article 31\n",
            "\n",
            "Right relating to education:\n",
            "\n",
            "Every citizen shall have the right of access to basic education.\n",
            "\n",
            "Every citizen shall have the right to get compulsory and free education up to the basic level and free education up to the secondary level from the State.\n",
            "\n",
            "The citizens with disabilities and the economically indigent citizens shall have the right to get free higher education in accordance with law.\n",
            "\n",
            "The visually impaired citizens shall have the right to get free education through brail script and the citizens with hearing or speaking impairment, to get free education through sign language, in accordance with law.\n",
            "\n",
            "Every Nepalese community residing in Nepal shall have the right to get education in its mother tongue and, for that purpose, to open and operate schools and educational institutes, in accordance with law.\n",
            "\n",
            "Article 32\n",
            "\n",
            "Right to language and culture:\n",
            "Right to privacy\n",
            "\n",
            "The privacy of any person, his or her residence, property, document, data, correspondence and matters relating to his or her character shall, except in accordance with law, be inviolable.\n",
            "\n",
            "Right against exploitation\n",
            "\n",
            "Every person shall have the right against exploitation.\n",
            "\n",
            "No person shall be exploited in any manner on the grounds of religion, custom, tradition, usage, practice or on any other grounds.\n",
            "\n",
            "No one shall be subjected to trafficking nor shall one be held in slavery or servitude.\n",
            "\n",
            "No one shall be forced to work against his or her will.\n",
            "\n",
            "Provided that nothing shall be deemed to prevent the making of law empowering the State to require citizens to perform compulsory service for public purposes.\n",
            "\n",
            "Act contrary to clauses (3) and (4) shall be punishable by law and the victim shall have the right to obtain compensation from the perpetrator in accordance with law.\n",
            "\n",
            "Right to clean environment\n",
            "\n",
            "Every citizen shall have the right to live in a clean and healthy environment.\n",
            "\n",
            "The victim shall have the right to obtain compensation, in accordance with law, for any injury caused from environmental pollution or degradation.\n",
            "\n",
            "Article 31\n",
            "\n",
            "Right relating to education:\n",
            "\n",
            "Every citizen shall have the right of access to basic education.\n",
            "\n",
            "Every citizen shall have the right to get compulsory and free education up to the basic level and free education up to the secondary level from the State.\n",
            "\n",
            "The citizens with disabilities and the economically indigent citizens shall have the right to get free higher education in accordance with law.\n",
            "\n",
            "The visually impaired citizens shall have the right to get free education through brail script and the citizens with hearing or speaking impairment, to get free education through sign language, in accordance with law.\n",
            "\n",
            "Every Nepalese community residing in Nepal shall have the right to get education in its mother tongue and, for that purpose, to open and operate schools and educational institutes, in accordance with law.\n",
            "\n",
            "Article 32\n",
            "\n",
            "Right to language and culture:\n",
            "Right to privacy\n",
            "\n",
            "The privacy of any person, his or her residence, property, document, data, correspondence and matters relating to his or her character shall, except in accordance with law, be inviolable.\n",
            "\n",
            "Right against exploitation\n",
            "\n",
            "Every person shall have the right against exploitation.\n",
            "\n",
            "No person shall be exploited in any manner on the grounds of religion, custom, tradition, usage, practice or on any other grounds.\n",
            "\n",
            "No one shall be subjected to trafficking nor shall one be held in slavery or servitude.\n",
            "\n",
            "No one shall be forced to work against his or her will.\n",
            "\n",
            "Provided that nothing shall be deemed to prevent the making of law empowering the State to require citizens to perform compulsory service for public purposes.\n",
            "\n",
            "Act contrary to clauses (3) and (4) shall be punishable by law and the victim shall have the right to obtain compensation from the perpetrator in accordance with law.\n",
            "\n",
            "Right to clean environment\n",
            "\n",
            "Every citizen shall have the right to live in a clean and healthy environment.\n",
            "\n",
            "The victim shall have the right to obtain compensation, in accordance with law, for any injury caused from environmental pollution or degradation.\n",
            "\n",
            "Article 31\n",
            "\n",
            "Right relating to education:\n",
            "\n",
            "Every citizen shall have the right of access to basic education.\n",
            "\n",
            "Every citizen shall have the right to get compulsory and free education up to the basic level and free education up to the secondary level from the State.\n",
            "\n",
            "The citizens with disabilities and the economically indigent citizens shall have the right to get free higher education in accordance with law.\n",
            "\n",
            "The visually impaired citizens shall have the right to get free education through brail script and the citizens with hearing or speaking impairment, to get free education through sign language, in accordance with law.\n",
            "\n",
            "Every Nepalese community residing in Nepal shall have the right to get education in its mother tongue and, for that purpose, to open and operate schools and educational institutes, in accordance with law.\n",
            "\n",
            "Article 32\n",
            "\n",
            "Right to language and culture:\n",
            "Right to privacy\n",
            "\n",
            "The privacy of any person, his or her residence, property, document, data, correspondence and matters relating to his or her character shall, except in accordance with law, be inviolable.\n",
            "\n",
            "Right against exploitation\n",
            "\n",
            "Every person shall have the right against exploitation.\n",
            "\n",
            "No person shall be exploited in any manner on the grounds of religion, custom, tradition, usage, practice or on any other grounds.\n",
            "\n",
            "No one shall be subjected to trafficking nor shall one be held in slavery or servitude.\n",
            "\n",
            "No one shall be forced to work against his or her will.\n",
            "\n",
            "Provided that nothing shall be deemed to prevent the making of law empowering the State to require citizens to perform compulsory service for public purposes.\n",
            "\n",
            "Act contrary to clauses (3) and (4) shall be punishable by law and the victim shall have the right to obtain compensation from the perpetrator in accordance with law.\n",
            "\n",
            "Right to clean environment\n",
            "\n",
            "Every citizen shall have the right to live in a clean and healthy environment.\n",
            "\n",
            "The victim shall have the right to obtain compensation, in accordance with law, for any injury caused from environmental pollution or degradation.\n",
            "\n",
            "Article 31\n",
            "\n",
            "Right relating to education:\n",
            "\n",
            "Every citizen shall have the right of access to basic education.\n",
            "\n",
            "Every citizen shall have the right to get compulsory and free education up to the basic level and free education up to the secondary level from the State.\n",
            "\n",
            "The citizens with disabilities and the economically indigent citizens shall have the right to get free higher education in accordance with law.\n",
            "\n",
            "The visually impaired citizens shall have the right to get free education through brail script and the citizens with hearing or speaking impairment, to get free education through sign language, in accordance with law.\n",
            "\n",
            "Every Nepalese community residing in Nepal shall have the right to get education in its mother tongue and, for that purpose, to open and operate schools and educational institutes, in accordance with law.\n",
            "\n",
            "Article 32\n",
            "\n",
            "Right to language and culture:\n",
            "of property of any person for public interest in accordance with clause (2) shall be as provided for in the Act.\n",
            "\n",
            "(4) The provisions of clauses (2) and (3) shall not prevent the State from making land reforms, management and regulation in accordance with law for the purposes of enhancement of product and productivity of lands, modernization and commercialization of agriculture, environment protection and planned housing and urban development.\n",
            "\n",
            "(5) Nothing shall prevent the State from using the property of any person, which it has requisitioned for public interest in accordance with clause (3), for any other public interest instead of such public interest.\n",
            "\n",
            "Right to freedom of religion:\n",
            "\n",
            "(1) Every person who has faith in religion shall have the freedom to profess, practice and protect his or her religion according to his or her conviction.\n",
            "\n",
            "(2) Every religious denomination shall have the right to operate and protect its religious sites and religious Guthi (trusts). Provided that nothing shall be deemed to prevent the regulation, by making law, of the operation and protection of religious sites and religious trusts and management of trust properties and lands.\n",
            "\n",
            "(3) No person shall, in the exercise of the right conferred by this Article, do, or cause to be done, any act which may be contrary to public health, decency and morality or breach public peace, or convert another person from one religion to another or any act or conduct that may jeopardize other's religion and such act shall be punishable by law.\n",
            "\n",
            "Right to information: Every citizen shall have the right to demand and receive information on any matter of his or her interest or of public interest. Provided that no one shall be compelled to provide information on any matter of which confidentiality must be maintained in accordance with law.\n",
            "\n",
            "Right to privacy: The privacy of any person, his or her residence, property, document, data, correspondence and matters relating to his or her character shall, except in accordance with law, be inviolable.\u001b[0m\n",
            "Thought:\u001b[32;1m\u001b[1;3mThought: I need to understand what the fundamental rights are in the context of the US Constitution, but the provided text appears to be from the Constitution of Nepal. I'll need to search for the relevant sections in the US Constitution.\n",
            "\n",
            "Action: Constitution Lookup\n",
            "Action Input: Search for sections related to fundamental rights in the US Constitution\u001b[0m\n",
            "Observation: \u001b[36;1m\u001b[1;3m(2) Each House of the Federal Parliament shall, subject to this Constitution, have full power to regulate and decide its internal business, and the concerned House shall have the exclusive right to decide whether or not any of its proceedings is regular or irregular. No question shall be raised in any court in this behalf.\n",
            "\n",
            "(3) No comment shall be made about the good faith concerning any proceeding of any House of the Federal Parliament, and no publication and broadcasting of any kind shall be made about anything said by any member, intentionally distorting or misinterpreting the meaning of the speech.\n",
            "\n",
            "(4) The provisions of clauses (1) and (3) shall also apply to other persons who are entitled to participate in the meetings of the House than the members of the Federal Parliament.\n",
            "\n",
            "(5) No proceedings shall be initiated in any court against any person in respect of the publication, under the authority granted by any House of the Federal Parliament, of any document, report, vote or proceeding. Explanation: For the purposes of this clause and clauses (1), (2), (3) and (4), \"House\" means the House of Representatives or the National Assembly, and includes a joint sitting or committee or joint committee of the Federal Parliament.\n",
            "\n",
            "(6) No member of the Federal Parliament shall be arrested during the period from the issuance of a notice summoning the session to its prorogation. Provided that nothing in this clause shall be deemed to bar the arresting under the Federal law of any member on a criminal charge. If any member is so arrested, the authority making such arrest shall forthwith give information thereof to the person presiding over the concerned House.\n",
            "\n",
            "(7) Any breach of the privileges shall be deemed to constitute contempt of the Federal Parliament, and the concerned House shall have the exclusive right to decide whether any privilege has been breached.\n",
            "(2) Each House of the Federal Parliament shall, subject to this Constitution, have full power to regulate and decide its internal business, and the concerned House shall have the exclusive right to decide whether or not any of its proceedings is regular or irregular. No question shall be raised in any court in this behalf.\n",
            "\n",
            "(3) No comment shall be made about the good faith concerning any proceeding of any House of the Federal Parliament, and no publication and broadcasting of any kind shall be made about anything said by any member, intentionally distorting or misinterpreting the meaning of the speech.\n",
            "\n",
            "(4) The provisions of clauses (1) and (3) shall also apply to other persons who are entitled to participate in the meetings of the House than the members of the Federal Parliament.\n",
            "\n",
            "(5) No proceedings shall be initiated in any court against any person in respect of the publication, under the authority granted by any House of the Federal Parliament, of any document, report, vote or proceeding. Explanation: For the purposes of this clause and clauses (1), (2), (3) and (4), \"House\" means the House of Representatives or the National Assembly, and includes a joint sitting or committee or joint committee of the Federal Parliament.\n",
            "\n",
            "(6) No member of the Federal Parliament shall be arrested during the period from the issuance of a notice summoning the session to its prorogation. Provided that nothing in this clause shall be deemed to bar the arresting under the Federal law of any member on a criminal charge. If any member is so arrested, the authority making such arrest shall forthwith give information thereof to the person presiding over the concerned House.\n",
            "\n",
            "(7) Any breach of the privileges shall be deemed to constitute contempt of the Federal Parliament, and the concerned House shall have the exclusive right to decide whether any privilege has been breached.\n",
            "(2) Each House of the Federal Parliament shall, subject to this Constitution, have full power to regulate and decide its internal business, and the concerned House shall have the exclusive right to decide whether or not any of its proceedings is regular or irregular. No question shall be raised in any court in this behalf.\n",
            "\n",
            "(3) No comment shall be made about the good faith concerning any proceeding of any House of the Federal Parliament, and no publication and broadcasting of any kind shall be made about anything said by any member, intentionally distorting or misinterpreting the meaning of the speech.\n",
            "\n",
            "(4) The provisions of clauses (1) and (3) shall also apply to other persons who are entitled to participate in the meetings of the House than the members of the Federal Parliament.\n",
            "\n",
            "(5) No proceedings shall be initiated in any court against any person in respect of the publication, under the authority granted by any House of the Federal Parliament, of any document, report, vote or proceeding. Explanation: For the purposes of this clause and clauses (1), (2), (3) and (4), \"House\" means the House of Representatives or the National Assembly, and includes a joint sitting or committee or joint committee of the Federal Parliament.\n",
            "\n",
            "(6) No member of the Federal Parliament shall be arrested during the period from the issuance of a notice summoning the session to its prorogation. Provided that nothing in this clause shall be deemed to bar the arresting under the Federal law of any member on a criminal charge. If any member is so arrested, the authority making such arrest shall forthwith give information thereof to the person presiding over the concerned House.\n",
            "\n",
            "(7) Any breach of the privileges shall be deemed to constitute contempt of the Federal Parliament, and the concerned House shall have the exclusive right to decide whether any privilege has been breached.\n",
            "(2) Each House of the Federal Parliament shall, subject to this Constitution, have full power to regulate and decide its internal business, and the concerned House shall have the exclusive right to decide whether or not any of its proceedings is regular or irregular. No question shall be raised in any court in this behalf.\n",
            "\n",
            "(3) No comment shall be made about the good faith concerning any proceeding of any House of the Federal Parliament, and no publication and broadcasting of any kind shall be made about anything said by any member, intentionally distorting or misinterpreting the meaning of the speech.\n",
            "\n",
            "(4) The provisions of clauses (1) and (3) shall also apply to other persons who are entitled to participate in the meetings of the House than the members of the Federal Parliament.\n",
            "\n",
            "(5) No proceedings shall be initiated in any court against any person in respect of the publication, under the authority granted by any House of the Federal Parliament, of any document, report, vote or proceeding. Explanation: For the purposes of this clause and clauses (1), (2), (3) and (4), \"House\" means the House of Representatives or the National Assembly, and includes a joint sitting or committee or joint committee of the Federal Parliament.\n",
            "\n",
            "(6) No member of the Federal Parliament shall be arrested during the period from the issuance of a notice summoning the session to its prorogation. Provided that nothing in this clause shall be deemed to bar the arresting under the Federal law of any member on a criminal charge. If any member is so arrested, the authority making such arrest shall forthwith give information thereof to the person presiding over the concerned House.\n",
            "\n",
            "(7) Any breach of the privileges shall be deemed to constitute contempt of the Federal Parliament, and the concerned House shall have the exclusive right to decide whether any privilege has been breached.\n",
            "(2) Each House of the Federal Parliament shall, subject to this Constitution, have full power to regulate and decide its internal business, and the concerned House shall have the exclusive right to decide whether or not any of its proceedings is regular or irregular. No question shall be raised in any court in this behalf.\n",
            "\n",
            "(3) No comment shall be made about the good faith concerning any proceeding of any House of the Federal Parliament, and no publication and broadcasting of any kind shall be made about anything said by any member, intentionally distorting or misinterpreting the meaning of the speech.\n",
            "\n",
            "(4) The provisions of clauses (1) and (3) shall also apply to other persons who are entitled to participate in the meetings of the House than the members of the Federal Parliament.\n",
            "\n",
            "(5) No proceedings shall be initiated in any court against any person in respect of the publication, under the authority granted by any House of the Federal Parliament, of any document, report, vote or proceeding. Explanation: For the purposes of this clause and clauses (1), (2), (3) and (4), \"House\" means the House of Representatives or the National Assembly, and includes a joint sitting or committee or joint committee of the Federal Parliament.\n",
            "\n",
            "(6) No member of the Federal Parliament shall be arrested during the period from the issuance of a notice summoning the session to its prorogation. Provided that nothing in this clause shall be deemed to bar the arresting under the Federal law of any member on a criminal charge. If any member is so arrested, the authority making such arrest shall forthwith give information thereof to the person presiding over the concerned House.\n",
            "\n",
            "(7) Any breach of the privileges shall be deemed to constitute contempt of the Federal Parliament, and the concerned House shall have the exclusive right to decide whether any privilege has been breached.\u001b[0m\n",
            "Thought:\u001b[32;1m\u001b[1;3mIt seems like I've got the wrong constitution! I need to search for the fundamental rights in the US Constitution.\n",
            "\n",
            "Action: Constitution Lookup\n",
            "Action Input: Search for sections related to fundamental rights in the US Constitution\u001b[0m\n",
            "Observation: \u001b[36;1m\u001b[1;3m(2) Each House of the Federal Parliament shall, subject to this Constitution, have full power to regulate and decide its internal business, and the concerned House shall have the exclusive right to decide whether or not any of its proceedings is regular or irregular. No question shall be raised in any court in this behalf.\n",
            "\n",
            "(3) No comment shall be made about the good faith concerning any proceeding of any House of the Federal Parliament, and no publication and broadcasting of any kind shall be made about anything said by any member, intentionally distorting or misinterpreting the meaning of the speech.\n",
            "\n",
            "(4) The provisions of clauses (1) and (3) shall also apply to other persons who are entitled to participate in the meetings of the House than the members of the Federal Parliament.\n",
            "\n",
            "(5) No proceedings shall be initiated in any court against any person in respect of the publication, under the authority granted by any House of the Federal Parliament, of any document, report, vote or proceeding. Explanation: For the purposes of this clause and clauses (1), (2), (3) and (4), \"House\" means the House of Representatives or the National Assembly, and includes a joint sitting or committee or joint committee of the Federal Parliament.\n",
            "\n",
            "(6) No member of the Federal Parliament shall be arrested during the period from the issuance of a notice summoning the session to its prorogation. Provided that nothing in this clause shall be deemed to bar the arresting under the Federal law of any member on a criminal charge. If any member is so arrested, the authority making such arrest shall forthwith give information thereof to the person presiding over the concerned House.\n",
            "\n",
            "(7) Any breach of the privileges shall be deemed to constitute contempt of the Federal Parliament, and the concerned House shall have the exclusive right to decide whether any privilege has been breached.\n",
            "(2) Each House of the Federal Parliament shall, subject to this Constitution, have full power to regulate and decide its internal business, and the concerned House shall have the exclusive right to decide whether or not any of its proceedings is regular or irregular. No question shall be raised in any court in this behalf.\n",
            "\n",
            "(3) No comment shall be made about the good faith concerning any proceeding of any House of the Federal Parliament, and no publication and broadcasting of any kind shall be made about anything said by any member, intentionally distorting or misinterpreting the meaning of the speech.\n",
            "\n",
            "(4) The provisions of clauses (1) and (3) shall also apply to other persons who are entitled to participate in the meetings of the House than the members of the Federal Parliament.\n",
            "\n",
            "(5) No proceedings shall be initiated in any court against any person in respect of the publication, under the authority granted by any House of the Federal Parliament, of any document, report, vote or proceeding. Explanation: For the purposes of this clause and clauses (1), (2), (3) and (4), \"House\" means the House of Representatives or the National Assembly, and includes a joint sitting or committee or joint committee of the Federal Parliament.\n",
            "\n",
            "(6) No member of the Federal Parliament shall be arrested during the period from the issuance of a notice summoning the session to its prorogation. Provided that nothing in this clause shall be deemed to bar the arresting under the Federal law of any member on a criminal charge. If any member is so arrested, the authority making such arrest shall forthwith give information thereof to the person presiding over the concerned House.\n",
            "\n",
            "(7) Any breach of the privileges shall be deemed to constitute contempt of the Federal Parliament, and the concerned House shall have the exclusive right to decide whether any privilege has been breached.\n",
            "(2) Each House of the Federal Parliament shall, subject to this Constitution, have full power to regulate and decide its internal business, and the concerned House shall have the exclusive right to decide whether or not any of its proceedings is regular or irregular. No question shall be raised in any court in this behalf.\n",
            "\n",
            "(3) No comment shall be made about the good faith concerning any proceeding of any House of the Federal Parliament, and no publication and broadcasting of any kind shall be made about anything said by any member, intentionally distorting or misinterpreting the meaning of the speech.\n",
            "\n",
            "(4) The provisions of clauses (1) and (3) shall also apply to other persons who are entitled to participate in the meetings of the House than the members of the Federal Parliament.\n",
            "\n",
            "(5) No proceedings shall be initiated in any court against any person in respect of the publication, under the authority granted by any House of the Federal Parliament, of any document, report, vote or proceeding. Explanation: For the purposes of this clause and clauses (1), (2), (3) and (4), \"House\" means the House of Representatives or the National Assembly, and includes a joint sitting or committee or joint committee of the Federal Parliament.\n",
            "\n",
            "(6) No member of the Federal Parliament shall be arrested during the period from the issuance of a notice summoning the session to its prorogation. Provided that nothing in this clause shall be deemed to bar the arresting under the Federal law of any member on a criminal charge. If any member is so arrested, the authority making such arrest shall forthwith give information thereof to the person presiding over the concerned House.\n",
            "\n",
            "(7) Any breach of the privileges shall be deemed to constitute contempt of the Federal Parliament, and the concerned House shall have the exclusive right to decide whether any privilege has been breached.\n",
            "(2) Each House of the Federal Parliament shall, subject to this Constitution, have full power to regulate and decide its internal business, and the concerned House shall have the exclusive right to decide whether or not any of its proceedings is regular or irregular. No question shall be raised in any court in this behalf.\n",
            "\n",
            "(3) No comment shall be made about the good faith concerning any proceeding of any House of the Federal Parliament, and no publication and broadcasting of any kind shall be made about anything said by any member, intentionally distorting or misinterpreting the meaning of the speech.\n",
            "\n",
            "(4) The provisions of clauses (1) and (3) shall also apply to other persons who are entitled to participate in the meetings of the House than the members of the Federal Parliament.\n",
            "\n",
            "(5) No proceedings shall be initiated in any court against any person in respect of the publication, under the authority granted by any House of the Federal Parliament, of any document, report, vote or proceeding. Explanation: For the purposes of this clause and clauses (1), (2), (3) and (4), \"House\" means the House of Representatives or the National Assembly, and includes a joint sitting or committee or joint committee of the Federal Parliament.\n",
            "\n",
            "(6) No member of the Federal Parliament shall be arrested during the period from the issuance of a notice summoning the session to its prorogation. Provided that nothing in this clause shall be deemed to bar the arresting under the Federal law of any member on a criminal charge. If any member is so arrested, the authority making such arrest shall forthwith give information thereof to the person presiding over the concerned House.\n",
            "\n",
            "(7) Any breach of the privileges shall be deemed to constitute contempt of the Federal Parliament, and the concerned House shall have the exclusive right to decide whether any privilege has been breached.\n",
            "(2) Each House of the Federal Parliament shall, subject to this Constitution, have full power to regulate and decide its internal business, and the concerned House shall have the exclusive right to decide whether or not any of its proceedings is regular or irregular. No question shall be raised in any court in this behalf.\n",
            "\n",
            "(3) No comment shall be made about the good faith concerning any proceeding of any House of the Federal Parliament, and no publication and broadcasting of any kind shall be made about anything said by any member, intentionally distorting or misinterpreting the meaning of the speech.\n",
            "\n",
            "(4) The provisions of clauses (1) and (3) shall also apply to other persons who are entitled to participate in the meetings of the House than the members of the Federal Parliament.\n",
            "\n",
            "(5) No proceedings shall be initiated in any court against any person in respect of the publication, under the authority granted by any House of the Federal Parliament, of any document, report, vote or proceeding. Explanation: For the purposes of this clause and clauses (1), (2), (3) and (4), \"House\" means the House of Representatives or the National Assembly, and includes a joint sitting or committee or joint committee of the Federal Parliament.\n",
            "\n",
            "(6) No member of the Federal Parliament shall be arrested during the period from the issuance of a notice summoning the session to its prorogation. Provided that nothing in this clause shall be deemed to bar the arresting under the Federal law of any member on a criminal charge. If any member is so arrested, the authority making such arrest shall forthwith give information thereof to the person presiding over the concerned House.\n",
            "\n",
            "(7) Any breach of the privileges shall be deemed to constitute contempt of the Federal Parliament, and the concerned House shall have the exclusive right to decide whether any privilege has been breached.\u001b[0m\n",
            "Thought:"
          ]
        },
        {
          "ename": "RateLimitError",
          "evalue": "Error code: 429 - {'error': {'message': 'Rate limit reached for model `llama3-70b-8192` in organization `org_01j15cnh3devrvfjas213t26d0` on tokens per minute (TPM): Limit 6000, Used 4722, Requested 7630. Please try again in 1m3.512s. Visit https://console.groq.com/docs/rate-limits for more information.', 'type': 'tokens', 'code': 'rate_limit_exceeded'}}",
          "output_type": "error",
          "traceback": [
            "\u001b[0;31m---------------------------------------------------------------------------\u001b[0m",
            "\u001b[0;31mRateLimitError\u001b[0m                            Traceback (most recent call last)",
            "\u001b[0;32m<ipython-input-38-0d2fda30823e>\u001b[0m in \u001b[0;36m<cell line: 21>\u001b[0;34m()\u001b[0m\n\u001b[1;32m     21\u001b[0m \u001b[0;32mwhile\u001b[0m \u001b[0;32mTrue\u001b[0m\u001b[0;34m:\u001b[0m\u001b[0;34m\u001b[0m\u001b[0;34m\u001b[0m\u001b[0m\n\u001b[1;32m     22\u001b[0m     \u001b[0muser_query\u001b[0m \u001b[0;34m=\u001b[0m \u001b[0minput\u001b[0m\u001b[0;34m(\u001b[0m\u001b[0;34m\"Ask a question about the Constitution: \"\u001b[0m\u001b[0;34m)\u001b[0m\u001b[0;34m\u001b[0m\u001b[0;34m\u001b[0m\u001b[0m\n\u001b[0;32m---> 23\u001b[0;31m     \u001b[0mresponse\u001b[0m \u001b[0;34m=\u001b[0m \u001b[0magent\u001b[0m\u001b[0;34m.\u001b[0m\u001b[0mrun\u001b[0m\u001b[0;34m(\u001b[0m\u001b[0muser_query\u001b[0m\u001b[0;34m)\u001b[0m\u001b[0;34m\u001b[0m\u001b[0;34m\u001b[0m\u001b[0m\n\u001b[0m\u001b[1;32m     24\u001b[0m     \u001b[0mprint\u001b[0m\u001b[0;34m(\u001b[0m\u001b[0mresponse\u001b[0m\u001b[0;34m)\u001b[0m\u001b[0;34m\u001b[0m\u001b[0;34m\u001b[0m\u001b[0m\n",
            "\u001b[0;32m/usr/local/lib/python3.10/dist-packages/langchain_core/_api/deprecation.py\u001b[0m in \u001b[0;36mwarning_emitting_wrapper\u001b[0;34m(*args, **kwargs)\u001b[0m\n\u001b[1;32m    146\u001b[0m                 \u001b[0mwarned\u001b[0m \u001b[0;34m=\u001b[0m \u001b[0;32mTrue\u001b[0m\u001b[0;34m\u001b[0m\u001b[0;34m\u001b[0m\u001b[0m\n\u001b[1;32m    147\u001b[0m                 \u001b[0memit_warning\u001b[0m\u001b[0;34m(\u001b[0m\u001b[0;34m)\u001b[0m\u001b[0;34m\u001b[0m\u001b[0;34m\u001b[0m\u001b[0m\n\u001b[0;32m--> 148\u001b[0;31m             \u001b[0;32mreturn\u001b[0m \u001b[0mwrapped\u001b[0m\u001b[0;34m(\u001b[0m\u001b[0;34m*\u001b[0m\u001b[0margs\u001b[0m\u001b[0;34m,\u001b[0m \u001b[0;34m**\u001b[0m\u001b[0mkwargs\u001b[0m\u001b[0;34m)\u001b[0m\u001b[0;34m\u001b[0m\u001b[0;34m\u001b[0m\u001b[0m\n\u001b[0m\u001b[1;32m    149\u001b[0m \u001b[0;34m\u001b[0m\u001b[0m\n\u001b[1;32m    150\u001b[0m         \u001b[0;32masync\u001b[0m \u001b[0;32mdef\u001b[0m \u001b[0mawarning_emitting_wrapper\u001b[0m\u001b[0;34m(\u001b[0m\u001b[0;34m*\u001b[0m\u001b[0margs\u001b[0m\u001b[0;34m:\u001b[0m \u001b[0mAny\u001b[0m\u001b[0;34m,\u001b[0m \u001b[0;34m**\u001b[0m\u001b[0mkwargs\u001b[0m\u001b[0;34m:\u001b[0m \u001b[0mAny\u001b[0m\u001b[0;34m)\u001b[0m \u001b[0;34m->\u001b[0m \u001b[0mAny\u001b[0m\u001b[0;34m:\u001b[0m\u001b[0;34m\u001b[0m\u001b[0;34m\u001b[0m\u001b[0m\n",
            "\u001b[0;32m/usr/local/lib/python3.10/dist-packages/langchain/chains/base.py\u001b[0m in \u001b[0;36mrun\u001b[0;34m(self, callbacks, tags, metadata, *args, **kwargs)\u001b[0m\n\u001b[1;32m    593\u001b[0m             \u001b[0;32mif\u001b[0m \u001b[0mlen\u001b[0m\u001b[0;34m(\u001b[0m\u001b[0margs\u001b[0m\u001b[0;34m)\u001b[0m \u001b[0;34m!=\u001b[0m \u001b[0;36m1\u001b[0m\u001b[0;34m:\u001b[0m\u001b[0;34m\u001b[0m\u001b[0;34m\u001b[0m\u001b[0m\n\u001b[1;32m    594\u001b[0m                 \u001b[0;32mraise\u001b[0m \u001b[0mValueError\u001b[0m\u001b[0;34m(\u001b[0m\u001b[0;34m\"`run` supports only one positional argument.\"\u001b[0m\u001b[0;34m)\u001b[0m\u001b[0;34m\u001b[0m\u001b[0;34m\u001b[0m\u001b[0m\n\u001b[0;32m--> 595\u001b[0;31m             return self(args[0], callbacks=callbacks, tags=tags, metadata=metadata)[\n\u001b[0m\u001b[1;32m    596\u001b[0m                 \u001b[0m_output_key\u001b[0m\u001b[0;34m\u001b[0m\u001b[0;34m\u001b[0m\u001b[0m\n\u001b[1;32m    597\u001b[0m             ]\n",
            "\u001b[0;32m/usr/local/lib/python3.10/dist-packages/langchain_core/_api/deprecation.py\u001b[0m in \u001b[0;36mwarning_emitting_wrapper\u001b[0;34m(*args, **kwargs)\u001b[0m\n\u001b[1;32m    146\u001b[0m                 \u001b[0mwarned\u001b[0m \u001b[0;34m=\u001b[0m \u001b[0;32mTrue\u001b[0m\u001b[0;34m\u001b[0m\u001b[0;34m\u001b[0m\u001b[0m\n\u001b[1;32m    147\u001b[0m                 \u001b[0memit_warning\u001b[0m\u001b[0;34m(\u001b[0m\u001b[0;34m)\u001b[0m\u001b[0;34m\u001b[0m\u001b[0;34m\u001b[0m\u001b[0m\n\u001b[0;32m--> 148\u001b[0;31m             \u001b[0;32mreturn\u001b[0m \u001b[0mwrapped\u001b[0m\u001b[0;34m(\u001b[0m\u001b[0;34m*\u001b[0m\u001b[0margs\u001b[0m\u001b[0;34m,\u001b[0m \u001b[0;34m**\u001b[0m\u001b[0mkwargs\u001b[0m\u001b[0;34m)\u001b[0m\u001b[0;34m\u001b[0m\u001b[0;34m\u001b[0m\u001b[0m\n\u001b[0m\u001b[1;32m    149\u001b[0m \u001b[0;34m\u001b[0m\u001b[0m\n\u001b[1;32m    150\u001b[0m         \u001b[0;32masync\u001b[0m \u001b[0;32mdef\u001b[0m \u001b[0mawarning_emitting_wrapper\u001b[0m\u001b[0;34m(\u001b[0m\u001b[0;34m*\u001b[0m\u001b[0margs\u001b[0m\u001b[0;34m:\u001b[0m \u001b[0mAny\u001b[0m\u001b[0;34m,\u001b[0m \u001b[0;34m**\u001b[0m\u001b[0mkwargs\u001b[0m\u001b[0;34m:\u001b[0m \u001b[0mAny\u001b[0m\u001b[0;34m)\u001b[0m \u001b[0;34m->\u001b[0m \u001b[0mAny\u001b[0m\u001b[0;34m:\u001b[0m\u001b[0;34m\u001b[0m\u001b[0;34m\u001b[0m\u001b[0m\n",
            "\u001b[0;32m/usr/local/lib/python3.10/dist-packages/langchain/chains/base.py\u001b[0m in \u001b[0;36m__call__\u001b[0;34m(self, inputs, return_only_outputs, callbacks, tags, metadata, run_name, include_run_info)\u001b[0m\n\u001b[1;32m    376\u001b[0m         }\n\u001b[1;32m    377\u001b[0m \u001b[0;34m\u001b[0m\u001b[0m\n\u001b[0;32m--> 378\u001b[0;31m         return self.invoke(\n\u001b[0m\u001b[1;32m    379\u001b[0m             \u001b[0minputs\u001b[0m\u001b[0;34m,\u001b[0m\u001b[0;34m\u001b[0m\u001b[0;34m\u001b[0m\u001b[0m\n\u001b[1;32m    380\u001b[0m             \u001b[0mcast\u001b[0m\u001b[0;34m(\u001b[0m\u001b[0mRunnableConfig\u001b[0m\u001b[0;34m,\u001b[0m \u001b[0;34m{\u001b[0m\u001b[0mk\u001b[0m\u001b[0;34m:\u001b[0m \u001b[0mv\u001b[0m \u001b[0;32mfor\u001b[0m \u001b[0mk\u001b[0m\u001b[0;34m,\u001b[0m \u001b[0mv\u001b[0m \u001b[0;32min\u001b[0m \u001b[0mconfig\u001b[0m\u001b[0;34m.\u001b[0m\u001b[0mitems\u001b[0m\u001b[0;34m(\u001b[0m\u001b[0;34m)\u001b[0m \u001b[0;32mif\u001b[0m \u001b[0mv\u001b[0m \u001b[0;32mis\u001b[0m \u001b[0;32mnot\u001b[0m \u001b[0;32mNone\u001b[0m\u001b[0;34m}\u001b[0m\u001b[0;34m)\u001b[0m\u001b[0;34m,\u001b[0m\u001b[0;34m\u001b[0m\u001b[0;34m\u001b[0m\u001b[0m\n",
            "\u001b[0;32m/usr/local/lib/python3.10/dist-packages/langchain/chains/base.py\u001b[0m in \u001b[0;36minvoke\u001b[0;34m(self, input, config, **kwargs)\u001b[0m\n\u001b[1;32m    161\u001b[0m         \u001b[0;32mexcept\u001b[0m \u001b[0mBaseException\u001b[0m \u001b[0;32mas\u001b[0m \u001b[0me\u001b[0m\u001b[0;34m:\u001b[0m\u001b[0;34m\u001b[0m\u001b[0;34m\u001b[0m\u001b[0m\n\u001b[1;32m    162\u001b[0m             \u001b[0mrun_manager\u001b[0m\u001b[0;34m.\u001b[0m\u001b[0mon_chain_error\u001b[0m\u001b[0;34m(\u001b[0m\u001b[0me\u001b[0m\u001b[0;34m)\u001b[0m\u001b[0;34m\u001b[0m\u001b[0;34m\u001b[0m\u001b[0m\n\u001b[0;32m--> 163\u001b[0;31m             \u001b[0;32mraise\u001b[0m \u001b[0me\u001b[0m\u001b[0;34m\u001b[0m\u001b[0;34m\u001b[0m\u001b[0m\n\u001b[0m\u001b[1;32m    164\u001b[0m         \u001b[0mrun_manager\u001b[0m\u001b[0;34m.\u001b[0m\u001b[0mon_chain_end\u001b[0m\u001b[0;34m(\u001b[0m\u001b[0moutputs\u001b[0m\u001b[0;34m)\u001b[0m\u001b[0;34m\u001b[0m\u001b[0;34m\u001b[0m\u001b[0m\n\u001b[1;32m    165\u001b[0m \u001b[0;34m\u001b[0m\u001b[0m\n",
            "\u001b[0;32m/usr/local/lib/python3.10/dist-packages/langchain/chains/base.py\u001b[0m in \u001b[0;36minvoke\u001b[0;34m(self, input, config, **kwargs)\u001b[0m\n\u001b[1;32m    151\u001b[0m             \u001b[0mself\u001b[0m\u001b[0;34m.\u001b[0m\u001b[0m_validate_inputs\u001b[0m\u001b[0;34m(\u001b[0m\u001b[0minputs\u001b[0m\u001b[0;34m)\u001b[0m\u001b[0;34m\u001b[0m\u001b[0;34m\u001b[0m\u001b[0m\n\u001b[1;32m    152\u001b[0m             outputs = (\n\u001b[0;32m--> 153\u001b[0;31m                 \u001b[0mself\u001b[0m\u001b[0;34m.\u001b[0m\u001b[0m_call\u001b[0m\u001b[0;34m(\u001b[0m\u001b[0minputs\u001b[0m\u001b[0;34m,\u001b[0m \u001b[0mrun_manager\u001b[0m\u001b[0;34m=\u001b[0m\u001b[0mrun_manager\u001b[0m\u001b[0;34m)\u001b[0m\u001b[0;34m\u001b[0m\u001b[0;34m\u001b[0m\u001b[0m\n\u001b[0m\u001b[1;32m    154\u001b[0m                 \u001b[0;32mif\u001b[0m \u001b[0mnew_arg_supported\u001b[0m\u001b[0;34m\u001b[0m\u001b[0;34m\u001b[0m\u001b[0m\n\u001b[1;32m    155\u001b[0m                 \u001b[0;32melse\u001b[0m \u001b[0mself\u001b[0m\u001b[0;34m.\u001b[0m\u001b[0m_call\u001b[0m\u001b[0;34m(\u001b[0m\u001b[0minputs\u001b[0m\u001b[0;34m)\u001b[0m\u001b[0;34m\u001b[0m\u001b[0;34m\u001b[0m\u001b[0m\n",
            "\u001b[0;32m/usr/local/lib/python3.10/dist-packages/langchain/agents/agent.py\u001b[0m in \u001b[0;36m_call\u001b[0;34m(self, inputs, run_manager)\u001b[0m\n\u001b[1;32m   1430\u001b[0m         \u001b[0;31m# We now enter the agent loop (until it returns something).\u001b[0m\u001b[0;34m\u001b[0m\u001b[0;34m\u001b[0m\u001b[0m\n\u001b[1;32m   1431\u001b[0m         \u001b[0;32mwhile\u001b[0m \u001b[0mself\u001b[0m\u001b[0;34m.\u001b[0m\u001b[0m_should_continue\u001b[0m\u001b[0;34m(\u001b[0m\u001b[0miterations\u001b[0m\u001b[0;34m,\u001b[0m \u001b[0mtime_elapsed\u001b[0m\u001b[0;34m)\u001b[0m\u001b[0;34m:\u001b[0m\u001b[0;34m\u001b[0m\u001b[0;34m\u001b[0m\u001b[0m\n\u001b[0;32m-> 1432\u001b[0;31m             next_step_output = self._take_next_step(\n\u001b[0m\u001b[1;32m   1433\u001b[0m                 \u001b[0mname_to_tool_map\u001b[0m\u001b[0;34m,\u001b[0m\u001b[0;34m\u001b[0m\u001b[0;34m\u001b[0m\u001b[0m\n\u001b[1;32m   1434\u001b[0m                 \u001b[0mcolor_mapping\u001b[0m\u001b[0;34m,\u001b[0m\u001b[0;34m\u001b[0m\u001b[0;34m\u001b[0m\u001b[0m\n",
            "\u001b[0;32m/usr/local/lib/python3.10/dist-packages/langchain/agents/agent.py\u001b[0m in \u001b[0;36m_take_next_step\u001b[0;34m(self, name_to_tool_map, color_mapping, inputs, intermediate_steps, run_manager)\u001b[0m\n\u001b[1;32m   1136\u001b[0m     ) -> Union[AgentFinish, List[Tuple[AgentAction, str]]]:\n\u001b[1;32m   1137\u001b[0m         return self._consume_next_step(\n\u001b[0;32m-> 1138\u001b[0;31m             [\n\u001b[0m\u001b[1;32m   1139\u001b[0m                 \u001b[0ma\u001b[0m\u001b[0;34m\u001b[0m\u001b[0;34m\u001b[0m\u001b[0m\n\u001b[1;32m   1140\u001b[0m                 for a in self._iter_next_step(\n",
            "\u001b[0;32m/usr/local/lib/python3.10/dist-packages/langchain/agents/agent.py\u001b[0m in \u001b[0;36m<listcomp>\u001b[0;34m(.0)\u001b[0m\n\u001b[1;32m   1136\u001b[0m     ) -> Union[AgentFinish, List[Tuple[AgentAction, str]]]:\n\u001b[1;32m   1137\u001b[0m         return self._consume_next_step(\n\u001b[0;32m-> 1138\u001b[0;31m             [\n\u001b[0m\u001b[1;32m   1139\u001b[0m                 \u001b[0ma\u001b[0m\u001b[0;34m\u001b[0m\u001b[0;34m\u001b[0m\u001b[0m\n\u001b[1;32m   1140\u001b[0m                 for a in self._iter_next_step(\n",
            "\u001b[0;32m/usr/local/lib/python3.10/dist-packages/langchain/agents/agent.py\u001b[0m in \u001b[0;36m_iter_next_step\u001b[0;34m(self, name_to_tool_map, color_mapping, inputs, intermediate_steps, run_manager)\u001b[0m\n\u001b[1;32m   1164\u001b[0m \u001b[0;34m\u001b[0m\u001b[0m\n\u001b[1;32m   1165\u001b[0m             \u001b[0;31m# Call the LLM to see what to do.\u001b[0m\u001b[0;34m\u001b[0m\u001b[0;34m\u001b[0m\u001b[0m\n\u001b[0;32m-> 1166\u001b[0;31m             output = self.agent.plan(\n\u001b[0m\u001b[1;32m   1167\u001b[0m                 \u001b[0mintermediate_steps\u001b[0m\u001b[0;34m,\u001b[0m\u001b[0;34m\u001b[0m\u001b[0;34m\u001b[0m\u001b[0m\n\u001b[1;32m   1168\u001b[0m                 \u001b[0mcallbacks\u001b[0m\u001b[0;34m=\u001b[0m\u001b[0mrun_manager\u001b[0m\u001b[0;34m.\u001b[0m\u001b[0mget_child\u001b[0m\u001b[0;34m(\u001b[0m\u001b[0;34m)\u001b[0m \u001b[0;32mif\u001b[0m \u001b[0mrun_manager\u001b[0m \u001b[0;32melse\u001b[0m \u001b[0;32mNone\u001b[0m\u001b[0;34m,\u001b[0m\u001b[0;34m\u001b[0m\u001b[0;34m\u001b[0m\u001b[0m\n",
            "\u001b[0;32m/usr/local/lib/python3.10/dist-packages/langchain/agents/agent.py\u001b[0m in \u001b[0;36mplan\u001b[0;34m(self, intermediate_steps, callbacks, **kwargs)\u001b[0m\n\u001b[1;32m    728\u001b[0m         \"\"\"\n\u001b[1;32m    729\u001b[0m         \u001b[0mfull_inputs\u001b[0m \u001b[0;34m=\u001b[0m \u001b[0mself\u001b[0m\u001b[0;34m.\u001b[0m\u001b[0mget_full_inputs\u001b[0m\u001b[0;34m(\u001b[0m\u001b[0mintermediate_steps\u001b[0m\u001b[0;34m,\u001b[0m \u001b[0;34m**\u001b[0m\u001b[0mkwargs\u001b[0m\u001b[0;34m)\u001b[0m\u001b[0;34m\u001b[0m\u001b[0;34m\u001b[0m\u001b[0m\n\u001b[0;32m--> 730\u001b[0;31m         \u001b[0mfull_output\u001b[0m \u001b[0;34m=\u001b[0m \u001b[0mself\u001b[0m\u001b[0;34m.\u001b[0m\u001b[0mllm_chain\u001b[0m\u001b[0;34m.\u001b[0m\u001b[0mpredict\u001b[0m\u001b[0;34m(\u001b[0m\u001b[0mcallbacks\u001b[0m\u001b[0;34m=\u001b[0m\u001b[0mcallbacks\u001b[0m\u001b[0;34m,\u001b[0m \u001b[0;34m**\u001b[0m\u001b[0mfull_inputs\u001b[0m\u001b[0;34m)\u001b[0m\u001b[0;34m\u001b[0m\u001b[0;34m\u001b[0m\u001b[0m\n\u001b[0m\u001b[1;32m    731\u001b[0m         \u001b[0;32mreturn\u001b[0m \u001b[0mself\u001b[0m\u001b[0;34m.\u001b[0m\u001b[0moutput_parser\u001b[0m\u001b[0;34m.\u001b[0m\u001b[0mparse\u001b[0m\u001b[0;34m(\u001b[0m\u001b[0mfull_output\u001b[0m\u001b[0;34m)\u001b[0m\u001b[0;34m\u001b[0m\u001b[0;34m\u001b[0m\u001b[0m\n\u001b[1;32m    732\u001b[0m \u001b[0;34m\u001b[0m\u001b[0m\n",
            "\u001b[0;32m/usr/local/lib/python3.10/dist-packages/langchain/chains/llm.py\u001b[0m in \u001b[0;36mpredict\u001b[0;34m(self, callbacks, **kwargs)\u001b[0m\n\u001b[1;32m    314\u001b[0m                 \u001b[0mcompletion\u001b[0m \u001b[0;34m=\u001b[0m \u001b[0mllm\u001b[0m\u001b[0;34m.\u001b[0m\u001b[0mpredict\u001b[0m\u001b[0;34m(\u001b[0m\u001b[0madjective\u001b[0m\u001b[0;34m=\u001b[0m\u001b[0;34m\"funny\"\u001b[0m\u001b[0;34m)\u001b[0m\u001b[0;34m\u001b[0m\u001b[0;34m\u001b[0m\u001b[0m\n\u001b[1;32m    315\u001b[0m         \"\"\"\n\u001b[0;32m--> 316\u001b[0;31m         \u001b[0;32mreturn\u001b[0m \u001b[0mself\u001b[0m\u001b[0;34m(\u001b[0m\u001b[0mkwargs\u001b[0m\u001b[0;34m,\u001b[0m \u001b[0mcallbacks\u001b[0m\u001b[0;34m=\u001b[0m\u001b[0mcallbacks\u001b[0m\u001b[0;34m)\u001b[0m\u001b[0;34m[\u001b[0m\u001b[0mself\u001b[0m\u001b[0;34m.\u001b[0m\u001b[0moutput_key\u001b[0m\u001b[0;34m]\u001b[0m\u001b[0;34m\u001b[0m\u001b[0;34m\u001b[0m\u001b[0m\n\u001b[0m\u001b[1;32m    317\u001b[0m \u001b[0;34m\u001b[0m\u001b[0m\n\u001b[1;32m    318\u001b[0m     \u001b[0;32masync\u001b[0m \u001b[0;32mdef\u001b[0m \u001b[0mapredict\u001b[0m\u001b[0;34m(\u001b[0m\u001b[0mself\u001b[0m\u001b[0;34m,\u001b[0m \u001b[0mcallbacks\u001b[0m\u001b[0;34m:\u001b[0m \u001b[0mCallbacks\u001b[0m \u001b[0;34m=\u001b[0m \u001b[0;32mNone\u001b[0m\u001b[0;34m,\u001b[0m \u001b[0;34m**\u001b[0m\u001b[0mkwargs\u001b[0m\u001b[0;34m:\u001b[0m \u001b[0mAny\u001b[0m\u001b[0;34m)\u001b[0m \u001b[0;34m->\u001b[0m \u001b[0mstr\u001b[0m\u001b[0;34m:\u001b[0m\u001b[0;34m\u001b[0m\u001b[0;34m\u001b[0m\u001b[0m\n",
            "\u001b[0;32m/usr/local/lib/python3.10/dist-packages/langchain_core/_api/deprecation.py\u001b[0m in \u001b[0;36mwarning_emitting_wrapper\u001b[0;34m(*args, **kwargs)\u001b[0m\n\u001b[1;32m    146\u001b[0m                 \u001b[0mwarned\u001b[0m \u001b[0;34m=\u001b[0m \u001b[0;32mTrue\u001b[0m\u001b[0;34m\u001b[0m\u001b[0;34m\u001b[0m\u001b[0m\n\u001b[1;32m    147\u001b[0m                 \u001b[0memit_warning\u001b[0m\u001b[0;34m(\u001b[0m\u001b[0;34m)\u001b[0m\u001b[0;34m\u001b[0m\u001b[0;34m\u001b[0m\u001b[0m\n\u001b[0;32m--> 148\u001b[0;31m             \u001b[0;32mreturn\u001b[0m \u001b[0mwrapped\u001b[0m\u001b[0;34m(\u001b[0m\u001b[0;34m*\u001b[0m\u001b[0margs\u001b[0m\u001b[0;34m,\u001b[0m \u001b[0;34m**\u001b[0m\u001b[0mkwargs\u001b[0m\u001b[0;34m)\u001b[0m\u001b[0;34m\u001b[0m\u001b[0;34m\u001b[0m\u001b[0m\n\u001b[0m\u001b[1;32m    149\u001b[0m \u001b[0;34m\u001b[0m\u001b[0m\n\u001b[1;32m    150\u001b[0m         \u001b[0;32masync\u001b[0m \u001b[0;32mdef\u001b[0m \u001b[0mawarning_emitting_wrapper\u001b[0m\u001b[0;34m(\u001b[0m\u001b[0;34m*\u001b[0m\u001b[0margs\u001b[0m\u001b[0;34m:\u001b[0m \u001b[0mAny\u001b[0m\u001b[0;34m,\u001b[0m \u001b[0;34m**\u001b[0m\u001b[0mkwargs\u001b[0m\u001b[0;34m:\u001b[0m \u001b[0mAny\u001b[0m\u001b[0;34m)\u001b[0m \u001b[0;34m->\u001b[0m \u001b[0mAny\u001b[0m\u001b[0;34m:\u001b[0m\u001b[0;34m\u001b[0m\u001b[0;34m\u001b[0m\u001b[0m\n",
            "\u001b[0;32m/usr/local/lib/python3.10/dist-packages/langchain/chains/base.py\u001b[0m in \u001b[0;36m__call__\u001b[0;34m(self, inputs, return_only_outputs, callbacks, tags, metadata, run_name, include_run_info)\u001b[0m\n\u001b[1;32m    376\u001b[0m         }\n\u001b[1;32m    377\u001b[0m \u001b[0;34m\u001b[0m\u001b[0m\n\u001b[0;32m--> 378\u001b[0;31m         return self.invoke(\n\u001b[0m\u001b[1;32m    379\u001b[0m             \u001b[0minputs\u001b[0m\u001b[0;34m,\u001b[0m\u001b[0;34m\u001b[0m\u001b[0;34m\u001b[0m\u001b[0m\n\u001b[1;32m    380\u001b[0m             \u001b[0mcast\u001b[0m\u001b[0;34m(\u001b[0m\u001b[0mRunnableConfig\u001b[0m\u001b[0;34m,\u001b[0m \u001b[0;34m{\u001b[0m\u001b[0mk\u001b[0m\u001b[0;34m:\u001b[0m \u001b[0mv\u001b[0m \u001b[0;32mfor\u001b[0m \u001b[0mk\u001b[0m\u001b[0;34m,\u001b[0m \u001b[0mv\u001b[0m \u001b[0;32min\u001b[0m \u001b[0mconfig\u001b[0m\u001b[0;34m.\u001b[0m\u001b[0mitems\u001b[0m\u001b[0;34m(\u001b[0m\u001b[0;34m)\u001b[0m \u001b[0;32mif\u001b[0m \u001b[0mv\u001b[0m \u001b[0;32mis\u001b[0m \u001b[0;32mnot\u001b[0m \u001b[0;32mNone\u001b[0m\u001b[0;34m}\u001b[0m\u001b[0;34m)\u001b[0m\u001b[0;34m,\u001b[0m\u001b[0;34m\u001b[0m\u001b[0;34m\u001b[0m\u001b[0m\n",
            "\u001b[0;32m/usr/local/lib/python3.10/dist-packages/langchain/chains/base.py\u001b[0m in \u001b[0;36minvoke\u001b[0;34m(self, input, config, **kwargs)\u001b[0m\n\u001b[1;32m    161\u001b[0m         \u001b[0;32mexcept\u001b[0m \u001b[0mBaseException\u001b[0m \u001b[0;32mas\u001b[0m \u001b[0me\u001b[0m\u001b[0;34m:\u001b[0m\u001b[0;34m\u001b[0m\u001b[0;34m\u001b[0m\u001b[0m\n\u001b[1;32m    162\u001b[0m             \u001b[0mrun_manager\u001b[0m\u001b[0;34m.\u001b[0m\u001b[0mon_chain_error\u001b[0m\u001b[0;34m(\u001b[0m\u001b[0me\u001b[0m\u001b[0;34m)\u001b[0m\u001b[0;34m\u001b[0m\u001b[0;34m\u001b[0m\u001b[0m\n\u001b[0;32m--> 163\u001b[0;31m             \u001b[0;32mraise\u001b[0m \u001b[0me\u001b[0m\u001b[0;34m\u001b[0m\u001b[0;34m\u001b[0m\u001b[0m\n\u001b[0m\u001b[1;32m    164\u001b[0m         \u001b[0mrun_manager\u001b[0m\u001b[0;34m.\u001b[0m\u001b[0mon_chain_end\u001b[0m\u001b[0;34m(\u001b[0m\u001b[0moutputs\u001b[0m\u001b[0;34m)\u001b[0m\u001b[0;34m\u001b[0m\u001b[0;34m\u001b[0m\u001b[0m\n\u001b[1;32m    165\u001b[0m \u001b[0;34m\u001b[0m\u001b[0m\n",
            "\u001b[0;32m/usr/local/lib/python3.10/dist-packages/langchain/chains/base.py\u001b[0m in \u001b[0;36minvoke\u001b[0;34m(self, input, config, **kwargs)\u001b[0m\n\u001b[1;32m    151\u001b[0m             \u001b[0mself\u001b[0m\u001b[0;34m.\u001b[0m\u001b[0m_validate_inputs\u001b[0m\u001b[0;34m(\u001b[0m\u001b[0minputs\u001b[0m\u001b[0;34m)\u001b[0m\u001b[0;34m\u001b[0m\u001b[0;34m\u001b[0m\u001b[0m\n\u001b[1;32m    152\u001b[0m             outputs = (\n\u001b[0;32m--> 153\u001b[0;31m                 \u001b[0mself\u001b[0m\u001b[0;34m.\u001b[0m\u001b[0m_call\u001b[0m\u001b[0;34m(\u001b[0m\u001b[0minputs\u001b[0m\u001b[0;34m,\u001b[0m \u001b[0mrun_manager\u001b[0m\u001b[0;34m=\u001b[0m\u001b[0mrun_manager\u001b[0m\u001b[0;34m)\u001b[0m\u001b[0;34m\u001b[0m\u001b[0;34m\u001b[0m\u001b[0m\n\u001b[0m\u001b[1;32m    154\u001b[0m                 \u001b[0;32mif\u001b[0m \u001b[0mnew_arg_supported\u001b[0m\u001b[0;34m\u001b[0m\u001b[0;34m\u001b[0m\u001b[0m\n\u001b[1;32m    155\u001b[0m                 \u001b[0;32melse\u001b[0m \u001b[0mself\u001b[0m\u001b[0;34m.\u001b[0m\u001b[0m_call\u001b[0m\u001b[0;34m(\u001b[0m\u001b[0minputs\u001b[0m\u001b[0;34m)\u001b[0m\u001b[0;34m\u001b[0m\u001b[0;34m\u001b[0m\u001b[0m\n",
            "\u001b[0;32m/usr/local/lib/python3.10/dist-packages/langchain/chains/llm.py\u001b[0m in \u001b[0;36m_call\u001b[0;34m(self, inputs, run_manager)\u001b[0m\n\u001b[1;32m    124\u001b[0m         \u001b[0mrun_manager\u001b[0m\u001b[0;34m:\u001b[0m \u001b[0mOptional\u001b[0m\u001b[0;34m[\u001b[0m\u001b[0mCallbackManagerForChainRun\u001b[0m\u001b[0;34m]\u001b[0m \u001b[0;34m=\u001b[0m \u001b[0;32mNone\u001b[0m\u001b[0;34m,\u001b[0m\u001b[0;34m\u001b[0m\u001b[0;34m\u001b[0m\u001b[0m\n\u001b[1;32m    125\u001b[0m     ) -> Dict[str, str]:\n\u001b[0;32m--> 126\u001b[0;31m         \u001b[0mresponse\u001b[0m \u001b[0;34m=\u001b[0m \u001b[0mself\u001b[0m\u001b[0;34m.\u001b[0m\u001b[0mgenerate\u001b[0m\u001b[0;34m(\u001b[0m\u001b[0;34m[\u001b[0m\u001b[0minputs\u001b[0m\u001b[0;34m]\u001b[0m\u001b[0;34m,\u001b[0m \u001b[0mrun_manager\u001b[0m\u001b[0;34m=\u001b[0m\u001b[0mrun_manager\u001b[0m\u001b[0;34m)\u001b[0m\u001b[0;34m\u001b[0m\u001b[0;34m\u001b[0m\u001b[0m\n\u001b[0m\u001b[1;32m    127\u001b[0m         \u001b[0;32mreturn\u001b[0m \u001b[0mself\u001b[0m\u001b[0;34m.\u001b[0m\u001b[0mcreate_outputs\u001b[0m\u001b[0;34m(\u001b[0m\u001b[0mresponse\u001b[0m\u001b[0;34m)\u001b[0m\u001b[0;34m[\u001b[0m\u001b[0;36m0\u001b[0m\u001b[0;34m]\u001b[0m\u001b[0;34m\u001b[0m\u001b[0;34m\u001b[0m\u001b[0m\n\u001b[1;32m    128\u001b[0m \u001b[0;34m\u001b[0m\u001b[0m\n",
            "\u001b[0;32m/usr/local/lib/python3.10/dist-packages/langchain/chains/llm.py\u001b[0m in \u001b[0;36mgenerate\u001b[0;34m(self, input_list, run_manager)\u001b[0m\n\u001b[1;32m    136\u001b[0m         \u001b[0mcallbacks\u001b[0m \u001b[0;34m=\u001b[0m \u001b[0mrun_manager\u001b[0m\u001b[0;34m.\u001b[0m\u001b[0mget_child\u001b[0m\u001b[0;34m(\u001b[0m\u001b[0;34m)\u001b[0m \u001b[0;32mif\u001b[0m \u001b[0mrun_manager\u001b[0m \u001b[0;32melse\u001b[0m \u001b[0;32mNone\u001b[0m\u001b[0;34m\u001b[0m\u001b[0;34m\u001b[0m\u001b[0m\n\u001b[1;32m    137\u001b[0m         \u001b[0;32mif\u001b[0m \u001b[0misinstance\u001b[0m\u001b[0;34m(\u001b[0m\u001b[0mself\u001b[0m\u001b[0;34m.\u001b[0m\u001b[0mllm\u001b[0m\u001b[0;34m,\u001b[0m \u001b[0mBaseLanguageModel\u001b[0m\u001b[0;34m)\u001b[0m\u001b[0;34m:\u001b[0m\u001b[0;34m\u001b[0m\u001b[0;34m\u001b[0m\u001b[0m\n\u001b[0;32m--> 138\u001b[0;31m             return self.llm.generate_prompt(\n\u001b[0m\u001b[1;32m    139\u001b[0m                 \u001b[0mprompts\u001b[0m\u001b[0;34m,\u001b[0m\u001b[0;34m\u001b[0m\u001b[0;34m\u001b[0m\u001b[0m\n\u001b[1;32m    140\u001b[0m                 \u001b[0mstop\u001b[0m\u001b[0;34m,\u001b[0m\u001b[0;34m\u001b[0m\u001b[0;34m\u001b[0m\u001b[0m\n",
            "\u001b[0;32m/usr/local/lib/python3.10/dist-packages/langchain_core/language_models/chat_models.py\u001b[0m in \u001b[0;36mgenerate_prompt\u001b[0;34m(self, prompts, stop, callbacks, **kwargs)\u001b[0m\n\u001b[1;32m    558\u001b[0m     ) -> LLMResult:\n\u001b[1;32m    559\u001b[0m         \u001b[0mprompt_messages\u001b[0m \u001b[0;34m=\u001b[0m \u001b[0;34m[\u001b[0m\u001b[0mp\u001b[0m\u001b[0;34m.\u001b[0m\u001b[0mto_messages\u001b[0m\u001b[0;34m(\u001b[0m\u001b[0;34m)\u001b[0m \u001b[0;32mfor\u001b[0m \u001b[0mp\u001b[0m \u001b[0;32min\u001b[0m \u001b[0mprompts\u001b[0m\u001b[0;34m]\u001b[0m\u001b[0;34m\u001b[0m\u001b[0;34m\u001b[0m\u001b[0m\n\u001b[0;32m--> 560\u001b[0;31m         \u001b[0;32mreturn\u001b[0m \u001b[0mself\u001b[0m\u001b[0;34m.\u001b[0m\u001b[0mgenerate\u001b[0m\u001b[0;34m(\u001b[0m\u001b[0mprompt_messages\u001b[0m\u001b[0;34m,\u001b[0m \u001b[0mstop\u001b[0m\u001b[0;34m=\u001b[0m\u001b[0mstop\u001b[0m\u001b[0;34m,\u001b[0m \u001b[0mcallbacks\u001b[0m\u001b[0;34m=\u001b[0m\u001b[0mcallbacks\u001b[0m\u001b[0;34m,\u001b[0m \u001b[0;34m**\u001b[0m\u001b[0mkwargs\u001b[0m\u001b[0;34m)\u001b[0m\u001b[0;34m\u001b[0m\u001b[0;34m\u001b[0m\u001b[0m\n\u001b[0m\u001b[1;32m    561\u001b[0m \u001b[0;34m\u001b[0m\u001b[0m\n\u001b[1;32m    562\u001b[0m     async def agenerate_prompt(\n",
            "\u001b[0;32m/usr/local/lib/python3.10/dist-packages/langchain_core/language_models/chat_models.py\u001b[0m in \u001b[0;36mgenerate\u001b[0;34m(self, messages, stop, callbacks, tags, metadata, run_name, run_id, **kwargs)\u001b[0m\n\u001b[1;32m    419\u001b[0m                 \u001b[0;32mif\u001b[0m \u001b[0mrun_managers\u001b[0m\u001b[0;34m:\u001b[0m\u001b[0;34m\u001b[0m\u001b[0;34m\u001b[0m\u001b[0m\n\u001b[1;32m    420\u001b[0m                     \u001b[0mrun_managers\u001b[0m\u001b[0;34m[\u001b[0m\u001b[0mi\u001b[0m\u001b[0;34m]\u001b[0m\u001b[0;34m.\u001b[0m\u001b[0mon_llm_error\u001b[0m\u001b[0;34m(\u001b[0m\u001b[0me\u001b[0m\u001b[0;34m,\u001b[0m \u001b[0mresponse\u001b[0m\u001b[0;34m=\u001b[0m\u001b[0mLLMResult\u001b[0m\u001b[0;34m(\u001b[0m\u001b[0mgenerations\u001b[0m\u001b[0;34m=\u001b[0m\u001b[0;34m[\u001b[0m\u001b[0;34m]\u001b[0m\u001b[0;34m)\u001b[0m\u001b[0;34m)\u001b[0m\u001b[0;34m\u001b[0m\u001b[0;34m\u001b[0m\u001b[0m\n\u001b[0;32m--> 421\u001b[0;31m                 \u001b[0;32mraise\u001b[0m \u001b[0me\u001b[0m\u001b[0;34m\u001b[0m\u001b[0;34m\u001b[0m\u001b[0m\n\u001b[0m\u001b[1;32m    422\u001b[0m         flattened_outputs = [\n\u001b[1;32m    423\u001b[0m             \u001b[0mLLMResult\u001b[0m\u001b[0;34m(\u001b[0m\u001b[0mgenerations\u001b[0m\u001b[0;34m=\u001b[0m\u001b[0;34m[\u001b[0m\u001b[0mres\u001b[0m\u001b[0;34m.\u001b[0m\u001b[0mgenerations\u001b[0m\u001b[0;34m]\u001b[0m\u001b[0;34m,\u001b[0m \u001b[0mllm_output\u001b[0m\u001b[0;34m=\u001b[0m\u001b[0mres\u001b[0m\u001b[0;34m.\u001b[0m\u001b[0mllm_output\u001b[0m\u001b[0;34m)\u001b[0m  \u001b[0;31m# type: ignore[list-item]\u001b[0m\u001b[0;34m\u001b[0m\u001b[0;34m\u001b[0m\u001b[0m\n",
            "\u001b[0;32m/usr/local/lib/python3.10/dist-packages/langchain_core/language_models/chat_models.py\u001b[0m in \u001b[0;36mgenerate\u001b[0;34m(self, messages, stop, callbacks, tags, metadata, run_name, run_id, **kwargs)\u001b[0m\n\u001b[1;32m    409\u001b[0m             \u001b[0;32mtry\u001b[0m\u001b[0;34m:\u001b[0m\u001b[0;34m\u001b[0m\u001b[0;34m\u001b[0m\u001b[0m\n\u001b[1;32m    410\u001b[0m                 results.append(\n\u001b[0;32m--> 411\u001b[0;31m                     self._generate_with_cache(\n\u001b[0m\u001b[1;32m    412\u001b[0m                         \u001b[0mm\u001b[0m\u001b[0;34m,\u001b[0m\u001b[0;34m\u001b[0m\u001b[0;34m\u001b[0m\u001b[0m\n\u001b[1;32m    413\u001b[0m                         \u001b[0mstop\u001b[0m\u001b[0;34m=\u001b[0m\u001b[0mstop\u001b[0m\u001b[0;34m,\u001b[0m\u001b[0;34m\u001b[0m\u001b[0;34m\u001b[0m\u001b[0m\n",
            "\u001b[0;32m/usr/local/lib/python3.10/dist-packages/langchain_core/language_models/chat_models.py\u001b[0m in \u001b[0;36m_generate_with_cache\u001b[0;34m(self, messages, stop, run_manager, **kwargs)\u001b[0m\n\u001b[1;32m    630\u001b[0m         \u001b[0;32melse\u001b[0m\u001b[0;34m:\u001b[0m\u001b[0;34m\u001b[0m\u001b[0;34m\u001b[0m\u001b[0m\n\u001b[1;32m    631\u001b[0m             \u001b[0;32mif\u001b[0m \u001b[0minspect\u001b[0m\u001b[0;34m.\u001b[0m\u001b[0msignature\u001b[0m\u001b[0;34m(\u001b[0m\u001b[0mself\u001b[0m\u001b[0;34m.\u001b[0m\u001b[0m_generate\u001b[0m\u001b[0;34m)\u001b[0m\u001b[0;34m.\u001b[0m\u001b[0mparameters\u001b[0m\u001b[0;34m.\u001b[0m\u001b[0mget\u001b[0m\u001b[0;34m(\u001b[0m\u001b[0;34m\"run_manager\"\u001b[0m\u001b[0;34m)\u001b[0m\u001b[0;34m:\u001b[0m\u001b[0;34m\u001b[0m\u001b[0;34m\u001b[0m\u001b[0m\n\u001b[0;32m--> 632\u001b[0;31m                 result = self._generate(\n\u001b[0m\u001b[1;32m    633\u001b[0m                     \u001b[0mmessages\u001b[0m\u001b[0;34m,\u001b[0m \u001b[0mstop\u001b[0m\u001b[0;34m=\u001b[0m\u001b[0mstop\u001b[0m\u001b[0;34m,\u001b[0m \u001b[0mrun_manager\u001b[0m\u001b[0;34m=\u001b[0m\u001b[0mrun_manager\u001b[0m\u001b[0;34m,\u001b[0m \u001b[0;34m**\u001b[0m\u001b[0mkwargs\u001b[0m\u001b[0;34m\u001b[0m\u001b[0;34m\u001b[0m\u001b[0m\n\u001b[1;32m    634\u001b[0m                 )\n",
            "\u001b[0;32m/usr/local/lib/python3.10/dist-packages/langchain_groq/chat_models.py\u001b[0m in \u001b[0;36m_generate\u001b[0;34m(self, messages, stop, run_manager, **kwargs)\u001b[0m\n\u001b[1;32m    240\u001b[0m             \u001b[0;34m**\u001b[0m\u001b[0mkwargs\u001b[0m\u001b[0;34m,\u001b[0m\u001b[0;34m\u001b[0m\u001b[0;34m\u001b[0m\u001b[0m\n\u001b[1;32m    241\u001b[0m         }\n\u001b[0;32m--> 242\u001b[0;31m         \u001b[0mresponse\u001b[0m \u001b[0;34m=\u001b[0m \u001b[0mself\u001b[0m\u001b[0;34m.\u001b[0m\u001b[0mclient\u001b[0m\u001b[0;34m.\u001b[0m\u001b[0mcreate\u001b[0m\u001b[0;34m(\u001b[0m\u001b[0mmessages\u001b[0m\u001b[0;34m=\u001b[0m\u001b[0mmessage_dicts\u001b[0m\u001b[0;34m,\u001b[0m \u001b[0;34m**\u001b[0m\u001b[0mparams\u001b[0m\u001b[0;34m)\u001b[0m\u001b[0;34m\u001b[0m\u001b[0;34m\u001b[0m\u001b[0m\n\u001b[0m\u001b[1;32m    243\u001b[0m         \u001b[0;32mreturn\u001b[0m \u001b[0mself\u001b[0m\u001b[0;34m.\u001b[0m\u001b[0m_create_chat_result\u001b[0m\u001b[0;34m(\u001b[0m\u001b[0mresponse\u001b[0m\u001b[0;34m)\u001b[0m\u001b[0;34m\u001b[0m\u001b[0;34m\u001b[0m\u001b[0m\n\u001b[1;32m    244\u001b[0m \u001b[0;34m\u001b[0m\u001b[0m\n",
            "\u001b[0;32m/usr/local/lib/python3.10/dist-packages/groq/resources/chat/completions.py\u001b[0m in \u001b[0;36mcreate\u001b[0;34m(self, messages, model, frequency_penalty, function_call, functions, logit_bias, logprobs, max_tokens, n, parallel_tool_calls, presence_penalty, response_format, seed, stop, stream, temperature, tool_choice, tools, top_logprobs, top_p, user, extra_headers, extra_query, extra_body, timeout)\u001b[0m\n\u001b[1;32m    287\u001b[0m           \u001b[0mtimeout\u001b[0m\u001b[0;34m:\u001b[0m \u001b[0mOverride\u001b[0m \u001b[0mthe\u001b[0m \u001b[0mclient\u001b[0m\u001b[0;34m-\u001b[0m\u001b[0mlevel\u001b[0m \u001b[0mdefault\u001b[0m \u001b[0mtimeout\u001b[0m \u001b[0;32mfor\u001b[0m \u001b[0mthis\u001b[0m \u001b[0mrequest\u001b[0m\u001b[0;34m,\u001b[0m \u001b[0;32min\u001b[0m \u001b[0mseconds\u001b[0m\u001b[0;34m\u001b[0m\u001b[0;34m\u001b[0m\u001b[0m\n\u001b[1;32m    288\u001b[0m         \"\"\"\n\u001b[0;32m--> 289\u001b[0;31m         return self._post(\n\u001b[0m\u001b[1;32m    290\u001b[0m             \u001b[0;34m\"/openai/v1/chat/completions\"\u001b[0m\u001b[0;34m,\u001b[0m\u001b[0;34m\u001b[0m\u001b[0;34m\u001b[0m\u001b[0m\n\u001b[1;32m    291\u001b[0m             body=maybe_transform(\n",
            "\u001b[0;32m/usr/local/lib/python3.10/dist-packages/groq/_base_client.py\u001b[0m in \u001b[0;36mpost\u001b[0;34m(self, path, cast_to, body, options, files, stream, stream_cls)\u001b[0m\n\u001b[1;32m   1223\u001b[0m             \u001b[0mmethod\u001b[0m\u001b[0;34m=\u001b[0m\u001b[0;34m\"post\"\u001b[0m\u001b[0;34m,\u001b[0m \u001b[0murl\u001b[0m\u001b[0;34m=\u001b[0m\u001b[0mpath\u001b[0m\u001b[0;34m,\u001b[0m \u001b[0mjson_data\u001b[0m\u001b[0;34m=\u001b[0m\u001b[0mbody\u001b[0m\u001b[0;34m,\u001b[0m \u001b[0mfiles\u001b[0m\u001b[0;34m=\u001b[0m\u001b[0mto_httpx_files\u001b[0m\u001b[0;34m(\u001b[0m\u001b[0mfiles\u001b[0m\u001b[0;34m)\u001b[0m\u001b[0;34m,\u001b[0m \u001b[0;34m**\u001b[0m\u001b[0moptions\u001b[0m\u001b[0;34m\u001b[0m\u001b[0;34m\u001b[0m\u001b[0m\n\u001b[1;32m   1224\u001b[0m         )\n\u001b[0;32m-> 1225\u001b[0;31m         \u001b[0;32mreturn\u001b[0m \u001b[0mcast\u001b[0m\u001b[0;34m(\u001b[0m\u001b[0mResponseT\u001b[0m\u001b[0;34m,\u001b[0m \u001b[0mself\u001b[0m\u001b[0;34m.\u001b[0m\u001b[0mrequest\u001b[0m\u001b[0;34m(\u001b[0m\u001b[0mcast_to\u001b[0m\u001b[0;34m,\u001b[0m \u001b[0mopts\u001b[0m\u001b[0;34m,\u001b[0m \u001b[0mstream\u001b[0m\u001b[0;34m=\u001b[0m\u001b[0mstream\u001b[0m\u001b[0;34m,\u001b[0m \u001b[0mstream_cls\u001b[0m\u001b[0;34m=\u001b[0m\u001b[0mstream_cls\u001b[0m\u001b[0;34m)\u001b[0m\u001b[0;34m)\u001b[0m\u001b[0;34m\u001b[0m\u001b[0;34m\u001b[0m\u001b[0m\n\u001b[0m\u001b[1;32m   1226\u001b[0m \u001b[0;34m\u001b[0m\u001b[0m\n\u001b[1;32m   1227\u001b[0m     def patch(\n",
            "\u001b[0;32m/usr/local/lib/python3.10/dist-packages/groq/_base_client.py\u001b[0m in \u001b[0;36mrequest\u001b[0;34m(self, cast_to, options, remaining_retries, stream, stream_cls)\u001b[0m\n\u001b[1;32m    918\u001b[0m         \u001b[0mstream_cls\u001b[0m\u001b[0;34m:\u001b[0m \u001b[0mtype\u001b[0m\u001b[0;34m[\u001b[0m\u001b[0m_StreamT\u001b[0m\u001b[0;34m]\u001b[0m \u001b[0;34m|\u001b[0m \u001b[0;32mNone\u001b[0m \u001b[0;34m=\u001b[0m \u001b[0;32mNone\u001b[0m\u001b[0;34m,\u001b[0m\u001b[0;34m\u001b[0m\u001b[0;34m\u001b[0m\u001b[0m\n\u001b[1;32m    919\u001b[0m     ) -> ResponseT | _StreamT:\n\u001b[0;32m--> 920\u001b[0;31m         return self._request(\n\u001b[0m\u001b[1;32m    921\u001b[0m             \u001b[0mcast_to\u001b[0m\u001b[0;34m=\u001b[0m\u001b[0mcast_to\u001b[0m\u001b[0;34m,\u001b[0m\u001b[0;34m\u001b[0m\u001b[0;34m\u001b[0m\u001b[0m\n\u001b[1;32m    922\u001b[0m             \u001b[0moptions\u001b[0m\u001b[0;34m=\u001b[0m\u001b[0moptions\u001b[0m\u001b[0;34m,\u001b[0m\u001b[0;34m\u001b[0m\u001b[0;34m\u001b[0m\u001b[0m\n",
            "\u001b[0;32m/usr/local/lib/python3.10/dist-packages/groq/_base_client.py\u001b[0m in \u001b[0;36m_request\u001b[0;34m(self, cast_to, options, remaining_retries, stream, stream_cls)\u001b[0m\n\u001b[1;32m   1016\u001b[0m \u001b[0;34m\u001b[0m\u001b[0m\n\u001b[1;32m   1017\u001b[0m             \u001b[0mlog\u001b[0m\u001b[0;34m.\u001b[0m\u001b[0mdebug\u001b[0m\u001b[0;34m(\u001b[0m\u001b[0;34m\"Re-raising status error\"\u001b[0m\u001b[0;34m)\u001b[0m\u001b[0;34m\u001b[0m\u001b[0;34m\u001b[0m\u001b[0m\n\u001b[0;32m-> 1018\u001b[0;31m             \u001b[0;32mraise\u001b[0m \u001b[0mself\u001b[0m\u001b[0;34m.\u001b[0m\u001b[0m_make_status_error_from_response\u001b[0m\u001b[0;34m(\u001b[0m\u001b[0merr\u001b[0m\u001b[0;34m.\u001b[0m\u001b[0mresponse\u001b[0m\u001b[0;34m)\u001b[0m \u001b[0;32mfrom\u001b[0m \u001b[0;32mNone\u001b[0m\u001b[0;34m\u001b[0m\u001b[0;34m\u001b[0m\u001b[0m\n\u001b[0m\u001b[1;32m   1019\u001b[0m \u001b[0;34m\u001b[0m\u001b[0m\n\u001b[1;32m   1020\u001b[0m         return self._process_response(\n",
            "\u001b[0;31mRateLimitError\u001b[0m: Error code: 429 - {'error': {'message': 'Rate limit reached for model `llama3-70b-8192` in organization `org_01j15cnh3devrvfjas213t26d0` on tokens per minute (TPM): Limit 6000, Used 4722, Requested 7630. Please try again in 1m3.512s. Visit https://console.groq.com/docs/rate-limits for more information.', 'type': 'tokens', 'code': 'rate_limit_exceeded'}}"
          ]
        }
      ],
      "source": [
        "# Define your tool\n",
        "def constitution_lookup(query: str) -> str:\n",
        "    results = retriever.get_relevant_documents(query)\n",
        "    return \"\\n\".join([doc.page_content for doc in results])\n",
        "\n",
        "constitution_lookup_tool = Tool(\n",
        "    name=\"Constitution Lookup\",\n",
        "    func=constitution_lookup,\n",
        "    description=\"Retrieves relevant sections from the Constitution.\"\n",
        ")\n",
        "\n",
        "# Initialize the agent\n",
        "agent = initialize_agent(\n",
        "    tools=[constitution_lookup_tool],\n",
        "    llm=llm,  # Your ChatGroq model\n",
        "    agent=\"zero-shot-react-description\",\n",
        "    verbose=True\n",
        ")\n",
        "\n",
        "# Interaction Loop\n",
        "while True:\n",
        "    user_query = input(\"Ask a question about the Constitution: \")\n",
        "    response = agent.run(user_query)\n",
        "    print(response)"
      ]
    },
    {
      "cell_type": "code",
      "execution_count": 39,
      "metadata": {
        "colab": {
          "base_uri": "https://localhost:8080/",
          "height": 251
        },
        "id": "q3xhsSmCx2Lv",
        "outputId": "d87a4427-16f6-46ac-92d1-a54ee1fbb653"
      },
      "outputs": [
        {
          "name": "stdout",
          "output_type": "stream",
          "text": [
            "Running pairwise ranking..\n",
            "CPU times: user 2.64 s, sys: 112 ms, total: 2.75 s\n",
            "Wall time: 3.64 s\n"
          ]
        },
        {
          "data": {
            "text/markdown": [
              "**Answer:** No, Article 29, which guarantees the right to religious freedom, does not protect the right to proselytize.\n",
              "\n",
              "**Reasoning:** Clause (3) of Article 29 explicitly states that \"No person shall, in the exercise of the right conferred by this Article, do, or cause to be done, any act which may be contrary to public health, decency and morality or breach public peace, or convert another person from one religion to another...\" This implies that the right to religious freedom does not extend to proselytizing or converting others from one religion to another.\n",
              "\n",
              "**Additional Information:** This provision is likely intended to maintain social harmony and prevent religious conflicts. It is also consistent with the principles of religious tolerance and coexistence."
            ],
            "text/plain": [
              "<IPython.core.display.Markdown object>"
            ]
          },
          "execution_count": 39,
          "metadata": {},
          "output_type": "execute_result"
        }
      ],
      "source": [
        "%%time\n",
        "response = qa.invoke(\"Does Article 29, which guarantees the right to religious freedom, also protect the right to proselytize? Explain your reasoning based on the text and relevant legal precedents.\")\n",
        "Markdown(response[\"result\"])"
      ]
    }
  ],
  "metadata": {
    "colab": {
      "provenance": []
    },
    "kernelspec": {
      "display_name": "Python 3",
      "name": "python3"
    },
    "language_info": {
      "name": "python"
    },
    "widgets": {
      "application/vnd.jupyter.widget-state+json": {
        "0428e809f8a1451999710e2f5c8d60a3": {
          "model_module": "@jupyter-widgets/controls",
          "model_module_version": "1.5.0",
          "model_name": "HTMLModel",
          "state": {
            "_dom_classes": [],
            "_model_module": "@jupyter-widgets/controls",
            "_model_module_version": "1.5.0",
            "_model_name": "HTMLModel",
            "_view_count": null,
            "_view_module": "@jupyter-widgets/controls",
            "_view_module_version": "1.5.0",
            "_view_name": "HTMLView",
            "description": "",
            "description_tooltip": null,
            "layout": "IPY_MODEL_d01bf3d653b84399a8034fe8d15eb2df",
            "placeholder": "​",
            "style": "IPY_MODEL_346c8b84e7e64de39098bbe9efc3bcec",
            "value": " 218M/218M [00:01&lt;00:00, 142MB/s]"
          }
        },
        "0855173009ff4e0fa03911c0a98f03bf": {
          "model_module": "@jupyter-widgets/controls",
          "model_module_version": "1.5.0",
          "model_name": "DescriptionStyleModel",
          "state": {
            "_model_module": "@jupyter-widgets/controls",
            "_model_module_version": "1.5.0",
            "_model_name": "DescriptionStyleModel",
            "_view_count": null,
            "_view_module": "@jupyter-widgets/base",
            "_view_module_version": "1.2.0",
            "_view_name": "StyleView",
            "description_width": ""
          }
        },
        "14a5484aa00c46e6b58951f02c91b2d9": {
          "model_module": "@jupyter-widgets/base",
          "model_module_version": "1.2.0",
          "model_name": "LayoutModel",
          "state": {
            "_model_module": "@jupyter-widgets/base",
            "_model_module_version": "1.2.0",
            "_model_name": "LayoutModel",
            "_view_count": null,
            "_view_module": "@jupyter-widgets/base",
            "_view_module_version": "1.2.0",
            "_view_name": "LayoutView",
            "align_content": null,
            "align_items": null,
            "align_self": null,
            "border": null,
            "bottom": null,
            "display": null,
            "flex": null,
            "flex_flow": null,
            "grid_area": null,
            "grid_auto_columns": null,
            "grid_auto_flow": null,
            "grid_auto_rows": null,
            "grid_column": null,
            "grid_gap": null,
            "grid_row": null,
            "grid_template_areas": null,
            "grid_template_columns": null,
            "grid_template_rows": null,
            "height": null,
            "justify_content": null,
            "justify_items": null,
            "left": null,
            "margin": null,
            "max_height": null,
            "max_width": null,
            "min_height": null,
            "min_width": null,
            "object_fit": null,
            "object_position": null,
            "order": null,
            "overflow": null,
            "overflow_x": null,
            "overflow_y": null,
            "padding": null,
            "right": null,
            "top": null,
            "visibility": null,
            "width": null
          }
        },
        "1509b5fd6be6498090dc0f23dfcd6093": {
          "model_module": "@jupyter-widgets/base",
          "model_module_version": "1.2.0",
          "model_name": "LayoutModel",
          "state": {
            "_model_module": "@jupyter-widgets/base",
            "_model_module_version": "1.2.0",
            "_model_name": "LayoutModel",
            "_view_count": null,
            "_view_module": "@jupyter-widgets/base",
            "_view_module_version": "1.2.0",
            "_view_name": "LayoutView",
            "align_content": null,
            "align_items": null,
            "align_self": null,
            "border": null,
            "bottom": null,
            "display": null,
            "flex": null,
            "flex_flow": null,
            "grid_area": null,
            "grid_auto_columns": null,
            "grid_auto_flow": null,
            "grid_auto_rows": null,
            "grid_column": null,
            "grid_gap": null,
            "grid_row": null,
            "grid_template_areas": null,
            "grid_template_columns": null,
            "grid_template_rows": null,
            "height": null,
            "justify_content": null,
            "justify_items": null,
            "left": null,
            "margin": null,
            "max_height": null,
            "max_width": null,
            "min_height": null,
            "min_width": null,
            "object_fit": null,
            "object_position": null,
            "order": null,
            "overflow": null,
            "overflow_x": null,
            "overflow_y": null,
            "padding": null,
            "right": null,
            "top": null,
            "visibility": null,
            "width": null
          }
        },
        "1afa4d9050544869a33de4e3151e1299": {
          "model_module": "@jupyter-widgets/controls",
          "model_module_version": "1.5.0",
          "model_name": "DescriptionStyleModel",
          "state": {
            "_model_module": "@jupyter-widgets/controls",
            "_model_module_version": "1.5.0",
            "_model_name": "DescriptionStyleModel",
            "_view_count": null,
            "_view_module": "@jupyter-widgets/base",
            "_view_module_version": "1.2.0",
            "_view_name": "StyleView",
            "description_width": ""
          }
        },
        "1d4632f9eb8c4d3abb3afb2c39e12a6c": {
          "model_module": "@jupyter-widgets/controls",
          "model_module_version": "1.5.0",
          "model_name": "FloatProgressModel",
          "state": {
            "_dom_classes": [],
            "_model_module": "@jupyter-widgets/controls",
            "_model_module_version": "1.5.0",
            "_model_name": "FloatProgressModel",
            "_view_count": null,
            "_view_module": "@jupyter-widgets/controls",
            "_view_module_version": "1.5.0",
            "_view_name": "ProgressView",
            "bar_style": "success",
            "description": "",
            "description_tooltip": null,
            "layout": "IPY_MODEL_22509d2f59b84563a0f85fb9f9783990",
            "max": 740,
            "min": 0,
            "orientation": "horizontal",
            "style": "IPY_MODEL_d80b52295b6d476fbd1ba485839cea99",
            "value": 740
          }
        },
        "22509d2f59b84563a0f85fb9f9783990": {
          "model_module": "@jupyter-widgets/base",
          "model_module_version": "1.2.0",
          "model_name": "LayoutModel",
          "state": {
            "_model_module": "@jupyter-widgets/base",
            "_model_module_version": "1.2.0",
            "_model_name": "LayoutModel",
            "_view_count": null,
            "_view_module": "@jupyter-widgets/base",
            "_view_module_version": "1.2.0",
            "_view_name": "LayoutView",
            "align_content": null,
            "align_items": null,
            "align_self": null,
            "border": null,
            "bottom": null,
            "display": null,
            "flex": null,
            "flex_flow": null,
            "grid_area": null,
            "grid_auto_columns": null,
            "grid_auto_flow": null,
            "grid_auto_rows": null,
            "grid_column": null,
            "grid_gap": null,
            "grid_row": null,
            "grid_template_areas": null,
            "grid_template_columns": null,
            "grid_template_rows": null,
            "height": null,
            "justify_content": null,
            "justify_items": null,
            "left": null,
            "margin": null,
            "max_height": null,
            "max_width": null,
            "min_height": null,
            "min_width": null,
            "object_fit": null,
            "object_position": null,
            "order": null,
            "overflow": null,
            "overflow_x": null,
            "overflow_y": null,
            "padding": null,
            "right": null,
            "top": null,
            "visibility": null,
            "width": null
          }
        },
        "23193f99fd79491886a1aabd639a1ed3": {
          "model_module": "@jupyter-widgets/controls",
          "model_module_version": "1.5.0",
          "model_name": "DescriptionStyleModel",
          "state": {
            "_model_module": "@jupyter-widgets/controls",
            "_model_module_version": "1.5.0",
            "_model_name": "DescriptionStyleModel",
            "_view_count": null,
            "_view_module": "@jupyter-widgets/base",
            "_view_module_version": "1.2.0",
            "_view_name": "StyleView",
            "description_width": ""
          }
        },
        "2805e6fe7924460889bfb320d83cb435": {
          "model_module": "@jupyter-widgets/controls",
          "model_module_version": "1.5.0",
          "model_name": "HTMLModel",
          "state": {
            "_dom_classes": [],
            "_model_module": "@jupyter-widgets/controls",
            "_model_module_version": "1.5.0",
            "_model_name": "HTMLModel",
            "_view_count": null,
            "_view_module": "@jupyter-widgets/controls",
            "_view_module_version": "1.5.0",
            "_view_name": "HTMLView",
            "description": "",
            "description_tooltip": null,
            "layout": "IPY_MODEL_ad8d6fbb6c83483ea234c72d1720ca03",
            "placeholder": "​",
            "style": "IPY_MODEL_1afa4d9050544869a33de4e3151e1299",
            "value": "config.json: 100%"
          }
        },
        "29115ff065f247f5904ce3b03b7ae4f1": {
          "model_module": "@jupyter-widgets/base",
          "model_module_version": "1.2.0",
          "model_name": "LayoutModel",
          "state": {
            "_model_module": "@jupyter-widgets/base",
            "_model_module_version": "1.2.0",
            "_model_name": "LayoutModel",
            "_view_count": null,
            "_view_module": "@jupyter-widgets/base",
            "_view_module_version": "1.2.0",
            "_view_name": "LayoutView",
            "align_content": null,
            "align_items": null,
            "align_self": null,
            "border": null,
            "bottom": null,
            "display": null,
            "flex": null,
            "flex_flow": null,
            "grid_area": null,
            "grid_auto_columns": null,
            "grid_auto_flow": null,
            "grid_auto_rows": null,
            "grid_column": null,
            "grid_gap": null,
            "grid_row": null,
            "grid_template_areas": null,
            "grid_template_columns": null,
            "grid_template_rows": null,
            "height": null,
            "justify_content": null,
            "justify_items": null,
            "left": null,
            "margin": null,
            "max_height": null,
            "max_width": null,
            "min_height": null,
            "min_width": null,
            "object_fit": null,
            "object_position": null,
            "order": null,
            "overflow": null,
            "overflow_x": null,
            "overflow_y": null,
            "padding": null,
            "right": null,
            "top": null,
            "visibility": null,
            "width": null
          }
        },
        "2a582e92b615436db246663e0477bad2": {
          "model_module": "@jupyter-widgets/controls",
          "model_module_version": "1.5.0",
          "model_name": "DescriptionStyleModel",
          "state": {
            "_model_module": "@jupyter-widgets/controls",
            "_model_module_version": "1.5.0",
            "_model_name": "DescriptionStyleModel",
            "_view_count": null,
            "_view_module": "@jupyter-widgets/base",
            "_view_module_version": "1.2.0",
            "_view_name": "StyleView",
            "description_width": ""
          }
        },
        "3141fe86e3aa4824b71ce7b36fa5406e": {
          "model_module": "@jupyter-widgets/controls",
          "model_module_version": "1.5.0",
          "model_name": "HBoxModel",
          "state": {
            "_dom_classes": [],
            "_model_module": "@jupyter-widgets/controls",
            "_model_module_version": "1.5.0",
            "_model_name": "HBoxModel",
            "_view_count": null,
            "_view_module": "@jupyter-widgets/controls",
            "_view_module_version": "1.5.0",
            "_view_name": "HBoxView",
            "box_style": "",
            "children": [
              "IPY_MODEL_e40bc5d1fb7f4027a1704039b0dce33e",
              "IPY_MODEL_dfb1863a9ac843beb6565d81e451c497",
              "IPY_MODEL_9c4351779de2455c87422d67535c45dd"
            ],
            "layout": "IPY_MODEL_e53163a41cbc4303afb358f0eca23c41"
          }
        },
        "3244afe690b246e2876d6a45db4f1d57": {
          "model_module": "@jupyter-widgets/controls",
          "model_module_version": "1.5.0",
          "model_name": "HBoxModel",
          "state": {
            "_dom_classes": [],
            "_model_module": "@jupyter-widgets/controls",
            "_model_module_version": "1.5.0",
            "_model_name": "HBoxModel",
            "_view_count": null,
            "_view_module": "@jupyter-widgets/controls",
            "_view_module_version": "1.5.0",
            "_view_name": "HBoxView",
            "box_style": "",
            "children": [
              "IPY_MODEL_6ca09cc6ed9d467192e2cd62265e37d7",
              "IPY_MODEL_efbfbb2ae6764542aa2635d1a55d48be",
              "IPY_MODEL_0428e809f8a1451999710e2f5c8d60a3"
            ],
            "layout": "IPY_MODEL_bed26392d1be41f08717096ab3102d51"
          }
        },
        "346c8b84e7e64de39098bbe9efc3bcec": {
          "model_module": "@jupyter-widgets/controls",
          "model_module_version": "1.5.0",
          "model_name": "DescriptionStyleModel",
          "state": {
            "_model_module": "@jupyter-widgets/controls",
            "_model_module_version": "1.5.0",
            "_model_name": "DescriptionStyleModel",
            "_view_count": null,
            "_view_module": "@jupyter-widgets/base",
            "_view_module_version": "1.2.0",
            "_view_name": "StyleView",
            "description_width": ""
          }
        },
        "3533f2f0aaa347b7bc23ea444b290374": {
          "model_module": "@jupyter-widgets/controls",
          "model_module_version": "1.5.0",
          "model_name": "DescriptionStyleModel",
          "state": {
            "_model_module": "@jupyter-widgets/controls",
            "_model_module_version": "1.5.0",
            "_model_name": "DescriptionStyleModel",
            "_view_count": null,
            "_view_module": "@jupyter-widgets/base",
            "_view_module_version": "1.2.0",
            "_view_name": "StyleView",
            "description_width": ""
          }
        },
        "3c39e15ac2424e959425400f2724e9d0": {
          "model_module": "@jupyter-widgets/base",
          "model_module_version": "1.2.0",
          "model_name": "LayoutModel",
          "state": {
            "_model_module": "@jupyter-widgets/base",
            "_model_module_version": "1.2.0",
            "_model_name": "LayoutModel",
            "_view_count": null,
            "_view_module": "@jupyter-widgets/base",
            "_view_module_version": "1.2.0",
            "_view_name": "LayoutView",
            "align_content": null,
            "align_items": null,
            "align_self": null,
            "border": null,
            "bottom": null,
            "display": null,
            "flex": null,
            "flex_flow": null,
            "grid_area": null,
            "grid_auto_columns": null,
            "grid_auto_flow": null,
            "grid_auto_rows": null,
            "grid_column": null,
            "grid_gap": null,
            "grid_row": null,
            "grid_template_areas": null,
            "grid_template_columns": null,
            "grid_template_rows": null,
            "height": null,
            "justify_content": null,
            "justify_items": null,
            "left": null,
            "margin": null,
            "max_height": null,
            "max_width": null,
            "min_height": null,
            "min_width": null,
            "object_fit": null,
            "object_position": null,
            "order": null,
            "overflow": null,
            "overflow_x": null,
            "overflow_y": null,
            "padding": null,
            "right": null,
            "top": null,
            "visibility": null,
            "width": null
          }
        },
        "4a4768159f6b4041aa70263cb11580a0": {
          "model_module": "@jupyter-widgets/base",
          "model_module_version": "1.2.0",
          "model_name": "LayoutModel",
          "state": {
            "_model_module": "@jupyter-widgets/base",
            "_model_module_version": "1.2.0",
            "_model_name": "LayoutModel",
            "_view_count": null,
            "_view_module": "@jupyter-widgets/base",
            "_view_module_version": "1.2.0",
            "_view_name": "LayoutView",
            "align_content": null,
            "align_items": null,
            "align_self": null,
            "border": null,
            "bottom": null,
            "display": null,
            "flex": null,
            "flex_flow": null,
            "grid_area": null,
            "grid_auto_columns": null,
            "grid_auto_flow": null,
            "grid_auto_rows": null,
            "grid_column": null,
            "grid_gap": null,
            "grid_row": null,
            "grid_template_areas": null,
            "grid_template_columns": null,
            "grid_template_rows": null,
            "height": null,
            "justify_content": null,
            "justify_items": null,
            "left": null,
            "margin": null,
            "max_height": null,
            "max_width": null,
            "min_height": null,
            "min_width": null,
            "object_fit": null,
            "object_position": null,
            "order": null,
            "overflow": null,
            "overflow_x": null,
            "overflow_y": null,
            "padding": null,
            "right": null,
            "top": null,
            "visibility": null,
            "width": null
          }
        },
        "4bddc3be4cb941c8833aeab7074e95b8": {
          "model_module": "@jupyter-widgets/controls",
          "model_module_version": "1.5.0",
          "model_name": "HBoxModel",
          "state": {
            "_dom_classes": [],
            "_model_module": "@jupyter-widgets/controls",
            "_model_module_version": "1.5.0",
            "_model_name": "HBoxModel",
            "_view_count": null,
            "_view_module": "@jupyter-widgets/controls",
            "_view_module_version": "1.5.0",
            "_view_name": "HBoxView",
            "box_style": "",
            "children": [
              "IPY_MODEL_523029a2c67042c793dd441d9443a6e0",
              "IPY_MODEL_dca18db64637425a9076ff5daa581d1c",
              "IPY_MODEL_ea82658f9db146cbbff9d323c3b61170"
            ],
            "layout": "IPY_MODEL_759d480c6d88481190c09f6a8cc8ac6e"
          }
        },
        "4f9cc5c4638c4c65a86f103fa187c5f2": {
          "model_module": "@jupyter-widgets/base",
          "model_module_version": "1.2.0",
          "model_name": "LayoutModel",
          "state": {
            "_model_module": "@jupyter-widgets/base",
            "_model_module_version": "1.2.0",
            "_model_name": "LayoutModel",
            "_view_count": null,
            "_view_module": "@jupyter-widgets/base",
            "_view_module_version": "1.2.0",
            "_view_name": "LayoutView",
            "align_content": null,
            "align_items": null,
            "align_self": null,
            "border": null,
            "bottom": null,
            "display": null,
            "flex": null,
            "flex_flow": null,
            "grid_area": null,
            "grid_auto_columns": null,
            "grid_auto_flow": null,
            "grid_auto_rows": null,
            "grid_column": null,
            "grid_gap": null,
            "grid_row": null,
            "grid_template_areas": null,
            "grid_template_columns": null,
            "grid_template_rows": null,
            "height": null,
            "justify_content": null,
            "justify_items": null,
            "left": null,
            "margin": null,
            "max_height": null,
            "max_width": null,
            "min_height": null,
            "min_width": null,
            "object_fit": null,
            "object_position": null,
            "order": null,
            "overflow": null,
            "overflow_x": null,
            "overflow_y": null,
            "padding": null,
            "right": null,
            "top": null,
            "visibility": null,
            "width": null
          }
        },
        "523029a2c67042c793dd441d9443a6e0": {
          "model_module": "@jupyter-widgets/controls",
          "model_module_version": "1.5.0",
          "model_name": "HTMLModel",
          "state": {
            "_dom_classes": [],
            "_model_module": "@jupyter-widgets/controls",
            "_model_module_version": "1.5.0",
            "_model_name": "HTMLModel",
            "_view_count": null,
            "_view_module": "@jupyter-widgets/controls",
            "_view_module_version": "1.5.0",
            "_view_name": "HTMLView",
            "description": "",
            "description_tooltip": null,
            "layout": "IPY_MODEL_1509b5fd6be6498090dc0f23dfcd6093",
            "placeholder": "​",
            "style": "IPY_MODEL_0855173009ff4e0fa03911c0a98f03bf",
            "value": "special_tokens_map.json: 100%"
          }
        },
        "566e471e68644fe8b991a5bd08f3d89e": {
          "model_module": "@jupyter-widgets/base",
          "model_module_version": "1.2.0",
          "model_name": "LayoutModel",
          "state": {
            "_model_module": "@jupyter-widgets/base",
            "_model_module_version": "1.2.0",
            "_model_name": "LayoutModel",
            "_view_count": null,
            "_view_module": "@jupyter-widgets/base",
            "_view_module_version": "1.2.0",
            "_view_name": "LayoutView",
            "align_content": null,
            "align_items": null,
            "align_self": null,
            "border": null,
            "bottom": null,
            "display": null,
            "flex": null,
            "flex_flow": null,
            "grid_area": null,
            "grid_auto_columns": null,
            "grid_auto_flow": null,
            "grid_auto_rows": null,
            "grid_column": null,
            "grid_gap": null,
            "grid_row": null,
            "grid_template_areas": null,
            "grid_template_columns": null,
            "grid_template_rows": null,
            "height": null,
            "justify_content": null,
            "justify_items": null,
            "left": null,
            "margin": null,
            "max_height": null,
            "max_width": null,
            "min_height": null,
            "min_width": null,
            "object_fit": null,
            "object_position": null,
            "order": null,
            "overflow": null,
            "overflow_x": null,
            "overflow_y": null,
            "padding": null,
            "right": null,
            "top": null,
            "visibility": null,
            "width": null
          }
        },
        "5c4def2068c843d6bca595557fec6cba": {
          "model_module": "@jupyter-widgets/controls",
          "model_module_version": "1.5.0",
          "model_name": "DescriptionStyleModel",
          "state": {
            "_model_module": "@jupyter-widgets/controls",
            "_model_module_version": "1.5.0",
            "_model_name": "DescriptionStyleModel",
            "_view_count": null,
            "_view_module": "@jupyter-widgets/base",
            "_view_module_version": "1.2.0",
            "_view_name": "StyleView",
            "description_width": ""
          }
        },
        "5f8591a3d8bc4dafbaf816e15fbc874f": {
          "model_module": "@jupyter-widgets/controls",
          "model_module_version": "1.5.0",
          "model_name": "HBoxModel",
          "state": {
            "_dom_classes": [],
            "_model_module": "@jupyter-widgets/controls",
            "_model_module_version": "1.5.0",
            "_model_name": "HBoxModel",
            "_view_count": null,
            "_view_module": "@jupyter-widgets/controls",
            "_view_module_version": "1.5.0",
            "_view_name": "HBoxView",
            "box_style": "",
            "children": [
              "IPY_MODEL_d014f1aa04cd441b9c506405a02b0b6f",
              "IPY_MODEL_db3744be6080420da7033cbad5300533",
              "IPY_MODEL_fe270a472060479490b13428f5bc712c"
            ],
            "layout": "IPY_MODEL_4f9cc5c4638c4c65a86f103fa187c5f2"
          }
        },
        "63953ed7468c426d9889c05c36bceba6": {
          "model_module": "@jupyter-widgets/controls",
          "model_module_version": "1.5.0",
          "model_name": "DescriptionStyleModel",
          "state": {
            "_model_module": "@jupyter-widgets/controls",
            "_model_module_version": "1.5.0",
            "_model_name": "DescriptionStyleModel",
            "_view_count": null,
            "_view_module": "@jupyter-widgets/base",
            "_view_module_version": "1.2.0",
            "_view_name": "StyleView",
            "description_width": ""
          }
        },
        "64a1ea67781e4772b1a82c445407403d": {
          "model_module": "@jupyter-widgets/controls",
          "model_module_version": "1.5.0",
          "model_name": "ProgressStyleModel",
          "state": {
            "_model_module": "@jupyter-widgets/controls",
            "_model_module_version": "1.5.0",
            "_model_name": "ProgressStyleModel",
            "_view_count": null,
            "_view_module": "@jupyter-widgets/base",
            "_view_module_version": "1.2.0",
            "_view_name": "StyleView",
            "bar_color": null,
            "description_width": ""
          }
        },
        "66ff31fdb7df46328771799f6ccac177": {
          "model_module": "@jupyter-widgets/base",
          "model_module_version": "1.2.0",
          "model_name": "LayoutModel",
          "state": {
            "_model_module": "@jupyter-widgets/base",
            "_model_module_version": "1.2.0",
            "_model_name": "LayoutModel",
            "_view_count": null,
            "_view_module": "@jupyter-widgets/base",
            "_view_module_version": "1.2.0",
            "_view_name": "LayoutView",
            "align_content": null,
            "align_items": null,
            "align_self": null,
            "border": null,
            "bottom": null,
            "display": null,
            "flex": null,
            "flex_flow": null,
            "grid_area": null,
            "grid_auto_columns": null,
            "grid_auto_flow": null,
            "grid_auto_rows": null,
            "grid_column": null,
            "grid_gap": null,
            "grid_row": null,
            "grid_template_areas": null,
            "grid_template_columns": null,
            "grid_template_rows": null,
            "height": null,
            "justify_content": null,
            "justify_items": null,
            "left": null,
            "margin": null,
            "max_height": null,
            "max_width": null,
            "min_height": null,
            "min_width": null,
            "object_fit": null,
            "object_position": null,
            "order": null,
            "overflow": null,
            "overflow_x": null,
            "overflow_y": null,
            "padding": null,
            "right": null,
            "top": null,
            "visibility": null,
            "width": null
          }
        },
        "6ca09cc6ed9d467192e2cd62265e37d7": {
          "model_module": "@jupyter-widgets/controls",
          "model_module_version": "1.5.0",
          "model_name": "HTMLModel",
          "state": {
            "_dom_classes": [],
            "_model_module": "@jupyter-widgets/controls",
            "_model_module_version": "1.5.0",
            "_model_name": "HTMLModel",
            "_view_count": null,
            "_view_module": "@jupyter-widgets/controls",
            "_view_module_version": "1.5.0",
            "_view_name": "HTMLView",
            "description": "",
            "description_tooltip": null,
            "layout": "IPY_MODEL_85090db4e3a2489f91b068354b1e6bb0",
            "placeholder": "​",
            "style": "IPY_MODEL_3533f2f0aaa347b7bc23ea444b290374",
            "value": "model_optimized.onnx: 100%"
          }
        },
        "759d480c6d88481190c09f6a8cc8ac6e": {
          "model_module": "@jupyter-widgets/base",
          "model_module_version": "1.2.0",
          "model_name": "LayoutModel",
          "state": {
            "_model_module": "@jupyter-widgets/base",
            "_model_module_version": "1.2.0",
            "_model_name": "LayoutModel",
            "_view_count": null,
            "_view_module": "@jupyter-widgets/base",
            "_view_module_version": "1.2.0",
            "_view_name": "LayoutView",
            "align_content": null,
            "align_items": null,
            "align_self": null,
            "border": null,
            "bottom": null,
            "display": null,
            "flex": null,
            "flex_flow": null,
            "grid_area": null,
            "grid_auto_columns": null,
            "grid_auto_flow": null,
            "grid_auto_rows": null,
            "grid_column": null,
            "grid_gap": null,
            "grid_row": null,
            "grid_template_areas": null,
            "grid_template_columns": null,
            "grid_template_rows": null,
            "height": null,
            "justify_content": null,
            "justify_items": null,
            "left": null,
            "margin": null,
            "max_height": null,
            "max_width": null,
            "min_height": null,
            "min_width": null,
            "object_fit": null,
            "object_position": null,
            "order": null,
            "overflow": null,
            "overflow_x": null,
            "overflow_y": null,
            "padding": null,
            "right": null,
            "top": null,
            "visibility": null,
            "width": null
          }
        },
        "76b7bea537c44996bf6408704a6c9dd4": {
          "model_module": "@jupyter-widgets/base",
          "model_module_version": "1.2.0",
          "model_name": "LayoutModel",
          "state": {
            "_model_module": "@jupyter-widgets/base",
            "_model_module_version": "1.2.0",
            "_model_name": "LayoutModel",
            "_view_count": null,
            "_view_module": "@jupyter-widgets/base",
            "_view_module_version": "1.2.0",
            "_view_name": "LayoutView",
            "align_content": null,
            "align_items": null,
            "align_self": null,
            "border": null,
            "bottom": null,
            "display": null,
            "flex": null,
            "flex_flow": null,
            "grid_area": null,
            "grid_auto_columns": null,
            "grid_auto_flow": null,
            "grid_auto_rows": null,
            "grid_column": null,
            "grid_gap": null,
            "grid_row": null,
            "grid_template_areas": null,
            "grid_template_columns": null,
            "grid_template_rows": null,
            "height": null,
            "justify_content": null,
            "justify_items": null,
            "left": null,
            "margin": null,
            "max_height": null,
            "max_width": null,
            "min_height": null,
            "min_width": null,
            "object_fit": null,
            "object_position": null,
            "order": null,
            "overflow": null,
            "overflow_x": null,
            "overflow_y": null,
            "padding": null,
            "right": null,
            "top": null,
            "visibility": null,
            "width": null
          }
        },
        "85090db4e3a2489f91b068354b1e6bb0": {
          "model_module": "@jupyter-widgets/base",
          "model_module_version": "1.2.0",
          "model_name": "LayoutModel",
          "state": {
            "_model_module": "@jupyter-widgets/base",
            "_model_module_version": "1.2.0",
            "_model_name": "LayoutModel",
            "_view_count": null,
            "_view_module": "@jupyter-widgets/base",
            "_view_module_version": "1.2.0",
            "_view_name": "LayoutView",
            "align_content": null,
            "align_items": null,
            "align_self": null,
            "border": null,
            "bottom": null,
            "display": null,
            "flex": null,
            "flex_flow": null,
            "grid_area": null,
            "grid_auto_columns": null,
            "grid_auto_flow": null,
            "grid_auto_rows": null,
            "grid_column": null,
            "grid_gap": null,
            "grid_row": null,
            "grid_template_areas": null,
            "grid_template_columns": null,
            "grid_template_rows": null,
            "height": null,
            "justify_content": null,
            "justify_items": null,
            "left": null,
            "margin": null,
            "max_height": null,
            "max_width": null,
            "min_height": null,
            "min_width": null,
            "object_fit": null,
            "object_position": null,
            "order": null,
            "overflow": null,
            "overflow_x": null,
            "overflow_y": null,
            "padding": null,
            "right": null,
            "top": null,
            "visibility": null,
            "width": null
          }
        },
        "854be41d63cb4d98bd7ecea5dc6fd36d": {
          "model_module": "@jupyter-widgets/base",
          "model_module_version": "1.2.0",
          "model_name": "LayoutModel",
          "state": {
            "_model_module": "@jupyter-widgets/base",
            "_model_module_version": "1.2.0",
            "_model_name": "LayoutModel",
            "_view_count": null,
            "_view_module": "@jupyter-widgets/base",
            "_view_module_version": "1.2.0",
            "_view_name": "LayoutView",
            "align_content": null,
            "align_items": null,
            "align_self": null,
            "border": null,
            "bottom": null,
            "display": null,
            "flex": null,
            "flex_flow": null,
            "grid_area": null,
            "grid_auto_columns": null,
            "grid_auto_flow": null,
            "grid_auto_rows": null,
            "grid_column": null,
            "grid_gap": null,
            "grid_row": null,
            "grid_template_areas": null,
            "grid_template_columns": null,
            "grid_template_rows": null,
            "height": null,
            "justify_content": null,
            "justify_items": null,
            "left": null,
            "margin": null,
            "max_height": null,
            "max_width": null,
            "min_height": null,
            "min_width": null,
            "object_fit": null,
            "object_position": null,
            "order": null,
            "overflow": null,
            "overflow_x": null,
            "overflow_y": null,
            "padding": null,
            "right": null,
            "top": null,
            "visibility": null,
            "width": null
          }
        },
        "88b42f57a9534a7eb222c9524e7f17bd": {
          "model_module": "@jupyter-widgets/controls",
          "model_module_version": "1.5.0",
          "model_name": "HTMLModel",
          "state": {
            "_dom_classes": [],
            "_model_module": "@jupyter-widgets/controls",
            "_model_module_version": "1.5.0",
            "_model_name": "HTMLModel",
            "_view_count": null,
            "_view_module": "@jupyter-widgets/controls",
            "_view_module_version": "1.5.0",
            "_view_name": "HTMLView",
            "description": "",
            "description_tooltip": null,
            "layout": "IPY_MODEL_dded4c34e591458da0fc36117023f72e",
            "placeholder": "​",
            "style": "IPY_MODEL_5c4def2068c843d6bca595557fec6cba",
            "value": " 740/740 [00:00&lt;00:00, 8.18kB/s]"
          }
        },
        "8b2ede0170f14e2986f0be82d1b35b9e": {
          "model_module": "@jupyter-widgets/controls",
          "model_module_version": "1.5.0",
          "model_name": "ProgressStyleModel",
          "state": {
            "_model_module": "@jupyter-widgets/controls",
            "_model_module_version": "1.5.0",
            "_model_name": "ProgressStyleModel",
            "_view_count": null,
            "_view_module": "@jupyter-widgets/base",
            "_view_module_version": "1.2.0",
            "_view_name": "StyleView",
            "bar_color": null,
            "description_width": ""
          }
        },
        "912a9e6bed9843eb978b35c4266bb8a7": {
          "model_module": "@jupyter-widgets/base",
          "model_module_version": "1.2.0",
          "model_name": "LayoutModel",
          "state": {
            "_model_module": "@jupyter-widgets/base",
            "_model_module_version": "1.2.0",
            "_model_name": "LayoutModel",
            "_view_count": null,
            "_view_module": "@jupyter-widgets/base",
            "_view_module_version": "1.2.0",
            "_view_name": "LayoutView",
            "align_content": null,
            "align_items": null,
            "align_self": null,
            "border": null,
            "bottom": null,
            "display": null,
            "flex": null,
            "flex_flow": null,
            "grid_area": null,
            "grid_auto_columns": null,
            "grid_auto_flow": null,
            "grid_auto_rows": null,
            "grid_column": null,
            "grid_gap": null,
            "grid_row": null,
            "grid_template_areas": null,
            "grid_template_columns": null,
            "grid_template_rows": null,
            "height": null,
            "justify_content": null,
            "justify_items": null,
            "left": null,
            "margin": null,
            "max_height": null,
            "max_width": null,
            "min_height": null,
            "min_width": null,
            "object_fit": null,
            "object_position": null,
            "order": null,
            "overflow": null,
            "overflow_x": null,
            "overflow_y": null,
            "padding": null,
            "right": null,
            "top": null,
            "visibility": null,
            "width": null
          }
        },
        "9500e7d4470e4febab3a15ae6c11b4d1": {
          "model_module": "@jupyter-widgets/base",
          "model_module_version": "1.2.0",
          "model_name": "LayoutModel",
          "state": {
            "_model_module": "@jupyter-widgets/base",
            "_model_module_version": "1.2.0",
            "_model_name": "LayoutModel",
            "_view_count": null,
            "_view_module": "@jupyter-widgets/base",
            "_view_module_version": "1.2.0",
            "_view_name": "LayoutView",
            "align_content": null,
            "align_items": null,
            "align_self": null,
            "border": null,
            "bottom": null,
            "display": null,
            "flex": null,
            "flex_flow": null,
            "grid_area": null,
            "grid_auto_columns": null,
            "grid_auto_flow": null,
            "grid_auto_rows": null,
            "grid_column": null,
            "grid_gap": null,
            "grid_row": null,
            "grid_template_areas": null,
            "grid_template_columns": null,
            "grid_template_rows": null,
            "height": null,
            "justify_content": null,
            "justify_items": null,
            "left": null,
            "margin": null,
            "max_height": null,
            "max_width": null,
            "min_height": null,
            "min_width": null,
            "object_fit": null,
            "object_position": null,
            "order": null,
            "overflow": null,
            "overflow_x": null,
            "overflow_y": null,
            "padding": null,
            "right": null,
            "top": null,
            "visibility": null,
            "width": null
          }
        },
        "95f7736acda04035a0173edfae44f0f6": {
          "model_module": "@jupyter-widgets/base",
          "model_module_version": "1.2.0",
          "model_name": "LayoutModel",
          "state": {
            "_model_module": "@jupyter-widgets/base",
            "_model_module_version": "1.2.0",
            "_model_name": "LayoutModel",
            "_view_count": null,
            "_view_module": "@jupyter-widgets/base",
            "_view_module_version": "1.2.0",
            "_view_name": "LayoutView",
            "align_content": null,
            "align_items": null,
            "align_self": null,
            "border": null,
            "bottom": null,
            "display": null,
            "flex": null,
            "flex_flow": null,
            "grid_area": null,
            "grid_auto_columns": null,
            "grid_auto_flow": null,
            "grid_auto_rows": null,
            "grid_column": null,
            "grid_gap": null,
            "grid_row": null,
            "grid_template_areas": null,
            "grid_template_columns": null,
            "grid_template_rows": null,
            "height": null,
            "justify_content": null,
            "justify_items": null,
            "left": null,
            "margin": null,
            "max_height": null,
            "max_width": null,
            "min_height": null,
            "min_width": null,
            "object_fit": null,
            "object_position": null,
            "order": null,
            "overflow": null,
            "overflow_x": null,
            "overflow_y": null,
            "padding": null,
            "right": null,
            "top": null,
            "visibility": null,
            "width": null
          }
        },
        "9c4351779de2455c87422d67535c45dd": {
          "model_module": "@jupyter-widgets/controls",
          "model_module_version": "1.5.0",
          "model_name": "HTMLModel",
          "state": {
            "_dom_classes": [],
            "_model_module": "@jupyter-widgets/controls",
            "_model_module_version": "1.5.0",
            "_model_name": "HTMLModel",
            "_view_count": null,
            "_view_module": "@jupyter-widgets/controls",
            "_view_module_version": "1.5.0",
            "_view_name": "HTMLView",
            "description": "",
            "description_tooltip": null,
            "layout": "IPY_MODEL_cfc655b1fd4d4c63809d704cd6547f21",
            "placeholder": "​",
            "style": "IPY_MODEL_23193f99fd79491886a1aabd639a1ed3",
            "value": " 1.24k/1.24k [00:00&lt;00:00, 21.3kB/s]"
          }
        },
        "9c758e6ae32142daa868b41434ada3c8": {
          "model_module": "@jupyter-widgets/controls",
          "model_module_version": "1.5.0",
          "model_name": "HTMLModel",
          "state": {
            "_dom_classes": [],
            "_model_module": "@jupyter-widgets/controls",
            "_model_module_version": "1.5.0",
            "_model_name": "HTMLModel",
            "_view_count": null,
            "_view_module": "@jupyter-widgets/controls",
            "_view_module_version": "1.5.0",
            "_view_name": "HTMLView",
            "description": "",
            "description_tooltip": null,
            "layout": "IPY_MODEL_9500e7d4470e4febab3a15ae6c11b4d1",
            "placeholder": "​",
            "style": "IPY_MODEL_f76314b30cd948ad9b2fb4d689e794fb",
            "value": " 711k/711k [00:00&lt;00:00, 5.26MB/s]"
          }
        },
        "a74687d73b5e4943aac80e0eb6eb6bee": {
          "model_module": "@jupyter-widgets/controls",
          "model_module_version": "1.5.0",
          "model_name": "DescriptionStyleModel",
          "state": {
            "_model_module": "@jupyter-widgets/controls",
            "_model_module_version": "1.5.0",
            "_model_name": "DescriptionStyleModel",
            "_view_count": null,
            "_view_module": "@jupyter-widgets/base",
            "_view_module_version": "1.2.0",
            "_view_name": "StyleView",
            "description_width": ""
          }
        },
        "a893a8e8d504493ea151a19bbdf177c4": {
          "model_module": "@jupyter-widgets/controls",
          "model_module_version": "1.5.0",
          "model_name": "DescriptionStyleModel",
          "state": {
            "_model_module": "@jupyter-widgets/controls",
            "_model_module_version": "1.5.0",
            "_model_name": "DescriptionStyleModel",
            "_view_count": null,
            "_view_module": "@jupyter-widgets/base",
            "_view_module_version": "1.2.0",
            "_view_name": "StyleView",
            "description_width": ""
          }
        },
        "ad8d6fbb6c83483ea234c72d1720ca03": {
          "model_module": "@jupyter-widgets/base",
          "model_module_version": "1.2.0",
          "model_name": "LayoutModel",
          "state": {
            "_model_module": "@jupyter-widgets/base",
            "_model_module_version": "1.2.0",
            "_model_name": "LayoutModel",
            "_view_count": null,
            "_view_module": "@jupyter-widgets/base",
            "_view_module_version": "1.2.0",
            "_view_name": "LayoutView",
            "align_content": null,
            "align_items": null,
            "align_self": null,
            "border": null,
            "bottom": null,
            "display": null,
            "flex": null,
            "flex_flow": null,
            "grid_area": null,
            "grid_auto_columns": null,
            "grid_auto_flow": null,
            "grid_auto_rows": null,
            "grid_column": null,
            "grid_gap": null,
            "grid_row": null,
            "grid_template_areas": null,
            "grid_template_columns": null,
            "grid_template_rows": null,
            "height": null,
            "justify_content": null,
            "justify_items": null,
            "left": null,
            "margin": null,
            "max_height": null,
            "max_width": null,
            "min_height": null,
            "min_width": null,
            "object_fit": null,
            "object_position": null,
            "order": null,
            "overflow": null,
            "overflow_x": null,
            "overflow_y": null,
            "padding": null,
            "right": null,
            "top": null,
            "visibility": null,
            "width": null
          }
        },
        "bcd4b04bb2244894b90ccf47e636117f": {
          "model_module": "@jupyter-widgets/controls",
          "model_module_version": "1.5.0",
          "model_name": "ProgressStyleModel",
          "state": {
            "_model_module": "@jupyter-widgets/controls",
            "_model_module_version": "1.5.0",
            "_model_name": "ProgressStyleModel",
            "_view_count": null,
            "_view_module": "@jupyter-widgets/base",
            "_view_module_version": "1.2.0",
            "_view_name": "StyleView",
            "bar_color": null,
            "description_width": ""
          }
        },
        "bed26392d1be41f08717096ab3102d51": {
          "model_module": "@jupyter-widgets/base",
          "model_module_version": "1.2.0",
          "model_name": "LayoutModel",
          "state": {
            "_model_module": "@jupyter-widgets/base",
            "_model_module_version": "1.2.0",
            "_model_name": "LayoutModel",
            "_view_count": null,
            "_view_module": "@jupyter-widgets/base",
            "_view_module_version": "1.2.0",
            "_view_name": "LayoutView",
            "align_content": null,
            "align_items": null,
            "align_self": null,
            "border": null,
            "bottom": null,
            "display": null,
            "flex": null,
            "flex_flow": null,
            "grid_area": null,
            "grid_auto_columns": null,
            "grid_auto_flow": null,
            "grid_auto_rows": null,
            "grid_column": null,
            "grid_gap": null,
            "grid_row": null,
            "grid_template_areas": null,
            "grid_template_columns": null,
            "grid_template_rows": null,
            "height": null,
            "justify_content": null,
            "justify_items": null,
            "left": null,
            "margin": null,
            "max_height": null,
            "max_width": null,
            "min_height": null,
            "min_width": null,
            "object_fit": null,
            "object_position": null,
            "order": null,
            "overflow": null,
            "overflow_x": null,
            "overflow_y": null,
            "padding": null,
            "right": null,
            "top": null,
            "visibility": null,
            "width": null
          }
        },
        "c7b894782932462ba78b1570374980cd": {
          "model_module": "@jupyter-widgets/controls",
          "model_module_version": "1.5.0",
          "model_name": "DescriptionStyleModel",
          "state": {
            "_model_module": "@jupyter-widgets/controls",
            "_model_module_version": "1.5.0",
            "_model_name": "DescriptionStyleModel",
            "_view_count": null,
            "_view_module": "@jupyter-widgets/base",
            "_view_module_version": "1.2.0",
            "_view_name": "StyleView",
            "description_width": ""
          }
        },
        "c816e73fe3c646248794e8d72406190f": {
          "model_module": "@jupyter-widgets/controls",
          "model_module_version": "1.5.0",
          "model_name": "ProgressStyleModel",
          "state": {
            "_model_module": "@jupyter-widgets/controls",
            "_model_module_version": "1.5.0",
            "_model_name": "ProgressStyleModel",
            "_view_count": null,
            "_view_module": "@jupyter-widgets/base",
            "_view_module_version": "1.2.0",
            "_view_name": "StyleView",
            "bar_color": null,
            "description_width": ""
          }
        },
        "c98ced5b403b420b81ea48752fb93999": {
          "model_module": "@jupyter-widgets/controls",
          "model_module_version": "1.5.0",
          "model_name": "HBoxModel",
          "state": {
            "_dom_classes": [],
            "_model_module": "@jupyter-widgets/controls",
            "_model_module_version": "1.5.0",
            "_model_name": "HBoxModel",
            "_view_count": null,
            "_view_module": "@jupyter-widgets/controls",
            "_view_module_version": "1.5.0",
            "_view_name": "HBoxView",
            "box_style": "",
            "children": [
              "IPY_MODEL_2805e6fe7924460889bfb320d83cb435",
              "IPY_MODEL_1d4632f9eb8c4d3abb3afb2c39e12a6c",
              "IPY_MODEL_88b42f57a9534a7eb222c9524e7f17bd"
            ],
            "layout": "IPY_MODEL_29115ff065f247f5904ce3b03b7ae4f1"
          }
        },
        "cfc655b1fd4d4c63809d704cd6547f21": {
          "model_module": "@jupyter-widgets/base",
          "model_module_version": "1.2.0",
          "model_name": "LayoutModel",
          "state": {
            "_model_module": "@jupyter-widgets/base",
            "_model_module_version": "1.2.0",
            "_model_name": "LayoutModel",
            "_view_count": null,
            "_view_module": "@jupyter-widgets/base",
            "_view_module_version": "1.2.0",
            "_view_name": "LayoutView",
            "align_content": null,
            "align_items": null,
            "align_self": null,
            "border": null,
            "bottom": null,
            "display": null,
            "flex": null,
            "flex_flow": null,
            "grid_area": null,
            "grid_auto_columns": null,
            "grid_auto_flow": null,
            "grid_auto_rows": null,
            "grid_column": null,
            "grid_gap": null,
            "grid_row": null,
            "grid_template_areas": null,
            "grid_template_columns": null,
            "grid_template_rows": null,
            "height": null,
            "justify_content": null,
            "justify_items": null,
            "left": null,
            "margin": null,
            "max_height": null,
            "max_width": null,
            "min_height": null,
            "min_width": null,
            "object_fit": null,
            "object_position": null,
            "order": null,
            "overflow": null,
            "overflow_x": null,
            "overflow_y": null,
            "padding": null,
            "right": null,
            "top": null,
            "visibility": null,
            "width": null
          }
        },
        "d014f1aa04cd441b9c506405a02b0b6f": {
          "model_module": "@jupyter-widgets/controls",
          "model_module_version": "1.5.0",
          "model_name": "HTMLModel",
          "state": {
            "_dom_classes": [],
            "_model_module": "@jupyter-widgets/controls",
            "_model_module_version": "1.5.0",
            "_model_name": "HTMLModel",
            "_view_count": null,
            "_view_module": "@jupyter-widgets/controls",
            "_view_module_version": "1.5.0",
            "_view_name": "HTMLView",
            "description": "",
            "description_tooltip": null,
            "layout": "IPY_MODEL_912a9e6bed9843eb978b35c4266bb8a7",
            "placeholder": "​",
            "style": "IPY_MODEL_a74687d73b5e4943aac80e0eb6eb6bee",
            "value": "Fetching 5 files: 100%"
          }
        },
        "d01bf3d653b84399a8034fe8d15eb2df": {
          "model_module": "@jupyter-widgets/base",
          "model_module_version": "1.2.0",
          "model_name": "LayoutModel",
          "state": {
            "_model_module": "@jupyter-widgets/base",
            "_model_module_version": "1.2.0",
            "_model_name": "LayoutModel",
            "_view_count": null,
            "_view_module": "@jupyter-widgets/base",
            "_view_module_version": "1.2.0",
            "_view_name": "LayoutView",
            "align_content": null,
            "align_items": null,
            "align_self": null,
            "border": null,
            "bottom": null,
            "display": null,
            "flex": null,
            "flex_flow": null,
            "grid_area": null,
            "grid_auto_columns": null,
            "grid_auto_flow": null,
            "grid_auto_rows": null,
            "grid_column": null,
            "grid_gap": null,
            "grid_row": null,
            "grid_template_areas": null,
            "grid_template_columns": null,
            "grid_template_rows": null,
            "height": null,
            "justify_content": null,
            "justify_items": null,
            "left": null,
            "margin": null,
            "max_height": null,
            "max_width": null,
            "min_height": null,
            "min_width": null,
            "object_fit": null,
            "object_position": null,
            "order": null,
            "overflow": null,
            "overflow_x": null,
            "overflow_y": null,
            "padding": null,
            "right": null,
            "top": null,
            "visibility": null,
            "width": null
          }
        },
        "d054424490ce4c5f9a419c9670be4622": {
          "model_module": "@jupyter-widgets/base",
          "model_module_version": "1.2.0",
          "model_name": "LayoutModel",
          "state": {
            "_model_module": "@jupyter-widgets/base",
            "_model_module_version": "1.2.0",
            "_model_name": "LayoutModel",
            "_view_count": null,
            "_view_module": "@jupyter-widgets/base",
            "_view_module_version": "1.2.0",
            "_view_name": "LayoutView",
            "align_content": null,
            "align_items": null,
            "align_self": null,
            "border": null,
            "bottom": null,
            "display": null,
            "flex": null,
            "flex_flow": null,
            "grid_area": null,
            "grid_auto_columns": null,
            "grid_auto_flow": null,
            "grid_auto_rows": null,
            "grid_column": null,
            "grid_gap": null,
            "grid_row": null,
            "grid_template_areas": null,
            "grid_template_columns": null,
            "grid_template_rows": null,
            "height": null,
            "justify_content": null,
            "justify_items": null,
            "left": null,
            "margin": null,
            "max_height": null,
            "max_width": null,
            "min_height": null,
            "min_width": null,
            "object_fit": null,
            "object_position": null,
            "order": null,
            "overflow": null,
            "overflow_x": null,
            "overflow_y": null,
            "padding": null,
            "right": null,
            "top": null,
            "visibility": null,
            "width": null
          }
        },
        "d173ac3afd484029bc88cc88b6fc2cb2": {
          "model_module": "@jupyter-widgets/controls",
          "model_module_version": "1.5.0",
          "model_name": "ProgressStyleModel",
          "state": {
            "_model_module": "@jupyter-widgets/controls",
            "_model_module_version": "1.5.0",
            "_model_name": "ProgressStyleModel",
            "_view_count": null,
            "_view_module": "@jupyter-widgets/base",
            "_view_module_version": "1.2.0",
            "_view_name": "StyleView",
            "bar_color": null,
            "description_width": ""
          }
        },
        "d80b52295b6d476fbd1ba485839cea99": {
          "model_module": "@jupyter-widgets/controls",
          "model_module_version": "1.5.0",
          "model_name": "ProgressStyleModel",
          "state": {
            "_model_module": "@jupyter-widgets/controls",
            "_model_module_version": "1.5.0",
            "_model_name": "ProgressStyleModel",
            "_view_count": null,
            "_view_module": "@jupyter-widgets/base",
            "_view_module_version": "1.2.0",
            "_view_name": "StyleView",
            "bar_color": null,
            "description_width": ""
          }
        },
        "db3744be6080420da7033cbad5300533": {
          "model_module": "@jupyter-widgets/controls",
          "model_module_version": "1.5.0",
          "model_name": "FloatProgressModel",
          "state": {
            "_dom_classes": [],
            "_model_module": "@jupyter-widgets/controls",
            "_model_module_version": "1.5.0",
            "_model_name": "FloatProgressModel",
            "_view_count": null,
            "_view_module": "@jupyter-widgets/controls",
            "_view_module_version": "1.5.0",
            "_view_name": "ProgressView",
            "bar_style": "success",
            "description": "",
            "description_tooltip": null,
            "layout": "IPY_MODEL_66ff31fdb7df46328771799f6ccac177",
            "max": 5,
            "min": 0,
            "orientation": "horizontal",
            "style": "IPY_MODEL_bcd4b04bb2244894b90ccf47e636117f",
            "value": 5
          }
        },
        "dca18db64637425a9076ff5daa581d1c": {
          "model_module": "@jupyter-widgets/controls",
          "model_module_version": "1.5.0",
          "model_name": "FloatProgressModel",
          "state": {
            "_dom_classes": [],
            "_model_module": "@jupyter-widgets/controls",
            "_model_module_version": "1.5.0",
            "_model_name": "FloatProgressModel",
            "_view_count": null,
            "_view_module": "@jupyter-widgets/controls",
            "_view_module_version": "1.5.0",
            "_view_name": "ProgressView",
            "bar_style": "success",
            "description": "",
            "description_tooltip": null,
            "layout": "IPY_MODEL_854be41d63cb4d98bd7ecea5dc6fd36d",
            "max": 695,
            "min": 0,
            "orientation": "horizontal",
            "style": "IPY_MODEL_8b2ede0170f14e2986f0be82d1b35b9e",
            "value": 695
          }
        },
        "dded4c34e591458da0fc36117023f72e": {
          "model_module": "@jupyter-widgets/base",
          "model_module_version": "1.2.0",
          "model_name": "LayoutModel",
          "state": {
            "_model_module": "@jupyter-widgets/base",
            "_model_module_version": "1.2.0",
            "_model_name": "LayoutModel",
            "_view_count": null,
            "_view_module": "@jupyter-widgets/base",
            "_view_module_version": "1.2.0",
            "_view_name": "LayoutView",
            "align_content": null,
            "align_items": null,
            "align_self": null,
            "border": null,
            "bottom": null,
            "display": null,
            "flex": null,
            "flex_flow": null,
            "grid_area": null,
            "grid_auto_columns": null,
            "grid_auto_flow": null,
            "grid_auto_rows": null,
            "grid_column": null,
            "grid_gap": null,
            "grid_row": null,
            "grid_template_areas": null,
            "grid_template_columns": null,
            "grid_template_rows": null,
            "height": null,
            "justify_content": null,
            "justify_items": null,
            "left": null,
            "margin": null,
            "max_height": null,
            "max_width": null,
            "min_height": null,
            "min_width": null,
            "object_fit": null,
            "object_position": null,
            "order": null,
            "overflow": null,
            "overflow_x": null,
            "overflow_y": null,
            "padding": null,
            "right": null,
            "top": null,
            "visibility": null,
            "width": null
          }
        },
        "dfb1863a9ac843beb6565d81e451c497": {
          "model_module": "@jupyter-widgets/controls",
          "model_module_version": "1.5.0",
          "model_name": "FloatProgressModel",
          "state": {
            "_dom_classes": [],
            "_model_module": "@jupyter-widgets/controls",
            "_model_module_version": "1.5.0",
            "_model_name": "FloatProgressModel",
            "_view_count": null,
            "_view_module": "@jupyter-widgets/controls",
            "_view_module_version": "1.5.0",
            "_view_name": "ProgressView",
            "bar_style": "success",
            "description": "",
            "description_tooltip": null,
            "layout": "IPY_MODEL_3c39e15ac2424e959425400f2724e9d0",
            "max": 1242,
            "min": 0,
            "orientation": "horizontal",
            "style": "IPY_MODEL_d173ac3afd484029bc88cc88b6fc2cb2",
            "value": 1242
          }
        },
        "e028a62aa9ec4812816bf99188f100cc": {
          "model_module": "@jupyter-widgets/controls",
          "model_module_version": "1.5.0",
          "model_name": "FloatProgressModel",
          "state": {
            "_dom_classes": [],
            "_model_module": "@jupyter-widgets/controls",
            "_model_module_version": "1.5.0",
            "_model_name": "FloatProgressModel",
            "_view_count": null,
            "_view_module": "@jupyter-widgets/controls",
            "_view_module_version": "1.5.0",
            "_view_name": "ProgressView",
            "bar_style": "success",
            "description": "",
            "description_tooltip": null,
            "layout": "IPY_MODEL_4a4768159f6b4041aa70263cb11580a0",
            "max": 711396,
            "min": 0,
            "orientation": "horizontal",
            "style": "IPY_MODEL_c816e73fe3c646248794e8d72406190f",
            "value": 711396
          }
        },
        "e40bc5d1fb7f4027a1704039b0dce33e": {
          "model_module": "@jupyter-widgets/controls",
          "model_module_version": "1.5.0",
          "model_name": "HTMLModel",
          "state": {
            "_dom_classes": [],
            "_model_module": "@jupyter-widgets/controls",
            "_model_module_version": "1.5.0",
            "_model_name": "HTMLModel",
            "_view_count": null,
            "_view_module": "@jupyter-widgets/controls",
            "_view_module_version": "1.5.0",
            "_view_name": "HTMLView",
            "description": "",
            "description_tooltip": null,
            "layout": "IPY_MODEL_95f7736acda04035a0173edfae44f0f6",
            "placeholder": "​",
            "style": "IPY_MODEL_c7b894782932462ba78b1570374980cd",
            "value": "tokenizer_config.json: 100%"
          }
        },
        "e53163a41cbc4303afb358f0eca23c41": {
          "model_module": "@jupyter-widgets/base",
          "model_module_version": "1.2.0",
          "model_name": "LayoutModel",
          "state": {
            "_model_module": "@jupyter-widgets/base",
            "_model_module_version": "1.2.0",
            "_model_name": "LayoutModel",
            "_view_count": null,
            "_view_module": "@jupyter-widgets/base",
            "_view_module_version": "1.2.0",
            "_view_name": "LayoutView",
            "align_content": null,
            "align_items": null,
            "align_self": null,
            "border": null,
            "bottom": null,
            "display": null,
            "flex": null,
            "flex_flow": null,
            "grid_area": null,
            "grid_auto_columns": null,
            "grid_auto_flow": null,
            "grid_auto_rows": null,
            "grid_column": null,
            "grid_gap": null,
            "grid_row": null,
            "grid_template_areas": null,
            "grid_template_columns": null,
            "grid_template_rows": null,
            "height": null,
            "justify_content": null,
            "justify_items": null,
            "left": null,
            "margin": null,
            "max_height": null,
            "max_width": null,
            "min_height": null,
            "min_width": null,
            "object_fit": null,
            "object_position": null,
            "order": null,
            "overflow": null,
            "overflow_x": null,
            "overflow_y": null,
            "padding": null,
            "right": null,
            "top": null,
            "visibility": null,
            "width": null
          }
        },
        "e80a2a2765684fcb965f99814dd4bdee": {
          "model_module": "@jupyter-widgets/base",
          "model_module_version": "1.2.0",
          "model_name": "LayoutModel",
          "state": {
            "_model_module": "@jupyter-widgets/base",
            "_model_module_version": "1.2.0",
            "_model_name": "LayoutModel",
            "_view_count": null,
            "_view_module": "@jupyter-widgets/base",
            "_view_module_version": "1.2.0",
            "_view_name": "LayoutView",
            "align_content": null,
            "align_items": null,
            "align_self": null,
            "border": null,
            "bottom": null,
            "display": null,
            "flex": null,
            "flex_flow": null,
            "grid_area": null,
            "grid_auto_columns": null,
            "grid_auto_flow": null,
            "grid_auto_rows": null,
            "grid_column": null,
            "grid_gap": null,
            "grid_row": null,
            "grid_template_areas": null,
            "grid_template_columns": null,
            "grid_template_rows": null,
            "height": null,
            "justify_content": null,
            "justify_items": null,
            "left": null,
            "margin": null,
            "max_height": null,
            "max_width": null,
            "min_height": null,
            "min_width": null,
            "object_fit": null,
            "object_position": null,
            "order": null,
            "overflow": null,
            "overflow_x": null,
            "overflow_y": null,
            "padding": null,
            "right": null,
            "top": null,
            "visibility": null,
            "width": null
          }
        },
        "ea82658f9db146cbbff9d323c3b61170": {
          "model_module": "@jupyter-widgets/controls",
          "model_module_version": "1.5.0",
          "model_name": "HTMLModel",
          "state": {
            "_dom_classes": [],
            "_model_module": "@jupyter-widgets/controls",
            "_model_module_version": "1.5.0",
            "_model_name": "HTMLModel",
            "_view_count": null,
            "_view_module": "@jupyter-widgets/controls",
            "_view_module_version": "1.5.0",
            "_view_name": "HTMLView",
            "description": "",
            "description_tooltip": null,
            "layout": "IPY_MODEL_e80a2a2765684fcb965f99814dd4bdee",
            "placeholder": "​",
            "style": "IPY_MODEL_2a582e92b615436db246663e0477bad2",
            "value": " 695/695 [00:00&lt;00:00, 8.39kB/s]"
          }
        },
        "ee02167c18074b9ebf9fbafb596b355e": {
          "model_module": "@jupyter-widgets/controls",
          "model_module_version": "1.5.0",
          "model_name": "HTMLModel",
          "state": {
            "_dom_classes": [],
            "_model_module": "@jupyter-widgets/controls",
            "_model_module_version": "1.5.0",
            "_model_name": "HTMLModel",
            "_view_count": null,
            "_view_module": "@jupyter-widgets/controls",
            "_view_module_version": "1.5.0",
            "_view_name": "HTMLView",
            "description": "",
            "description_tooltip": null,
            "layout": "IPY_MODEL_14a5484aa00c46e6b58951f02c91b2d9",
            "placeholder": "​",
            "style": "IPY_MODEL_a893a8e8d504493ea151a19bbdf177c4",
            "value": "tokenizer.json: 100%"
          }
        },
        "efbfbb2ae6764542aa2635d1a55d48be": {
          "model_module": "@jupyter-widgets/controls",
          "model_module_version": "1.5.0",
          "model_name": "FloatProgressModel",
          "state": {
            "_dom_classes": [],
            "_model_module": "@jupyter-widgets/controls",
            "_model_module_version": "1.5.0",
            "_model_name": "FloatProgressModel",
            "_view_count": null,
            "_view_module": "@jupyter-widgets/controls",
            "_view_module_version": "1.5.0",
            "_view_name": "ProgressView",
            "bar_style": "success",
            "description": "",
            "description_tooltip": null,
            "layout": "IPY_MODEL_76b7bea537c44996bf6408704a6c9dd4",
            "max": 217824172,
            "min": 0,
            "orientation": "horizontal",
            "style": "IPY_MODEL_64a1ea67781e4772b1a82c445407403d",
            "value": 217824172
          }
        },
        "f09afe77ff92440a97ff9c8f9d2eae4a": {
          "model_module": "@jupyter-widgets/controls",
          "model_module_version": "1.5.0",
          "model_name": "HBoxModel",
          "state": {
            "_dom_classes": [],
            "_model_module": "@jupyter-widgets/controls",
            "_model_module_version": "1.5.0",
            "_model_name": "HBoxModel",
            "_view_count": null,
            "_view_module": "@jupyter-widgets/controls",
            "_view_module_version": "1.5.0",
            "_view_name": "HBoxView",
            "box_style": "",
            "children": [
              "IPY_MODEL_ee02167c18074b9ebf9fbafb596b355e",
              "IPY_MODEL_e028a62aa9ec4812816bf99188f100cc",
              "IPY_MODEL_9c758e6ae32142daa868b41434ada3c8"
            ],
            "layout": "IPY_MODEL_566e471e68644fe8b991a5bd08f3d89e"
          }
        },
        "f76314b30cd948ad9b2fb4d689e794fb": {
          "model_module": "@jupyter-widgets/controls",
          "model_module_version": "1.5.0",
          "model_name": "DescriptionStyleModel",
          "state": {
            "_model_module": "@jupyter-widgets/controls",
            "_model_module_version": "1.5.0",
            "_model_name": "DescriptionStyleModel",
            "_view_count": null,
            "_view_module": "@jupyter-widgets/base",
            "_view_module_version": "1.2.0",
            "_view_name": "StyleView",
            "description_width": ""
          }
        },
        "fe270a472060479490b13428f5bc712c": {
          "model_module": "@jupyter-widgets/controls",
          "model_module_version": "1.5.0",
          "model_name": "HTMLModel",
          "state": {
            "_dom_classes": [],
            "_model_module": "@jupyter-widgets/controls",
            "_model_module_version": "1.5.0",
            "_model_name": "HTMLModel",
            "_view_count": null,
            "_view_module": "@jupyter-widgets/controls",
            "_view_module_version": "1.5.0",
            "_view_name": "HTMLView",
            "description": "",
            "description_tooltip": null,
            "layout": "IPY_MODEL_d054424490ce4c5f9a419c9670be4622",
            "placeholder": "​",
            "style": "IPY_MODEL_63953ed7468c426d9889c05c36bceba6",
            "value": " 5/5 [00:02&lt;00:00,  1.52s/it]"
          }
        }
      }
    }
  },
  "nbformat": 4,
  "nbformat_minor": 0
}
