{
 "cells": [
  {
   "cell_type": "code",
   "execution_count": 6,
   "metadata": {
    "colab": {
     "base_uri": "https://localhost:8080/"
    },
    "id": "YsxlP-B0x40_",
    "outputId": "60e3ec13-1254-478b-a399-8c6e2255ae9f"
   },
   "outputs": [
    {
     "name": "stdout",
     "output_type": "stream",
     "text": [
      "\u001b[31mERROR: Could not find a version that satisfies the requirement onnxruntime<2.0.0,>=1.17.0 (from fastembed) (from versions: 1.12.0, 1.12.1, 1.13.1, 1.14.0, 1.14.1, 1.15.0, 1.15.1, 1.16.0, 1.16.1, 1.16.2, 1.16.3)\u001b[0m\u001b[31m\n",
      "\u001b[0m\u001b[31mERROR: No matching distribution found for onnxruntime<2.0.0,>=1.17.0\u001b[0m\u001b[31m\n",
      "\u001b[0mRequirement already satisfied: groq in /home/ec2-user/anaconda3/envs/python3/lib/python3.10/site-packages (0.9.0)\n",
      "Requirement already satisfied: anyio<5,>=3.5.0 in /home/ec2-user/anaconda3/envs/python3/lib/python3.10/site-packages (from groq) (4.3.0)\n",
      "Requirement already satisfied: distro<2,>=1.7.0 in /home/ec2-user/anaconda3/envs/python3/lib/python3.10/site-packages (from groq) (1.9.0)\n",
      "Requirement already satisfied: httpx<1,>=0.23.0 in /home/ec2-user/anaconda3/envs/python3/lib/python3.10/site-packages (from groq) (0.27.0)\n",
      "Requirement already satisfied: pydantic<3,>=1.9.0 in /home/ec2-user/anaconda3/envs/python3/lib/python3.10/site-packages (from groq) (2.7.4)\n",
      "Requirement already satisfied: sniffio in /home/ec2-user/anaconda3/envs/python3/lib/python3.10/site-packages (from groq) (1.3.1)\n",
      "Requirement already satisfied: typing-extensions<5,>=4.7 in /home/ec2-user/anaconda3/envs/python3/lib/python3.10/site-packages (from groq) (4.10.0)\n",
      "Requirement already satisfied: idna>=2.8 in /home/ec2-user/anaconda3/envs/python3/lib/python3.10/site-packages (from anyio<5,>=3.5.0->groq) (3.6)\n",
      "Requirement already satisfied: exceptiongroup>=1.0.2 in /home/ec2-user/anaconda3/envs/python3/lib/python3.10/site-packages (from anyio<5,>=3.5.0->groq) (1.2.0)\n",
      "Requirement already satisfied: certifi in /home/ec2-user/anaconda3/envs/python3/lib/python3.10/site-packages (from httpx<1,>=0.23.0->groq) (2024.2.2)\n",
      "Requirement already satisfied: httpcore==1.* in /home/ec2-user/anaconda3/envs/python3/lib/python3.10/site-packages (from httpx<1,>=0.23.0->groq) (1.0.4)\n",
      "Requirement already satisfied: h11<0.15,>=0.13 in /home/ec2-user/anaconda3/envs/python3/lib/python3.10/site-packages (from httpcore==1.*->httpx<1,>=0.23.0->groq) (0.14.0)\n",
      "Requirement already satisfied: annotated-types>=0.4.0 in /home/ec2-user/anaconda3/envs/python3/lib/python3.10/site-packages (from pydantic<3,>=1.9.0->groq) (0.7.0)\n",
      "Requirement already satisfied: pydantic-core==2.18.4 in /home/ec2-user/anaconda3/envs/python3/lib/python3.10/site-packages (from pydantic<3,>=1.9.0->groq) (2.18.4)\n"
     ]
    }
   ],
   "source": [
    "!pip -qqq install pip --progress-bar off\n",
    "!pip -qqq install langchain-groq==0.1.3 --progress-bar off\n",
    "!pip -qqq install langchain==0.1.17 --progress-bar off\n",
    "!pip -qqq install llama-parse==0.1.3 --progress-bar off\n",
    "!pip -qqq install qdrant-client==1.9.1  --progress-bar off\n",
    "!pip -qqq install \"unstructured[md]\"==0.13.6 --progress-bar off\n",
    "!pip -qqq install fastembed==0.2.7 --progress-bar off\n",
    "!pip -qqq install flashrank==0.2.4 --progress-bar off\n",
    "!pip install groq --progress-bar off\n",
    "!pip install PyMuPDF --progress-bar off\n"
   ]
  },
  {
   "cell_type": "code",
   "execution_count": 9,
   "metadata": {
    "id": "mJI8VwKSx7_P"
   },
   "outputs": [],
   "source": [
    "import os\n",
    "import textwrap\n",
    "# from google.colab import userdata\n",
    "from IPython.display import Markdown\n",
    "from langchain.chains import RetrievalQA\n",
    "from langchain.prompts import PromptTemplate\n",
    "from langchain.retrievers import ContextualCompressionRetriever\n",
    "from langchain.retrievers.document_compressors import FlashrankRerank\n",
    "from langchain.text_splitter import RecursiveCharacterTextSplitter\n",
    "from langchain.vectorstores import Qdrant\n",
    "from langchain_community.document_loaders import UnstructuredMarkdownLoader\n",
    "from langchain_community.embeddings.fastembed import FastEmbedEmbeddings\n",
    "from langchain_core.prompts import ChatPromptTemplate\n",
    "from langchain_groq import ChatGroq\n",
    "from llama_parse import LlamaParse\n"
   ]
  },
  {
   "cell_type": "code",
   "execution_count": 30,
   "metadata": {
    "colab": {
     "base_uri": "https://localhost:8080/"
    },
    "id": "ZttwFtG-zC2_",
    "outputId": "9e586a0a-7a93-4a80-ef68-c7909af81bfb"
   },
   "outputs": [],
   "source": [
    "import boto3\n",
    "import fitz  # PyMuPDF\n",
    "\n",
    "# Specify the S3 bucket and file name\n",
    "s3_bucket = 'constitutionnepal'\n",
    "s3_key = 'constitutionnepal/Constitution_Nepal.pdf'\n",
    "local_filename = 'Constitution_Nepal.pdf'\n",
    "\n",
    "# Initialize a session using Amazon S3\n",
    "s3 = boto3.client('s3')\n",
    "\n",
    "# Download the file from S3\n",
    "s3.download_file(s3_bucket, s3_key, local_filename)\n",
    "\n",
    "# # Open the PDF file using PyMuPDF\n",
    "# document = fitz.open(local_filename)\n",
    "\n",
    "\n",
    "# page = document.load_page(0)\n",
    "# text = page.get_text()\n",
    "\n",
    "# print(text)\n",
    "\n",
    "# document.close()\n"
   ]
  },
  {
   "cell_type": "code",
   "execution_count": 22,
   "metadata": {
    "id": "wBQtkXUZ2Olx"
   },
   "outputs": [],
   "source": [
    "os.environ[\"GROQ_API_KEY\"] = \"\"\n",
    "\n",
    "# def print_response(response):\n",
    "\n",
    "def print_response(response):\n",
    "    response_txt = response[\"result\"]\n",
    "    for chunk in response_txt.split(\"\\n\"):\n",
    "        if not chunk:\n",
    "            print()\n",
    "            continue\n",
    "        print(\"\\n\".join(textwrap.wrap(chunk, 100, break_long_words=False)))\n",
    "\n"
   ]
  },
  {
   "cell_type": "markdown",
   "metadata": {
    "id": "kAX7aoAKAaH7"
   },
   "source": [
    "# Document parsing"
   ]
  },
  {
   "cell_type": "code",
   "execution_count": 23,
   "metadata": {
    "colab": {
     "base_uri": "https://localhost:8080/"
    },
    "id": "8j_7LHOQ2bBm",
    "outputId": "26286917-8660-4137-864a-59cd04e999f1"
   },
   "outputs": [
    {
     "name": "stdout",
     "output_type": "stream",
     "text": [
      "Started parsing the file under job_id cac11eca-e988-4f36-b9fa-8062fec85d7b\n"
     ]
    }
   ],
   "source": [
    "#Document parsing (cleaning the document)\n",
    "instruction = \"\"\"The provided document is the Constitution of Nepal 2072. This document encompasses all the legal frameworks, guidelines, and principles governing the country. It defines the structure of the state, the distribution of powers between different levels of government, and the fundamental rights and duties of citizens.\n",
    "\n",
    "When answering questions based on this document, please follow these guidelines:\n",
    "- Be precise and concise in your responses.\n",
    "- Ensure that the information is accurate and directly relevant to the question.\n",
    "- Highlight key articles, sections, or provisions where applicable.\n",
    "- Provide context to your answers when necessary, explaining the implications or importance of specific provisions.\n",
    "- Maintain a neutral and informative tone, avoiding any personal opinions or interpretations.\n",
    "\n",
    "The goal is to provide clear and informative answers that help the user understand the specific aspects of the Constitution of Nepal 2072.\"\"\"\n",
    "\n",
    "parser = LlamaParse(\n",
    "    api_key = '',\n",
    "    result_type = 'markdown',\n",
    "    parsing_instruction = instruction,\n",
    "    max_timeout = 5000,\n",
    "\n",
    ")\n",
    "\n",
    "llama_parse_document = await parser.aload_data(local_filename)"
   ]
  },
  {
   "cell_type": "code",
   "execution_count": 24,
   "metadata": {
    "colab": {
     "base_uri": "https://localhost:8080/",
     "height": 278
    },
    "id": "pccFZwPKAFaV",
    "outputId": "f9621a8d-c234-40b6-ab49-2a6a348073c7"
   },
   "outputs": [
    {
     "data": {
      "text/markdown": [
       "# The Constitution of Nepal\n",
       "\n",
       "|Date of Publication in Nepal Gazette|20 September 2015 (2072.6.3)|\n",
       "|---|---|\n",
       "|The Constitution of Nepal (First Amendment), 2016 (2072)|28 February 2016 (2072.11.16)|\n",
       "\n",
       "Preamble:\n",
       "\n",
       "We, the Sovereign People of Nepal, Internalizing the people's sovereign right and right to autonomy and self-rule, while maintaining freedom, sovereignty, territorial integrity, national unity, independence and dignity of Nepal, Recalling the glorious history of historic people's movements, armed conflict, dedication and sacrifice undertaken by the Nepalese people at times for the interest of the nation, democracy and progressive changes, and respecting for the martyrs and disappeared and victim citizens, Ending all forms of discrimination and oppression created by the feudalistic, autocratic, centralized, unitary system of governance, Protecting and promoting social and cultural solidarity, tolerance and harmony, and unity in diversity by recognizing the multi-ethnic, multi-lingua"
      ],
      "text/plain": [
       "<IPython.core.display.Markdown object>"
      ]
     },
     "execution_count": 24,
     "metadata": {},
     "output_type": "execute_result"
    }
   ],
   "source": [
    "parsed_doc = llama_parse_document[0]\n",
    "Markdown(parsed_doc.text[:1000])"
   ]
  },
  {
   "cell_type": "code",
   "execution_count": 36,
   "metadata": {
    "tags": []
   },
   "outputs": [
    {
     "name": "stdout",
     "output_type": "stream",
     "text": [
      "Processed file has been uploaded to s3://constitutionnepal/constitutionnepal/Processed_Constitution_Nepal.md\n"
     ]
    }
   ],
   "source": [
    "output_file_key = 'constitutionnepal/Processed_Constitution_Nepal.md'\n",
    "local_output_file_name = 'Processed_Constitution_Nepal.md'\n",
    "\n",
    "# Save the cleaned text to a new PDF (assuming you have a way to convert text to PDF)\n",
    "with open(local_output_file_name, 'w') as file:\n",
    "    file.write(parsed_doc.text)\n",
    "\n",
    "# Upload the cleaned file back to S3\n",
    "s3.upload_file(local_output_file_name, bucket_name, output_file_key)\n",
    "\n",
    "print(f'Processed file has been uploaded to s3://{bucket_name}/{output_file_key}')"
   ]
  },
  {
   "cell_type": "markdown",
   "metadata": {
    "id": "xbBQGzBvDmiS"
   },
   "source": [
    "# Vector embedding"
   ]
  },
  {
   "cell_type": "code",
   "execution_count": 37,
   "metadata": {
    "colab": {
     "base_uri": "https://localhost:8080/"
    },
    "id": "PPwAFiiYC5y9",
    "outputId": "4e88e39d-801b-4279-aa57-849441fe074a"
   },
   "outputs": [
    {
     "name": "stderr",
     "output_type": "stream",
     "text": [
      "[nltk_data] Downloading package averaged_perceptron_tagger to\n",
      "[nltk_data]     /home/ec2-user/nltk_data...\n",
      "[nltk_data]   Unzipping taggers/averaged_perceptron_tagger.zip.\n"
     ]
    }
   ],
   "source": [
    "# Handle markdown file\n",
    "loader = UnstructuredMarkdownLoader(local_output_file_name)\n",
    "loaded_documents = loader.load()"
   ]
  },
  {
   "cell_type": "code",
   "execution_count": 38,
   "metadata": {
    "colab": {
     "base_uri": "https://localhost:8080/"
    },
    "id": "I1StfBJaECKh",
    "outputId": "e86b59a9-8e05-42d9-807c-f44e7736d8a9"
   },
   "outputs": [
    {
     "name": "stdout",
     "output_type": "stream",
     "text": [
      "The Constitution of Nepal\n",
      "\n",
      "Date of Publication in Nepal Gazette 20 September 2015 (2072.6.3) The Constitution of Nepal (First Amendment), 2016 (2072) 28 February 2016 (2072.11.16)\n",
      "\n",
      "Preamble:\n",
      "\n",
      "We, the Sovereign People of Nepal, Internalizing the people's sovereign right and right to autonomy and self-rule, while maintaining freedom, sovereignty, territorial integrity, national unity, independence and dignity of Nepal, Recalling the glorious history of historic people's movements, armed conflict, dedication and sacrifice undertaken by the Nepalese people at times for the interest of the nation, democracy and progressive changes, and respecting for the martyrs and disappeared and victim citizens, Ending all forms of discrimination and oppression created by the feudalistic, autocratic, centralized, unitary system of governance, Protecting and promoting social and cultural solidarity, tolerance and harmony, and unity in diversity by recognizing the multi-ethnic, multi-lingual, multi-religious, multi-cultural and diverse regional characteristics, resolving to build an egalitarian society founded on the proportional inclusive and participatory principles in order to ensure economic equality, prosperity and social justice, by eliminating discrimination based on class, caste, region, language, religion and gender and all forms of caste-based untouchability.\n",
      "\n",
      "Being committed to socialism based on democratic norms and values including the people's competitive multiparty democratic system of governance, civil liberties, fundamental rights, human rights, adult franchise, periodic elections, full freedom of the press, and independent, impartial and competent judiciary and concept of the rule of law, and build a prosperous nation, Do hereby pass and promulgate this Constitution, through the Constituent Assembly, in order to fulfil the aspirations for sustainable peace, good governance, development and prosperity through the federal, democratic, republican system of governance.\n",
      "\n",
      "Part-1 Preliminary\n"
     ]
    }
   ],
   "source": [
    "text_splitter = RecursiveCharacterTextSplitter(chunk_size=2048, chunk_overlap=128)\n",
    "docs = text_splitter.split_documents(loaded_documents)\n",
    "print(docs[0].page_content)"
   ]
  },
  {
   "cell_type": "code",
   "execution_count": 41,
   "metadata": {
    "tags": []
   },
   "outputs": [
    {
     "name": "stdout",
     "output_type": "stream",
     "text": [
      "Collecting fastembed\n",
      "  Downloading fastembed-0.3.1-py3-none-any.whl.metadata (7.8 kB)\n",
      "Collecting PyStemmer<3.0.0,>=2.2.0 (from fastembed)\n",
      "  Downloading PyStemmer-2.2.0.1.tar.gz (303 kB)\n",
      "\u001b[2K     \u001b[90m━━━━━━━━━━━━━━━━━━━━━━━━━━━━━━━━━━━━━━\u001b[0m \u001b[32m303.0/303.0 kB\u001b[0m \u001b[31m17.9 MB/s\u001b[0m eta \u001b[36m0:00:00\u001b[0m\n",
      "\u001b[?25h  Preparing metadata (setup.py) ... \u001b[?25ldone\n",
      "\u001b[?25hRequirement already satisfied: huggingface-hub<1.0,>=0.20 in /home/ec2-user/anaconda3/envs/python3/lib/python3.10/site-packages (from fastembed) (0.23.4)\n",
      "Collecting loguru<0.8.0,>=0.7.2 (from fastembed)\n",
      "  Using cached loguru-0.7.2-py3-none-any.whl.metadata (23 kB)\n",
      "Collecting mmh3<5.0,>=4.0 (from fastembed)\n",
      "  Downloading mmh3-4.1.0-cp310-cp310-manylinux_2_5_x86_64.manylinux1_x86_64.manylinux_2_17_x86_64.manylinux2014_x86_64.whl.metadata (13 kB)\n",
      "Requirement already satisfied: numpy<2,>=1.21 in /home/ec2-user/anaconda3/envs/python3/lib/python3.10/site-packages (from fastembed) (1.22.4)\n",
      "Collecting onnx<2.0.0,>=1.15.0 (from fastembed)\n",
      "  Using cached onnx-1.16.1-cp310-cp310-manylinux_2_17_x86_64.manylinux2014_x86_64.whl.metadata (16 kB)\n",
      "INFO: pip is looking at multiple versions of fastembed to determine which version is compatible with other requirements. This could take a while.\n",
      "Collecting fastembed\n",
      "  Downloading fastembed-0.3.0-py3-none-any.whl.metadata (5.5 kB)\n",
      "  Using cached fastembed-0.2.7-py3-none-any.whl.metadata (5.3 kB)\n",
      "Collecting huggingface-hub<0.21,>=0.20 (from fastembed)\n",
      "  Using cached huggingface_hub-0.20.3-py3-none-any.whl.metadata (12 kB)\n",
      "Collecting fastembed\n",
      "  Downloading fastembed-0.2.6-py3-none-any.whl.metadata (4.8 kB)\n",
      "  Downloading fastembed-0.2.5-py3-none-any.whl.metadata (4.8 kB)\n",
      "  Downloading fastembed-0.2.4-py3-none-any.whl.metadata (4.8 kB)\n",
      "  Downloading fastembed-0.2.3-py3-none-any.whl.metadata (4.8 kB)\n",
      "  Downloading fastembed-0.2.2-py3-none-any.whl.metadata (4.4 kB)\n",
      "INFO: pip is still looking at multiple versions of fastembed to determine which version is compatible with other requirements. This could take a while.\n",
      "  Downloading fastembed-0.2.1-py3-none-any.whl.metadata (4.2 kB)\n",
      "  Downloading fastembed-0.1.3-py3-none-any.whl.metadata (3.9 kB)\n",
      "Collecting huggingface-hub==0.19.4 (from fastembed)\n",
      "  Downloading huggingface_hub-0.19.4-py3-none-any.whl.metadata (14 kB)\n",
      "Requirement already satisfied: onnxruntime<2.0,>=1.15 in /home/ec2-user/anaconda3/envs/python3/lib/python3.10/site-packages (from fastembed) (1.16.3)\n",
      "Requirement already satisfied: requests<3.0,>=2.31 in /home/ec2-user/anaconda3/envs/python3/lib/python3.10/site-packages (from fastembed) (2.31.0)\n",
      "Collecting tokenizers<0.16.0,>=0.15.0 (from fastembed)\n",
      "  Downloading tokenizers-0.15.2-cp310-cp310-manylinux_2_17_x86_64.manylinux2014_x86_64.whl.metadata (6.7 kB)\n",
      "Requirement already satisfied: tqdm<5.0,>=4.65 in /home/ec2-user/anaconda3/envs/python3/lib/python3.10/site-packages (from fastembed) (4.66.2)\n",
      "Requirement already satisfied: filelock in /home/ec2-user/anaconda3/envs/python3/lib/python3.10/site-packages (from huggingface-hub==0.19.4->fastembed) (3.13.3)\n",
      "Requirement already satisfied: fsspec>=2023.5.0 in /home/ec2-user/anaconda3/envs/python3/lib/python3.10/site-packages (from huggingface-hub==0.19.4->fastembed) (2024.3.1)\n",
      "Requirement already satisfied: pyyaml>=5.1 in /home/ec2-user/anaconda3/envs/python3/lib/python3.10/site-packages (from huggingface-hub==0.19.4->fastembed) (6.0.1)\n",
      "Requirement already satisfied: typing-extensions>=3.7.4.3 in /home/ec2-user/anaconda3/envs/python3/lib/python3.10/site-packages (from huggingface-hub==0.19.4->fastembed) (4.10.0)\n",
      "Requirement already satisfied: packaging>=20.9 in /home/ec2-user/anaconda3/envs/python3/lib/python3.10/site-packages (from huggingface-hub==0.19.4->fastembed) (23.2)\n",
      "Requirement already satisfied: protobuf>=3.20.2 in /home/ec2-user/anaconda3/envs/python3/lib/python3.10/site-packages (from onnx<2.0.0,>=1.15.0->fastembed) (5.27.2)\n",
      "Requirement already satisfied: coloredlogs in /home/ec2-user/anaconda3/envs/python3/lib/python3.10/site-packages (from onnxruntime<2.0,>=1.15->fastembed) (15.0.1)\n",
      "Requirement already satisfied: flatbuffers in /home/ec2-user/anaconda3/envs/python3/lib/python3.10/site-packages (from onnxruntime<2.0,>=1.15->fastembed) (24.3.25)\n",
      "Requirement already satisfied: sympy in /home/ec2-user/anaconda3/envs/python3/lib/python3.10/site-packages (from onnxruntime<2.0,>=1.15->fastembed) (1.12)\n",
      "Requirement already satisfied: charset-normalizer<4,>=2 in /home/ec2-user/anaconda3/envs/python3/lib/python3.10/site-packages (from requests<3.0,>=2.31->fastembed) (3.3.2)\n",
      "Requirement already satisfied: idna<4,>=2.5 in /home/ec2-user/anaconda3/envs/python3/lib/python3.10/site-packages (from requests<3.0,>=2.31->fastembed) (3.6)\n",
      "Requirement already satisfied: urllib3<3,>=1.21.1 in /home/ec2-user/anaconda3/envs/python3/lib/python3.10/site-packages (from requests<3.0,>=2.31->fastembed) (2.2.1)\n",
      "Requirement already satisfied: certifi>=2017.4.17 in /home/ec2-user/anaconda3/envs/python3/lib/python3.10/site-packages (from requests<3.0,>=2.31->fastembed) (2024.2.2)\n",
      "Requirement already satisfied: humanfriendly>=9.1 in /home/ec2-user/anaconda3/envs/python3/lib/python3.10/site-packages (from coloredlogs->onnxruntime<2.0,>=1.15->fastembed) (10.0)\n",
      "Requirement already satisfied: mpmath>=0.19 in /home/ec2-user/anaconda3/envs/python3/lib/python3.10/site-packages (from sympy->onnxruntime<2.0,>=1.15->fastembed) (1.3.0)\n",
      "Downloading fastembed-0.1.3-py3-none-any.whl (14 kB)\n",
      "Downloading huggingface_hub-0.19.4-py3-none-any.whl (311 kB)\n",
      "\u001b[2K   \u001b[90m━━━━━━━━━━━━━━━━━━━━━━━━━━━━━━━━━━━━━━━━\u001b[0m \u001b[32m311.7/311.7 kB\u001b[0m \u001b[31m4.0 MB/s\u001b[0m eta \u001b[36m0:00:00\u001b[0m:00:01\u001b[0m\n",
      "\u001b[?25hDownloading onnx-1.16.1-cp310-cp310-manylinux_2_17_x86_64.manylinux2014_x86_64.whl (15.9 MB)\n",
      "\u001b[2K   \u001b[90m━━━━━━━━━━━━━━━━━━━━━━━━━━━━━━━━━━━━━━━━\u001b[0m \u001b[32m15.9/15.9 MB\u001b[0m \u001b[31m25.9 MB/s\u001b[0m eta \u001b[36m0:00:00\u001b[0m:00:01\u001b[0m00:01\u001b[0m\n",
      "\u001b[?25hDownloading tokenizers-0.15.2-cp310-cp310-manylinux_2_17_x86_64.manylinux2014_x86_64.whl (3.6 MB)\n",
      "\u001b[2K   \u001b[90m━━━━━━━━━━━━━━━━━━━━━━━━━━━━━━━━━━━━━━━━\u001b[0m \u001b[32m3.6/3.6 MB\u001b[0m \u001b[31m26.2 MB/s\u001b[0m eta \u001b[36m0:00:00\u001b[0m00:01\u001b[0m00:01\u001b[0m\n",
      "\u001b[?25hInstalling collected packages: onnx, huggingface-hub, tokenizers, fastembed\n",
      "  Attempting uninstall: huggingface-hub\n",
      "    Found existing installation: huggingface-hub 0.23.4\n",
      "    Uninstalling huggingface-hub-0.23.4:\n",
      "      Successfully uninstalled huggingface-hub-0.23.4\n",
      "  Attempting uninstall: tokenizers\n",
      "    Found existing installation: tokenizers 0.19.1\n",
      "    Uninstalling tokenizers-0.19.1:\n",
      "      Successfully uninstalled tokenizers-0.19.1\n",
      "Successfully installed fastembed-0.1.3 huggingface-hub-0.19.4 onnx-1.16.1 tokenizers-0.15.2\n"
     ]
    }
   ],
   "source": [
    "!pip install fastembed"
   ]
  },
  {
   "cell_type": "code",
   "execution_count": 1,
   "metadata": {
    "tags": []
   },
   "outputs": [
    {
     "ename": "NameError",
     "evalue": "name 'FastEmbedEmbeddings' is not defined",
     "output_type": "error",
     "traceback": [
      "\u001b[0;31m---------------------------------------------------------------------------\u001b[0m",
      "\u001b[0;31mNameError\u001b[0m                                 Traceback (most recent call last)",
      "Cell \u001b[0;32mIn[1], line 14\u001b[0m\n\u001b[1;32m     10\u001b[0m local_output_file_name \u001b[38;5;241m=\u001b[39m \u001b[38;5;124m'\u001b[39m\u001b[38;5;124mqdrant_db.zip\u001b[39m\u001b[38;5;124m'\u001b[39m\n\u001b[1;32m     13\u001b[0m \u001b[38;5;66;03m# Model embedding\u001b[39;00m\n\u001b[0;32m---> 14\u001b[0m embeddings \u001b[38;5;241m=\u001b[39m \u001b[43mFastEmbedEmbeddings\u001b[49m(\n\u001b[1;32m     15\u001b[0m     model_name \u001b[38;5;241m=\u001b[39m \u001b[38;5;124m\"\u001b[39m\u001b[38;5;124mBAAI/bge-base-en-v1.5\u001b[39m\u001b[38;5;124m\"\u001b[39m)\n\u001b[1;32m     17\u001b[0m \u001b[38;5;66;03m# Create the Qdrant database from documents\u001b[39;00m\n\u001b[1;32m     18\u001b[0m qdrant \u001b[38;5;241m=\u001b[39m Qdrant\u001b[38;5;241m.\u001b[39mfrom_documents(\n\u001b[1;32m     19\u001b[0m     docs,\n\u001b[1;32m     20\u001b[0m     embeddings,\n\u001b[1;32m     21\u001b[0m     \u001b[38;5;66;03m# path=local_db_path,\u001b[39;00m\n\u001b[1;32m     22\u001b[0m     collection_name\u001b[38;5;241m=\u001b[39m\u001b[38;5;124m\"\u001b[39m\u001b[38;5;124mdocument_embeddings\u001b[39m\u001b[38;5;124m\"\u001b[39m\n\u001b[1;32m     23\u001b[0m )\n",
      "\u001b[0;31mNameError\u001b[0m: name 'FastEmbedEmbeddings' is not defined"
     ]
    }
   ],
   "source": [
    "import boto3\n",
    "import shutil\n",
    "import os\n",
    "\n",
    "# output_file_key = 'constitutionnepal/qdrant_db'\n",
    "# local_output_file_name = 'qdrant_db'\n",
    "# Define the S3 bucket and file key\n",
    "\n",
    "output_file_key = 'constitutionnepal/qdrant_db.zip'\n",
    "local_output_file_name = 'qdrant_db.zip'\n",
    "\n",
    "\n",
    "# Model embedding\n",
    "embeddings = FastEmbedEmbeddings(\n",
    "    model_name = \"BAAI/bge-base-en-v1.5\")\n",
    "\n",
    "# Create the Qdrant database from documents\n",
    "qdrant = Qdrant.from_documents(\n",
    "    docs,\n",
    "    embeddings,\n",
    "    # path=local_db_path,\n",
    "    collection_name=\"document_embeddings\"\n",
    ")\n",
    "\n",
    "# Compress the Qdrant database directory\n",
    "shutil.make_archive(local_db_path, 'zip', local_db_path)\n",
    "\n",
    "# Create an S3 client\n",
    "s3 = boto3.client('s3')\n",
    "\n",
    "# Upload the compressed Qdrant database to S3\n",
    "s3.upload_file(local_output_file_name, bucket_name, output_file_key)\n",
    "\n",
    "print(f'Qdrant database has been uploaded to s3://{bucket_name}/{output_file_key}')\n"
   ]
  },
  {
   "cell_type": "code",
   "execution_count": 12,
   "metadata": {
    "colab": {
     "base_uri": "https://localhost:8080/"
    },
    "id": "s_gTaRBDF3Jm",
    "outputId": "d3a19191-abfb-422d-f085-56d41a50a58d"
   },
   "outputs": [
    {
     "name": "stdout",
     "output_type": "stream",
     "text": [
      "CPU times: user 306 ms, sys: 5.99 ms, total: 312 ms\n",
      "Wall time: 314 ms\n"
     ]
    }
   ],
   "source": [
    "%%time\n",
    "query = \"What fundamental rights are guaranteed to Nepali citizens?\"\n",
    "similar_docs = qdrant.similarity_search_with_score(query)"
   ]
  },
  {
   "cell_type": "code",
   "execution_count": 13,
   "metadata": {
    "colab": {
     "base_uri": "https://localhost:8080/"
    },
    "id": "t4rlhXF1KUEf",
    "outputId": "355630e1-0230-4b12-ea17-882292a58509"
   },
   "outputs": [
    {
     "name": "stdout",
     "output_type": "stream",
     "text": [
      "text: Every person shall have the right to a fair trial by an independent, impartial and competent court or judicial body.\n",
      "\n",
      "Any indigent party shall have the right to free legal aid in accordance with law.\n",
      "\n",
      "Right of victim of crime:\n",
      "\n",
      "(1) A victim of crime shall \n",
      "\n",
      "score: 0.7861023710448288\n",
      "________________________________________________________________________________\n",
      "\n",
      "text: Right to privacy\n",
      "\n",
      "The privacy of any person, his or her residence, property, document, data, correspondence and matters relating to his or her character shall, except in accordance with law, be inviolable.\n",
      "\n",
      "Right against exploitation\n",
      "\n",
      "Every person shall ha\n",
      "\n",
      "score: 0.780478909497755\n",
      "________________________________________________________________________________\n",
      "\n",
      "text: Right to privacy\n",
      "\n",
      "The privacy of any person, his or her residence, property, document, data, correspondence and matters relating to his or her character shall, except in accordance with law, be inviolable.\n",
      "\n",
      "Right against exploitation\n",
      "\n",
      "Every person shall ha\n",
      "\n",
      "score: 0.780478909497755\n",
      "________________________________________________________________________________\n",
      "\n",
      "text: Every person shall have the right to a fair trial by an independent, impartial and competent court or judicial body.\n",
      "\n",
      "Any indigent party shall have the right to free legal aid in accordance with law.\n",
      "\n",
      "Right of victim of crime:\n",
      "\n",
      "(1) A victim of crime shall \n",
      "\n",
      "score: 0.779577503923492\n",
      "________________________________________________________________________________\n",
      "\n"
     ]
    }
   ],
   "source": [
    "for doc, score in similar_docs:\n",
    "    print(f\"text: {doc.page_content[:256]}\\n\")\n",
    "    print(f\"score: {score}\")\n",
    "    print(\"_\" * 80)\n",
    "    print()"
   ]
  },
  {
   "cell_type": "code",
   "execution_count": 14,
   "metadata": {
    "colab": {
     "base_uri": "https://localhost:8080/"
    },
    "id": "TfUKxJv5Ka7N",
    "outputId": "857fdca3-9797-4a5d-8794-1e2f74af6521"
   },
   "outputs": [
    {
     "name": "stdout",
     "output_type": "stream",
     "text": [
      "CPU times: user 348 ms, sys: 60.8 ms, total: 409 ms\n",
      "Wall time: 348 ms\n"
     ]
    }
   ],
   "source": [
    "%%time\n",
    "retriever = qdrant.as_retriever(search_kwargs = {\"k\": 5})\n",
    "retrieved_docs = retriever.invoke(query)"
   ]
  },
  {
   "cell_type": "code",
   "execution_count": 15,
   "metadata": {
    "colab": {
     "base_uri": "https://localhost:8080/"
    },
    "id": "oR76Bwu5nAZD",
    "outputId": "eab77a21-b158-46a0-e811-54f729f65358"
   },
   "outputs": [
    {
     "name": "stdout",
     "output_type": "stream",
     "text": [
      "id: 79c0a32a4165458daee885f410c948dc\n",
      "\n",
      "text: Every person shall have the right to a fair trial by an independent, impartial and competent court or judicial body.\n",
      "\n",
      "Any indigent party shall have the right to free legal aid in accordance with law.\n",
      "\n",
      "Right of victim of crime:\n",
      "\n",
      "(1) A victim of crime shall \n",
      "________________________________________________________________________________\n",
      "\n",
      "id: eb22328c91b14ad098533156e58de6e6\n",
      "\n",
      "text: Right to privacy\n",
      "\n",
      "The privacy of any person, his or her residence, property, document, data, correspondence and matters relating to his or her character shall, except in accordance with law, be inviolable.\n",
      "\n",
      "Right against exploitation\n",
      "\n",
      "Every person shall ha\n",
      "________________________________________________________________________________\n",
      "\n",
      "id: b25ab55d3c00447a96a11f805c0cf23d\n",
      "\n",
      "text: Right to privacy\n",
      "\n",
      "The privacy of any person, his or her residence, property, document, data, correspondence and matters relating to his or her character shall, except in accordance with law, be inviolable.\n",
      "\n",
      "Right against exploitation\n",
      "\n",
      "Every person shall ha\n",
      "________________________________________________________________________________\n",
      "\n",
      "id: 9db2e8e498fd4ed1a6607fe9b81f434f\n",
      "\n",
      "text: Every person shall have the right to a fair trial by an independent, impartial and competent court or judicial body.\n",
      "\n",
      "Any indigent party shall have the right to free legal aid in accordance with law.\n",
      "\n",
      "Right of victim of crime:\n",
      "\n",
      "(1) A victim of crime shall \n",
      "________________________________________________________________________________\n",
      "\n",
      "id: 262a4808c553481fb081d68339a19e14\n",
      "\n",
      "text: Every person shall have the right to a fair trial by an independent, impartial and competent court or judicial body.\n",
      "\n",
      "Any indigent party shall have the right to free legal aid in accordance with law.\n",
      "\n",
      "Right of victim of crime:\n",
      "\n",
      "(1) A victim of crime shall \n",
      "________________________________________________________________________________\n",
      "\n"
     ]
    }
   ],
   "source": [
    "for doc in retrieved_docs:\n",
    "  print(f\"id: {doc.metadata['_id']}\\n\")\n",
    "  print(f\"text: {doc.page_content[:256]}\")\n",
    "  print(\"_\" * 80)\n",
    "  print()"
   ]
  },
  {
   "cell_type": "code",
   "execution_count": 16,
   "metadata": {
    "id": "8NL2NWLgn6ft"
   },
   "outputs": [],
   "source": [
    "# path = '/content/drive/MyDrive/LLM-Nepal-constitution'"
   ]
  },
  {
   "cell_type": "markdown",
   "metadata": {
    "id": "qvODGEKXpmWc"
   },
   "source": [
    "### Reranking"
   ]
  },
  {
   "cell_type": "code",
   "execution_count": 17,
   "metadata": {
    "colab": {
     "base_uri": "https://localhost:8080/"
    },
    "id": "F40v_m7Fo8PT",
    "outputId": "7de0a734-95e5-4257-e1fd-792c997cf0fd"
   },
   "outputs": [
    {
     "name": "stdout",
     "output_type": "stream",
     "text": [
      "Downloading ms-marco-MiniLM-L-12-v2...\n"
     ]
    },
    {
     "name": "stderr",
     "output_type": "stream",
     "text": [
      "ms-marco-MiniLM-L-12-v2.zip: 100%|██████████| 21.6M/21.6M [00:00<00:00, 61.9MiB/s]\n"
     ]
    }
   ],
   "source": [
    "# Rerank and compress\n",
    "compressor = FlashrankRerank(model = 'ms-marco-MiniLM-L-12-v2')\n",
    "compression_retriever = ContextualCompressionRetriever(\n",
    "    base_compressor = compressor,\n",
    "    base_retriever = retriever)"
   ]
  },
  {
   "cell_type": "code",
   "execution_count": 18,
   "metadata": {
    "colab": {
     "base_uri": "https://localhost:8080/"
    },
    "id": "4QPE7YgAqBV1",
    "outputId": "80c301d3-6b5c-4f0d-a711-047cb6afca60"
   },
   "outputs": [
    {
     "name": "stdout",
     "output_type": "stream",
     "text": [
      "Running pairwise ranking..\n",
      "CPU times: user 3.02 s, sys: 158 ms, total: 3.18 s\n",
      "Wall time: 3.27 s\n"
     ]
    },
    {
     "data": {
      "text/plain": [
       "3"
      ]
     },
     "execution_count": 18,
     "metadata": {},
     "output_type": "execute_result"
    }
   ],
   "source": [
    "%%time\n",
    "reranked_docs = compression_retriever.invoke(query)\n",
    "len(reranked_docs)"
   ]
  },
  {
   "cell_type": "code",
   "execution_count": 19,
   "metadata": {
    "colab": {
     "base_uri": "https://localhost:8080/"
    },
    "id": "BDtwjmeaqdnS",
    "outputId": "9e91ac96-e040-4a51-d783-e72ddd1e553a"
   },
   "outputs": [
    {
     "name": "stdout",
     "output_type": "stream",
     "text": [
      "id: eb22328c91b14ad098533156e58de6e6\n",
      "\n",
      "text: Right to privacy\n",
      "\n",
      "The privacy of any person, his or her residence, property, document, data, correspondence and matters relating to his or her character shall, except in accordance with law, be inviolable.\n",
      "\n",
      "Right against exploitation\n",
      "\n",
      "Every person shall ha\n",
      "\n",
      "score: 0.8946086168289185\n",
      "--------------------------------------------------------------------------------\n",
      "\n",
      "id: b25ab55d3c00447a96a11f805c0cf23d\n",
      "\n",
      "text: Right to privacy\n",
      "\n",
      "The privacy of any person, his or her residence, property, document, data, correspondence and matters relating to his or her character shall, except in accordance with law, be inviolable.\n",
      "\n",
      "Right against exploitation\n",
      "\n",
      "Every person shall ha\n",
      "\n",
      "score: 0.8946086168289185\n",
      "--------------------------------------------------------------------------------\n",
      "\n",
      "id: 79c0a32a4165458daee885f410c948dc\n",
      "\n",
      "text: Every person shall have the right to a fair trial by an independent, impartial and competent court or judicial body.\n",
      "\n",
      "Any indigent party shall have the right to free legal aid in accordance with law.\n",
      "\n",
      "Right of victim of crime:\n",
      "\n",
      "(1) A victim of crime shall \n",
      "\n",
      "score: 0.33922719955444336\n",
      "--------------------------------------------------------------------------------\n",
      "\n"
     ]
    }
   ],
   "source": [
    "for doc in reranked_docs:\n",
    "    print(f\"id: {doc.metadata['_id']}\\n\")\n",
    "    print(f\"text: {doc.page_content[:256]}\\n\")\n",
    "    print(f\"score: {doc.metadata['relevance_score']}\")\n",
    "    print(\"-\" * 80)\n",
    "    print()"
   ]
  },
  {
   "cell_type": "code",
   "execution_count": 20,
   "metadata": {
    "id": "Se2WNmq0regC"
   },
   "outputs": [],
   "source": [
    "llm = ChatGroq(temperature = 0, model = 'llama3-70b-8192')"
   ]
  },
  {
   "cell_type": "code",
   "execution_count": 21,
   "metadata": {
    "id": "LDqfm2V9rnF0"
   },
   "outputs": [],
   "source": [
    "prompt_template = \"\"\"\n",
    "Use the following pieces of information to answer the user's question.\n",
    "If you don't know the answer, just say that you don't know, don't try to make up an answer.\n",
    "\n",
    "Context: {context}\n",
    "Question: {question}\n",
    "\n",
    "Answer the question and provide additional helpful information,\n",
    "based on the pieces of information, if applicable. Be succinct.\n",
    "\n",
    "Responses should be properly formatted to be easily read.\n",
    "\"\"\"\n",
    "\n",
    "prompt = PromptTemplate(\n",
    "    template=prompt_template, input_variables=[\"context\", \"question\"]\n",
    ")"
   ]
  },
  {
   "cell_type": "code",
   "execution_count": 22,
   "metadata": {
    "id": "2U5UXsvHrzoJ"
   },
   "outputs": [],
   "source": [
    "qa = RetrievalQA.from_chain_type(\n",
    "    llm=llm,\n",
    "    chain_type=\"stuff\",\n",
    "    retriever=compression_retriever,\n",
    "    return_source_documents=True,\n",
    "    chain_type_kwargs={\"prompt\": prompt, \"verbose\" : True},\n",
    ")"
   ]
  },
  {
   "cell_type": "code",
   "execution_count": 23,
   "metadata": {
    "colab": {
     "base_uri": "https://localhost:8080/"
    },
    "id": "XbNAvI6xr7-H",
    "outputId": "8ecfea4d-fd89-4581-e2f7-b4e14fb7888c"
   },
   "outputs": [
    {
     "name": "stdout",
     "output_type": "stream",
     "text": [
      "Running pairwise ranking..\n",
      "\n",
      "\n",
      "\u001b[1m> Entering new StuffDocumentsChain chain...\u001b[0m\n",
      "\n",
      "\n",
      "\u001b[1m> Entering new LLMChain chain...\u001b[0m\n",
      "Prompt after formatting:\n",
      "\u001b[32;1m\u001b[1;3m\n",
      "Use the following pieces of information to answer the user's question.\n",
      "If you don't know the answer, just say that you don't know, don't try to make up an answer.\n",
      "\n",
      "Context: Other provisions relating to citizenship of Nepal:\n",
      "\n",
      "Other matters relating to the maintenance of records setting out the identity of every citizen of Nepal and the citizenship of Nepal shall be as provided for in the Federal law.\n",
      "\n",
      "Part-3\n",
      "\n",
      "Fundamental Rights and Duties\n",
      "\n",
      "Right to live with dignity:\n",
      "\n",
      "Every person shall have the right to live with dignity.\n",
      "\n",
      "No law shall be made providing for the death penalty to any one.\n",
      "\n",
      "Right to freedom:\n",
      "\n",
      "No person shall be deprived of his or her personal liberty except in accordance with law.\n",
      "\n",
      "Every citizen shall have the following freedoms:\n",
      "\n",
      "(a) freedom of opinion and expression,\n",
      "\n",
      "(b) freedom to assemble peaceably and without arms,\n",
      "\n",
      "(c) freedom to form political parties,\n",
      "\n",
      "(d) freedom to form unions and associations,\n",
      "\n",
      "(e) freedom to move and reside in any part of Nepal,\n",
      "\n",
      "(f) freedom to practice any profession, carry on any occupation, and establish and operate any industry, trade and business in any part of Nepal.\n",
      "\n",
      "Provided that:\n",
      "\n",
      "Nothing in sub-clause (a) shall be deemed to prevent the making of an Act to impose reasonable restrictions on any act which may undermine the sovereignty, territorial integrity, nationality and independence of Nepal or the harmonious relations between the Federal Units or the people of various castes, tribes, religions or communities.\n",
      "\n",
      "(10)\n",
      "\n",
      "Right to privacy\n",
      "\n",
      "The privacy of any person, his or her residence, property, document, data, correspondence and matters relating to his or her character shall, except in accordance with law, be inviolable.\n",
      "\n",
      "Right against exploitation\n",
      "\n",
      "Every person shall have the right against exploitation.\n",
      "\n",
      "No person shall be exploited in any manner on the grounds of religion, custom, tradition, usage, practice or on any other grounds.\n",
      "\n",
      "No one shall be subjected to trafficking nor shall one be held in slavery or servitude.\n",
      "\n",
      "No one shall be forced to work against his or her will.\n",
      "\n",
      "Provided that nothing shall be deemed to prevent the making of law empowering the State to require citizens to perform compulsory service for public purposes.\n",
      "\n",
      "Act contrary to clauses (3) and (4) shall be punishable by law and the victim shall have the right to obtain compensation from the perpetrator in accordance with law.\n",
      "\n",
      "Right to clean environment\n",
      "\n",
      "Every citizen shall have the right to live in a clean and healthy environment.\n",
      "\n",
      "The victim shall have the right to obtain compensation, in accordance with law, for any injury caused from environmental pollution or degradation.\n",
      "\n",
      "Article 31\n",
      "\n",
      "Right relating to education:\n",
      "\n",
      "Every citizen shall have the right of access to basic education.\n",
      "\n",
      "Every citizen shall have the right to get compulsory and free education up to the basic level and free education up to the secondary level from the State.\n",
      "\n",
      "The citizens with disabilities and the economically indigent citizens shall have the right to get free higher education in accordance with law.\n",
      "\n",
      "The visually impaired citizens shall have the right to get free education through brail script and the citizens with hearing or speaking impairment, to get free education through sign language, in accordance with law.\n",
      "\n",
      "Every Nepalese community residing in Nepal shall have the right to get education in its mother tongue and, for that purpose, to open and operate schools and educational institutes, in accordance with law.\n",
      "\n",
      "Article 32\n",
      "\n",
      "Right to language and culture:\n",
      "\n",
      "Right to privacy\n",
      "\n",
      "The privacy of any person, his or her residence, property, document, data, correspondence and matters relating to his or her character shall, except in accordance with law, be inviolable.\n",
      "\n",
      "Right against exploitation\n",
      "\n",
      "Every person shall have the right against exploitation.\n",
      "\n",
      "No person shall be exploited in any manner on the grounds of religion, custom, tradition, usage, practice or on any other grounds.\n",
      "\n",
      "No one shall be subjected to trafficking nor shall one be held in slavery or servitude.\n",
      "\n",
      "No one shall be forced to work against his or her will.\n",
      "\n",
      "Provided that nothing shall be deemed to prevent the making of law empowering the State to require citizens to perform compulsory service for public purposes.\n",
      "\n",
      "Act contrary to clauses (3) and (4) shall be punishable by law and the victim shall have the right to obtain compensation from the perpetrator in accordance with law.\n",
      "\n",
      "Right to clean environment\n",
      "\n",
      "Every citizen shall have the right to live in a clean and healthy environment.\n",
      "\n",
      "The victim shall have the right to obtain compensation, in accordance with law, for any injury caused from environmental pollution or degradation.\n",
      "\n",
      "Article 31\n",
      "\n",
      "Right relating to education:\n",
      "\n",
      "Every citizen shall have the right of access to basic education.\n",
      "\n",
      "Every citizen shall have the right to get compulsory and free education up to the basic level and free education up to the secondary level from the State.\n",
      "\n",
      "The citizens with disabilities and the economically indigent citizens shall have the right to get free higher education in accordance with law.\n",
      "\n",
      "The visually impaired citizens shall have the right to get free education through brail script and the citizens with hearing or speaking impairment, to get free education through sign language, in accordance with law.\n",
      "\n",
      "Every Nepalese community residing in Nepal shall have the right to get education in its mother tongue and, for that purpose, to open and operate schools and educational institutes, in accordance with law.\n",
      "\n",
      "Article 32\n",
      "\n",
      "Right to language and culture:\n",
      "Question: what are the fundamental rights guaranteed to Nepali citizens?\n",
      "\n",
      "Answer the question and provide additional helpful information,\n",
      "based on the pieces of information, if applicable. Be succinct.\n",
      "\n",
      "Responses should be properly formatted to be easily read.\n",
      "\u001b[0m\n",
      "\n",
      "\u001b[1m> Finished chain.\u001b[0m\n",
      "\n",
      "\u001b[1m> Finished chain.\u001b[0m\n",
      "CPU times: user 2.57 s, sys: 55.6 ms, total: 2.63 s\n",
      "Wall time: 4.57 s\n"
     ]
    }
   ],
   "source": [
    "%%time\n",
    "\n",
    "response = qa.invoke(\"what are the fundamental rights guaranteed to Nepali citizens?\")"
   ]
  },
  {
   "cell_type": "code",
   "execution_count": 24,
   "metadata": {
    "colab": {
     "base_uri": "https://localhost:8080/"
    },
    "id": "JUyqRrRIsZp-",
    "outputId": "3469c4d9-9219-4dc5-b192-bd0a9bbc8f6f"
   },
   "outputs": [
    {
     "name": "stdout",
     "output_type": "stream",
     "text": [
      "**Fundamental Rights Guaranteed to Nepali Citizens:**\n",
      "\n",
      "1. **Right to Live with Dignity**: Every person has the right to live with dignity, and no law shall\n",
      "provide for the death penalty.\n",
      "2. **Right to Freedom**: Every citizen has the freedom of opinion and expression, assembly, forming\n",
      "political parties, unions, and associations, moving and residing in any part of Nepal, and\n",
      "practicing any profession.\n",
      "3. **Right to Privacy**: The privacy of every person, their residence, property, document, data,\n",
      "correspondence, and matters relating to their character shall be inviolable, except in accordance\n",
      "with law.\n",
      "4. **Right Against Exploitation**: Every person has the right against exploitation on any grounds,\n",
      "and no one shall be subjected to trafficking, slavery, or servitude, or forced to work against their\n",
      "will.\n",
      "5. **Right to Clean Environment**: Every citizen has the right to live in a clean and healthy\n",
      "environment, and the victim has the right to obtain compensation for any injury caused by\n",
      "environmental pollution or degradation.\n",
      "6. **Right to Education**: Every citizen has the right to access basic education, compulsory and\n",
      "free education up to the basic level, and free education up to the secondary level from the State.\n",
      "Additionally, citizens with disabilities and economically indigent citizens have the right to free\n",
      "higher education, and every Nepalese community has the right to education in their mother tongue.\n",
      "7. **Right to Language and Culture**: (No specific details provided in the given context)\n",
      "\n",
      "These fundamental rights are guaranteed to Nepali citizens, ensuring their dignity, freedom,\n",
      "privacy, and access to education, among other essential aspects of life.\n"
     ]
    }
   ],
   "source": [
    "print_response(response)"
   ]
  },
  {
   "cell_type": "code",
   "execution_count": 25,
   "metadata": {
    "id": "b0yR0fYcsq2W"
   },
   "outputs": [],
   "source": [
    "qa = RetrievalQA.from_chain_type(\n",
    "    llm=llm,\n",
    "    chain_type=\"stuff\",\n",
    "    retriever=compression_retriever,\n",
    "    return_source_documents=True,\n",
    "    chain_type_kwargs={\"prompt\": prompt, \"verbose\" : False},\n",
    ")"
   ]
  },
  {
   "cell_type": "code",
   "execution_count": 26,
   "metadata": {
    "colab": {
     "base_uri": "https://localhost:8080/"
    },
    "id": "pWK3XB9XtjYU",
    "outputId": "7cf046cb-407e-4c05-bd6f-e518ac6f2c98"
   },
   "outputs": [
    {
     "name": "stdout",
     "output_type": "stream",
     "text": [
      "Running pairwise ranking..\n",
      "CPU times: user 2.09 s, sys: 146 ms, total: 2.23 s\n",
      "Wall time: 3.33 s\n"
     ]
    }
   ],
   "source": [
    "%%time\n",
    "\n",
    "response = qa.invoke(\"what are the fundamental rights guaranteed to Nepali citizens?\")"
   ]
  },
  {
   "cell_type": "code",
   "execution_count": 27,
   "metadata": {
    "colab": {
     "base_uri": "https://localhost:8080/"
    },
    "id": "OBzcFXpQtmjj",
    "outputId": "ed0206f0-12c8-4e00-e42d-03730007fe24"
   },
   "outputs": [
    {
     "name": "stdout",
     "output_type": "stream",
     "text": [
      "**Fundamental Rights Guaranteed to Nepali Citizens:**\n",
      "\n",
      "1. **Right to Live with Dignity**: Every person has the right to live with dignity, and no law shall\n",
      "provide for the death penalty.\n",
      "2. **Right to Freedom**: Every citizen has the freedom of opinion and expression, assembly, forming\n",
      "political parties, unions, and associations, moving and residing in any part of Nepal, and\n",
      "practicing any profession.\n",
      "3. **Right to Privacy**: The privacy of every person, their residence, property, document, data,\n",
      "correspondence, and matters relating to their character shall be inviolable, except in accordance\n",
      "with law.\n",
      "4. **Right Against Exploitation**: Every person has the right against exploitation on any grounds,\n",
      "and no one shall be subjected to trafficking, slavery, or servitude, or forced to work against their\n",
      "will.\n",
      "5. **Right to Clean Environment**: Every citizen has the right to live in a clean and healthy\n",
      "environment, and the victim has the right to obtain compensation for any injury caused by\n",
      "environmental pollution or degradation.\n",
      "6. **Right to Education**: Every citizen has the right to access basic education, compulsory and\n",
      "free education up to the basic level, and free education up to the secondary level from the State.\n",
      "Additionally, citizens with disabilities and economically indigent citizens have the right to free\n",
      "higher education, and every Nepalese community has the right to education in their mother tongue.\n",
      "7. **Right to Language and Culture**: (No specific details provided in the given context)\n",
      "\n",
      "These fundamental rights are guaranteed to Nepali citizens, ensuring their dignity, freedom,\n",
      "privacy, and access to education, among other essential aspects of life.\n"
     ]
    }
   ],
   "source": [
    "print_response(response)"
   ]
  },
  {
   "cell_type": "code",
   "execution_count": 28,
   "metadata": {
    "colab": {
     "base_uri": "https://localhost:8080/",
     "height": 335
    },
    "id": "h_xqpbeNtruX",
    "outputId": "b3c55eeb-1112-42f4-ab1e-e872d2130f07"
   },
   "outputs": [
    {
     "data": {
      "text/markdown": [
       "**Fundamental Rights Guaranteed to Nepali Citizens:**\n",
       "\n",
       "1. **Right to Live with Dignity**: Every person has the right to live with dignity, and no law shall provide for the death penalty.\n",
       "2. **Right to Freedom**: Every citizen has the freedom of opinion and expression, assembly, forming political parties, unions, and associations, moving and residing in any part of Nepal, and practicing any profession.\n",
       "3. **Right to Privacy**: The privacy of every person, their residence, property, document, data, correspondence, and matters relating to their character shall be inviolable, except in accordance with law.\n",
       "4. **Right Against Exploitation**: Every person has the right against exploitation on any grounds, and no one shall be subjected to trafficking, slavery, or servitude, or forced to work against their will.\n",
       "5. **Right to Clean Environment**: Every citizen has the right to live in a clean and healthy environment, and the victim has the right to obtain compensation for any injury caused by environmental pollution or degradation.\n",
       "6. **Right to Education**: Every citizen has the right to access basic education, compulsory and free education up to the basic level, and free education up to the secondary level from the State. Additionally, citizens with disabilities and economically indigent citizens have the right to free higher education, and every Nepalese community has the right to education in their mother tongue.\n",
       "7. **Right to Language and Culture**: (No specific details provided in the given context)\n",
       "\n",
       "These fundamental rights are guaranteed to Nepali citizens, ensuring their dignity, freedom, privacy, and access to education, among other essential aspects of life."
      ],
      "text/plain": [
       "<IPython.core.display.Markdown object>"
      ]
     },
     "execution_count": 28,
     "metadata": {},
     "output_type": "execute_result"
    }
   ],
   "source": [
    "Markdown(response[\"result\"])"
   ]
  },
  {
   "cell_type": "code",
   "execution_count": 29,
   "metadata": {
    "colab": {
     "base_uri": "https://localhost:8080/",
     "height": 634
    },
    "id": "GFDmt37Lt1z4",
    "outputId": "06a1dcac-234c-4fae-8f16-7a538342c3f7"
   },
   "outputs": [
    {
     "name": "stdout",
     "output_type": "stream",
     "text": [
      "Running pairwise ranking..\n",
      "CPU times: user 1.89 s, sys: 131 ms, total: 2.02 s\n",
      "Wall time: 3.4 s\n"
     ]
    },
    {
     "data": {
      "text/markdown": [
       "**Powers and Responsibilities of Federal, Provincial, and Local Governments**\n",
       "\n",
       "The provided information only mentions the powers and responsibilities of the Local Level government. It does not provide information on the powers and responsibilities of the Federal and Provincial governments.\n",
       "\n",
       "**Local Level Government:**\n",
       "\n",
       "The executive power of the Local Level is vested in the Village Executive or the Municipal Executive. The local executive power includes:\n",
       "\n",
       "* Issuing general directives, controlling, and regulating the governance of the Village Body and the Municipality\n",
       "* Performing executive functions of the Village Body and the Municipality\n",
       "* Authenticating decisions or orders issued in the name of the Village Executive and the Municipal Executive\n",
       "\n",
       "The Village Executive consists of a Chairperson, Vice-Chairperson, Ward Chairperson elected from each Ward, and members elected pursuant to clause (4). The Chairperson and Vice-Chairperson are elected by the voters residing within the concerned Village Body area by secret ballots.\n",
       "\n",
       "The Local Level government is responsible for various matters, including:\n",
       "\n",
       "* Town police\n",
       "* Cooperative institutions\n",
       "* Operation of F.M.\n",
       "* Local taxes and fees\n",
       "* Management of local services\n",
       "* Collection of local statistics and records\n",
       "* Local level development plans and projects\n",
       "* Basic and secondary education\n",
       "* Basic health and sanitation\n",
       "* Local market management, environment protection, and bio-diversity\n",
       "* Local roads, rural roads, agro-roads, irrigation\n",
       "* Management of Village Assembly, Municipal Assembly, District Assembly, local courts, mediation, and arbitration\n",
       "* Local government services, including local records management, distribution of house and land ownership certificates, agriculture and animal husbandry, management of senior citizens, persons with disabilities, and incapacitated, collection of statistics of the unemployed, management, operation, and control of agricultural extension, water supply, small hydropower projects, alternative energy, disaster management, protection of watersheds, wildlife, mines, and minerals, and protection and development of languages, cultures, and fine arts.\n",
       "\n",
       "Note: The information provided does not mention the powers and responsibilities of the Federal and Provincial governments."
      ],
      "text/plain": [
       "<IPython.core.display.Markdown object>"
      ]
     },
     "execution_count": 29,
     "metadata": {},
     "output_type": "execute_result"
    }
   ],
   "source": [
    "%%time\n",
    "response = qa.invoke(\"What are the powers and responsibilities of federal, provincial, and local governments?\")\n",
    "Markdown(response[\"result\"])\n",
    "\n"
   ]
  },
  {
   "cell_type": "code",
   "execution_count": 30,
   "metadata": {
    "colab": {
     "base_uri": "https://localhost:8080/",
     "height": 117
    },
    "id": "oSQS41zUuzuD",
    "outputId": "102a9ad5-5562-49c1-f133-753d938781e5"
   },
   "outputs": [
    {
     "name": "stdout",
     "output_type": "stream",
     "text": [
      "Running pairwise ranking..\n",
      "CPU times: user 3.33 s, sys: 59.6 ms, total: 3.39 s\n",
      "Wall time: 3.93 s\n"
     ]
    },
    {
     "data": {
      "text/markdown": [
       "I don't know who Binit is. The provided information does not mention a person named Binit. It appears to be a set of rules and regulations related to the State Government, Chief Minister, and Ministers, but it does not contain any information about a person named Binit."
      ],
      "text/plain": [
       "<IPython.core.display.Markdown object>"
      ]
     },
     "execution_count": 30,
     "metadata": {},
     "output_type": "execute_result"
    }
   ],
   "source": [
    "%%time\n",
    "response = qa.invoke(\"Who is Binit\")\n",
    "Markdown(response[\"result\"])\n"
   ]
  },
  {
   "cell_type": "code",
   "execution_count": 31,
   "metadata": {
    "colab": {
     "base_uri": "https://localhost:8080/",
     "height": 378
    },
    "id": "0cBAZnTM0Waf",
    "outputId": "94456518-df8e-41ec-94cf-f756b4f7111a"
   },
   "outputs": [
    {
     "name": "stdout",
     "output_type": "stream",
     "text": [
      "Running pairwise ranking..\n",
      "CPU times: user 1.67 s, sys: 112 ms, total: 1.78 s\n",
      "Wall time: 2.82 s\n"
     ]
    },
    {
     "data": {
      "text/markdown": [
       "**Answer:** The Constitution of Nepal has divided the revenue under federalism in a way that:\n",
       "\n",
       "* The Federation, State, and Local level may impose taxes on matters falling within their respective jurisdiction and collect revenue from these sources.\n",
       "* The Government of Nepal shall make provisions for the equitable distribution of the collected revenue to the Federation, State, and Local level.\n",
       "* The amount of fiscal transfer receivable by the State and Local level shall be as recommended by the National Natural Resources and Fiscal Commission.\n",
       "* The Government of Nepal shall distribute fiscal equalization grants to the State and Local level based on the need of expenditure and revenue capacity.\n",
       "* Each State shall distribute fiscal equalization grants to its subordinate Local level based on the need of expenditure and revenue capacity.\n",
       "* Provisions relating to distribution of conditional grants, complementary grants, or special grants for other purposes shall be as provided for in the Federal law.\n",
       "\n",
       "**Additional helpful information:**\n",
       "\n",
       "* The distribution of revenues between the Federal, State, and Local level shall be made in a balanced and transparent manner.\n",
       "* The Government of Nepal has the authority to determine provisions relating to the imposition of taxes and collection of revenue on matters that fall within the Concurrent List and on matters that are not included in the List of any level."
      ],
      "text/plain": [
       "<IPython.core.display.Markdown object>"
      ]
     },
     "execution_count": 31,
     "metadata": {},
     "output_type": "execute_result"
    }
   ],
   "source": [
    "%%time\n",
    "response = qa.invoke(\"how has the constitution of nepal divided the revenue under federalism?\")\n",
    "Markdown(response[\"result\"])\n"
   ]
  },
  {
   "cell_type": "code",
   "execution_count": 32,
   "metadata": {
    "colab": {
     "base_uri": "https://localhost:8080/",
     "height": 679
    },
    "id": "8kByHEbLHPbJ",
    "outputId": "3c980e1e-40ca-49bd-8921-7d3b864dcddc"
   },
   "outputs": [
    {
     "name": "stdout",
     "output_type": "stream",
     "text": [
      "Running pairwise ranking..\n",
      "CPU times: user 2.86 s, sys: 78.6 ms, total: 2.94 s\n",
      "Wall time: 4.35 s\n"
     ]
    },
    {
     "data": {
      "text/markdown": [
       "Based on the provided information, the directive principles of the State under the Constitution of Nepal are:\n",
       "\n",
       "1. Establishing a public welfare system of governance\n",
       "2. Establishing a just system in all aspects of national life through:\n",
       "\t* Rule of law\n",
       "\t* Values and norms of fundamental rights and human rights\n",
       "\t* Gender equality\n",
       "\t* Proportional inclusion\n",
       "\t* Participation\n",
       "\t* Social justice\n",
       "3. Protecting the life, property, equality, and liberties of the people\n",
       "4. Consolidating a federal democratic republican system of governance\n",
       "5. Ensuring an atmosphere conducive to the enjoyment of the fruits of democracy\n",
       "6. Maintaining relations between Federal Units on the basis of cooperative federalism\n",
       "7. Incorporating the principle of proportional participation in the system of governance on the basis of local autonomy and decentralization\n",
       "8. Building a civilized and egalitarian society by eliminating all forms of discrimination, exploitation, and injustice\n",
       "9. Developing social and cultural values founded on:\n",
       "\t* National pride\n",
       "\t* Democracy\n",
       "\t* Pro-people\n",
       "\t* Respect of labor\n",
       "\t* Entrepreneurship\n",
       "\t* Discipline\n",
       "\t* Dignity\n",
       "\t* Harmony\n",
       "10. Consolidating national unity by maintaining social cohesion, solidarity, and harmony while recognizing cultural diversity.\n",
       "\n",
       "Additional helpful information:\n",
       "\n",
       "* These directive principles are guiding principles for the governance of the State (Part-4, Article 49).\n",
       "* The State shall mobilize means and resources to implement these principles (Part-4, Article 49).\n",
       "* The Government of Nepal shall submit an annual report on the implementation of these principles to the President, who shall lay it before the Federal Parliament (Part-5, Article 53).\n",
       "* A committee in the Federal Parliament shall monitor and evaluate the implementation of these principles (Part-5, Article 54)."
      ],
      "text/plain": [
       "<IPython.core.display.Markdown object>"
      ]
     },
     "execution_count": 32,
     "metadata": {},
     "output_type": "execute_result"
    }
   ],
   "source": [
    "%%time\n",
    "response = qa.invoke(\"list out the directive principles of state under constitution of nepal?\")\n",
    "Markdown(response[\"result\"])\n"
   ]
  },
  {
   "cell_type": "code",
   "execution_count": 14,
   "metadata": {
    "id": "0aB_EZ6sILU8"
   },
   "outputs": [
    {
     "name": "stdout",
     "output_type": "stream",
     "text": [
      "hello\n"
     ]
    }
   ],
   "source": [
    "print('hello')"
   ]
  },
  {
   "cell_type": "code",
   "execution_count": null,
   "metadata": {},
   "outputs": [],
   "source": []
  }
 ],
 "metadata": {
  "colab": {
   "provenance": []
  },
  "kernelspec": {
   "display_name": "conda_python3",
   "language": "python",
   "name": "conda_python3"
  },
  "language_info": {
   "codemirror_mode": {
    "name": "ipython",
    "version": 3
   },
   "file_extension": ".py",
   "mimetype": "text/x-python",
   "name": "python",
   "nbconvert_exporter": "python",
   "pygments_lexer": "ipython3",
   "version": "3.10.14"
  },
  "widgets": {
   "application/vnd.jupyter.widget-state+json": {
    "0a48023bb48b4ee9a6bdc452be6e5664": {
     "model_module": "@jupyter-widgets/controls",
     "model_module_version": "1.5.0",
     "model_name": "DescriptionStyleModel",
     "state": {
      "_model_module": "@jupyter-widgets/controls",
      "_model_module_version": "1.5.0",
      "_model_name": "DescriptionStyleModel",
      "_view_count": null,
      "_view_module": "@jupyter-widgets/base",
      "_view_module_version": "1.2.0",
      "_view_name": "StyleView",
      "description_width": ""
     }
    },
    "108e730973be449cbfa166ad783117ac": {
     "model_module": "@jupyter-widgets/base",
     "model_module_version": "1.2.0",
     "model_name": "LayoutModel",
     "state": {
      "_model_module": "@jupyter-widgets/base",
      "_model_module_version": "1.2.0",
      "_model_name": "LayoutModel",
      "_view_count": null,
      "_view_module": "@jupyter-widgets/base",
      "_view_module_version": "1.2.0",
      "_view_name": "LayoutView",
      "align_content": null,
      "align_items": null,
      "align_self": null,
      "border": null,
      "bottom": null,
      "display": null,
      "flex": null,
      "flex_flow": null,
      "grid_area": null,
      "grid_auto_columns": null,
      "grid_auto_flow": null,
      "grid_auto_rows": null,
      "grid_column": null,
      "grid_gap": null,
      "grid_row": null,
      "grid_template_areas": null,
      "grid_template_columns": null,
      "grid_template_rows": null,
      "height": null,
      "justify_content": null,
      "justify_items": null,
      "left": null,
      "margin": null,
      "max_height": null,
      "max_width": null,
      "min_height": null,
      "min_width": null,
      "object_fit": null,
      "object_position": null,
      "order": null,
      "overflow": null,
      "overflow_x": null,
      "overflow_y": null,
      "padding": null,
      "right": null,
      "top": null,
      "visibility": null,
      "width": null
     }
    },
    "10d7e354a19f4e7ba3c55f76ed0074aa": {
     "model_module": "@jupyter-widgets/controls",
     "model_module_version": "1.5.0",
     "model_name": "HTMLModel",
     "state": {
      "_dom_classes": [],
      "_model_module": "@jupyter-widgets/controls",
      "_model_module_version": "1.5.0",
      "_model_name": "HTMLModel",
      "_view_count": null,
      "_view_module": "@jupyter-widgets/controls",
      "_view_module_version": "1.5.0",
      "_view_name": "HTMLView",
      "description": "",
      "description_tooltip": null,
      "layout": "IPY_MODEL_b0e13ce5c416411ca690300ed23f4db1",
      "placeholder": "​",
      "style": "IPY_MODEL_2b59c9c654c64167a455b4c430424207",
      "value": "Fetching 5 files: 100%"
     }
    },
    "1daf3f6788374fc69c2a4764625b8967": {
     "model_module": "@jupyter-widgets/controls",
     "model_module_version": "1.5.0",
     "model_name": "HTMLModel",
     "state": {
      "_dom_classes": [],
      "_model_module": "@jupyter-widgets/controls",
      "_model_module_version": "1.5.0",
      "_model_name": "HTMLModel",
      "_view_count": null,
      "_view_module": "@jupyter-widgets/controls",
      "_view_module_version": "1.5.0",
      "_view_name": "HTMLView",
      "description": "",
      "description_tooltip": null,
      "layout": "IPY_MODEL_9b3443d0fda84616a387a520980cd563",
      "placeholder": "​",
      "style": "IPY_MODEL_bbef5ee3ee724e6c9e28d96bfb2dfbfe",
      "value": "config.json: 100%"
     }
    },
    "1e90be94b69646b78071517bed816d56": {
     "model_module": "@jupyter-widgets/controls",
     "model_module_version": "1.5.0",
     "model_name": "HTMLModel",
     "state": {
      "_dom_classes": [],
      "_model_module": "@jupyter-widgets/controls",
      "_model_module_version": "1.5.0",
      "_model_name": "HTMLModel",
      "_view_count": null,
      "_view_module": "@jupyter-widgets/controls",
      "_view_module_version": "1.5.0",
      "_view_name": "HTMLView",
      "description": "",
      "description_tooltip": null,
      "layout": "IPY_MODEL_38798ae9371a40a5b9dd95f5b957b33a",
      "placeholder": "​",
      "style": "IPY_MODEL_f95c462342e24e7890e61abe582199fa",
      "value": " 218M/218M [00:01&lt;00:00, 150MB/s]"
     }
    },
    "21b11c96cfd34cf68cb2e56b73910d11": {
     "model_module": "@jupyter-widgets/controls",
     "model_module_version": "1.5.0",
     "model_name": "HTMLModel",
     "state": {
      "_dom_classes": [],
      "_model_module": "@jupyter-widgets/controls",
      "_model_module_version": "1.5.0",
      "_model_name": "HTMLModel",
      "_view_count": null,
      "_view_module": "@jupyter-widgets/controls",
      "_view_module_version": "1.5.0",
      "_view_name": "HTMLView",
      "description": "",
      "description_tooltip": null,
      "layout": "IPY_MODEL_a9cc21d6170f4e108d5803e1db30dcd9",
      "placeholder": "​",
      "style": "IPY_MODEL_a21908740bd649af95f8899507b64db4",
      "value": "tokenizer.json: 100%"
     }
    },
    "22e162edb2414a8ca02de2fc8b624d75": {
     "model_module": "@jupyter-widgets/base",
     "model_module_version": "1.2.0",
     "model_name": "LayoutModel",
     "state": {
      "_model_module": "@jupyter-widgets/base",
      "_model_module_version": "1.2.0",
      "_model_name": "LayoutModel",
      "_view_count": null,
      "_view_module": "@jupyter-widgets/base",
      "_view_module_version": "1.2.0",
      "_view_name": "LayoutView",
      "align_content": null,
      "align_items": null,
      "align_self": null,
      "border": null,
      "bottom": null,
      "display": null,
      "flex": null,
      "flex_flow": null,
      "grid_area": null,
      "grid_auto_columns": null,
      "grid_auto_flow": null,
      "grid_auto_rows": null,
      "grid_column": null,
      "grid_gap": null,
      "grid_row": null,
      "grid_template_areas": null,
      "grid_template_columns": null,
      "grid_template_rows": null,
      "height": null,
      "justify_content": null,
      "justify_items": null,
      "left": null,
      "margin": null,
      "max_height": null,
      "max_width": null,
      "min_height": null,
      "min_width": null,
      "object_fit": null,
      "object_position": null,
      "order": null,
      "overflow": null,
      "overflow_x": null,
      "overflow_y": null,
      "padding": null,
      "right": null,
      "top": null,
      "visibility": null,
      "width": null
     }
    },
    "24dd534b276646c3b6d688e4669c003a": {
     "model_module": "@jupyter-widgets/controls",
     "model_module_version": "1.5.0",
     "model_name": "ProgressStyleModel",
     "state": {
      "_model_module": "@jupyter-widgets/controls",
      "_model_module_version": "1.5.0",
      "_model_name": "ProgressStyleModel",
      "_view_count": null,
      "_view_module": "@jupyter-widgets/base",
      "_view_module_version": "1.2.0",
      "_view_name": "StyleView",
      "bar_color": null,
      "description_width": ""
     }
    },
    "263772b550944ade82ed51414703951e": {
     "model_module": "@jupyter-widgets/controls",
     "model_module_version": "1.5.0",
     "model_name": "DescriptionStyleModel",
     "state": {
      "_model_module": "@jupyter-widgets/controls",
      "_model_module_version": "1.5.0",
      "_model_name": "DescriptionStyleModel",
      "_view_count": null,
      "_view_module": "@jupyter-widgets/base",
      "_view_module_version": "1.2.0",
      "_view_name": "StyleView",
      "description_width": ""
     }
    },
    "26995e276fe4472d957533f92c98aac4": {
     "model_module": "@jupyter-widgets/base",
     "model_module_version": "1.2.0",
     "model_name": "LayoutModel",
     "state": {
      "_model_module": "@jupyter-widgets/base",
      "_model_module_version": "1.2.0",
      "_model_name": "LayoutModel",
      "_view_count": null,
      "_view_module": "@jupyter-widgets/base",
      "_view_module_version": "1.2.0",
      "_view_name": "LayoutView",
      "align_content": null,
      "align_items": null,
      "align_self": null,
      "border": null,
      "bottom": null,
      "display": null,
      "flex": null,
      "flex_flow": null,
      "grid_area": null,
      "grid_auto_columns": null,
      "grid_auto_flow": null,
      "grid_auto_rows": null,
      "grid_column": null,
      "grid_gap": null,
      "grid_row": null,
      "grid_template_areas": null,
      "grid_template_columns": null,
      "grid_template_rows": null,
      "height": null,
      "justify_content": null,
      "justify_items": null,
      "left": null,
      "margin": null,
      "max_height": null,
      "max_width": null,
      "min_height": null,
      "min_width": null,
      "object_fit": null,
      "object_position": null,
      "order": null,
      "overflow": null,
      "overflow_x": null,
      "overflow_y": null,
      "padding": null,
      "right": null,
      "top": null,
      "visibility": null,
      "width": null
     }
    },
    "2b59c9c654c64167a455b4c430424207": {
     "model_module": "@jupyter-widgets/controls",
     "model_module_version": "1.5.0",
     "model_name": "DescriptionStyleModel",
     "state": {
      "_model_module": "@jupyter-widgets/controls",
      "_model_module_version": "1.5.0",
      "_model_name": "DescriptionStyleModel",
      "_view_count": null,
      "_view_module": "@jupyter-widgets/base",
      "_view_module_version": "1.2.0",
      "_view_name": "StyleView",
      "description_width": ""
     }
    },
    "322d6ea6b8224e2189b7a9e859b2f63e": {
     "model_module": "@jupyter-widgets/controls",
     "model_module_version": "1.5.0",
     "model_name": "HBoxModel",
     "state": {
      "_dom_classes": [],
      "_model_module": "@jupyter-widgets/controls",
      "_model_module_version": "1.5.0",
      "_model_name": "HBoxModel",
      "_view_count": null,
      "_view_module": "@jupyter-widgets/controls",
      "_view_module_version": "1.5.0",
      "_view_name": "HBoxView",
      "box_style": "",
      "children": [
       "IPY_MODEL_9c0856ea9e3c466fb12208d12a8783ac",
       "IPY_MODEL_dbe07ec9d49e448d84fe11074d13c716",
       "IPY_MODEL_5a3a2aa1869a4cef92e731c6fa408d26"
      ],
      "layout": "IPY_MODEL_59e3935fed6e4f5a8fc20c41f8793b70"
     }
    },
    "356661d4bcf64ab493f14331dfb1c4a8": {
     "model_module": "@jupyter-widgets/controls",
     "model_module_version": "1.5.0",
     "model_name": "FloatProgressModel",
     "state": {
      "_dom_classes": [],
      "_model_module": "@jupyter-widgets/controls",
      "_model_module_version": "1.5.0",
      "_model_name": "FloatProgressModel",
      "_view_count": null,
      "_view_module": "@jupyter-widgets/controls",
      "_view_module_version": "1.5.0",
      "_view_name": "ProgressView",
      "bar_style": "success",
      "description": "",
      "description_tooltip": null,
      "layout": "IPY_MODEL_526c6287d6764f6994a5d0fc380c09ab",
      "max": 740,
      "min": 0,
      "orientation": "horizontal",
      "style": "IPY_MODEL_6bf186098f28433aaeafb817450d2eaa",
      "value": 740
     }
    },
    "38798ae9371a40a5b9dd95f5b957b33a": {
     "model_module": "@jupyter-widgets/base",
     "model_module_version": "1.2.0",
     "model_name": "LayoutModel",
     "state": {
      "_model_module": "@jupyter-widgets/base",
      "_model_module_version": "1.2.0",
      "_model_name": "LayoutModel",
      "_view_count": null,
      "_view_module": "@jupyter-widgets/base",
      "_view_module_version": "1.2.0",
      "_view_name": "LayoutView",
      "align_content": null,
      "align_items": null,
      "align_self": null,
      "border": null,
      "bottom": null,
      "display": null,
      "flex": null,
      "flex_flow": null,
      "grid_area": null,
      "grid_auto_columns": null,
      "grid_auto_flow": null,
      "grid_auto_rows": null,
      "grid_column": null,
      "grid_gap": null,
      "grid_row": null,
      "grid_template_areas": null,
      "grid_template_columns": null,
      "grid_template_rows": null,
      "height": null,
      "justify_content": null,
      "justify_items": null,
      "left": null,
      "margin": null,
      "max_height": null,
      "max_width": null,
      "min_height": null,
      "min_width": null,
      "object_fit": null,
      "object_position": null,
      "order": null,
      "overflow": null,
      "overflow_x": null,
      "overflow_y": null,
      "padding": null,
      "right": null,
      "top": null,
      "visibility": null,
      "width": null
     }
    },
    "4501b383a74641c7a257a161d7d8d84e": {
     "model_module": "@jupyter-widgets/base",
     "model_module_version": "1.2.0",
     "model_name": "LayoutModel",
     "state": {
      "_model_module": "@jupyter-widgets/base",
      "_model_module_version": "1.2.0",
      "_model_name": "LayoutModel",
      "_view_count": null,
      "_view_module": "@jupyter-widgets/base",
      "_view_module_version": "1.2.0",
      "_view_name": "LayoutView",
      "align_content": null,
      "align_items": null,
      "align_self": null,
      "border": null,
      "bottom": null,
      "display": null,
      "flex": null,
      "flex_flow": null,
      "grid_area": null,
      "grid_auto_columns": null,
      "grid_auto_flow": null,
      "grid_auto_rows": null,
      "grid_column": null,
      "grid_gap": null,
      "grid_row": null,
      "grid_template_areas": null,
      "grid_template_columns": null,
      "grid_template_rows": null,
      "height": null,
      "justify_content": null,
      "justify_items": null,
      "left": null,
      "margin": null,
      "max_height": null,
      "max_width": null,
      "min_height": null,
      "min_width": null,
      "object_fit": null,
      "object_position": null,
      "order": null,
      "overflow": null,
      "overflow_x": null,
      "overflow_y": null,
      "padding": null,
      "right": null,
      "top": null,
      "visibility": null,
      "width": null
     }
    },
    "45821cd1fe8d4dbb8ab133f3b5ed932d": {
     "model_module": "@jupyter-widgets/controls",
     "model_module_version": "1.5.0",
     "model_name": "HBoxModel",
     "state": {
      "_dom_classes": [],
      "_model_module": "@jupyter-widgets/controls",
      "_model_module_version": "1.5.0",
      "_model_name": "HBoxModel",
      "_view_count": null,
      "_view_module": "@jupyter-widgets/controls",
      "_view_module_version": "1.5.0",
      "_view_name": "HBoxView",
      "box_style": "",
      "children": [
       "IPY_MODEL_1daf3f6788374fc69c2a4764625b8967",
       "IPY_MODEL_356661d4bcf64ab493f14331dfb1c4a8",
       "IPY_MODEL_f30f552b396e4dc0890732248e36367a"
      ],
      "layout": "IPY_MODEL_73e5ab92a6764163b47b70d0419463a1"
     }
    },
    "4646516b438c446187929694de8b198c": {
     "model_module": "@jupyter-widgets/base",
     "model_module_version": "1.2.0",
     "model_name": "LayoutModel",
     "state": {
      "_model_module": "@jupyter-widgets/base",
      "_model_module_version": "1.2.0",
      "_model_name": "LayoutModel",
      "_view_count": null,
      "_view_module": "@jupyter-widgets/base",
      "_view_module_version": "1.2.0",
      "_view_name": "LayoutView",
      "align_content": null,
      "align_items": null,
      "align_self": null,
      "border": null,
      "bottom": null,
      "display": null,
      "flex": null,
      "flex_flow": null,
      "grid_area": null,
      "grid_auto_columns": null,
      "grid_auto_flow": null,
      "grid_auto_rows": null,
      "grid_column": null,
      "grid_gap": null,
      "grid_row": null,
      "grid_template_areas": null,
      "grid_template_columns": null,
      "grid_template_rows": null,
      "height": null,
      "justify_content": null,
      "justify_items": null,
      "left": null,
      "margin": null,
      "max_height": null,
      "max_width": null,
      "min_height": null,
      "min_width": null,
      "object_fit": null,
      "object_position": null,
      "order": null,
      "overflow": null,
      "overflow_x": null,
      "overflow_y": null,
      "padding": null,
      "right": null,
      "top": null,
      "visibility": null,
      "width": null
     }
    },
    "4ec43a1455d0432ca4a1b7669ba13ca8": {
     "model_module": "@jupyter-widgets/controls",
     "model_module_version": "1.5.0",
     "model_name": "DescriptionStyleModel",
     "state": {
      "_model_module": "@jupyter-widgets/controls",
      "_model_module_version": "1.5.0",
      "_model_name": "DescriptionStyleModel",
      "_view_count": null,
      "_view_module": "@jupyter-widgets/base",
      "_view_module_version": "1.2.0",
      "_view_name": "StyleView",
      "description_width": ""
     }
    },
    "510aeec2158745429dfb57555581671e": {
     "model_module": "@jupyter-widgets/controls",
     "model_module_version": "1.5.0",
     "model_name": "HTMLModel",
     "state": {
      "_dom_classes": [],
      "_model_module": "@jupyter-widgets/controls",
      "_model_module_version": "1.5.0",
      "_model_name": "HTMLModel",
      "_view_count": null,
      "_view_module": "@jupyter-widgets/controls",
      "_view_module_version": "1.5.0",
      "_view_name": "HTMLView",
      "description": "",
      "description_tooltip": null,
      "layout": "IPY_MODEL_5818201364f7486ab88201d4ed408007",
      "placeholder": "​",
      "style": "IPY_MODEL_da93d0fa6bf84652b473a511ef586539",
      "value": "model_optimized.onnx: 100%"
     }
    },
    "526c6287d6764f6994a5d0fc380c09ab": {
     "model_module": "@jupyter-widgets/base",
     "model_module_version": "1.2.0",
     "model_name": "LayoutModel",
     "state": {
      "_model_module": "@jupyter-widgets/base",
      "_model_module_version": "1.2.0",
      "_model_name": "LayoutModel",
      "_view_count": null,
      "_view_module": "@jupyter-widgets/base",
      "_view_module_version": "1.2.0",
      "_view_name": "LayoutView",
      "align_content": null,
      "align_items": null,
      "align_self": null,
      "border": null,
      "bottom": null,
      "display": null,
      "flex": null,
      "flex_flow": null,
      "grid_area": null,
      "grid_auto_columns": null,
      "grid_auto_flow": null,
      "grid_auto_rows": null,
      "grid_column": null,
      "grid_gap": null,
      "grid_row": null,
      "grid_template_areas": null,
      "grid_template_columns": null,
      "grid_template_rows": null,
      "height": null,
      "justify_content": null,
      "justify_items": null,
      "left": null,
      "margin": null,
      "max_height": null,
      "max_width": null,
      "min_height": null,
      "min_width": null,
      "object_fit": null,
      "object_position": null,
      "order": null,
      "overflow": null,
      "overflow_x": null,
      "overflow_y": null,
      "padding": null,
      "right": null,
      "top": null,
      "visibility": null,
      "width": null
     }
    },
    "5818201364f7486ab88201d4ed408007": {
     "model_module": "@jupyter-widgets/base",
     "model_module_version": "1.2.0",
     "model_name": "LayoutModel",
     "state": {
      "_model_module": "@jupyter-widgets/base",
      "_model_module_version": "1.2.0",
      "_model_name": "LayoutModel",
      "_view_count": null,
      "_view_module": "@jupyter-widgets/base",
      "_view_module_version": "1.2.0",
      "_view_name": "LayoutView",
      "align_content": null,
      "align_items": null,
      "align_self": null,
      "border": null,
      "bottom": null,
      "display": null,
      "flex": null,
      "flex_flow": null,
      "grid_area": null,
      "grid_auto_columns": null,
      "grid_auto_flow": null,
      "grid_auto_rows": null,
      "grid_column": null,
      "grid_gap": null,
      "grid_row": null,
      "grid_template_areas": null,
      "grid_template_columns": null,
      "grid_template_rows": null,
      "height": null,
      "justify_content": null,
      "justify_items": null,
      "left": null,
      "margin": null,
      "max_height": null,
      "max_width": null,
      "min_height": null,
      "min_width": null,
      "object_fit": null,
      "object_position": null,
      "order": null,
      "overflow": null,
      "overflow_x": null,
      "overflow_y": null,
      "padding": null,
      "right": null,
      "top": null,
      "visibility": null,
      "width": null
     }
    },
    "59e3935fed6e4f5a8fc20c41f8793b70": {
     "model_module": "@jupyter-widgets/base",
     "model_module_version": "1.2.0",
     "model_name": "LayoutModel",
     "state": {
      "_model_module": "@jupyter-widgets/base",
      "_model_module_version": "1.2.0",
      "_model_name": "LayoutModel",
      "_view_count": null,
      "_view_module": "@jupyter-widgets/base",
      "_view_module_version": "1.2.0",
      "_view_name": "LayoutView",
      "align_content": null,
      "align_items": null,
      "align_self": null,
      "border": null,
      "bottom": null,
      "display": null,
      "flex": null,
      "flex_flow": null,
      "grid_area": null,
      "grid_auto_columns": null,
      "grid_auto_flow": null,
      "grid_auto_rows": null,
      "grid_column": null,
      "grid_gap": null,
      "grid_row": null,
      "grid_template_areas": null,
      "grid_template_columns": null,
      "grid_template_rows": null,
      "height": null,
      "justify_content": null,
      "justify_items": null,
      "left": null,
      "margin": null,
      "max_height": null,
      "max_width": null,
      "min_height": null,
      "min_width": null,
      "object_fit": null,
      "object_position": null,
      "order": null,
      "overflow": null,
      "overflow_x": null,
      "overflow_y": null,
      "padding": null,
      "right": null,
      "top": null,
      "visibility": null,
      "width": null
     }
    },
    "5a3a2aa1869a4cef92e731c6fa408d26": {
     "model_module": "@jupyter-widgets/controls",
     "model_module_version": "1.5.0",
     "model_name": "HTMLModel",
     "state": {
      "_dom_classes": [],
      "_model_module": "@jupyter-widgets/controls",
      "_model_module_version": "1.5.0",
      "_model_name": "HTMLModel",
      "_view_count": null,
      "_view_module": "@jupyter-widgets/controls",
      "_view_module_version": "1.5.0",
      "_view_name": "HTMLView",
      "description": "",
      "description_tooltip": null,
      "layout": "IPY_MODEL_b00852eec546492eb6678349fd6f219b",
      "placeholder": "​",
      "style": "IPY_MODEL_bae25a6512ba4b63aa744631f44414c0",
      "value": " 1.24k/1.24k [00:00&lt;00:00, 11.1kB/s]"
     }
    },
    "6152a22d21f340bba3021e4affad1661": {
     "model_module": "@jupyter-widgets/base",
     "model_module_version": "1.2.0",
     "model_name": "LayoutModel",
     "state": {
      "_model_module": "@jupyter-widgets/base",
      "_model_module_version": "1.2.0",
      "_model_name": "LayoutModel",
      "_view_count": null,
      "_view_module": "@jupyter-widgets/base",
      "_view_module_version": "1.2.0",
      "_view_name": "LayoutView",
      "align_content": null,
      "align_items": null,
      "align_self": null,
      "border": null,
      "bottom": null,
      "display": null,
      "flex": null,
      "flex_flow": null,
      "grid_area": null,
      "grid_auto_columns": null,
      "grid_auto_flow": null,
      "grid_auto_rows": null,
      "grid_column": null,
      "grid_gap": null,
      "grid_row": null,
      "grid_template_areas": null,
      "grid_template_columns": null,
      "grid_template_rows": null,
      "height": null,
      "justify_content": null,
      "justify_items": null,
      "left": null,
      "margin": null,
      "max_height": null,
      "max_width": null,
      "min_height": null,
      "min_width": null,
      "object_fit": null,
      "object_position": null,
      "order": null,
      "overflow": null,
      "overflow_x": null,
      "overflow_y": null,
      "padding": null,
      "right": null,
      "top": null,
      "visibility": null,
      "width": null
     }
    },
    "66846730a6a84bc5802dafabce4c1861": {
     "model_module": "@jupyter-widgets/base",
     "model_module_version": "1.2.0",
     "model_name": "LayoutModel",
     "state": {
      "_model_module": "@jupyter-widgets/base",
      "_model_module_version": "1.2.0",
      "_model_name": "LayoutModel",
      "_view_count": null,
      "_view_module": "@jupyter-widgets/base",
      "_view_module_version": "1.2.0",
      "_view_name": "LayoutView",
      "align_content": null,
      "align_items": null,
      "align_self": null,
      "border": null,
      "bottom": null,
      "display": null,
      "flex": null,
      "flex_flow": null,
      "grid_area": null,
      "grid_auto_columns": null,
      "grid_auto_flow": null,
      "grid_auto_rows": null,
      "grid_column": null,
      "grid_gap": null,
      "grid_row": null,
      "grid_template_areas": null,
      "grid_template_columns": null,
      "grid_template_rows": null,
      "height": null,
      "justify_content": null,
      "justify_items": null,
      "left": null,
      "margin": null,
      "max_height": null,
      "max_width": null,
      "min_height": null,
      "min_width": null,
      "object_fit": null,
      "object_position": null,
      "order": null,
      "overflow": null,
      "overflow_x": null,
      "overflow_y": null,
      "padding": null,
      "right": null,
      "top": null,
      "visibility": null,
      "width": null
     }
    },
    "677b2d8838fa4fab838a84e95583333f": {
     "model_module": "@jupyter-widgets/base",
     "model_module_version": "1.2.0",
     "model_name": "LayoutModel",
     "state": {
      "_model_module": "@jupyter-widgets/base",
      "_model_module_version": "1.2.0",
      "_model_name": "LayoutModel",
      "_view_count": null,
      "_view_module": "@jupyter-widgets/base",
      "_view_module_version": "1.2.0",
      "_view_name": "LayoutView",
      "align_content": null,
      "align_items": null,
      "align_self": null,
      "border": null,
      "bottom": null,
      "display": null,
      "flex": null,
      "flex_flow": null,
      "grid_area": null,
      "grid_auto_columns": null,
      "grid_auto_flow": null,
      "grid_auto_rows": null,
      "grid_column": null,
      "grid_gap": null,
      "grid_row": null,
      "grid_template_areas": null,
      "grid_template_columns": null,
      "grid_template_rows": null,
      "height": null,
      "justify_content": null,
      "justify_items": null,
      "left": null,
      "margin": null,
      "max_height": null,
      "max_width": null,
      "min_height": null,
      "min_width": null,
      "object_fit": null,
      "object_position": null,
      "order": null,
      "overflow": null,
      "overflow_x": null,
      "overflow_y": null,
      "padding": null,
      "right": null,
      "top": null,
      "visibility": null,
      "width": null
     }
    },
    "6bf186098f28433aaeafb817450d2eaa": {
     "model_module": "@jupyter-widgets/controls",
     "model_module_version": "1.5.0",
     "model_name": "ProgressStyleModel",
     "state": {
      "_model_module": "@jupyter-widgets/controls",
      "_model_module_version": "1.5.0",
      "_model_name": "ProgressStyleModel",
      "_view_count": null,
      "_view_module": "@jupyter-widgets/base",
      "_view_module_version": "1.2.0",
      "_view_name": "StyleView",
      "bar_color": null,
      "description_width": ""
     }
    },
    "705759b59a434e33bca0c9df174414e4": {
     "model_module": "@jupyter-widgets/controls",
     "model_module_version": "1.5.0",
     "model_name": "DescriptionStyleModel",
     "state": {
      "_model_module": "@jupyter-widgets/controls",
      "_model_module_version": "1.5.0",
      "_model_name": "DescriptionStyleModel",
      "_view_count": null,
      "_view_module": "@jupyter-widgets/base",
      "_view_module_version": "1.2.0",
      "_view_name": "StyleView",
      "description_width": ""
     }
    },
    "73e5ab92a6764163b47b70d0419463a1": {
     "model_module": "@jupyter-widgets/base",
     "model_module_version": "1.2.0",
     "model_name": "LayoutModel",
     "state": {
      "_model_module": "@jupyter-widgets/base",
      "_model_module_version": "1.2.0",
      "_model_name": "LayoutModel",
      "_view_count": null,
      "_view_module": "@jupyter-widgets/base",
      "_view_module_version": "1.2.0",
      "_view_name": "LayoutView",
      "align_content": null,
      "align_items": null,
      "align_self": null,
      "border": null,
      "bottom": null,
      "display": null,
      "flex": null,
      "flex_flow": null,
      "grid_area": null,
      "grid_auto_columns": null,
      "grid_auto_flow": null,
      "grid_auto_rows": null,
      "grid_column": null,
      "grid_gap": null,
      "grid_row": null,
      "grid_template_areas": null,
      "grid_template_columns": null,
      "grid_template_rows": null,
      "height": null,
      "justify_content": null,
      "justify_items": null,
      "left": null,
      "margin": null,
      "max_height": null,
      "max_width": null,
      "min_height": null,
      "min_width": null,
      "object_fit": null,
      "object_position": null,
      "order": null,
      "overflow": null,
      "overflow_x": null,
      "overflow_y": null,
      "padding": null,
      "right": null,
      "top": null,
      "visibility": null,
      "width": null
     }
    },
    "74021cedeaa346578a4673f69bd44d8f": {
     "model_module": "@jupyter-widgets/base",
     "model_module_version": "1.2.0",
     "model_name": "LayoutModel",
     "state": {
      "_model_module": "@jupyter-widgets/base",
      "_model_module_version": "1.2.0",
      "_model_name": "LayoutModel",
      "_view_count": null,
      "_view_module": "@jupyter-widgets/base",
      "_view_module_version": "1.2.0",
      "_view_name": "LayoutView",
      "align_content": null,
      "align_items": null,
      "align_self": null,
      "border": null,
      "bottom": null,
      "display": null,
      "flex": null,
      "flex_flow": null,
      "grid_area": null,
      "grid_auto_columns": null,
      "grid_auto_flow": null,
      "grid_auto_rows": null,
      "grid_column": null,
      "grid_gap": null,
      "grid_row": null,
      "grid_template_areas": null,
      "grid_template_columns": null,
      "grid_template_rows": null,
      "height": null,
      "justify_content": null,
      "justify_items": null,
      "left": null,
      "margin": null,
      "max_height": null,
      "max_width": null,
      "min_height": null,
      "min_width": null,
      "object_fit": null,
      "object_position": null,
      "order": null,
      "overflow": null,
      "overflow_x": null,
      "overflow_y": null,
      "padding": null,
      "right": null,
      "top": null,
      "visibility": null,
      "width": null
     }
    },
    "7622a87932054cebbe003476775330e3": {
     "model_module": "@jupyter-widgets/controls",
     "model_module_version": "1.5.0",
     "model_name": "ProgressStyleModel",
     "state": {
      "_model_module": "@jupyter-widgets/controls",
      "_model_module_version": "1.5.0",
      "_model_name": "ProgressStyleModel",
      "_view_count": null,
      "_view_module": "@jupyter-widgets/base",
      "_view_module_version": "1.2.0",
      "_view_name": "StyleView",
      "bar_color": null,
      "description_width": ""
     }
    },
    "883656712fd048fabc8ca5c053d9001f": {
     "model_module": "@jupyter-widgets/controls",
     "model_module_version": "1.5.0",
     "model_name": "HBoxModel",
     "state": {
      "_dom_classes": [],
      "_model_module": "@jupyter-widgets/controls",
      "_model_module_version": "1.5.0",
      "_model_name": "HBoxModel",
      "_view_count": null,
      "_view_module": "@jupyter-widgets/controls",
      "_view_module_version": "1.5.0",
      "_view_name": "HBoxView",
      "box_style": "",
      "children": [
       "IPY_MODEL_21b11c96cfd34cf68cb2e56b73910d11",
       "IPY_MODEL_d1133f5bc17d4a75876612f0dc993800",
       "IPY_MODEL_93c858c254934d00a1d5e289cc8c6434"
      ],
      "layout": "IPY_MODEL_c4c1fe90fd4647d9828f7a2f83057aa8"
     }
    },
    "93c858c254934d00a1d5e289cc8c6434": {
     "model_module": "@jupyter-widgets/controls",
     "model_module_version": "1.5.0",
     "model_name": "HTMLModel",
     "state": {
      "_dom_classes": [],
      "_model_module": "@jupyter-widgets/controls",
      "_model_module_version": "1.5.0",
      "_model_name": "HTMLModel",
      "_view_count": null,
      "_view_module": "@jupyter-widgets/controls",
      "_view_module_version": "1.5.0",
      "_view_name": "HTMLView",
      "description": "",
      "description_tooltip": null,
      "layout": "IPY_MODEL_108e730973be449cbfa166ad783117ac",
      "placeholder": "​",
      "style": "IPY_MODEL_263772b550944ade82ed51414703951e",
      "value": " 711k/711k [00:00&lt;00:00, 3.09MB/s]"
     }
    },
    "9af04c485cc2429685938e5b80111d49": {
     "model_module": "@jupyter-widgets/controls",
     "model_module_version": "1.5.0",
     "model_name": "ProgressStyleModel",
     "state": {
      "_model_module": "@jupyter-widgets/controls",
      "_model_module_version": "1.5.0",
      "_model_name": "ProgressStyleModel",
      "_view_count": null,
      "_view_module": "@jupyter-widgets/base",
      "_view_module_version": "1.2.0",
      "_view_name": "StyleView",
      "bar_color": null,
      "description_width": ""
     }
    },
    "9b3443d0fda84616a387a520980cd563": {
     "model_module": "@jupyter-widgets/base",
     "model_module_version": "1.2.0",
     "model_name": "LayoutModel",
     "state": {
      "_model_module": "@jupyter-widgets/base",
      "_model_module_version": "1.2.0",
      "_model_name": "LayoutModel",
      "_view_count": null,
      "_view_module": "@jupyter-widgets/base",
      "_view_module_version": "1.2.0",
      "_view_name": "LayoutView",
      "align_content": null,
      "align_items": null,
      "align_self": null,
      "border": null,
      "bottom": null,
      "display": null,
      "flex": null,
      "flex_flow": null,
      "grid_area": null,
      "grid_auto_columns": null,
      "grid_auto_flow": null,
      "grid_auto_rows": null,
      "grid_column": null,
      "grid_gap": null,
      "grid_row": null,
      "grid_template_areas": null,
      "grid_template_columns": null,
      "grid_template_rows": null,
      "height": null,
      "justify_content": null,
      "justify_items": null,
      "left": null,
      "margin": null,
      "max_height": null,
      "max_width": null,
      "min_height": null,
      "min_width": null,
      "object_fit": null,
      "object_position": null,
      "order": null,
      "overflow": null,
      "overflow_x": null,
      "overflow_y": null,
      "padding": null,
      "right": null,
      "top": null,
      "visibility": null,
      "width": null
     }
    },
    "9c0856ea9e3c466fb12208d12a8783ac": {
     "model_module": "@jupyter-widgets/controls",
     "model_module_version": "1.5.0",
     "model_name": "HTMLModel",
     "state": {
      "_dom_classes": [],
      "_model_module": "@jupyter-widgets/controls",
      "_model_module_version": "1.5.0",
      "_model_name": "HTMLModel",
      "_view_count": null,
      "_view_module": "@jupyter-widgets/controls",
      "_view_module_version": "1.5.0",
      "_view_name": "HTMLView",
      "description": "",
      "description_tooltip": null,
      "layout": "IPY_MODEL_4501b383a74641c7a257a161d7d8d84e",
      "placeholder": "​",
      "style": "IPY_MODEL_705759b59a434e33bca0c9df174414e4",
      "value": "tokenizer_config.json: 100%"
     }
    },
    "9d200a25acec4cbf8c01a37eefe819d0": {
     "model_module": "@jupyter-widgets/controls",
     "model_module_version": "1.5.0",
     "model_name": "FloatProgressModel",
     "state": {
      "_dom_classes": [],
      "_model_module": "@jupyter-widgets/controls",
      "_model_module_version": "1.5.0",
      "_model_name": "FloatProgressModel",
      "_view_count": null,
      "_view_module": "@jupyter-widgets/controls",
      "_view_module_version": "1.5.0",
      "_view_name": "ProgressView",
      "bar_style": "success",
      "description": "",
      "description_tooltip": null,
      "layout": "IPY_MODEL_66846730a6a84bc5802dafabce4c1861",
      "max": 217824172,
      "min": 0,
      "orientation": "horizontal",
      "style": "IPY_MODEL_7622a87932054cebbe003476775330e3",
      "value": 217824172
     }
    },
    "9ec7559a31b3466b865dbe29458c2410": {
     "model_module": "@jupyter-widgets/controls",
     "model_module_version": "1.5.0",
     "model_name": "DescriptionStyleModel",
     "state": {
      "_model_module": "@jupyter-widgets/controls",
      "_model_module_version": "1.5.0",
      "_model_name": "DescriptionStyleModel",
      "_view_count": null,
      "_view_module": "@jupyter-widgets/base",
      "_view_module_version": "1.2.0",
      "_view_name": "StyleView",
      "description_width": ""
     }
    },
    "a21908740bd649af95f8899507b64db4": {
     "model_module": "@jupyter-widgets/controls",
     "model_module_version": "1.5.0",
     "model_name": "DescriptionStyleModel",
     "state": {
      "_model_module": "@jupyter-widgets/controls",
      "_model_module_version": "1.5.0",
      "_model_name": "DescriptionStyleModel",
      "_view_count": null,
      "_view_module": "@jupyter-widgets/base",
      "_view_module_version": "1.2.0",
      "_view_name": "StyleView",
      "description_width": ""
     }
    },
    "a7f6c98bac054978af88b738981c387e": {
     "model_module": "@jupyter-widgets/controls",
     "model_module_version": "1.5.0",
     "model_name": "FloatProgressModel",
     "state": {
      "_dom_classes": [],
      "_model_module": "@jupyter-widgets/controls",
      "_model_module_version": "1.5.0",
      "_model_name": "FloatProgressModel",
      "_view_count": null,
      "_view_module": "@jupyter-widgets/controls",
      "_view_module_version": "1.5.0",
      "_view_name": "ProgressView",
      "bar_style": "success",
      "description": "",
      "description_tooltip": null,
      "layout": "IPY_MODEL_f6a1d7a7772a4c4687f27464297e2adf",
      "max": 5,
      "min": 0,
      "orientation": "horizontal",
      "style": "IPY_MODEL_24dd534b276646c3b6d688e4669c003a",
      "value": 5
     }
    },
    "a9cc21d6170f4e108d5803e1db30dcd9": {
     "model_module": "@jupyter-widgets/base",
     "model_module_version": "1.2.0",
     "model_name": "LayoutModel",
     "state": {
      "_model_module": "@jupyter-widgets/base",
      "_model_module_version": "1.2.0",
      "_model_name": "LayoutModel",
      "_view_count": null,
      "_view_module": "@jupyter-widgets/base",
      "_view_module_version": "1.2.0",
      "_view_name": "LayoutView",
      "align_content": null,
      "align_items": null,
      "align_self": null,
      "border": null,
      "bottom": null,
      "display": null,
      "flex": null,
      "flex_flow": null,
      "grid_area": null,
      "grid_auto_columns": null,
      "grid_auto_flow": null,
      "grid_auto_rows": null,
      "grid_column": null,
      "grid_gap": null,
      "grid_row": null,
      "grid_template_areas": null,
      "grid_template_columns": null,
      "grid_template_rows": null,
      "height": null,
      "justify_content": null,
      "justify_items": null,
      "left": null,
      "margin": null,
      "max_height": null,
      "max_width": null,
      "min_height": null,
      "min_width": null,
      "object_fit": null,
      "object_position": null,
      "order": null,
      "overflow": null,
      "overflow_x": null,
      "overflow_y": null,
      "padding": null,
      "right": null,
      "top": null,
      "visibility": null,
      "width": null
     }
    },
    "b00852eec546492eb6678349fd6f219b": {
     "model_module": "@jupyter-widgets/base",
     "model_module_version": "1.2.0",
     "model_name": "LayoutModel",
     "state": {
      "_model_module": "@jupyter-widgets/base",
      "_model_module_version": "1.2.0",
      "_model_name": "LayoutModel",
      "_view_count": null,
      "_view_module": "@jupyter-widgets/base",
      "_view_module_version": "1.2.0",
      "_view_name": "LayoutView",
      "align_content": null,
      "align_items": null,
      "align_self": null,
      "border": null,
      "bottom": null,
      "display": null,
      "flex": null,
      "flex_flow": null,
      "grid_area": null,
      "grid_auto_columns": null,
      "grid_auto_flow": null,
      "grid_auto_rows": null,
      "grid_column": null,
      "grid_gap": null,
      "grid_row": null,
      "grid_template_areas": null,
      "grid_template_columns": null,
      "grid_template_rows": null,
      "height": null,
      "justify_content": null,
      "justify_items": null,
      "left": null,
      "margin": null,
      "max_height": null,
      "max_width": null,
      "min_height": null,
      "min_width": null,
      "object_fit": null,
      "object_position": null,
      "order": null,
      "overflow": null,
      "overflow_x": null,
      "overflow_y": null,
      "padding": null,
      "right": null,
      "top": null,
      "visibility": null,
      "width": null
     }
    },
    "b0e13ce5c416411ca690300ed23f4db1": {
     "model_module": "@jupyter-widgets/base",
     "model_module_version": "1.2.0",
     "model_name": "LayoutModel",
     "state": {
      "_model_module": "@jupyter-widgets/base",
      "_model_module_version": "1.2.0",
      "_model_name": "LayoutModel",
      "_view_count": null,
      "_view_module": "@jupyter-widgets/base",
      "_view_module_version": "1.2.0",
      "_view_name": "LayoutView",
      "align_content": null,
      "align_items": null,
      "align_self": null,
      "border": null,
      "bottom": null,
      "display": null,
      "flex": null,
      "flex_flow": null,
      "grid_area": null,
      "grid_auto_columns": null,
      "grid_auto_flow": null,
      "grid_auto_rows": null,
      "grid_column": null,
      "grid_gap": null,
      "grid_row": null,
      "grid_template_areas": null,
      "grid_template_columns": null,
      "grid_template_rows": null,
      "height": null,
      "justify_content": null,
      "justify_items": null,
      "left": null,
      "margin": null,
      "max_height": null,
      "max_width": null,
      "min_height": null,
      "min_width": null,
      "object_fit": null,
      "object_position": null,
      "order": null,
      "overflow": null,
      "overflow_x": null,
      "overflow_y": null,
      "padding": null,
      "right": null,
      "top": null,
      "visibility": null,
      "width": null
     }
    },
    "b4ceb8ebac80459083685fb0f2292311": {
     "model_module": "@jupyter-widgets/controls",
     "model_module_version": "1.5.0",
     "model_name": "HTMLModel",
     "state": {
      "_dom_classes": [],
      "_model_module": "@jupyter-widgets/controls",
      "_model_module_version": "1.5.0",
      "_model_name": "HTMLModel",
      "_view_count": null,
      "_view_module": "@jupyter-widgets/controls",
      "_view_module_version": "1.5.0",
      "_view_name": "HTMLView",
      "description": "",
      "description_tooltip": null,
      "layout": "IPY_MODEL_fbe90cc966a14b3580f96b275cca3209",
      "placeholder": "​",
      "style": "IPY_MODEL_4ec43a1455d0432ca4a1b7669ba13ca8",
      "value": "special_tokens_map.json: 100%"
     }
    },
    "bae25a6512ba4b63aa744631f44414c0": {
     "model_module": "@jupyter-widgets/controls",
     "model_module_version": "1.5.0",
     "model_name": "DescriptionStyleModel",
     "state": {
      "_model_module": "@jupyter-widgets/controls",
      "_model_module_version": "1.5.0",
      "_model_name": "DescriptionStyleModel",
      "_view_count": null,
      "_view_module": "@jupyter-widgets/base",
      "_view_module_version": "1.2.0",
      "_view_name": "StyleView",
      "description_width": ""
     }
    },
    "bbef5ee3ee724e6c9e28d96bfb2dfbfe": {
     "model_module": "@jupyter-widgets/controls",
     "model_module_version": "1.5.0",
     "model_name": "DescriptionStyleModel",
     "state": {
      "_model_module": "@jupyter-widgets/controls",
      "_model_module_version": "1.5.0",
      "_model_name": "DescriptionStyleModel",
      "_view_count": null,
      "_view_module": "@jupyter-widgets/base",
      "_view_module_version": "1.2.0",
      "_view_name": "StyleView",
      "description_width": ""
     }
    },
    "c00cca70efe340be9b2a0e6ad633976d": {
     "model_module": "@jupyter-widgets/controls",
     "model_module_version": "1.5.0",
     "model_name": "ProgressStyleModel",
     "state": {
      "_model_module": "@jupyter-widgets/controls",
      "_model_module_version": "1.5.0",
      "_model_name": "ProgressStyleModel",
      "_view_count": null,
      "_view_module": "@jupyter-widgets/base",
      "_view_module_version": "1.2.0",
      "_view_name": "StyleView",
      "bar_color": null,
      "description_width": ""
     }
    },
    "c43fea99f8234a01b536d685cca3d920": {
     "model_module": "@jupyter-widgets/base",
     "model_module_version": "1.2.0",
     "model_name": "LayoutModel",
     "state": {
      "_model_module": "@jupyter-widgets/base",
      "_model_module_version": "1.2.0",
      "_model_name": "LayoutModel",
      "_view_count": null,
      "_view_module": "@jupyter-widgets/base",
      "_view_module_version": "1.2.0",
      "_view_name": "LayoutView",
      "align_content": null,
      "align_items": null,
      "align_self": null,
      "border": null,
      "bottom": null,
      "display": null,
      "flex": null,
      "flex_flow": null,
      "grid_area": null,
      "grid_auto_columns": null,
      "grid_auto_flow": null,
      "grid_auto_rows": null,
      "grid_column": null,
      "grid_gap": null,
      "grid_row": null,
      "grid_template_areas": null,
      "grid_template_columns": null,
      "grid_template_rows": null,
      "height": null,
      "justify_content": null,
      "justify_items": null,
      "left": null,
      "margin": null,
      "max_height": null,
      "max_width": null,
      "min_height": null,
      "min_width": null,
      "object_fit": null,
      "object_position": null,
      "order": null,
      "overflow": null,
      "overflow_x": null,
      "overflow_y": null,
      "padding": null,
      "right": null,
      "top": null,
      "visibility": null,
      "width": null
     }
    },
    "c4c1fe90fd4647d9828f7a2f83057aa8": {
     "model_module": "@jupyter-widgets/base",
     "model_module_version": "1.2.0",
     "model_name": "LayoutModel",
     "state": {
      "_model_module": "@jupyter-widgets/base",
      "_model_module_version": "1.2.0",
      "_model_name": "LayoutModel",
      "_view_count": null,
      "_view_module": "@jupyter-widgets/base",
      "_view_module_version": "1.2.0",
      "_view_name": "LayoutView",
      "align_content": null,
      "align_items": null,
      "align_self": null,
      "border": null,
      "bottom": null,
      "display": null,
      "flex": null,
      "flex_flow": null,
      "grid_area": null,
      "grid_auto_columns": null,
      "grid_auto_flow": null,
      "grid_auto_rows": null,
      "grid_column": null,
      "grid_gap": null,
      "grid_row": null,
      "grid_template_areas": null,
      "grid_template_columns": null,
      "grid_template_rows": null,
      "height": null,
      "justify_content": null,
      "justify_items": null,
      "left": null,
      "margin": null,
      "max_height": null,
      "max_width": null,
      "min_height": null,
      "min_width": null,
      "object_fit": null,
      "object_position": null,
      "order": null,
      "overflow": null,
      "overflow_x": null,
      "overflow_y": null,
      "padding": null,
      "right": null,
      "top": null,
      "visibility": null,
      "width": null
     }
    },
    "c704241e23c947ea9f696deb98ea85b9": {
     "model_module": "@jupyter-widgets/base",
     "model_module_version": "1.2.0",
     "model_name": "LayoutModel",
     "state": {
      "_model_module": "@jupyter-widgets/base",
      "_model_module_version": "1.2.0",
      "_model_name": "LayoutModel",
      "_view_count": null,
      "_view_module": "@jupyter-widgets/base",
      "_view_module_version": "1.2.0",
      "_view_name": "LayoutView",
      "align_content": null,
      "align_items": null,
      "align_self": null,
      "border": null,
      "bottom": null,
      "display": null,
      "flex": null,
      "flex_flow": null,
      "grid_area": null,
      "grid_auto_columns": null,
      "grid_auto_flow": null,
      "grid_auto_rows": null,
      "grid_column": null,
      "grid_gap": null,
      "grid_row": null,
      "grid_template_areas": null,
      "grid_template_columns": null,
      "grid_template_rows": null,
      "height": null,
      "justify_content": null,
      "justify_items": null,
      "left": null,
      "margin": null,
      "max_height": null,
      "max_width": null,
      "min_height": null,
      "min_width": null,
      "object_fit": null,
      "object_position": null,
      "order": null,
      "overflow": null,
      "overflow_x": null,
      "overflow_y": null,
      "padding": null,
      "right": null,
      "top": null,
      "visibility": null,
      "width": null
     }
    },
    "cb62127a89a2446985b0691ff30bd942": {
     "model_module": "@jupyter-widgets/controls",
     "model_module_version": "1.5.0",
     "model_name": "HBoxModel",
     "state": {
      "_dom_classes": [],
      "_model_module": "@jupyter-widgets/controls",
      "_model_module_version": "1.5.0",
      "_model_name": "HBoxModel",
      "_view_count": null,
      "_view_module": "@jupyter-widgets/controls",
      "_view_module_version": "1.5.0",
      "_view_name": "HBoxView",
      "box_style": "",
      "children": [
       "IPY_MODEL_510aeec2158745429dfb57555581671e",
       "IPY_MODEL_9d200a25acec4cbf8c01a37eefe819d0",
       "IPY_MODEL_1e90be94b69646b78071517bed816d56"
      ],
      "layout": "IPY_MODEL_26995e276fe4472d957533f92c98aac4"
     }
    },
    "cb753ff7acc946539e59e119a7db2877": {
     "model_module": "@jupyter-widgets/base",
     "model_module_version": "1.2.0",
     "model_name": "LayoutModel",
     "state": {
      "_model_module": "@jupyter-widgets/base",
      "_model_module_version": "1.2.0",
      "_model_name": "LayoutModel",
      "_view_count": null,
      "_view_module": "@jupyter-widgets/base",
      "_view_module_version": "1.2.0",
      "_view_name": "LayoutView",
      "align_content": null,
      "align_items": null,
      "align_self": null,
      "border": null,
      "bottom": null,
      "display": null,
      "flex": null,
      "flex_flow": null,
      "grid_area": null,
      "grid_auto_columns": null,
      "grid_auto_flow": null,
      "grid_auto_rows": null,
      "grid_column": null,
      "grid_gap": null,
      "grid_row": null,
      "grid_template_areas": null,
      "grid_template_columns": null,
      "grid_template_rows": null,
      "height": null,
      "justify_content": null,
      "justify_items": null,
      "left": null,
      "margin": null,
      "max_height": null,
      "max_width": null,
      "min_height": null,
      "min_width": null,
      "object_fit": null,
      "object_position": null,
      "order": null,
      "overflow": null,
      "overflow_x": null,
      "overflow_y": null,
      "padding": null,
      "right": null,
      "top": null,
      "visibility": null,
      "width": null
     }
    },
    "d1133f5bc17d4a75876612f0dc993800": {
     "model_module": "@jupyter-widgets/controls",
     "model_module_version": "1.5.0",
     "model_name": "FloatProgressModel",
     "state": {
      "_dom_classes": [],
      "_model_module": "@jupyter-widgets/controls",
      "_model_module_version": "1.5.0",
      "_model_name": "FloatProgressModel",
      "_view_count": null,
      "_view_module": "@jupyter-widgets/controls",
      "_view_module_version": "1.5.0",
      "_view_name": "ProgressView",
      "bar_style": "success",
      "description": "",
      "description_tooltip": null,
      "layout": "IPY_MODEL_cb753ff7acc946539e59e119a7db2877",
      "max": 711396,
      "min": 0,
      "orientation": "horizontal",
      "style": "IPY_MODEL_d1e3a05b6aad4380bb5124d342f19080",
      "value": 711396
     }
    },
    "d1e3a05b6aad4380bb5124d342f19080": {
     "model_module": "@jupyter-widgets/controls",
     "model_module_version": "1.5.0",
     "model_name": "ProgressStyleModel",
     "state": {
      "_model_module": "@jupyter-widgets/controls",
      "_model_module_version": "1.5.0",
      "_model_name": "ProgressStyleModel",
      "_view_count": null,
      "_view_module": "@jupyter-widgets/base",
      "_view_module_version": "1.2.0",
      "_view_name": "StyleView",
      "bar_color": null,
      "description_width": ""
     }
    },
    "da93d0fa6bf84652b473a511ef586539": {
     "model_module": "@jupyter-widgets/controls",
     "model_module_version": "1.5.0",
     "model_name": "DescriptionStyleModel",
     "state": {
      "_model_module": "@jupyter-widgets/controls",
      "_model_module_version": "1.5.0",
      "_model_name": "DescriptionStyleModel",
      "_view_count": null,
      "_view_module": "@jupyter-widgets/base",
      "_view_module_version": "1.2.0",
      "_view_name": "StyleView",
      "description_width": ""
     }
    },
    "dbe07ec9d49e448d84fe11074d13c716": {
     "model_module": "@jupyter-widgets/controls",
     "model_module_version": "1.5.0",
     "model_name": "FloatProgressModel",
     "state": {
      "_dom_classes": [],
      "_model_module": "@jupyter-widgets/controls",
      "_model_module_version": "1.5.0",
      "_model_name": "FloatProgressModel",
      "_view_count": null,
      "_view_module": "@jupyter-widgets/controls",
      "_view_module_version": "1.5.0",
      "_view_name": "ProgressView",
      "bar_style": "success",
      "description": "",
      "description_tooltip": null,
      "layout": "IPY_MODEL_c43fea99f8234a01b536d685cca3d920",
      "max": 1242,
      "min": 0,
      "orientation": "horizontal",
      "style": "IPY_MODEL_c00cca70efe340be9b2a0e6ad633976d",
      "value": 1242
     }
    },
    "e1f8d07ae3304ca4994bae05ba0bde22": {
     "model_module": "@jupyter-widgets/controls",
     "model_module_version": "1.5.0",
     "model_name": "HTMLModel",
     "state": {
      "_dom_classes": [],
      "_model_module": "@jupyter-widgets/controls",
      "_model_module_version": "1.5.0",
      "_model_name": "HTMLModel",
      "_view_count": null,
      "_view_module": "@jupyter-widgets/controls",
      "_view_module_version": "1.5.0",
      "_view_name": "HTMLView",
      "description": "",
      "description_tooltip": null,
      "layout": "IPY_MODEL_c704241e23c947ea9f696deb98ea85b9",
      "placeholder": "​",
      "style": "IPY_MODEL_ecd328b9a6d54a14bb309f136a50b1f0",
      "value": " 5/5 [00:02&lt;00:00,  1.42s/it]"
     }
    },
    "e20e15d755a64410a6fb7db6782ed681": {
     "model_module": "@jupyter-widgets/controls",
     "model_module_version": "1.5.0",
     "model_name": "HBoxModel",
     "state": {
      "_dom_classes": [],
      "_model_module": "@jupyter-widgets/controls",
      "_model_module_version": "1.5.0",
      "_model_name": "HBoxModel",
      "_view_count": null,
      "_view_module": "@jupyter-widgets/controls",
      "_view_module_version": "1.5.0",
      "_view_name": "HBoxView",
      "box_style": "",
      "children": [
       "IPY_MODEL_10d7e354a19f4e7ba3c55f76ed0074aa",
       "IPY_MODEL_a7f6c98bac054978af88b738981c387e",
       "IPY_MODEL_e1f8d07ae3304ca4994bae05ba0bde22"
      ],
      "layout": "IPY_MODEL_4646516b438c446187929694de8b198c"
     }
    },
    "ecd328b9a6d54a14bb309f136a50b1f0": {
     "model_module": "@jupyter-widgets/controls",
     "model_module_version": "1.5.0",
     "model_name": "DescriptionStyleModel",
     "state": {
      "_model_module": "@jupyter-widgets/controls",
      "_model_module_version": "1.5.0",
      "_model_name": "DescriptionStyleModel",
      "_view_count": null,
      "_view_module": "@jupyter-widgets/base",
      "_view_module_version": "1.2.0",
      "_view_name": "StyleView",
      "description_width": ""
     }
    },
    "ed86fec6914347baaa50ce0681f4e08a": {
     "model_module": "@jupyter-widgets/controls",
     "model_module_version": "1.5.0",
     "model_name": "HTMLModel",
     "state": {
      "_dom_classes": [],
      "_model_module": "@jupyter-widgets/controls",
      "_model_module_version": "1.5.0",
      "_model_name": "HTMLModel",
      "_view_count": null,
      "_view_module": "@jupyter-widgets/controls",
      "_view_module_version": "1.5.0",
      "_view_name": "HTMLView",
      "description": "",
      "description_tooltip": null,
      "layout": "IPY_MODEL_6152a22d21f340bba3021e4affad1661",
      "placeholder": "​",
      "style": "IPY_MODEL_9ec7559a31b3466b865dbe29458c2410",
      "value": " 695/695 [00:00&lt;00:00, 12.5kB/s]"
     }
    },
    "f30f552b396e4dc0890732248e36367a": {
     "model_module": "@jupyter-widgets/controls",
     "model_module_version": "1.5.0",
     "model_name": "HTMLModel",
     "state": {
      "_dom_classes": [],
      "_model_module": "@jupyter-widgets/controls",
      "_model_module_version": "1.5.0",
      "_model_name": "HTMLModel",
      "_view_count": null,
      "_view_module": "@jupyter-widgets/controls",
      "_view_module_version": "1.5.0",
      "_view_name": "HTMLView",
      "description": "",
      "description_tooltip": null,
      "layout": "IPY_MODEL_677b2d8838fa4fab838a84e95583333f",
      "placeholder": "​",
      "style": "IPY_MODEL_0a48023bb48b4ee9a6bdc452be6e5664",
      "value": " 740/740 [00:00&lt;00:00, 8.04kB/s]"
     }
    },
    "f6a1d7a7772a4c4687f27464297e2adf": {
     "model_module": "@jupyter-widgets/base",
     "model_module_version": "1.2.0",
     "model_name": "LayoutModel",
     "state": {
      "_model_module": "@jupyter-widgets/base",
      "_model_module_version": "1.2.0",
      "_model_name": "LayoutModel",
      "_view_count": null,
      "_view_module": "@jupyter-widgets/base",
      "_view_module_version": "1.2.0",
      "_view_name": "LayoutView",
      "align_content": null,
      "align_items": null,
      "align_self": null,
      "border": null,
      "bottom": null,
      "display": null,
      "flex": null,
      "flex_flow": null,
      "grid_area": null,
      "grid_auto_columns": null,
      "grid_auto_flow": null,
      "grid_auto_rows": null,
      "grid_column": null,
      "grid_gap": null,
      "grid_row": null,
      "grid_template_areas": null,
      "grid_template_columns": null,
      "grid_template_rows": null,
      "height": null,
      "justify_content": null,
      "justify_items": null,
      "left": null,
      "margin": null,
      "max_height": null,
      "max_width": null,
      "min_height": null,
      "min_width": null,
      "object_fit": null,
      "object_position": null,
      "order": null,
      "overflow": null,
      "overflow_x": null,
      "overflow_y": null,
      "padding": null,
      "right": null,
      "top": null,
      "visibility": null,
      "width": null
     }
    },
    "f95c462342e24e7890e61abe582199fa": {
     "model_module": "@jupyter-widgets/controls",
     "model_module_version": "1.5.0",
     "model_name": "DescriptionStyleModel",
     "state": {
      "_model_module": "@jupyter-widgets/controls",
      "_model_module_version": "1.5.0",
      "_model_name": "DescriptionStyleModel",
      "_view_count": null,
      "_view_module": "@jupyter-widgets/base",
      "_view_module_version": "1.2.0",
      "_view_name": "StyleView",
      "description_width": ""
     }
    },
    "fbe90cc966a14b3580f96b275cca3209": {
     "model_module": "@jupyter-widgets/base",
     "model_module_version": "1.2.0",
     "model_name": "LayoutModel",
     "state": {
      "_model_module": "@jupyter-widgets/base",
      "_model_module_version": "1.2.0",
      "_model_name": "LayoutModel",
      "_view_count": null,
      "_view_module": "@jupyter-widgets/base",
      "_view_module_version": "1.2.0",
      "_view_name": "LayoutView",
      "align_content": null,
      "align_items": null,
      "align_self": null,
      "border": null,
      "bottom": null,
      "display": null,
      "flex": null,
      "flex_flow": null,
      "grid_area": null,
      "grid_auto_columns": null,
      "grid_auto_flow": null,
      "grid_auto_rows": null,
      "grid_column": null,
      "grid_gap": null,
      "grid_row": null,
      "grid_template_areas": null,
      "grid_template_columns": null,
      "grid_template_rows": null,
      "height": null,
      "justify_content": null,
      "justify_items": null,
      "left": null,
      "margin": null,
      "max_height": null,
      "max_width": null,
      "min_height": null,
      "min_width": null,
      "object_fit": null,
      "object_position": null,
      "order": null,
      "overflow": null,
      "overflow_x": null,
      "overflow_y": null,
      "padding": null,
      "right": null,
      "top": null,
      "visibility": null,
      "width": null
     }
    },
    "fc5207cf79144feab38a7713e7e376c5": {
     "model_module": "@jupyter-widgets/controls",
     "model_module_version": "1.5.0",
     "model_name": "FloatProgressModel",
     "state": {
      "_dom_classes": [],
      "_model_module": "@jupyter-widgets/controls",
      "_model_module_version": "1.5.0",
      "_model_name": "FloatProgressModel",
      "_view_count": null,
      "_view_module": "@jupyter-widgets/controls",
      "_view_module_version": "1.5.0",
      "_view_name": "ProgressView",
      "bar_style": "success",
      "description": "",
      "description_tooltip": null,
      "layout": "IPY_MODEL_74021cedeaa346578a4673f69bd44d8f",
      "max": 695,
      "min": 0,
      "orientation": "horizontal",
      "style": "IPY_MODEL_9af04c485cc2429685938e5b80111d49",
      "value": 695
     }
    },
    "ffee4fc60d8e412c9288a5d5a11d6f2c": {
     "model_module": "@jupyter-widgets/controls",
     "model_module_version": "1.5.0",
     "model_name": "HBoxModel",
     "state": {
      "_dom_classes": [],
      "_model_module": "@jupyter-widgets/controls",
      "_model_module_version": "1.5.0",
      "_model_name": "HBoxModel",
      "_view_count": null,
      "_view_module": "@jupyter-widgets/controls",
      "_view_module_version": "1.5.0",
      "_view_name": "HBoxView",
      "box_style": "",
      "children": [
       "IPY_MODEL_b4ceb8ebac80459083685fb0f2292311",
       "IPY_MODEL_fc5207cf79144feab38a7713e7e376c5",
       "IPY_MODEL_ed86fec6914347baaa50ce0681f4e08a"
      ],
      "layout": "IPY_MODEL_22e162edb2414a8ca02de2fc8b624d75"
     }
    }
   }
  }
 },
 "nbformat": 4,
 "nbformat_minor": 4
}
